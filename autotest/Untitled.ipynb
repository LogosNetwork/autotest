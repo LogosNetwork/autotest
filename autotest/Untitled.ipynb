{
 "cells": [
  {
   "cell_type": "code",
   "execution_count": 1,
   "metadata": {},
   "outputs": [],
   "source": [
    "%load_ext autoreload\n",
    "%autoreload 2"
   ]
  },
  {
   "cell_type": "code",
   "execution_count": 2,
   "metadata": {},
   "outputs": [
    {
     "name": "stderr",
     "output_type": "stream",
     "text": [
      "/home/cj/.virtualenvs/autotest/lib/python3.6/site-packages/tqdm/autonotebook/__init__.py:14: TqdmExperimentalWarning: Using `tqdm.autonotebook.tqdm` in notebook mode. Use `tqdm.tqdm` instead to force console mode (e.g. in jupyter console)\n",
      "  \" (e.g. in jupyter console)\", TqdmExperimentalWarning)\n"
     ]
    }
   ],
   "source": [
    "from run_test import *"
   ]
  },
  {
   "cell_type": "code",
   "execution_count": 5,
   "metadata": {},
   "outputs": [],
   "source": [
    "cluster_name = 'token'\n",
    "\n",
    "test_suite = TestRequests(32)"
   ]
  },
  {
   "cell_type": "code",
   "execution_count": 158,
   "metadata": {},
   "outputs": [
    {
     "name": "stdout",
     "output_type": "stream",
     "text": [
      "Commands: \n",
      "\tsystemctl stop logos_core\n",
      "\taws s3 cp s3://logos-bench-us-east-1/binaries/cj-token/logos_core /home/ubuntu/bench/logos_core\n",
      "\tchmod a+x /home/ubuntu/bench/logos_core\n",
      "\trm -f /home/ubuntu/bench/LogosTest/log/*\n",
      "\tsleep 20 && systemctl start logos_core\n",
      "Command id: \n",
      "\t72d5b2a5-fd4d-443c-a70f-66dd0128ae6e\n",
      "32 out of 32 expected Successes..                 \n",
      "All succeeded\n"
     ]
    }
   ],
   "source": [
    "update_logos(\"token\",\"cj-token\", clear_db=False)"
   ]
  },
  {
   "cell_type": "code",
   "execution_count": 6,
   "metadata": {},
   "outputs": [
    {
     "ename": "TypeError",
     "evalue": "'NoneType' object is not iterable",
     "output_type": "error",
     "traceback": [
      "\u001b[0;31m---------------------------------------------------------------------------\u001b[0m",
      "\u001b[0;31mTypeError\u001b[0m                                 Traceback (most recent call last)",
      "\u001b[0;32m<ipython-input-6-7aab214db0f5>\u001b[0m in \u001b[0;36m<module>\u001b[0;34m\u001b[0m\n\u001b[0;32m----> 1\u001b[0;31m \u001b[0mtest_suite\u001b[0m\u001b[0;34m.\u001b[0m\u001b[0mis_cluster_initialized\u001b[0m\u001b[0;34m(\u001b[0m\u001b[0;34m)\u001b[0m\u001b[0;34m\u001b[0m\u001b[0;34m\u001b[0m\u001b[0m\n\u001b[0m",
      "\u001b[0;32m~/Code/autotest/autotest/run_test.py\u001b[0m in \u001b[0;36mis_cluster_initialized\u001b[0;34m(self, from_all)\u001b[0m\n\u001b[1;32m    110\u001b[0m \u001b[0;34m\u001b[0m\u001b[0m\n\u001b[1;32m    111\u001b[0m     \u001b[0;32mdef\u001b[0m \u001b[0mis_cluster_initialized\u001b[0m\u001b[0;34m(\u001b[0m\u001b[0mself\u001b[0m\u001b[0;34m,\u001b[0m \u001b[0mfrom_all\u001b[0m\u001b[0;34m=\u001b[0m\u001b[0;32mFalse\u001b[0m\u001b[0;34m)\u001b[0m\u001b[0;34m:\u001b[0m\u001b[0;34m\u001b[0m\u001b[0;34m\u001b[0m\u001b[0m\n\u001b[0;32m--> 112\u001b[0;31m         \u001b[0;32mif\u001b[0m \u001b[0;32mnot\u001b[0m \u001b[0mself\u001b[0m\u001b[0;34m.\u001b[0m\u001b[0mis_cluster_running\u001b[0m\u001b[0;34m(\u001b[0m\u001b[0;32mNone\u001b[0m \u001b[0;32mif\u001b[0m \u001b[0mfrom_all\u001b[0m \u001b[0;32melse\u001b[0m \u001b[0;36m0\u001b[0m\u001b[0;34m)\u001b[0m\u001b[0;34m:\u001b[0m\u001b[0;34m\u001b[0m\u001b[0;34m\u001b[0m\u001b[0m\n\u001b[0m\u001b[1;32m    113\u001b[0m             \u001b[0;32mreturn\u001b[0m \u001b[0;32mFalse\u001b[0m\u001b[0;34m\u001b[0m\u001b[0;34m\u001b[0m\u001b[0m\n\u001b[1;32m    114\u001b[0m \u001b[0;34m\u001b[0m\u001b[0m\n",
      "\u001b[0;32m~/Code/autotest/autotest/run_test.py\u001b[0m in \u001b[0;36mis_cluster_running\u001b[0;34m(self, node_id, verbose)\u001b[0m\n\u001b[1;32m    130\u001b[0m         \u001b[0mpids\u001b[0m \u001b[0;34m=\u001b[0m \u001b[0mself\u001b[0m\u001b[0;34m.\u001b[0m\u001b[0mlog_handler\u001b[0m\u001b[0;34m.\u001b[0m\u001b[0mcollect_lines\u001b[0m\u001b[0;34m(\u001b[0m\u001b[0;34m'pgrep logos_core'\u001b[0m\u001b[0;34m,\u001b[0m \u001b[0mnode_id\u001b[0m\u001b[0;34m)\u001b[0m\u001b[0;34m\u001b[0m\u001b[0;34m\u001b[0m\u001b[0m\n\u001b[1;32m    131\u001b[0m         \u001b[0mrunning\u001b[0m \u001b[0;34m=\u001b[0m \u001b[0;32mTrue\u001b[0m\u001b[0;34m\u001b[0m\u001b[0;34m\u001b[0m\u001b[0m\n\u001b[0;32m--> 132\u001b[0;31m         \u001b[0;32mfor\u001b[0m \u001b[0mi\u001b[0m\u001b[0;34m,\u001b[0m \u001b[0mpid\u001b[0m \u001b[0;32min\u001b[0m \u001b[0menumerate\u001b[0m\u001b[0;34m(\u001b[0m\u001b[0mpids\u001b[0m\u001b[0;34m)\u001b[0m\u001b[0;34m:\u001b[0m\u001b[0;34m\u001b[0m\u001b[0;34m\u001b[0m\u001b[0m\n\u001b[0m\u001b[1;32m    133\u001b[0m             \u001b[0;32mif\u001b[0m \u001b[0;32mnot\u001b[0m \u001b[0mpid\u001b[0m\u001b[0;34m:\u001b[0m\u001b[0;34m\u001b[0m\u001b[0;34m\u001b[0m\u001b[0m\n\u001b[1;32m    134\u001b[0m                 \u001b[0;32mif\u001b[0m \u001b[0mverbose\u001b[0m\u001b[0;34m:\u001b[0m\u001b[0;34m\u001b[0m\u001b[0;34m\u001b[0m\u001b[0m\n",
      "\u001b[0;31mTypeError\u001b[0m: 'NoneType' object is not iterable"
     ]
    }
   ],
   "source": [
    "test_suite.is_cluster_initialized()"
   ]
  },
  {
   "cell_type": "code",
   "execution_count": null,
   "metadata": {},
   "outputs": [],
   "source": []
  },
  {
   "cell_type": "code",
   "execution_count": 10,
   "metadata": {},
   "outputs": [
    {
     "name": "stdout",
     "output_type": "stream",
     "text": [
      "Commands: \n",
      "\tsystemctl stop logos_core\n",
      "\trm -f /home/ubuntu/bench/LogosTest/log/* /home/ubuntu/bench/LogosTest/data.ldb /home/ubuntu/bench/LogosTest/data.ldb-lock\n",
      "\tsleep 20 && systemctl start logos_core\n",
      "Command id: \n",
      "\t56b7925b-a33c-4aec-abb9-eb4ae042a92c\n",
      "32 out of 32 expected Successes...                \n",
      "All succeeded\n"
     ]
    }
   ],
   "source": [
    "restart_logos(cluster_name)"
   ]
  },
  {
   "cell_type": "code",
   "execution_count": 20,
   "metadata": {
    "scrolled": false
   },
   "outputs": [
    {
     "data": {
      "text/plain": [
       "{0: '18.207.173.104',\n",
       " 1: '18.212.168.244',\n",
       " 2: '184.72.193.105',\n",
       " 3: '3.82.139.139',\n",
       " 4: '3.82.174.74',\n",
       " 5: '3.83.133.56',\n",
       " 6: '3.83.177.235',\n",
       " 7: '3.83.48.201',\n",
       " 8: '3.84.252.232',\n",
       " 9: '3.85.107.246',\n",
       " 10: '3.85.107.66',\n",
       " 11: '3.86.206.176',\n",
       " 12: '3.86.216.114',\n",
       " 13: '3.86.252.2',\n",
       " 14: '3.86.92.241',\n",
       " 15: '3.90.67.103',\n",
       " 16: '3.91.182.200',\n",
       " 17: '3.94.109.110',\n",
       " 18: '34.238.44.217',\n",
       " 19: '35.173.193.62',\n",
       " 20: '35.174.105.169',\n",
       " 21: '35.174.115.82',\n",
       " 22: '52.207.236.143',\n",
       " 23: '52.90.107.227',\n",
       " 24: '54.145.135.97',\n",
       " 25: '54.147.125.226',\n",
       " 26: '54.152.196.134',\n",
       " 27: '54.165.245.15',\n",
       " 28: '54.173.200.41',\n",
       " 29: '54.210.248.115',\n",
       " 30: '54.84.163.144',\n",
       " 31: '54.89.253.51'}"
      ]
     },
     "execution_count": 20,
     "metadata": {},
     "output_type": "execute_result"
    }
   ],
   "source": [
    "test_suite.ips"
   ]
  },
  {
   "cell_type": "code",
   "execution_count": 17,
   "metadata": {},
   "outputs": [],
   "source": [
    "with open(\"foo.txt\", 'w') as file:\n",
    "     file.write(test_suite.log_handler.grep_lines(\".*\", 0)[0])"
   ]
  },
  {
   "cell_type": "code",
   "execution_count": 9,
   "metadata": {},
   "outputs": [
    {
     "name": "stdout",
     "output_type": "stream",
     "text": [
      "Node 0 with ip 18.207.173.104 reported the following error: [2019-02-28 18:33:39.020629 error]: NetIOAssembler - Error receiving message: End of file global 0 connection Current delegate None state None\n",
      "[2019-02-28 18:33:39.020751 error]: ConsensusNetIOManager::OnNetIOError End of file 30 172.31.93.205:60000\n",
      "\n",
      "Received 30 out of 31 Post_Commit messages\n"
     ]
    },
    {
     "data": {
      "text/plain": [
       "False"
      ]
     },
     "execution_count": 9,
     "metadata": {},
     "output_type": "execute_result"
    }
   ],
   "source": [
    "test_suite.is_cluster_initialized()\n"
   ]
  },
  {
   "cell_type": "code",
   "execution_count": 10,
   "metadata": {},
   "outputs": [
    {
     "name": "stdout",
     "output_type": "stream",
     "text": [
      "test account creation\n"
     ]
    },
    {
     "data": {
      "application/vnd.jupyter.widget-view+json": {
       "model_id": "15ebdd3bce2c4352aa1baf867e43a103",
       "version_major": 2,
       "version_minor": 0
      },
      "text/plain": [
       "HBox(children=(IntProgress(value=0, max=30), HTML(value='')))"
      ]
     },
     "metadata": {},
     "output_type": "display_data"
    },
    {
     "name": "stdout",
     "output_type": "stream",
     "text": [
      "send\n",
      "send\n"
     ]
    },
    {
     "ename": "ConnectionError",
     "evalue": "HTTPConnectionPool(host='54.84.163.144', port=55000): Max retries exceeded with url: / (Caused by NewConnectionError('<urllib3.connection.HTTPConnection object at 0x7f176ee9bd68>: Failed to establish a new connection: [Errno 110] Connection timed out',))",
     "output_type": "error",
     "traceback": [
      "\u001b[0;31m---------------------------------------------------------------------------\u001b[0m",
      "\u001b[0;31mTimeoutError\u001b[0m                              Traceback (most recent call last)",
      "\u001b[0;32m~/.virtualenvs/autotest/lib/python3.6/site-packages/urllib3/connection.py\u001b[0m in \u001b[0;36m_new_conn\u001b[0;34m(self)\u001b[0m\n\u001b[1;32m    158\u001b[0m             conn = connection.create_connection(\n\u001b[0;32m--> 159\u001b[0;31m                 (self._dns_host, self.port), self.timeout, **extra_kw)\n\u001b[0m\u001b[1;32m    160\u001b[0m \u001b[0;34m\u001b[0m\u001b[0m\n",
      "\u001b[0;32m~/.virtualenvs/autotest/lib/python3.6/site-packages/urllib3/util/connection.py\u001b[0m in \u001b[0;36mcreate_connection\u001b[0;34m(address, timeout, source_address, socket_options)\u001b[0m\n\u001b[1;32m     79\u001b[0m     \u001b[0;32mif\u001b[0m \u001b[0merr\u001b[0m \u001b[0;32mis\u001b[0m \u001b[0;32mnot\u001b[0m \u001b[0;32mNone\u001b[0m\u001b[0;34m:\u001b[0m\u001b[0;34m\u001b[0m\u001b[0;34m\u001b[0m\u001b[0m\n\u001b[0;32m---> 80\u001b[0;31m         \u001b[0;32mraise\u001b[0m \u001b[0merr\u001b[0m\u001b[0;34m\u001b[0m\u001b[0;34m\u001b[0m\u001b[0m\n\u001b[0m\u001b[1;32m     81\u001b[0m \u001b[0;34m\u001b[0m\u001b[0m\n",
      "\u001b[0;32m~/.virtualenvs/autotest/lib/python3.6/site-packages/urllib3/util/connection.py\u001b[0m in \u001b[0;36mcreate_connection\u001b[0;34m(address, timeout, source_address, socket_options)\u001b[0m\n\u001b[1;32m     69\u001b[0m                 \u001b[0msock\u001b[0m\u001b[0;34m.\u001b[0m\u001b[0mbind\u001b[0m\u001b[0;34m(\u001b[0m\u001b[0msource_address\u001b[0m\u001b[0;34m)\u001b[0m\u001b[0;34m\u001b[0m\u001b[0;34m\u001b[0m\u001b[0m\n\u001b[0;32m---> 70\u001b[0;31m             \u001b[0msock\u001b[0m\u001b[0;34m.\u001b[0m\u001b[0mconnect\u001b[0m\u001b[0;34m(\u001b[0m\u001b[0msa\u001b[0m\u001b[0;34m)\u001b[0m\u001b[0;34m\u001b[0m\u001b[0;34m\u001b[0m\u001b[0m\n\u001b[0m\u001b[1;32m     71\u001b[0m             \u001b[0;32mreturn\u001b[0m \u001b[0msock\u001b[0m\u001b[0;34m\u001b[0m\u001b[0;34m\u001b[0m\u001b[0m\n",
      "\u001b[0;31mTimeoutError\u001b[0m: [Errno 110] Connection timed out",
      "\nDuring handling of the above exception, another exception occurred:\n",
      "\u001b[0;31mNewConnectionError\u001b[0m                        Traceback (most recent call last)",
      "\u001b[0;32m~/.virtualenvs/autotest/lib/python3.6/site-packages/urllib3/connectionpool.py\u001b[0m in \u001b[0;36murlopen\u001b[0;34m(self, method, url, body, headers, retries, redirect, assert_same_host, timeout, pool_timeout, release_conn, chunked, body_pos, **response_kw)\u001b[0m\n\u001b[1;32m    599\u001b[0m                                                   \u001b[0mbody\u001b[0m\u001b[0;34m=\u001b[0m\u001b[0mbody\u001b[0m\u001b[0;34m,\u001b[0m \u001b[0mheaders\u001b[0m\u001b[0;34m=\u001b[0m\u001b[0mheaders\u001b[0m\u001b[0;34m,\u001b[0m\u001b[0;34m\u001b[0m\u001b[0;34m\u001b[0m\u001b[0m\n\u001b[0;32m--> 600\u001b[0;31m                                                   chunked=chunked)\n\u001b[0m\u001b[1;32m    601\u001b[0m \u001b[0;34m\u001b[0m\u001b[0m\n",
      "\u001b[0;32m~/.virtualenvs/autotest/lib/python3.6/site-packages/urllib3/connectionpool.py\u001b[0m in \u001b[0;36m_make_request\u001b[0;34m(self, conn, method, url, timeout, chunked, **httplib_request_kw)\u001b[0m\n\u001b[1;32m    353\u001b[0m         \u001b[0;32melse\u001b[0m\u001b[0;34m:\u001b[0m\u001b[0;34m\u001b[0m\u001b[0;34m\u001b[0m\u001b[0m\n\u001b[0;32m--> 354\u001b[0;31m             \u001b[0mconn\u001b[0m\u001b[0;34m.\u001b[0m\u001b[0mrequest\u001b[0m\u001b[0;34m(\u001b[0m\u001b[0mmethod\u001b[0m\u001b[0;34m,\u001b[0m \u001b[0murl\u001b[0m\u001b[0;34m,\u001b[0m \u001b[0;34m**\u001b[0m\u001b[0mhttplib_request_kw\u001b[0m\u001b[0;34m)\u001b[0m\u001b[0;34m\u001b[0m\u001b[0;34m\u001b[0m\u001b[0m\n\u001b[0m\u001b[1;32m    355\u001b[0m \u001b[0;34m\u001b[0m\u001b[0m\n",
      "\u001b[0;32m/usr/lib/python3.6/http/client.py\u001b[0m in \u001b[0;36mrequest\u001b[0;34m(self, method, url, body, headers, encode_chunked)\u001b[0m\n\u001b[1;32m   1238\u001b[0m         \u001b[0;34m\"\"\"Send a complete request to the server.\"\"\"\u001b[0m\u001b[0;34m\u001b[0m\u001b[0;34m\u001b[0m\u001b[0m\n\u001b[0;32m-> 1239\u001b[0;31m         \u001b[0mself\u001b[0m\u001b[0;34m.\u001b[0m\u001b[0m_send_request\u001b[0m\u001b[0;34m(\u001b[0m\u001b[0mmethod\u001b[0m\u001b[0;34m,\u001b[0m \u001b[0murl\u001b[0m\u001b[0;34m,\u001b[0m \u001b[0mbody\u001b[0m\u001b[0;34m,\u001b[0m \u001b[0mheaders\u001b[0m\u001b[0;34m,\u001b[0m \u001b[0mencode_chunked\u001b[0m\u001b[0;34m)\u001b[0m\u001b[0;34m\u001b[0m\u001b[0;34m\u001b[0m\u001b[0m\n\u001b[0m\u001b[1;32m   1240\u001b[0m \u001b[0;34m\u001b[0m\u001b[0m\n",
      "\u001b[0;32m/usr/lib/python3.6/http/client.py\u001b[0m in \u001b[0;36m_send_request\u001b[0;34m(self, method, url, body, headers, encode_chunked)\u001b[0m\n\u001b[1;32m   1284\u001b[0m             \u001b[0mbody\u001b[0m \u001b[0;34m=\u001b[0m \u001b[0m_encode\u001b[0m\u001b[0;34m(\u001b[0m\u001b[0mbody\u001b[0m\u001b[0;34m,\u001b[0m \u001b[0;34m'body'\u001b[0m\u001b[0;34m)\u001b[0m\u001b[0;34m\u001b[0m\u001b[0;34m\u001b[0m\u001b[0m\n\u001b[0;32m-> 1285\u001b[0;31m         \u001b[0mself\u001b[0m\u001b[0;34m.\u001b[0m\u001b[0mendheaders\u001b[0m\u001b[0;34m(\u001b[0m\u001b[0mbody\u001b[0m\u001b[0;34m,\u001b[0m \u001b[0mencode_chunked\u001b[0m\u001b[0;34m=\u001b[0m\u001b[0mencode_chunked\u001b[0m\u001b[0;34m)\u001b[0m\u001b[0;34m\u001b[0m\u001b[0;34m\u001b[0m\u001b[0m\n\u001b[0m\u001b[1;32m   1286\u001b[0m \u001b[0;34m\u001b[0m\u001b[0m\n",
      "\u001b[0;32m/usr/lib/python3.6/http/client.py\u001b[0m in \u001b[0;36mendheaders\u001b[0;34m(self, message_body, encode_chunked)\u001b[0m\n\u001b[1;32m   1233\u001b[0m             \u001b[0;32mraise\u001b[0m \u001b[0mCannotSendHeader\u001b[0m\u001b[0;34m(\u001b[0m\u001b[0;34m)\u001b[0m\u001b[0;34m\u001b[0m\u001b[0;34m\u001b[0m\u001b[0m\n\u001b[0;32m-> 1234\u001b[0;31m         \u001b[0mself\u001b[0m\u001b[0;34m.\u001b[0m\u001b[0m_send_output\u001b[0m\u001b[0;34m(\u001b[0m\u001b[0mmessage_body\u001b[0m\u001b[0;34m,\u001b[0m \u001b[0mencode_chunked\u001b[0m\u001b[0;34m=\u001b[0m\u001b[0mencode_chunked\u001b[0m\u001b[0;34m)\u001b[0m\u001b[0;34m\u001b[0m\u001b[0;34m\u001b[0m\u001b[0m\n\u001b[0m\u001b[1;32m   1235\u001b[0m \u001b[0;34m\u001b[0m\u001b[0m\n",
      "\u001b[0;32m/usr/lib/python3.6/http/client.py\u001b[0m in \u001b[0;36m_send_output\u001b[0;34m(self, message_body, encode_chunked)\u001b[0m\n\u001b[1;32m   1025\u001b[0m         \u001b[0;32mdel\u001b[0m \u001b[0mself\u001b[0m\u001b[0;34m.\u001b[0m\u001b[0m_buffer\u001b[0m\u001b[0;34m[\u001b[0m\u001b[0;34m:\u001b[0m\u001b[0;34m]\u001b[0m\u001b[0;34m\u001b[0m\u001b[0;34m\u001b[0m\u001b[0m\n\u001b[0;32m-> 1026\u001b[0;31m         \u001b[0mself\u001b[0m\u001b[0;34m.\u001b[0m\u001b[0msend\u001b[0m\u001b[0;34m(\u001b[0m\u001b[0mmsg\u001b[0m\u001b[0;34m)\u001b[0m\u001b[0;34m\u001b[0m\u001b[0;34m\u001b[0m\u001b[0m\n\u001b[0m\u001b[1;32m   1027\u001b[0m \u001b[0;34m\u001b[0m\u001b[0m\n",
      "\u001b[0;32m/usr/lib/python3.6/http/client.py\u001b[0m in \u001b[0;36msend\u001b[0;34m(self, data)\u001b[0m\n\u001b[1;32m    963\u001b[0m             \u001b[0;32mif\u001b[0m \u001b[0mself\u001b[0m\u001b[0;34m.\u001b[0m\u001b[0mauto_open\u001b[0m\u001b[0;34m:\u001b[0m\u001b[0;34m\u001b[0m\u001b[0;34m\u001b[0m\u001b[0m\n\u001b[0;32m--> 964\u001b[0;31m                 \u001b[0mself\u001b[0m\u001b[0;34m.\u001b[0m\u001b[0mconnect\u001b[0m\u001b[0;34m(\u001b[0m\u001b[0;34m)\u001b[0m\u001b[0;34m\u001b[0m\u001b[0;34m\u001b[0m\u001b[0m\n\u001b[0m\u001b[1;32m    965\u001b[0m             \u001b[0;32melse\u001b[0m\u001b[0;34m:\u001b[0m\u001b[0;34m\u001b[0m\u001b[0;34m\u001b[0m\u001b[0m\n",
      "\u001b[0;32m~/.virtualenvs/autotest/lib/python3.6/site-packages/urllib3/connection.py\u001b[0m in \u001b[0;36mconnect\u001b[0;34m(self)\u001b[0m\n\u001b[1;32m    180\u001b[0m     \u001b[0;32mdef\u001b[0m \u001b[0mconnect\u001b[0m\u001b[0;34m(\u001b[0m\u001b[0mself\u001b[0m\u001b[0;34m)\u001b[0m\u001b[0;34m:\u001b[0m\u001b[0;34m\u001b[0m\u001b[0;34m\u001b[0m\u001b[0m\n\u001b[0;32m--> 181\u001b[0;31m         \u001b[0mconn\u001b[0m \u001b[0;34m=\u001b[0m \u001b[0mself\u001b[0m\u001b[0;34m.\u001b[0m\u001b[0m_new_conn\u001b[0m\u001b[0;34m(\u001b[0m\u001b[0;34m)\u001b[0m\u001b[0;34m\u001b[0m\u001b[0;34m\u001b[0m\u001b[0m\n\u001b[0m\u001b[1;32m    182\u001b[0m         \u001b[0mself\u001b[0m\u001b[0;34m.\u001b[0m\u001b[0m_prepare_conn\u001b[0m\u001b[0;34m(\u001b[0m\u001b[0mconn\u001b[0m\u001b[0;34m)\u001b[0m\u001b[0;34m\u001b[0m\u001b[0;34m\u001b[0m\u001b[0m\n",
      "\u001b[0;32m~/.virtualenvs/autotest/lib/python3.6/site-packages/urllib3/connection.py\u001b[0m in \u001b[0;36m_new_conn\u001b[0;34m(self)\u001b[0m\n\u001b[1;32m    167\u001b[0m             raise NewConnectionError(\n\u001b[0;32m--> 168\u001b[0;31m                 self, \"Failed to establish a new connection: %s\" % e)\n\u001b[0m\u001b[1;32m    169\u001b[0m \u001b[0;34m\u001b[0m\u001b[0m\n",
      "\u001b[0;31mNewConnectionError\u001b[0m: <urllib3.connection.HTTPConnection object at 0x7f176ee9bd68>: Failed to establish a new connection: [Errno 110] Connection timed out",
      "\nDuring handling of the above exception, another exception occurred:\n",
      "\u001b[0;31mMaxRetryError\u001b[0m                             Traceback (most recent call last)",
      "\u001b[0;32m~/.virtualenvs/autotest/lib/python3.6/site-packages/requests/adapters.py\u001b[0m in \u001b[0;36msend\u001b[0;34m(self, request, stream, timeout, verify, cert, proxies)\u001b[0m\n\u001b[1;32m    448\u001b[0m                     \u001b[0mretries\u001b[0m\u001b[0;34m=\u001b[0m\u001b[0mself\u001b[0m\u001b[0;34m.\u001b[0m\u001b[0mmax_retries\u001b[0m\u001b[0;34m,\u001b[0m\u001b[0;34m\u001b[0m\u001b[0;34m\u001b[0m\u001b[0m\n\u001b[0;32m--> 449\u001b[0;31m                     \u001b[0mtimeout\u001b[0m\u001b[0;34m=\u001b[0m\u001b[0mtimeout\u001b[0m\u001b[0;34m\u001b[0m\u001b[0;34m\u001b[0m\u001b[0m\n\u001b[0m\u001b[1;32m    450\u001b[0m                 )\n",
      "\u001b[0;32m~/.virtualenvs/autotest/lib/python3.6/site-packages/urllib3/connectionpool.py\u001b[0m in \u001b[0;36murlopen\u001b[0;34m(self, method, url, body, headers, retries, redirect, assert_same_host, timeout, pool_timeout, release_conn, chunked, body_pos, **response_kw)\u001b[0m\n\u001b[1;32m    637\u001b[0m             retries = retries.increment(method, url, error=e, _pool=self,\n\u001b[0;32m--> 638\u001b[0;31m                                         _stacktrace=sys.exc_info()[2])\n\u001b[0m\u001b[1;32m    639\u001b[0m             \u001b[0mretries\u001b[0m\u001b[0;34m.\u001b[0m\u001b[0msleep\u001b[0m\u001b[0;34m(\u001b[0m\u001b[0;34m)\u001b[0m\u001b[0;34m\u001b[0m\u001b[0;34m\u001b[0m\u001b[0m\n",
      "\u001b[0;32m~/.virtualenvs/autotest/lib/python3.6/site-packages/urllib3/util/retry.py\u001b[0m in \u001b[0;36mincrement\u001b[0;34m(self, method, url, response, error, _pool, _stacktrace)\u001b[0m\n\u001b[1;32m    397\u001b[0m         \u001b[0;32mif\u001b[0m \u001b[0mnew_retry\u001b[0m\u001b[0;34m.\u001b[0m\u001b[0mis_exhausted\u001b[0m\u001b[0;34m(\u001b[0m\u001b[0;34m)\u001b[0m\u001b[0;34m:\u001b[0m\u001b[0;34m\u001b[0m\u001b[0;34m\u001b[0m\u001b[0m\n\u001b[0;32m--> 398\u001b[0;31m             \u001b[0;32mraise\u001b[0m \u001b[0mMaxRetryError\u001b[0m\u001b[0;34m(\u001b[0m\u001b[0m_pool\u001b[0m\u001b[0;34m,\u001b[0m \u001b[0murl\u001b[0m\u001b[0;34m,\u001b[0m \u001b[0merror\u001b[0m \u001b[0;32mor\u001b[0m \u001b[0mResponseError\u001b[0m\u001b[0;34m(\u001b[0m\u001b[0mcause\u001b[0m\u001b[0;34m)\u001b[0m\u001b[0;34m)\u001b[0m\u001b[0;34m\u001b[0m\u001b[0;34m\u001b[0m\u001b[0m\n\u001b[0m\u001b[1;32m    399\u001b[0m \u001b[0;34m\u001b[0m\u001b[0m\n",
      "\u001b[0;31mMaxRetryError\u001b[0m: HTTPConnectionPool(host='54.84.163.144', port=55000): Max retries exceeded with url: / (Caused by NewConnectionError('<urllib3.connection.HTTPConnection object at 0x7f176ee9bd68>: Failed to establish a new connection: [Errno 110] Connection timed out',))",
      "\nDuring handling of the above exception, another exception occurred:\n",
      "\u001b[0;31mConnectionError\u001b[0m                           Traceback (most recent call last)",
      "\u001b[0;32m<ipython-input-10-a57dc184208a>\u001b[0m in \u001b[0;36m<module>\u001b[0;34m\u001b[0m\n\u001b[0;32m----> 1\u001b[0;31m \u001b[0mtest_suite\u001b[0m\u001b[0;34m.\u001b[0m\u001b[0mrun\u001b[0m\u001b[0;34m(\u001b[0m\u001b[0;34m)\u001b[0m\u001b[0;34m\u001b[0m\u001b[0;34m\u001b[0m\u001b[0m\n\u001b[0m",
      "\u001b[0;32m~/Code/autotest/autotest/run_test.py\u001b[0m in \u001b[0;36mrun\u001b[0;34m(self)\u001b[0m\n\u001b[1;32m     44\u001b[0m             \u001b[0;32mif\u001b[0m \u001b[0mmember\u001b[0m\u001b[0;34m.\u001b[0m\u001b[0mstartswith\u001b[0m\u001b[0;34m(\u001b[0m\u001b[0;34m'test_'\u001b[0m\u001b[0;34m)\u001b[0m \u001b[0;32mand\u001b[0m \u001b[0mhasattr\u001b[0m\u001b[0;34m(\u001b[0m\u001b[0mmethod\u001b[0m\u001b[0;34m,\u001b[0m \u001b[0;34m'__call__'\u001b[0m\u001b[0;34m)\u001b[0m\u001b[0;34m:\u001b[0m\u001b[0;34m\u001b[0m\u001b[0;34m\u001b[0m\u001b[0m\n\u001b[1;32m     45\u001b[0m                 \u001b[0mprint\u001b[0m\u001b[0;34m(\u001b[0m\u001b[0mmember\u001b[0m\u001b[0;34m.\u001b[0m\u001b[0mreplace\u001b[0m\u001b[0;34m(\u001b[0m\u001b[0;34m'_'\u001b[0m\u001b[0;34m,\u001b[0m \u001b[0;34m' '\u001b[0m\u001b[0;34m)\u001b[0m\u001b[0;34m)\u001b[0m\u001b[0;34m\u001b[0m\u001b[0;34m\u001b[0m\u001b[0m\n\u001b[0;32m---> 46\u001b[0;31m                 \u001b[0mmethod\u001b[0m\u001b[0;34m(\u001b[0m\u001b[0;34m)\u001b[0m\u001b[0;34m\u001b[0m\u001b[0;34m\u001b[0m\u001b[0m\n\u001b[0m\u001b[1;32m     47\u001b[0m \u001b[0;34m\u001b[0m\u001b[0m\n\u001b[1;32m     48\u001b[0m     \"\"\"\n",
      "\u001b[0;32m~/Code/autotest/autotest/run_test.py\u001b[0m in \u001b[0;36mtest_account_creation\u001b[0;34m(self, num_worker_threads, pwr)\u001b[0m\n\u001b[1;32m     51\u001b[0m \u001b[0;34m\u001b[0m\u001b[0m\n\u001b[1;32m     52\u001b[0m     \u001b[0;32mdef\u001b[0m \u001b[0mtest_account_creation\u001b[0m\u001b[0;34m(\u001b[0m\u001b[0mself\u001b[0m\u001b[0;34m,\u001b[0m \u001b[0mnum_worker_threads\u001b[0m\u001b[0;34m=\u001b[0m\u001b[0;36m32\u001b[0m\u001b[0;34m,\u001b[0m \u001b[0mpwr\u001b[0m\u001b[0;34m=\u001b[0m\u001b[0;36m5\u001b[0m\u001b[0;34m)\u001b[0m\u001b[0;34m:\u001b[0m\u001b[0;34m\u001b[0m\u001b[0;34m\u001b[0m\u001b[0m\n\u001b[0;32m---> 53\u001b[0;31m         \u001b[0mself\u001b[0m\u001b[0;34m.\u001b[0m\u001b[0mcreate_accounts_parallel\u001b[0m\u001b[0;34m(\u001b[0m\u001b[0mpwr\u001b[0m\u001b[0;34m,\u001b[0m \u001b[0mnum_worker_threads\u001b[0m\u001b[0;34m=\u001b[0m\u001b[0mnum_worker_threads\u001b[0m\u001b[0;34m)\u001b[0m\u001b[0;34m\u001b[0m\u001b[0;34m\u001b[0m\u001b[0m\n\u001b[0m\u001b[1;32m     54\u001b[0m         \u001b[0merr_dict\u001b[0m \u001b[0;34m=\u001b[0m \u001b[0mself\u001b[0m\u001b[0;34m.\u001b[0m\u001b[0mverify_account_creation\u001b[0m\u001b[0;34m(\u001b[0m\u001b[0mpwr\u001b[0m\u001b[0;34m)\u001b[0m\u001b[0;34m\u001b[0m\u001b[0;34m\u001b[0m\u001b[0m\n\u001b[1;32m     55\u001b[0m         \u001b[0;32mif\u001b[0m \u001b[0mlen\u001b[0m\u001b[0;34m(\u001b[0m\u001b[0merr_dict\u001b[0m\u001b[0;34m)\u001b[0m\u001b[0;34m:\u001b[0m\u001b[0;34m\u001b[0m\u001b[0;34m\u001b[0m\u001b[0m\n",
      "\u001b[0;32m~/Code/autotest/autotest/run_test.py\u001b[0m in \u001b[0;36mcreate_accounts_parallel\u001b[0;34m(self, powr, num_worker_threads)\u001b[0m\n\u001b[1;32m    161\u001b[0m             \u001b[0maccount\u001b[0m \u001b[0;34m=\u001b[0m \u001b[0mself\u001b[0m\u001b[0;34m.\u001b[0m\u001b[0maccounts\u001b[0m\u001b[0;34m[\u001b[0m\u001b[0mi\u001b[0m\u001b[0;34m]\u001b[0m\u001b[0;34m\u001b[0m\u001b[0;34m\u001b[0m\u001b[0m\n\u001b[1;32m    162\u001b[0m             \u001b[0md_id\u001b[0m\u001b[0;34m,\u001b[0m \u001b[0mblock_data\u001b[0m \u001b[0;34m=\u001b[0m \u001b[0mself\u001b[0m\u001b[0;34m.\u001b[0m\u001b[0mcreate_next_genesis_txn\u001b[0m\u001b[0;34m(\u001b[0m\u001b[0maccount\u001b[0m\u001b[0;34m[\u001b[0m\u001b[0;34m'account'\u001b[0m\u001b[0;34m]\u001b[0m\u001b[0;34m,\u001b[0m \u001b[0md_id\u001b[0m\u001b[0;34m,\u001b[0m \u001b[0;36m2000000000000\u001b[0m\u001b[0;34m)\u001b[0m\u001b[0;34m\u001b[0m\u001b[0;34m\u001b[0m\u001b[0m\n\u001b[0;32m--> 163\u001b[0;31m             \u001b[0mself\u001b[0m\u001b[0;34m.\u001b[0m\u001b[0mnodes\u001b[0m\u001b[0;34m[\u001b[0m\u001b[0md_id\u001b[0m\u001b[0;34m]\u001b[0m\u001b[0;34m.\u001b[0m\u001b[0mprocess\u001b[0m\u001b[0;34m(\u001b[0m\u001b[0mblock_data\u001b[0m\u001b[0;34m[\u001b[0m\u001b[0;34m'request'\u001b[0m\u001b[0;34m]\u001b[0m\u001b[0;34m)\u001b[0m\u001b[0;34m\u001b[0m\u001b[0;34m\u001b[0m\u001b[0m\n\u001b[0m\u001b[1;32m    164\u001b[0m             \u001b[0md_id\u001b[0m \u001b[0;34m=\u001b[0m \u001b[0mdesignated_delegate\u001b[0m\u001b[0;34m(\u001b[0m\u001b[0mg_pub\u001b[0m\u001b[0;34m,\u001b[0m \u001b[0mblock_data\u001b[0m\u001b[0;34m[\u001b[0m\u001b[0;34m'hash'\u001b[0m\u001b[0;34m]\u001b[0m\u001b[0;34m)\u001b[0m\u001b[0;34m\u001b[0m\u001b[0;34m\u001b[0m\u001b[0m\n\u001b[1;32m    165\u001b[0m             \u001b[0;32mif\u001b[0m \u001b[0;32mnot\u001b[0m \u001b[0mself\u001b[0m\u001b[0;34m.\u001b[0m\u001b[0mwait_for_blocks_persistence\u001b[0m\u001b[0;34m(\u001b[0m\u001b[0;34m[\u001b[0m\u001b[0mblock_data\u001b[0m\u001b[0;34m[\u001b[0m\u001b[0;34m'hash'\u001b[0m\u001b[0;34m]\u001b[0m\u001b[0;34m]\u001b[0m\u001b[0;34m)\u001b[0m\u001b[0;34m:\u001b[0m\u001b[0;34m\u001b[0m\u001b[0;34m\u001b[0m\u001b[0m\n",
      "\u001b[0;32m~/Code/autotest/autotest/utils.py\u001b[0m in \u001b[0;36mprocess\u001b[0;34m(self, block)\u001b[0m\n\u001b[1;32m     91\u001b[0m \u001b[0;34m\u001b[0m\u001b[0m\n\u001b[1;32m     92\u001b[0m     \u001b[0;32mdef\u001b[0m \u001b[0mprocess\u001b[0m\u001b[0;34m(\u001b[0m\u001b[0mself\u001b[0m\u001b[0;34m,\u001b[0m \u001b[0mblock\u001b[0m\u001b[0;34m)\u001b[0m\u001b[0;34m:\u001b[0m\u001b[0;34m\u001b[0m\u001b[0;34m\u001b[0m\u001b[0m\n\u001b[0;32m---> 93\u001b[0;31m         \u001b[0;32mreturn\u001b[0m \u001b[0mself\u001b[0m\u001b[0;34m.\u001b[0m\u001b[0mcall\u001b[0m\u001b[0;34m(\u001b[0m\u001b[0;34m'process'\u001b[0m\u001b[0;34m,\u001b[0m \u001b[0mrequest\u001b[0m\u001b[0;34m=\u001b[0m\u001b[0mblock\u001b[0m\u001b[0;34m)\u001b[0m\u001b[0;34m\u001b[0m\u001b[0;34m\u001b[0m\u001b[0m\n\u001b[0m\u001b[1;32m     94\u001b[0m \u001b[0;34m\u001b[0m\u001b[0m\n\u001b[1;32m     95\u001b[0m     \u001b[0;32mdef\u001b[0m \u001b[0mmicroblock_test\u001b[0m\u001b[0;34m(\u001b[0m\u001b[0mself\u001b[0m\u001b[0;34m)\u001b[0m\u001b[0;34m:\u001b[0m\u001b[0;34m\u001b[0m\u001b[0;34m\u001b[0m\u001b[0m\n",
      "\u001b[0;32m~/Code/autotest/autotest/utils.py\u001b[0m in \u001b[0;36mcall\u001b[0;34m(self, action, merge_block, **kwargs)\u001b[0m\n\u001b[1;32m     49\u001b[0m         \u001b[0mmessage\u001b[0m \u001b[0;34m=\u001b[0m \u001b[0;34m{\u001b[0m\u001b[0;34m'rpc_action'\u001b[0m\u001b[0;34m:\u001b[0m \u001b[0maction\u001b[0m\u001b[0;34m,\u001b[0m \u001b[0;34m**\u001b[0m\u001b[0mkwargs\u001b[0m\u001b[0;34m}\u001b[0m\u001b[0;34m\u001b[0m\u001b[0;34m\u001b[0m\u001b[0m\n\u001b[1;32m     50\u001b[0m         \u001b[0mmessage\u001b[0m\u001b[0;34m.\u001b[0m\u001b[0mupdate\u001b[0m\u001b[0;34m(\u001b[0m\u001b[0mmerge_block\u001b[0m\u001b[0;34m)\u001b[0m\u001b[0;34m\u001b[0m\u001b[0;34m\u001b[0m\u001b[0m\n\u001b[0;32m---> 51\u001b[0;31m         \u001b[0mresp\u001b[0m \u001b[0;34m=\u001b[0m \u001b[0mrequests\u001b[0m\u001b[0;34m.\u001b[0m\u001b[0mpost\u001b[0m\u001b[0;34m(\u001b[0m\u001b[0mself\u001b[0m\u001b[0;34m.\u001b[0m\u001b[0muri\u001b[0m\u001b[0;34m,\u001b[0m \u001b[0mjson\u001b[0m\u001b[0;34m=\u001b[0m\u001b[0mmessage\u001b[0m\u001b[0;34m,\u001b[0m \u001b[0mheaders\u001b[0m\u001b[0;34m=\u001b[0m\u001b[0;34m{\u001b[0m\u001b[0;34m'Content-Type'\u001b[0m\u001b[0;34m:\u001b[0m \u001b[0;34m'application/json'\u001b[0m\u001b[0;34m}\u001b[0m\u001b[0;34m)\u001b[0m\u001b[0;34m\u001b[0m\u001b[0;34m\u001b[0m\u001b[0m\n\u001b[0m\u001b[1;32m     52\u001b[0m         \u001b[0mres\u001b[0m \u001b[0;34m=\u001b[0m \u001b[0mresp\u001b[0m\u001b[0;34m.\u001b[0m\u001b[0mjson\u001b[0m\u001b[0;34m(\u001b[0m\u001b[0;34m)\u001b[0m\u001b[0;34m\u001b[0m\u001b[0;34m\u001b[0m\u001b[0m\n\u001b[1;32m     53\u001b[0m         \u001b[0;32mif\u001b[0m \u001b[0;34m'error'\u001b[0m \u001b[0;32min\u001b[0m \u001b[0mres\u001b[0m\u001b[0;34m:\u001b[0m\u001b[0;34m\u001b[0m\u001b[0;34m\u001b[0m\u001b[0m\n",
      "\u001b[0;32m~/.virtualenvs/autotest/lib/python3.6/site-packages/requests/api.py\u001b[0m in \u001b[0;36mpost\u001b[0;34m(url, data, json, **kwargs)\u001b[0m\n\u001b[1;32m    114\u001b[0m     \"\"\"\n\u001b[1;32m    115\u001b[0m \u001b[0;34m\u001b[0m\u001b[0m\n\u001b[0;32m--> 116\u001b[0;31m     \u001b[0;32mreturn\u001b[0m \u001b[0mrequest\u001b[0m\u001b[0;34m(\u001b[0m\u001b[0;34m'post'\u001b[0m\u001b[0;34m,\u001b[0m \u001b[0murl\u001b[0m\u001b[0;34m,\u001b[0m \u001b[0mdata\u001b[0m\u001b[0;34m=\u001b[0m\u001b[0mdata\u001b[0m\u001b[0;34m,\u001b[0m \u001b[0mjson\u001b[0m\u001b[0;34m=\u001b[0m\u001b[0mjson\u001b[0m\u001b[0;34m,\u001b[0m \u001b[0;34m**\u001b[0m\u001b[0mkwargs\u001b[0m\u001b[0;34m)\u001b[0m\u001b[0;34m\u001b[0m\u001b[0;34m\u001b[0m\u001b[0m\n\u001b[0m\u001b[1;32m    117\u001b[0m \u001b[0;34m\u001b[0m\u001b[0m\n\u001b[1;32m    118\u001b[0m \u001b[0;34m\u001b[0m\u001b[0m\n",
      "\u001b[0;32m~/.virtualenvs/autotest/lib/python3.6/site-packages/requests/api.py\u001b[0m in \u001b[0;36mrequest\u001b[0;34m(method, url, **kwargs)\u001b[0m\n\u001b[1;32m     58\u001b[0m     \u001b[0;31m# cases, and look like a memory leak in others.\u001b[0m\u001b[0;34m\u001b[0m\u001b[0;34m\u001b[0m\u001b[0;34m\u001b[0m\u001b[0m\n\u001b[1;32m     59\u001b[0m     \u001b[0;32mwith\u001b[0m \u001b[0msessions\u001b[0m\u001b[0;34m.\u001b[0m\u001b[0mSession\u001b[0m\u001b[0;34m(\u001b[0m\u001b[0;34m)\u001b[0m \u001b[0;32mas\u001b[0m \u001b[0msession\u001b[0m\u001b[0;34m:\u001b[0m\u001b[0;34m\u001b[0m\u001b[0;34m\u001b[0m\u001b[0m\n\u001b[0;32m---> 60\u001b[0;31m         \u001b[0;32mreturn\u001b[0m \u001b[0msession\u001b[0m\u001b[0;34m.\u001b[0m\u001b[0mrequest\u001b[0m\u001b[0;34m(\u001b[0m\u001b[0mmethod\u001b[0m\u001b[0;34m=\u001b[0m\u001b[0mmethod\u001b[0m\u001b[0;34m,\u001b[0m \u001b[0murl\u001b[0m\u001b[0;34m=\u001b[0m\u001b[0murl\u001b[0m\u001b[0;34m,\u001b[0m \u001b[0;34m**\u001b[0m\u001b[0mkwargs\u001b[0m\u001b[0;34m)\u001b[0m\u001b[0;34m\u001b[0m\u001b[0;34m\u001b[0m\u001b[0m\n\u001b[0m\u001b[1;32m     61\u001b[0m \u001b[0;34m\u001b[0m\u001b[0m\n\u001b[1;32m     62\u001b[0m \u001b[0;34m\u001b[0m\u001b[0m\n",
      "\u001b[0;32m~/.virtualenvs/autotest/lib/python3.6/site-packages/requests/sessions.py\u001b[0m in \u001b[0;36mrequest\u001b[0;34m(self, method, url, params, data, headers, cookies, files, auth, timeout, allow_redirects, proxies, hooks, stream, verify, cert, json)\u001b[0m\n\u001b[1;32m    531\u001b[0m         }\n\u001b[1;32m    532\u001b[0m         \u001b[0msend_kwargs\u001b[0m\u001b[0;34m.\u001b[0m\u001b[0mupdate\u001b[0m\u001b[0;34m(\u001b[0m\u001b[0msettings\u001b[0m\u001b[0;34m)\u001b[0m\u001b[0;34m\u001b[0m\u001b[0;34m\u001b[0m\u001b[0m\n\u001b[0;32m--> 533\u001b[0;31m         \u001b[0mresp\u001b[0m \u001b[0;34m=\u001b[0m \u001b[0mself\u001b[0m\u001b[0;34m.\u001b[0m\u001b[0msend\u001b[0m\u001b[0;34m(\u001b[0m\u001b[0mprep\u001b[0m\u001b[0;34m,\u001b[0m \u001b[0;34m**\u001b[0m\u001b[0msend_kwargs\u001b[0m\u001b[0;34m)\u001b[0m\u001b[0;34m\u001b[0m\u001b[0;34m\u001b[0m\u001b[0m\n\u001b[0m\u001b[1;32m    534\u001b[0m \u001b[0;34m\u001b[0m\u001b[0m\n\u001b[1;32m    535\u001b[0m         \u001b[0;32mreturn\u001b[0m \u001b[0mresp\u001b[0m\u001b[0;34m\u001b[0m\u001b[0;34m\u001b[0m\u001b[0m\n",
      "\u001b[0;32m~/.virtualenvs/autotest/lib/python3.6/site-packages/requests/sessions.py\u001b[0m in \u001b[0;36msend\u001b[0;34m(self, request, **kwargs)\u001b[0m\n\u001b[1;32m    644\u001b[0m \u001b[0;34m\u001b[0m\u001b[0m\n\u001b[1;32m    645\u001b[0m         \u001b[0;31m# Send the request\u001b[0m\u001b[0;34m\u001b[0m\u001b[0;34m\u001b[0m\u001b[0;34m\u001b[0m\u001b[0m\n\u001b[0;32m--> 646\u001b[0;31m         \u001b[0mr\u001b[0m \u001b[0;34m=\u001b[0m \u001b[0madapter\u001b[0m\u001b[0;34m.\u001b[0m\u001b[0msend\u001b[0m\u001b[0;34m(\u001b[0m\u001b[0mrequest\u001b[0m\u001b[0;34m,\u001b[0m \u001b[0;34m**\u001b[0m\u001b[0mkwargs\u001b[0m\u001b[0;34m)\u001b[0m\u001b[0;34m\u001b[0m\u001b[0;34m\u001b[0m\u001b[0m\n\u001b[0m\u001b[1;32m    647\u001b[0m \u001b[0;34m\u001b[0m\u001b[0m\n\u001b[1;32m    648\u001b[0m         \u001b[0;31m# Total elapsed time of the request (approximately)\u001b[0m\u001b[0;34m\u001b[0m\u001b[0;34m\u001b[0m\u001b[0;34m\u001b[0m\u001b[0m\n",
      "\u001b[0;32m~/.virtualenvs/autotest/lib/python3.6/site-packages/requests/adapters.py\u001b[0m in \u001b[0;36msend\u001b[0;34m(self, request, stream, timeout, verify, cert, proxies)\u001b[0m\n\u001b[1;32m    514\u001b[0m                 \u001b[0;32mraise\u001b[0m \u001b[0mSSLError\u001b[0m\u001b[0;34m(\u001b[0m\u001b[0me\u001b[0m\u001b[0;34m,\u001b[0m \u001b[0mrequest\u001b[0m\u001b[0;34m=\u001b[0m\u001b[0mrequest\u001b[0m\u001b[0;34m)\u001b[0m\u001b[0;34m\u001b[0m\u001b[0;34m\u001b[0m\u001b[0m\n\u001b[1;32m    515\u001b[0m \u001b[0;34m\u001b[0m\u001b[0m\n\u001b[0;32m--> 516\u001b[0;31m             \u001b[0;32mraise\u001b[0m \u001b[0mConnectionError\u001b[0m\u001b[0;34m(\u001b[0m\u001b[0me\u001b[0m\u001b[0;34m,\u001b[0m \u001b[0mrequest\u001b[0m\u001b[0;34m=\u001b[0m\u001b[0mrequest\u001b[0m\u001b[0;34m)\u001b[0m\u001b[0;34m\u001b[0m\u001b[0;34m\u001b[0m\u001b[0m\n\u001b[0m\u001b[1;32m    517\u001b[0m \u001b[0;34m\u001b[0m\u001b[0m\n\u001b[1;32m    518\u001b[0m         \u001b[0;32mexcept\u001b[0m \u001b[0mClosedPoolError\u001b[0m \u001b[0;32mas\u001b[0m \u001b[0me\u001b[0m\u001b[0;34m:\u001b[0m\u001b[0;34m\u001b[0m\u001b[0;34m\u001b[0m\u001b[0m\n",
      "\u001b[0;31mConnectionError\u001b[0m: HTTPConnectionPool(host='54.84.163.144', port=55000): Max retries exceeded with url: / (Caused by NewConnectionError('<urllib3.connection.HTTPConnection object at 0x7f176ee9bd68>: Failed to establish a new connection: [Errno 110] Connection timed out',))"
     ]
    }
   ],
   "source": [
    "test_suite.run()"
   ]
  },
  {
   "cell_type": "code",
   "execution_count": 15,
   "metadata": {},
   "outputs": [
    {
     "data": {
      "text/plain": [
       "'/home/cj/Code/autotest/autotest'"
      ]
     },
     "execution_count": 15,
     "metadata": {},
     "output_type": "execute_result"
    }
   ],
   "source": [
    "import os\n",
    "os.getcwd()"
   ]
  },
  {
   "cell_type": "code",
   "execution_count": 14,
   "metadata": {},
   "outputs": [
    {
     "data": {
      "text/plain": [
       "['[2019-02-25 15:44:21.382570 warning]: PersistenceManager creating default reservations\\n[2019-02-25 15:44:21.383334 debug]: DelegateIdentityManager::IdentifyDelegates retrieving delegates from epoch 1\\n[2019-02-25 15:44:21.384433 info]: VOTE:  total is 3249600 quorum is 2166399 max tolerated fault is 1083199\\n[2019-02-25 15:44:21.384464 info]: STAKE: total is 3249600 quorum is 2166399 max tolerated fault is 1083199\\n[2019-02-25 15:44:21.385487 info]: VOTE:  total is 3249600 quorum is 2166399 max tolerated fault is 1083199\\n[2019-02-25 15:44:21.385510 info]: STAKE: total is 3249600 quorum is 2166399 max tolerated fault is 1083199\\n[2019-02-25 15:44:21.386327 info]: VOTE:  total is 3249600 quorum is 2166399 max tolerated fault is 1083199\\n[2019-02-25 15:44:21.386351 info]: STAKE: total is 3249600 quorum is 2166399 max tolerated fault is 1083199\\n[2019-02-25 15:44:21.386877 info]: ConsensusNetIO - Trying to connect to: 172.31.92.220:60000 remote delegate id 1 connection Current\\n[2019-02-25 15:44:21.386982 info]: ConsensusNetIO - Trying to connect to: 172.31.82.208:60000 remote delegate id 2 connection Current\\n[2019-02-25 15:44:21.387057 info]: ConsensusNetIO - Trying to connect to: 172.31.93.18:60000 remote delegate id 3 connection Current\\n[2019-02-25 15:44:21.387134 info]: ConsensusNetIO - Trying to connect to: 172.31.85.125:60000 remote delegate id 4 connection Current\\n[2019-02-25 15:44:21.387205 info]: ConsensusNetIO - Trying to connect to: 172.31.83.2:60000 remote delegate id 5 connection Current\\n[2019-02-25 15:44:21.387273 info]: ConsensusNetIO - Trying to connect to: 172.31.89.87:60000 remote delegate id 6 connection Current\\n[2019-02-25 15:44:21.387351 info]: ConsensusNetIO - Trying to connect to: 172.31.94.98:60000 remote delegate id 7 connection Current\\n[2019-02-25 15:44:21.387443 info]: ConsensusNetIO - Trying to connect to: 172.31.95.206:60000 remote delegate id 8 connection Current\\n[2019-02-25 15:44:21.387521 info]: ConsensusNetIO - Trying to connect to: 172.31.88.76:60000 remote delegate id 9 connection Current\\n[2019-02-25 15:44:21.387596 info]: ConsensusNetIO - Trying to connect to: 172.31.82.144:60000 remote delegate id 10 connection Current\\n[2019-02-25 15:44:21.387683 info]: ConsensusNetIO - Trying to connect to: 172.31.83.233:60000 remote delegate id 11 connection Current\\n[2019-02-25 15:44:21.387756 info]: ConsensusNetIO - Trying to connect to: 172.31.84.225:60000 remote delegate id 12 connection Current\\n[2019-02-25 15:44:21.387851 info]: ConsensusNetIO - Trying to connect to: 172.31.88.46:60000 remote delegate id 13 connection Current\\n[2019-02-25 15:44:21.387937 info]: ConsensusNetIO - Trying to connect to: 172.31.90.45:60000 remote delegate id 14 connection Current\\n[2019-02-25 15:44:21.388008 info]: ConsensusNetIO - Trying to connect to: 172.31.89.233:60000 remote delegate id 15 connection Current\\n[2019-02-25 15:44:21.388103 info]: ConsensusNetIO - Trying to connect to: 172.31.95.248:60000 remote delegate id 16 connection Current\\n[2019-02-25 15:44:21.388192 info]: ConsensusNetIO - Trying to connect to: 172.31.93.26:60000 remote delegate id 17 connection Current\\n[2019-02-25 15:44:21.388274 info]: ConsensusNetIO - Trying to connect to: 172.31.92.205:60000 remote delegate id 18 connection Current\\n[2019-02-25 15:44:21.388359 info]: ConsensusNetIO - Trying to connect to: 172.31.86.44:60000 remote delegate id 19 connection Current\\n[2019-02-25 15:44:21.388446 info]: ConsensusNetIO - Trying to connect to: 172.31.92.101:60000 remote delegate id 20 connection Current\\n[2019-02-25 15:44:21.388522 info]: ConsensusNetIO - Trying to connect to: 172.31.80.49:60000 remote delegate id 21 connection Current\\n[2019-02-25 15:44:21.388588 info]: ConsensusNetIO - Trying to connect to: 172.31.83.181:60000 remote delegate id 22 connection Current\\n[2019-02-25 15:44:21.388682 info]: ConsensusNetIO - Trying to connect to: 172.31.94.122:60000 remote delegate id 23 connection Current\\n[2019-02-25 15:44:21.388756 info]: ConsensusNetIO - Trying to connect to: 172.31.82.122:60000 remote delegate id 24 connection Current\\n[2019-02-25 15:44:21.388840 info]: ConsensusNetIO - Trying to connect to: 172.31.93.108:60000 remote delegate id 25 connection Current\\n[2019-02-25 15:44:21.388928 info]: ConsensusNetIO - Trying to connect to: 172.31.87.98:60000 remote delegate id 26 connection Current\\n[2019-02-25 15:44:21.389017 info]: ConsensusNetIO - Trying to connect to: 172.31.92.242:60000 remote delegate id 27 connection Current\\n[2019-02-25 15:44:21.389096 info]: ConsensusNetIO - Trying to connect to: 172.31.95.233:60000 remote delegate id 28 connection Current\\n[2019-02-25 15:44:21.389167 info]: ConsensusNetIO - Trying to connect to: 172.31.80.50:60000 remote delegate id 29 connection Current\\n[2019-02-25 15:44:21.389254 info]: ConsensusNetIO - Trying to connect to: 172.31.93.205:60000 remote delegate id 30 connection Current\\n[2019-02-25 15:44:21.389320 info]: ConsensusNetIO - Trying to connect to: 172.31.80.253:60000 remote delegate id 31 connection Current\\n[2019-02-25 15:44:21.389440 info]: ConsensusContainer::ConsensusContainer initialized delegate is in epoch true epoch transition enabled false 0 0 3\\n[2019-02-25 15:44:21.389483 info]: TxPeerManager::TxPeerManager creating acceptor on 172.31.82.5:56001\\n[2019-02-25 15:44:21.389558 info]: TxPeerManager::TxPeerManager creating acceptor on 172.31.82.5:56002\\n[2019-02-25 15:44:21.389615 info]: TxAcceptor::TxAcceptor creating delegate TxAcceptor\\n[2019-02-25 15:44:21.389967 info]: [p2p] logos version v0.1.0.0-unk (release build)\\n[2019-02-25 15:44:21.390008 info]: [p2p] InitParameterInteraction: parameter interaction: -whitelistforcerelay=1 -> setting -whitelistrelay=1\\n[2019-02-25 15:44:21.390044 info]: [p2p] Using the \\'standard\\' Blake2b implementation\\n[2019-02-25 15:44:21.390060 info]: [p2p] Using RdRand as an additional entropy source\\n[2019-02-25 15:44:21.391296 info]: [p2p] Startup time: 2019-02-25T15:44:21Z\\n[2019-02-25 15:44:21.391321 info]: [p2p] Using at most 125 automatic connections (1024 file descriptors available)\\n[2019-02-25 15:44:21.392015 info]: [p2p] Bound to [::]:14495\\n[2019-02-25 15:44:21.392115 info]: [p2p] Error: Unable to bind to 0.0.0.0:14495: bind: Address already in use\\n[2019-02-25 15:44:21.392152 info]: [p2p] ERROR: DeserializeLMDB: Failed to get peers data, error -30798\\n[2019-02-25 15:44:21.392423 info]: [p2p] Invalid or missing peers.dat; recreating\\n[2019-02-25 15:44:21.397131 info]: [p2p] ERROR: DeserializeLMDB: Failed to get banlist data, error -30798\\n[2019-02-25 15:44:21.397156 info]: [p2p] Invalid or missing banlist.dat; recreating\\n[2019-02-25 15:44:21.400436 warning]: ConsensusNetIO - Error connecting to 172.31.92.220:60000 : Connection refused Retrying in 5 seconds.\\n[2019-02-25 15:44:21.400514 warning]: ConsensusNetIO - Error connecting to 172.31.82.208:60000 : Connection refused Retrying in 5 seconds.\\n[2019-02-25 15:44:21.400568 warning]: ConsensusNetIO - Error connecting to 172.31.93.18:60000 : Connection refused Retrying in 5 seconds.\\n[2019-02-25 15:44:21.400621 warning]: ConsensusNetIO - Error connecting to 172.31.85.125:60000 : Connection refused Retrying in 5 seconds.\\n[2019-02-25 15:44:21.400672 warning]: ConsensusNetIO - Error connecting to 172.31.83.2:60000 : Connection refused Retrying in 5 seconds.\\n[2019-02-25 15:44:21.400780 warning]: ConsensusNetIO - Error connecting to 172.31.95.206:60000 : Connection refused Retrying in 5 seconds.\\n[2019-02-25 15:44:21.400846 warning]: ConsensusNetIO - Error connecting to 172.31.88.76:60000 : Connection refused Retrying in 5 seconds.\\n[2019-02-25 15:44:21.400898 warning]: ConsensusNetIO - Error connecting to 172.31.82.144:60000 : Connection refused Retrying in 5 seconds.\\n[2019-02-25 15:44:21.400947 warning]: ConsensusNetIO - Error connecting to 172.31.83.233:60000 : Connection refused Retrying in 5 seconds.\\n[2019-02-25 15:44:21.400996 warning]: ConsensusNetIO - Error connecting to 172.31.84.225:60000 : Connection refused Retrying in 5 seconds.\\n[2019-02-25 15:44:21.401044 warning]: ConsensusNetIO - Error connecting to 172.31.88.46:60000 : Connection refused Retrying in 5 seconds.\\n[2019-02-25 15:44:21.401093 warning]: ConsensusNetIO - Error connecting to 172.31.90.45:60000 : Connection refused Retrying in 5 seconds.\\n[2019-02-25 15:44:21.401225 warning]: ConsensusNetIO - Error connecting to 172.31.95.248:60000 : Connection refused Retrying in 5 seconds.\\n[2019-02-25 15:44:21.401312 warning]: ConsensusNetIO - Error connecting to 172.31.93.26:60000 : Connection refused Retrying in 5 seconds.\\n[2019-02-25 15:44:21.401393 warning]: ConsensusNetIO - Error connecting to 172.31.92.205:60000 : Connection refused Retrying in 5 seconds.\\n[2019-02-25 15:44:21.401446 warning]: ConsensusNetIO - Error connecting to 172.31.86.44:60000 : Connection refused Retrying in 5 seconds.\\n[2019-02-25 15:44:21.401509 warning]: ConsensusNetIO - Error connecting to 172.31.92.101:60000 : Connection refused Retrying in 5 seconds.\\n[2019-02-25 15:44:21.401561 warning]: ConsensusNetIO - Error connecting to 172.31.80.49:60000 : Connection refused Retrying in 5 seconds.\\n[2019-02-25 15:44:21.401640 warning]: ConsensusNetIO - Error connecting to 172.31.83.181:60000 : Connection refused Retrying in 5 seconds.\\n[2019-02-25 15:44:21.401741 warning]: ConsensusNetIO - Error connecting to 172.31.82.122:60000 : Connection refused Retrying in 5 seconds.\\n[2019-02-25 15:44:21.401810 warning]: ConsensusNetIO - Error connecting to 172.31.93.108:60000 : Connection refused Retrying in 5 seconds.\\n[2019-02-25 15:44:21.401869 warning]: ConsensusNetIO - Error connecting to 172.31.87.98:60000 : Connection refused Retrying in 5 seconds.\\n[2019-02-25 15:44:21.401913 warning]: ConsensusNetIO - Error connecting to 172.31.94.122:60000 : Connection refused Retrying in 5 seconds.\\n[2019-02-25 15:44:21.401967 warning]: ConsensusNetIO - Error connecting to 172.31.92.242:60000 : Connection refused Retrying in 5 seconds.\\n[2019-02-25 15:44:21.402066 warning]: ConsensusNetIO - Error connecting to 172.31.80.50:60000 : Connection refused Retrying in 5 seconds.\\n[2019-02-25 15:44:21.402126 warning]: ConsensusNetIO - Error connecting to 172.31.93.205:60000 : Connection refused Retrying in 5 seconds.\\n[2019-02-25 15:44:21.402163 warning]: ConsensusNetIO - Error connecting to 172.31.80.253:60000 : Connection refused Retrying in 5 seconds.\\n[2019-02-25 15:44:21.402196 info]: ConsensusNetIO - Connected to 172.31.89.87:60000. Remote delegate id: 6\\n[2019-02-25 15:44:21.402280 info]: ConsensusNetIO - Connected to 172.31.94.98:60000. Remote delegate id: 7\\n[2019-02-25 15:44:21.402347 info]: ConsensusNetIO - Connected to 172.31.89.233:60000. Remote delegate id: 15\\n[2019-02-25 15:44:21.402431 info]: ConsensusNetIO - Connected to 172.31.95.233:60000. Remote delegate id: 28\\n[2019-02-25 15:44:21.402523 debug]: ConsensusNetIO - received message type Key Advertisement for consensus type Any from 172.31.89.87:60000\\n[2019-02-25 15:44:21.403069 info]: ConsensusNetIO - Added consensus connection RequestBlock 0 local delegate 0 remote delegate 6 global 0 Connection Current\\n[2019-02-25 15:44:21.403106 info]: ConsensusNetIO - Added consensus connection MicroBlock 1 local delegate 0 remote delegate 6 global 0 Connection Current\\n[2019-02-25 15:44:21.403137 info]: ConsensusNetIO - Added consensus connection Epoch 2 local delegate 0 remote delegate 6 global 0 Connection Current\\n[2019-02-25 15:44:21.403180 debug]: ConsensusNetIO - received message type Key Advertisement for consensus type Any from 172.31.94.98:60000\\n[2019-02-25 15:44:21.403567 debug]: ConsensusNetIO - received message type Key Advertisement for consensus type Any from 172.31.89.233:60000\\n[2019-02-25 15:44:21.404075 info]: ConsensusNetIO - Added consensus connection RequestBlock 0 local delegate 0 remote delegate 15 global 0 Connection Current\\n[2019-02-25 15:44:21.404115 info]: ConsensusNetIO - Added consensus connection MicroBlock 1 local delegate 0 remote delegate 15 global 0 Connection Current\\n[2019-02-25 15:44:21.404143 info]: ConsensusNetIO - Added consensus connection Epoch 2 local delegate 0 remote delegate 15 global 0 Connection Current\\n[2019-02-25 15:44:21.404191 debug]: ConsensusNetIO - received message type Key Advertisement for consensus type Any from 172.31.95.233:60000\\n[2019-02-25 15:44:21.404799 info]: [p2p] msghand thread start\\n[2019-02-25 15:44:21.404856 info]: [p2p] opencon thread start\\n[2019-02-25 15:44:21.404917 info]: [p2p] addcon thread start\\n[2019-02-25 15:44:21.405359 info]: ConsensusNetIO - Added consensus connection RequestBlock 0 local delegate 0 remote delegate 28 global 0 Connection Current\\n[2019-02-25 15:44:21.405401 info]: ConsensusNetIO - Added consensus connection MicroBlock 1 local delegate 0 remote delegate 28 global 0 Connection Current\\n[2019-02-25 15:44:21.405428 info]: ConsensusNetIO - Added consensus connection Epoch 2 local delegate 0 remote delegate 28 global 0 Connection Current\\n[2019-02-25 15:44:21.405470 info]: [p2p] dnsseed thread start\\n[2019-02-25 15:44:21.405501 info]: [p2p] Loading addresses from DNS seeds (could take a while)\\n[2019-02-25 15:44:21.405514 info]: [p2p] 0 addresses found from DNS seeds\\n[2019-02-25 15:44:21.405524 info]: [p2p] dnsseed thread exit\\n[2019-02-25 15:44:21.405774 info]: ConsensusNetIO - Added consensus connection RequestBlock 0 local delegate 0 remote delegate 7 global 0 Connection Current\\n[2019-02-25 15:44:21.405807 info]: ConsensusNetIO - Added consensus connection MicroBlock 1 local delegate 0 remote delegate 7 global 0 Connection Current\\n[2019-02-25 15:44:21.405833 info]: ConsensusNetIO - Added consensus connection Epoch 2 local delegate 0 remote delegate 7 global 0 Connection Current\\n[2019-02-25 15:44:21.405875 info]: [p2p] net thread start\\n[2019-02-25 15:44:25.239441 info]: {\"rpc_action\": \"account_info\", \"account\": \"lgs_3e3j5tkog48pnny9dmfzj1r16pg8t1e76dz5tmac6iq689wyjfpiij4txtdo\"}\\n[2019-02-25 15:44:26.401373 info]: ConsensusNetIO - Connected to 172.31.92.220:60000. Remote delegate id: 1\\n[2019-02-25 15:44:26.401663 info]: ConsensusNetIO - Connected to 172.31.82.208:60000. Remote delegate id: 2\\n[2019-02-25 15:44:26.401743 info]: ConsensusNetIO - Connected to 172.31.93.18:60000. Remote delegate id: 3\\n[2019-02-25 15:44:26.401871 info]: ConsensusNetIO - Connected to 172.31.85.125:60000. Remote delegate id: 4\\n[2019-02-25 15:44:26.401951 info]: ConsensusNetIO - Connected to 172.31.95.206:60000. Remote delegate id: 8\\n[2019-02-25 15:44:26.402117 info]: ConsensusNetIO - Connected to 172.31.83.2:60000. Remote delegate id: 5\\n[2019-02-25 15:44:26.402174 info]: ConsensusNetIO - Connected to 172.31.82.144:60000. Remote delegate id: 10\\n[2019-02-25 15:44:26.402264 info]: ConsensusNetIO - Connected to 172.31.83.233:60000. Remote delegate id: 11\\n[2019-02-25 15:44:26.402408 debug]: ConsensusNetIO - received message type Key Advertisement for consensus type Any from 172.31.92.220:60000\\n[2019-02-25 15:44:26.403116 info]: ConsensusNetIO - Added consensus connection RequestBlock 0 local delegate 0 remote delegate 1 global 0 Connection Current\\n[2019-02-25 15:44:26.403163 info]: ConsensusNetIO - Added consensus connection MicroBlock 1 local delegate 0 remote delegate 1 global 0 Connection Current\\n[2019-02-25 15:44:26.403200 info]: ConsensusNetIO - Added consensus connection Epoch 2 local delegate 0 remote delegate 1 global 0 Connection Current\\n[2019-02-25 15:44:26.403242 info]: ConsensusNetIO - Connected to 172.31.84.225:60000. Remote delegate id: 12\\n[2019-02-25 15:44:26.403318 info]: ConsensusNetIO - Connected to 172.31.90.45:60000. Remote delegate id: 14\\n[2019-02-25 15:44:26.403392 info]: ConsensusNetIO - Connected to 172.31.88.76:60000. Remote delegate id: 9\\n[2019-02-25 15:44:26.403456 info]: ConsensusNetIO - Connected to 172.31.88.46:60000. Remote delegate id: 13\\n[2019-02-25 15:44:26.403540 debug]: ConsensusNetIO - received message type Key Advertisement for consensus type Any from 172.31.82.208:60000\\n[2019-02-25 15:44:26.404044 info]: ConsensusNetIO - Added consensus connection RequestBlock 0 local delegate 0 remote delegate 2 global 0 Connection Current\\n[2019-02-25 15:44:26.404076 info]: ConsensusNetIO - Added consensus connection MicroBlock 1 local delegate 0 remote delegate 2 global 0 Connection Current\\n[2019-02-25 15:44:26.404102 info]: ConsensusNetIO - Added consensus connection Epoch 2 local delegate 0 remote delegate 2 global 0 Connection Current\\n[2019-02-25 15:44:26.404141 debug]: ConsensusNetIO - received message type Key Advertisement for consensus type Any from 172.31.95.206:60000\\n[2019-02-25 15:44:26.404565 debug]: ConsensusNetIO - received message type Key Advertisement for consensus type Any from 172.31.93.18:60000\\n[2019-02-25 15:44:26.405083 info]: ConsensusNetIO - Added consensus connection RequestBlock 0 local delegate 0 remote delegate 3 global 0 Connection Current\\n[2019-02-25 15:44:26.405122 info]: ConsensusNetIO - Added consensus connection MicroBlock 1 local delegate 0 remote delegate 3 global 0 Connection Current\\n[2019-02-25 15:44:26.405149 info]: ConsensusNetIO - Added consensus connection Epoch 2 local delegate 0 remote delegate 3 global 0 Connection Current\\n[2019-02-25 15:44:26.405190 debug]: ConsensusNetIO - received message type Key Advertisement for consensus type Any from 172.31.85.125:60000\\n[2019-02-25 15:44:26.405679 info]: ConsensusNetIO - Added consensus connection RequestBlock 0 local delegate 0 remote delegate 4 global 0 Connection Current\\n[2019-02-25 15:44:26.405711 info]: ConsensusNetIO - Added consensus connection MicroBlock 1 local delegate 0 remote delegate 4 global 0 Connection Current\\n[2019-02-25 15:44:26.405777 debug]: ConsensusNetIO - received message type Key Advertisement for consensus type Any from 172.31.82.144:60000\\n[2019-02-25 15:44:26.405816 debug]: ConsensusNetIO - received message type Key Advertisement for consensus type Any from 172.31.83.2:60000\\n[2019-02-25 15:44:26.405848 debug]: ConsensusNetIO - received message type Key Advertisement for consensus type Any from 172.31.83.233:60000\\n[2019-02-25 15:44:26.405883 debug]: ConsensusNetIO - received message type Key Advertisement for consensus type Any from 172.31.84.225:60000\\n[2019-02-25 15:44:26.405961 debug]: ConsensusNetIO - received message type Key Advertisement for consensus type Any from 172.31.90.45:60000\\n[2019-02-25 15:44:26.405996 debug]: ConsensusNetIO - received message type Key Advertisement for consensus type Any from 172.31.88.76:60000\\n[2019-02-25 15:44:26.408771 info]: ConsensusNetIO - Added consensus connection Epoch 2 local delegate 0 remote delegate 4 global 0 Connection Current\\n[2019-02-25 15:44:26.408824 debug]: ConsensusNetIO - received message type Key Advertisement for consensus type Any from 172.31.88.46:60000\\n[2019-02-25 15:44:26.409327 info]: ConsensusNetIO - Added consensus connection RequestBlock 0 local delegate 0 remote delegate 13 global 0 Connection Current\\n[2019-02-25 15:44:26.409361 info]: ConsensusNetIO - Added consensus connection MicroBlock 1 local delegate 0 remote delegate 13 global 0 Connection Current\\n[2019-02-25 15:44:26.409390 info]: ConsensusNetIO - Added consensus connection Epoch 2 local delegate 0 remote delegate 13 global 0 Connection Current\\n[2019-02-25 15:44:26.409637 info]: ConsensusNetIO - Added consensus connection RequestBlock 0 local delegate 0 remote delegate 10 global 0 Connection Current\\n[2019-02-25 15:44:26.409684 info]: ConsensusNetIO - Added consensus connection MicroBlock 1 local delegate 0 remote delegate 10 global 0 Connection Current\\n[2019-02-25 15:44:26.409735 info]: ConsensusNetIO - Added consensus connection Epoch 2 local delegate 0 remote delegate 10 global 0 Connection Current\\n[2019-02-25 15:44:26.409798 info]: ConsensusNetIO - Added consensus connection RequestBlock 0 local delegate 0 remote delegate 5 global 0 Connection Current\\n[2019-02-25 15:44:26.409835 info]: ConsensusNetIO - Added consensus connection MicroBlock 1 local delegate 0 remote delegate 5 global 0 Connection Current\\n[2019-02-25 15:44:26.409863 info]: ConsensusNetIO - Added consensus connection Epoch 2 local delegate 0 remote delegate 5 global 0 Connection Current\\n[2019-02-25 15:44:26.409923 info]: ConsensusNetIO - Added consensus connection RequestBlock 0 local delegate 0 remote delegate 11 global 0 Connection Current\\n[2019-02-25 15:44:26.409958 info]: ConsensusNetIO - Added consensus connection MicroBlock 1 local delegate 0 remote delegate 11 global 0 Connection Current\\n[2019-02-25 15:44:26.409985 info]: ConsensusNetIO - Added consensus connection Epoch 2 local delegate 0 remote delegate 11 global 0 Connection Current\\n[2019-02-25 15:44:26.410096 info]: ConsensusNetIO - Added consensus connection RequestBlock 0 local delegate 0 remote delegate 12 global 0 Connection Current\\n[2019-02-25 15:44:26.410127 info]: ConsensusNetIO - Added consensus connection MicroBlock 1 local delegate 0 remote delegate 12 global 0 Connection Current\\n[2019-02-25 15:44:26.410160 info]: ConsensusNetIO - Added consensus connection Epoch 2 local delegate 0 remote delegate 12 global 0 Connection Current\\n[2019-02-25 15:44:26.410219 info]: ConsensusNetIO - Added consensus connection RequestBlock 0 local delegate 0 remote delegate 14 global 0 Connection Current\\n[2019-02-25 15:44:26.410252 info]: ConsensusNetIO - Added consensus connection MicroBlock 1 local delegate 0 remote delegate 14 global 0 Connection Current\\n[2019-02-25 15:44:26.410329 info]: ConsensusNetIO - Added consensus connection Epoch 2 local delegate 0 remote delegate 14 global 0 Connection Current\\n[2019-02-25 15:44:26.410379 info]: ConsensusNetIO - Added consensus connection RequestBlock 0 local delegate 0 remote delegate 9 global 0 Connection Current\\n[2019-02-25 15:44:26.410412 info]: ConsensusNetIO - Added consensus connection MicroBlock 1 local delegate 0 remote delegate 9 global 0 Connection Current\\n[2019-02-25 15:44:26.410443 info]: ConsensusNetIO - Added consensus connection Epoch 2 local delegate 0 remote delegate 9 global 0 Connection Current\\n[2019-02-25 15:44:26.410680 info]: ConsensusNetIO - Connected to 172.31.92.205:60000. Remote delegate id: 18\\n[2019-02-25 15:44:26.410738 info]: ConsensusNetIO - Connected to 172.31.86.44:60000. Remote delegate id: 19\\n[2019-02-25 15:44:26.410788 info]: ConsensusNetIO - Connected to 172.31.92.101:60000. Remote delegate id: 20\\n[2019-02-25 15:44:26.410846 info]: ConsensusNetIO - Connected to 172.31.95.248:60000. Remote delegate id: 16\\n[2019-02-25 15:44:26.410907 info]: ConsensusNetIO - Connected to 172.31.83.181:60000. Remote delegate id: 22\\n[2019-02-25 15:44:26.410996 info]: ConsensusNetIO - Connected to 172.31.82.122:60000. Remote delegate id: 24\\n[2019-02-25 15:44:26.411065 info]: ConsensusNetIO - Connected to 172.31.87.98:60000. Remote delegate id: 26\\n[2019-02-25 15:44:26.411120 info]: ConsensusNetIO - Connected to 172.31.80.49:60000. Remote delegate id: 21\\n[2019-02-25 15:44:26.411227 info]: ConsensusNetIO - Connected to 172.31.93.108:60000. Remote delegate id: 25\\n[2019-02-25 15:44:26.411288 info]: ConsensusNetIO - Connected to 172.31.92.242:60000. Remote delegate id: 27\\n[2019-02-25 15:44:26.411343 info]: ConsensusNetIO - Connected to 172.31.94.122:60000. Remote delegate id: 23\\n[2019-02-25 15:44:26.411436 info]: ConsensusNetIO - Connected to 172.31.80.50:60000. Remote delegate id: 29\\n[2019-02-25 15:44:26.411497 info]: ConsensusNetIO - Connected to 172.31.93.205:60000. Remote delegate id: 30\\n[2019-02-25 15:44:26.411635 debug]: ConsensusNetIO - received message type Key Advertisement for consensus type Any from 172.31.93.205:60000\\n[2019-02-25 15:44:26.412172 info]: ConsensusNetIO - Added consensus connection RequestBlock 0 local delegate 0 remote delegate 30 global 0 Connection Current\\n[2019-02-25 15:44:26.412206 info]: ConsensusNetIO - Added consensus connection MicroBlock 1 local delegate 0 remote delegate 30 global 0 Connection Current\\n[2019-02-25 15:44:26.412229 info]: ConsensusNetIO - Added consensus connection Epoch 2 local delegate 0 remote delegate 30 global 0 Connection Current\\n[2019-02-25 15:44:26.412277 info]: ConsensusNetIO - Connected to 172.31.80.253:60000. Remote delegate id: 31\\n[2019-02-25 15:44:26.412368 debug]: ConsensusNetIO - received message type Key Advertisement for consensus type Any from 172.31.92.205:60000\\n[2019-02-25 15:44:26.412739 debug]: ConsensusNetIO - received message type Key Advertisement for consensus type Any from 172.31.86.44:60000\\n[2019-02-25 15:44:26.413239 info]: ConsensusNetIO - Added consensus connection RequestBlock 0 local delegate 0 remote delegate 19 global 0 Connection Current\\n[2019-02-25 15:44:26.413276 info]: ConsensusNetIO - Added consensus connection MicroBlock 1 local delegate 0 remote delegate 19 global 0 Connection Current\\n[2019-02-25 15:44:26.413309 info]: ConsensusNetIO - Added consensus connection Epoch 2 local delegate 0 remote delegate 19 global 0 Connection Current\\n[2019-02-25 15:44:26.413350 debug]: ConsensusNetIO - received message type Key Advertisement for consensus type Any from 172.31.92.101:60000\\n[2019-02-25 15:44:26.413729 debug]: ConsensusNetIO - received message type Key Advertisement for consensus type Any from 172.31.83.181:60000\\n[2019-02-25 15:44:26.414217 info]: ConsensusNetIO - Added consensus connection RequestBlock 0 local delegate 0 remote delegate 22 global 0 Connection Current\\n[2019-02-25 15:44:26.414250 info]: ConsensusNetIO - Added consensus connection MicroBlock 1 local delegate 0 remote delegate 22 global 0 Connection Current\\n[2019-02-25 15:44:26.414273 info]: ConsensusNetIO - Added consensus connection Epoch 2 local delegate 0 remote delegate 22 global 0 Connection Current\\n[2019-02-25 15:44:26.414310 debug]: ConsensusNetIO - received message type Key Advertisement for consensus type Any from 172.31.87.98:60000\\n[2019-02-25 15:44:26.414795 info]: ConsensusNetIO - Added consensus connection RequestBlock 0 local delegate 0 remote delegate 26 global 0 Connection Current\\n[2019-02-25 15:44:26.414828 info]: ConsensusNetIO - Added consensus connection MicroBlock 1 local delegate 0 remote delegate 26 global 0 Connection Current\\n[2019-02-25 15:44:26.414857 info]: ConsensusNetIO - Added consensus connection Epoch 2 local delegate 0 remote delegate 26 global 0 Connection Current\\n[2019-02-25 15:44:26.414896 debug]: ConsensusNetIO - received message type Key Advertisement for consensus type Any from 172.31.95.248:60000\\n[2019-02-25 15:44:26.415382 info]: ConsensusNetIO - Added consensus connection RequestBlock 0 local delegate 0 remote delegate 16 global 0 Connection Current\\n[2019-02-25 15:44:26.415414 info]: ConsensusNetIO - Added consensus connection MicroBlock 1 local delegate 0 remote delegate 16 global 0 Connection Current\\n[2019-02-25 15:44:26.415437 info]: ConsensusNetIO - Added consensus connection Epoch 2 local delegate 0 remote delegate 16 global 0 Connection Current\\n[2019-02-25 15:44:26.415474 debug]: ConsensusNetIO - received message type Key Advertisement for consensus type Any from 172.31.82.122:60000\\n[2019-02-25 15:44:26.415971 info]: ConsensusNetIO - Added consensus connection RequestBlock 0 local delegate 0 remote delegate 24 global 0 Connection Current\\n[2019-02-25 15:44:26.416000 info]: ConsensusNetIO - Added consensus connection MicroBlock 1 local delegate 0 remote delegate 24 global 0 Connection Current\\n[2019-02-25 15:44:26.416026 info]: ConsensusNetIO - Added consensus connection Epoch 2 local delegate 0 remote delegate 24 global 0 Connection Current\\n[2019-02-25 15:44:26.416065 debug]: ConsensusNetIO - received message type Key Advertisement for consensus type Any from 172.31.94.122:60000\\n[2019-02-25 15:44:26.416558 info]: ConsensusNetIO - Added consensus connection RequestBlock 0 local delegate 0 remote delegate 23 global 0 Connection Current\\n[2019-02-25 15:44:26.416587 info]: ConsensusNetIO - Added consensus connection MicroBlock 1 local delegate 0 remote delegate 23 global 0 Connection Current\\n[2019-02-25 15:44:26.416609 info]: ConsensusNetIO - Added consensus connection Epoch 2 local delegate 0 remote delegate 23 global 0 Connection Current\\n[2019-02-25 15:44:26.416646 debug]: ConsensusNetIO - received message type Key Advertisement for consensus type Any from 172.31.92.242:60000\\n[2019-02-25 15:44:26.417133 info]: ConsensusNetIO - Added consensus connection RequestBlock 0 local delegate 0 remote delegate 27 global 0 Connection Current\\n[2019-02-25 15:44:26.417162 info]: ConsensusNetIO - Added consensus connection MicroBlock 1 local delegate 0 remote delegate 27 global 0 Connection Current\\n[2019-02-25 15:44:26.417186 info]: ConsensusNetIO - Added consensus connection Epoch 2 local delegate 0 remote delegate 27 global 0 Connection Current\\n[2019-02-25 15:44:26.417226 debug]: ConsensusNetIO - received message type Key Advertisement for consensus type Any from 172.31.80.50:60000\\n[2019-02-25 15:44:26.417758 debug]: ConsensusNetIO - received message type Key Advertisement for consensus type Any from 172.31.93.108:60000\\n[2019-02-25 15:44:26.418258 debug]: ConsensusNetIO - received message type Key Advertisement for consensus type Any from 172.31.80.253:60000\\n[2019-02-25 15:44:26.418747 debug]: ConsensusNetIO - received message type Key Advertisement for consensus type Any from 172.31.80.49:60000\\n[2019-02-25 15:44:26.419541 info]: ConsensusNetIO - Connected to 172.31.93.26:60000. Remote delegate id: 17\\n[2019-02-25 15:44:26.419742 info]: ConsensusNetIO - Added consensus connection RequestBlock 0 local delegate 0 remote delegate 29 global 0 Connection Current\\n[2019-02-25 15:44:26.419826 info]: ConsensusNetIO - Added consensus connection MicroBlock 1 local delegate 0 remote delegate 29 global 0 Connection Current\\n[2019-02-25 15:44:26.419858 info]: ConsensusNetIO - Added consensus connection Epoch 2 local delegate 0 remote delegate 29 global 0 Connection Current\\n[2019-02-25 15:44:26.419896 info]: ConsensusNetIO - Added consensus connection RequestBlock 0 local delegate 0 remote delegate 25 global 0 Connection Current\\n[2019-02-25 15:44:26.419924 info]: ConsensusNetIO - Added consensus connection MicroBlock 1 local delegate 0 remote delegate 25 global 0 Connection Current\\n[2019-02-25 15:44:26.419945 info]: ConsensusNetIO - Added consensus connection Epoch 2 local delegate 0 remote delegate 25 global 0 Connection Current\\n[2019-02-25 15:44:26.420022 info]: ConsensusNetIO - Added consensus connection RequestBlock 0 local delegate 0 remote delegate 31 global 0 Connection Current\\n[2019-02-25 15:44:26.420053 info]: ConsensusNetIO - Added consensus connection MicroBlock 1 local delegate 0 remote delegate 31 global 0 Connection Current\\n[2019-02-25 15:44:26.420078 info]: ConsensusNetIO - Added consensus connection Epoch 2 local delegate 0 remote delegate 31 global 0 Connection Current\\n[2019-02-25 15:44:26.420152 info]: ConsensusNetIO - Added consensus connection RequestBlock 0 local delegate 0 remote delegate 21 global 0 Connection Current\\n[2019-02-25 15:44:26.420183 info]: ConsensusNetIO - Added consensus connection MicroBlock 1 local delegate 0 remote delegate 21 global 0 Connection Current\\n[2019-02-25 15:44:26.420207 info]: ConsensusNetIO - Added consensus connection Epoch 2 local delegate 0 remote delegate 21 global 0 Connection Current\\n[2019-02-25 15:44:26.420255 info]: ConsensusNetIO - Added consensus connection RequestBlock 0 local delegate 0 remote delegate 20 global 0 Connection Current\\n[2019-02-25 15:44:26.420286 info]: ConsensusNetIO - Added consensus connection MicroBlock 1 local delegate 0 remote delegate 20 global 0 Connection Current\\n[2019-02-25 15:44:26.420307 info]: ConsensusNetIO - Added consensus connection Epoch 2 local delegate 0 remote delegate 20 global 0 Connection Current\\n[2019-02-25 15:44:26.420355 debug]: ConsensusNetIO - received message type Key Advertisement for consensus type Any from 172.31.93.26:60000\\n[2019-02-25 15:44:26.420883 info]: ConsensusNetIO - Added consensus connection RequestBlock 0 local delegate 0 remote delegate 17 global 0 Connection Current\\n[2019-02-25 15:44:26.420918 info]: ConsensusNetIO - Added consensus connection MicroBlock 1 local delegate 0 remote delegate 17 global 0 Connection Current\\n[2019-02-25 15:44:26.420940 info]: ConsensusNetIO - Added consensus connection Epoch 2 local delegate 0 remote delegate 17 global 0 Connection Current\\n[2019-02-25 15:44:26.420998 info]: ConsensusNetIO - Added consensus connection RequestBlock 0 local delegate 0 remote delegate 18 global 0 Connection Current\\n[2019-02-25 15:44:26.421027 info]: ConsensusNetIO - Added consensus connection MicroBlock 1 local delegate 0 remote delegate 18 global 0 Connection Current\\n[2019-02-25 15:44:26.421048 info]: ConsensusNetIO - Added consensus connection Epoch 2 local delegate 0 remote delegate 18 global 0 Connection Current\\n[2019-02-25 15:44:26.421094 info]: ConsensusNetIO - Added consensus connection RequestBlock 0 local delegate 0 remote delegate 8 global 0 Connection Current\\n[2019-02-25 15:44:26.421141 info]: ConsensusNetIO - Added consensus connection MicroBlock 1 local delegate 0 remote delegate 8 global 0 Connection Current\\n[2019-02-25 15:44:26.421167 info]: ConsensusNetIO - Added consensus connection Epoch 2 local delegate 0 remote delegate 8 global 0 Connection Current\\n[2019-02-25 15:44:33.073772 debug]: ConsensusNetIO - received message type Pre_Prepare for consensus type RequestBlock from 172.31.95.233:60000\\n[2019-02-25 15:44:33.073913 debug]: ConsensusConnection<RequestBlock> - Received Pre_Prepare message from delegate: 28 with block hash BAA223912811F3AA439E66C1D22268B740E40C613BE44DD5B6B359B2760A520C\\n[2019-02-25 15:44:33.104646 debug]: ConsensusNetIO - received message type Post_Prepare for consensus type RequestBlock from 172.31.95.233:60000\\n[2019-02-25 15:44:33.104703 debug]: ConsensusConnection<RequestBlock> - Received Post_Prepare message from delegate: 28 with block hash BAA223912811F3AA439E66C1D22268B740E40C613BE44DD5B6B359B2760A520C\\n[2019-02-25 15:44:33.110932 debug]: OnConsensusMessage<RequestBlock> sent commit\\n[2019-02-25 15:44:33.139858 debug]: ConsensusNetIO - received message type Post_Commit for consensus type RequestBlock from 172.31.95.233:60000\\n[2019-02-25 15:44:33.139915 debug]: ConsensusConnection<RequestBlock> - Received Post_Commit message from delegate: 28 with block hash BAA223912811F3AA439E66C1D22268B740E40C613BE44DD5B6B359B2760A520C\\n[2019-02-25 15:44:33.145892 debug]: PersistenceManager<R>::ApplyUpdates - RequestBlock with 0 Requests\\n[2019-02-25 15:44:33.145940 debug]: PersistenceManager::StoreRequestBlock - BAA223912811F3AA439E66C1D22268B740E40C613BE44DD5B6B359B2760A520C\\n[2019-02-25 15:44:33.149602 debug]: ConsensusP2pOutput<RequestBlock> - message of size 4 and type 0 added to p2p batch to delegate 28\\n[2019-02-25 15:44:33.149630 debug]: ConsensusP2pOutput<RequestBlock> - message of size 203 and type 8 added to p2p batch to delegate 28\\n[2019-02-25 15:44:33.149660 info]: ConsensusP2pOutput<RequestBlock> - p2p batch of size 216 propagated to delegate 28.\\n[2019-02-25 15:44:33.464429 debug]: ConsensusNetIO - received message type Pre_Prepare for consensus type RequestBlock from 172.31.83.2:60000\\n[2019-02-25 15:44:33.464568 debug]: ConsensusConnection<RequestBlock> - Received Pre_Prepare message from delegate: 5 with block hash 9AA14184C5066841DFD46654047077B0622C957B6E0E00CDA0C135CE8095B295\\n[2019-02-25 15:44:33.495023 debug]: ConsensusNetIO - received message type Post_Prepare for consensus type RequestBlock from 172.31.83.2:60000\\n[2019-02-25 15:44:33.495097 debug]: ConsensusConnection<RequestBlock> - Received Post_Prepare message from delegate: 5 with block hash 9AA14184C5066841DFD46654047077B0622C957B6E0E00CDA0C135CE8095B295\\n[2019-02-25 15:44:33.501145 debug]: OnConsensusMessage<RequestBlock> sent commit\\n[2019-02-25 15:44:33.529921 debug]: ConsensusNetIO - received message type Post_Commit for consensus type RequestBlock from 172.31.83.2:60000\\n[2019-02-25 15:44:33.529973 debug]: ConsensusConnection<RequestBlock> - Received Post_Commit message from delegate: 5 with block hash 9AA14184C5066841DFD46654047077B0622C957B6E0E00CDA0C135CE8095B295\\n[2019-02-25 15:44:33.535962 debug]: PersistenceManager<R>::ApplyUpdates - RequestBlock with 0 Requests\\n[2019-02-25 15:44:33.536000 debug]: PersistenceManager::StoreRequestBlock - 9AA14184C5066841DFD46654047077B0622C957B6E0E00CDA0C135CE8095B295\\n[2019-02-25 15:44:33.540501 debug]: ConsensusP2pOutput<RequestBlock> - message of size 4 and type 0 added to p2p batch to delegate 5\\n[2019-02-25 15:44:33.540541 debug]: ConsensusP2pOutput<RequestBlock> - message of size 203 and type 8 added to p2p batch to delegate 5\\n[2019-02-25 15:44:33.540581 info]: ConsensusP2pOutput<RequestBlock> - p2p batch of size 216 propagated to delegate 5.\\n[2019-02-25 15:44:33.598088 debug]: ConsensusNetIO - received message type Pre_Prepare for consensus type RequestBlock from 172.31.85.125:60000\\n[2019-02-25 15:44:33.598160 debug]: ConsensusConnection<RequestBlock> - Received Pre_Prepare message from delegate: 4 with block hash F04652E02876156A0DF9C2E176170C3BE1BFFE0E8E50E5901BD80C2936D670C6\\n[2019-02-25 15:44:33.629024 debug]: ConsensusNetIO - received message type Post_Prepare for consensus type RequestBlock from 172.31.85.125:60000\\n[2019-02-25 15:44:33.629074 debug]: ConsensusConnection<RequestBlock> - Received Post_Prepare message from delegate: 4 with block hash F04652E02876156A0DF9C2E176170C3BE1BFFE0E8E50E5901BD80C2936D670C6\\n[2019-02-25 15:44:33.635172 debug]: OnConsensusMessage<RequestBlock> sent commit\\n[2019-02-25 15:44:33.664304 debug]: ConsensusNetIO - received message type Post_Commit for consensus type RequestBlock from 172.31.85.125:60000\\n[2019-02-25 15:44:33.664348 debug]: ConsensusConnection<RequestBlock> - Received Post_Commit message from delegate: 4 with block hash F04652E02876156A0DF9C2E176170C3BE1BFFE0E8E50E5901BD80C2936D670C6\\n[2019-02-25 15:44:33.670084 debug]: PersistenceManager<R>::ApplyUpdates - RequestBlock with 0 Requests\\n[2019-02-25 15:44:33.670119 debug]: PersistenceManager::StoreRequestBlock - F04652E02876156A0DF9C2E176170C3BE1BFFE0E8E50E5901BD80C2936D670C6\\n[2019-02-25 15:44:33.675348 debug]: ConsensusP2pOutput<RequestBlock> - message of size 4 and type 0 added to p2p batch to delegate 4\\n[2019-02-25 15:44:33.675377 debug]: ConsensusP2pOutput<RequestBlock> - message of size 203 and type 8 added to p2p batch to delegate 4\\n[2019-02-25 15:44:33.675409 info]: ConsensusP2pOutput<RequestBlock> - p2p batch of size 216 propagated to delegate 4.\\n[2019-02-25 15:44:36.227574 debug]: ConsensusNetIO - received message type Pre_Prepare for consensus type RequestBlock from 172.31.83.233:60000\\n[2019-02-25 15:44:36.227690 debug]: ConsensusConnection<RequestBlock> - Received Pre_Prepare message from delegate: 11 with block hash DE806A25877FEE32ADF17FE3068E0337EBAEAD993A3601CAE5ADAA763E17313C\\n[2019-02-25 15:44:36.237070 debug]: ConsensusNetIO - received message type Pre_Prepare for consensus type RequestBlock from 172.31.89.87:60000\\n[2019-02-25 15:44:36.237128 debug]: ConsensusConnection<RequestBlock> - Received Pre_Prepare message from delegate: 6 with block hash F38F72FF336CA0E8CED3112C23D5FCAFA518A050A36AD6F19867C618B5416248\\n[2019-02-25 15:44:36.259000 debug]: ConsensusNetIO - received message type Post_Prepare for consensus type RequestBlock from 172.31.83.233:60000\\n[2019-02-25 15:44:36.259049 debug]: ConsensusConnection<RequestBlock> - Received Post_Prepare message from delegate: 11 with block hash DE806A25877FEE32ADF17FE3068E0337EBAEAD993A3601CAE5ADAA763E17313C\\n[2019-02-25 15:44:36.264896 debug]: OnConsensusMessage<RequestBlock> sent commit\\n[2019-02-25 15:44:36.267355 debug]: ConsensusNetIO - received message type Post_Prepare for consensus type RequestBlock from 172.31.89.87:60000\\n[2019-02-25 15:44:36.267399 debug]: ConsensusConnection<RequestBlock> - Received Post_Prepare message from delegate: 6 with block hash F38F72FF336CA0E8CED3112C23D5FCAFA518A050A36AD6F19867C618B5416248\\n[2019-02-25 15:44:36.273330 debug]: OnConsensusMessage<RequestBlock> sent commit\\n[2019-02-25 15:44:36.299898 debug]: ConsensusNetIO - received message type Post_Commit for consensus type RequestBlock from 172.31.83.233:60000\\n[2019-02-25 15:44:36.299950 debug]: ConsensusConnection<RequestBlock> - Received Post_Commit message from delegate: 11 with block hash DE806A25877FEE32ADF17FE3068E0337EBAEAD993A3601CAE5ADAA763E17313C\\n[2019-02-25 15:44:36.302324 debug]: ConsensusNetIO - received message type Post_Commit for consensus type RequestBlock from 172.31.89.87:60000\\n[2019-02-25 15:44:36.302380 debug]: ConsensusConnection<RequestBlock> - Received Post_Commit message from delegate: 6 with block hash F38F72FF336CA0E8CED3112C23D5FCAFA518A050A36AD6F19867C618B5416248\\n[2019-02-25 15:44:36.307498 debug]: ConsensusNetIO - received message type Pre_Prepare for consensus type RequestBlock from 172.31.89.233:60000\\n[2019-02-25 15:44:36.307559 debug]: ConsensusConnection<RequestBlock> - Received Pre_Prepare message from delegate: 15 with block hash BF5B00DBA6C16867E3F831B0C21BFF3F646C010874AAABBBC24FCB03E535AC20\\n[2019-02-25 15:44:36.312731 debug]: PersistenceManager<R>::ApplyUpdates - RequestBlock with 0 Requests\\n[2019-02-25 15:44:36.312777 debug]: PersistenceManager::StoreRequestBlock - F38F72FF336CA0E8CED3112C23D5FCAFA518A050A36AD6F19867C618B5416248\\n[2019-02-25 15:44:36.312924 debug]: PersistenceManager<R>::ApplyUpdates - RequestBlock with 0 Requests\\n[2019-02-25 15:44:36.314836 debug]: PersistenceManager::StoreRequestBlock - DE806A25877FEE32ADF17FE3068E0337EBAEAD993A3601CAE5ADAA763E17313C\\n[2019-02-25 15:44:36.314941 debug]: ConsensusP2pOutput<RequestBlock> - message of size 4 and type 0 added to p2p batch to delegate 6\\n[2019-02-25 15:44:36.314963 debug]: ConsensusP2pOutput<RequestBlock> - message of size 203 and type 8 added to p2p batch to delegate 6\\n[2019-02-25 15:44:36.314993 info]: ConsensusP2pOutput<RequestBlock> - p2p batch of size 216 propagated to delegate 6.\\n[2019-02-25 15:44:36.316818 debug]: ConsensusP2pOutput<RequestBlock> - message of size 4 and type 0 added to p2p batch to delegate 11\\n[2019-02-25 15:44:36.316847 debug]: ConsensusP2pOutput<RequestBlock> - message of size 203 and type 8 added to p2p batch to delegate 11\\n[2019-02-25 15:44:36.316874 info]: ConsensusP2pOutput<RequestBlock> - p2p batch of size 216 propagated to delegate 11.\\n[2019-02-25 15:44:36.342081 debug]: ConsensusNetIO - received message type Post_Prepare for consensus type RequestBlock from 172.31.89.233:60000\\n[2019-02-25 15:44:36.342148 debug]: ConsensusConnection<RequestBlock> - Received Post_Prepare message from delegate: 15 with block hash BF5B00DBA6C16867E3F831B0C21BFF3F646C010874AAABBBC24FCB03E535AC20\\n[2019-02-25 15:44:36.348175 debug]: OnConsensusMessage<RequestBlock> sent commit\\n[2019-02-25 15:44:36.377186 debug]: ConsensusNetIO - received message type Post_Commit for consensus type RequestBlock from 172.31.89.233:60000\\n[2019-02-25 15:44:36.377241 debug]: ConsensusConnection<RequestBlock> - Received Post_Commit message from delegate: 15 with block hash BF5B00DBA6C16867E3F831B0C21BFF3F646C010874AAABBBC24FCB03E535AC20\\n[2019-02-25 15:44:36.382794 debug]: PersistenceManager<R>::ApplyUpdates - RequestBlock with 0 Requests\\n[2019-02-25 15:44:36.382827 debug]: PersistenceManager::StoreRequestBlock - BF5B00DBA6C16867E3F831B0C21BFF3F646C010874AAABBBC24FCB03E535AC20\\n[2019-02-25 15:44:36.384751 debug]: ConsensusP2pOutput<RequestBlock> - message of size 4 and type 0 added to p2p batch to delegate 15\\n[2019-02-25 15:44:36.384777 debug]: ConsensusP2pOutput<RequestBlock> - message of size 203 and type 8 added to p2p batch to delegate 15\\n[2019-02-25 15:44:36.384808 info]: ConsensusP2pOutput<RequestBlock> - p2p batch of size 216 propagated to delegate 15.\\n[2019-02-25 15:44:36.407601 debug]: ConsensusNetIO - received message type Pre_Prepare for consensus type RequestBlock from 172.31.94.98:60000\\n[2019-02-25 15:44:36.407661 debug]: ConsensusConnection<RequestBlock> - Received Pre_Prepare message from delegate: 7 with block hash A48D82284ED43E340A3117A21C2B3E6CB6FD2E9D9C0DAF1C85DD115BBF4DDC34\\n[2019-02-25 15:44:36.416124 debug]: RequestHandler::PrepareNextBatch requests_size=1\\n[2019-02-25 15:44:36.416182 info]: Initiating RequestBlock consensus.\\n[2019-02-25 15:44:36.416208 debug]: RequestHandler::GetCurrentBatch - batch_size=0\\n[2019-02-25 15:44:36.416233 info]: PrimaryDelegate - Initiating Consensus with PrePrepare hash: AC73FBE055694EC9FE611BDCB8AEFBC1F9A82ECBC85A429F0B257FF275FD4486\\n[2019-02-25 15:44:36.416785 debug]: JSON representation: {\\n    \"delegate\": \"0\",\\n    \"epoch_number\": \"3\",\\n    \"sequence\": \"0\",\\n    \"timestamp\": \"1551109476416\",\\n    \"previous\": \"0000000000000000000000000000000000000000000000000000000000000000\",\\n    \"signature\": \"1b351fed0296d4f49793e39abbcbe8efe106c8f5c476be554ff0b1938260ca06\",\\n    \"type\": \"RequestBlock\",\\n    \"request_count\": \"0\",\\n    \"requests\": \"\",\\n    \"hash\": \"AC73FBE055694EC9FE611BDCB8AEFBC1F9A82ECBC85A429F0B257FF275FD4486\"\\n}\\n\\n[2019-02-25 15:44:36.418556 debug]: ConsensusNetIO - received message type Prepare for consensus type RequestBlock from 172.31.89.87:60000\\n[2019-02-25 15:44:36.418649 debug]: ConsensusConnection<RequestBlock> - Received Prepare message from delegate: 6 with block hash AC73FBE055694EC9FE611BDCB8AEFBC1F9A82ECBC85A429F0B257FF275FD4486\\n[2019-02-25 15:44:36.419803 debug]: PrimaryDelegate::Tally - Tallying for message type Prepare\\n[2019-02-25 15:44:36.419879 debug]: ConsensusNetIO - received message type Prepare for consensus type RequestBlock from 172.31.85.125:60000\\n[2019-02-25 15:44:36.419921 debug]: ConsensusConnection<RequestBlock> - Received Prepare message from delegate: 4 with block hash AC73FBE055694EC9FE611BDCB8AEFBC1F9A82ECBC85A429F0B257FF275FD4486\\n[2019-02-25 15:44:36.420852 debug]: PrimaryDelegate::Tally - Tallying for message type Prepare\\n[2019-02-25 15:44:36.420905 debug]: ConsensusNetIO - received message type Prepare for consensus type RequestBlock from 172.31.92.220:60000\\n[2019-02-25 15:44:36.420942 debug]: ConsensusConnection<RequestBlock> - Received Prepare message from delegate: 1 with block hash AC73FBE055694EC9FE611BDCB8AEFBC1F9A82ECBC85A429F0B257FF275FD4486\\n[2019-02-25 15:44:36.421760 debug]: ConsensusNetIO - received message type Prepare for consensus type RequestBlock from 172.31.82.208:60000\\n[2019-02-25 15:44:36.421800 debug]: ConsensusConnection<RequestBlock> - Received Prepare message from delegate: 2 with block hash AC73FBE055694EC9FE611BDCB8AEFBC1F9A82ECBC85A429F0B257FF275FD4486\\n[2019-02-25 15:44:36.421837 debug]: ConsensusNetIO - received message type Prepare for consensus type RequestBlock from 172.31.83.233:60000\\n[2019-02-25 15:44:36.421870 debug]: ConsensusConnection<RequestBlock> - Received Prepare message from delegate: 11 with block hash AC73FBE055694EC9FE611BDCB8AEFBC1F9A82ECBC85A429F0B257FF275FD4486\\n[2019-02-25 15:44:36.421904 debug]: ConsensusNetIO - received message type Prepare for consensus type RequestBlock from 172.31.83.2:60000\\n[2019-02-25 15:44:36.421936 debug]: ConsensusConnection<RequestBlock> - Received Prepare message from delegate: 5 with block hash AC73FBE055694EC9FE611BDCB8AEFBC1F9A82ECBC85A429F0B257FF275FD4486\\n[2019-02-25 15:44:36.421968 debug]: ConsensusNetIO - received message type Prepare for consensus type RequestBlock from 172.31.95.233:60000\\n[2019-02-25 15:44:36.421998 debug]: ConsensusConnection<RequestBlock> - Received Prepare message from delegate: 28 with block hash AC73FBE055694EC9FE611BDCB8AEFBC1F9A82ECBC85A429F0B257FF275FD4486\\n[2019-02-25 15:44:36.422030 debug]: ConsensusNetIO - received message type Prepare for consensus type RequestBlock from 172.31.82.144:60000\\n[2019-02-25 15:44:36.422061 debug]: ConsensusConnection<RequestBlock> - Received Prepare message from delegate: 10 with block hash AC73FBE055694EC9FE611BDCB8AEFBC1F9A82ECBC85A429F0B257FF275FD4486\\n[2019-02-25 15:44:36.422091 debug]: ConsensusNetIO - received message type Prepare for consensus type RequestBlock from 172.31.93.18:60000\\n[2019-02-25 15:44:36.422121 debug]: ConsensusConnection<RequestBlock> - Received Prepare message from delegate: 3 with block hash AC73FBE055694EC9FE611BDCB8AEFBC1F9A82ECBC85A429F0B257FF275FD4486\\n[2019-02-25 15:44:36.422283 debug]: PrimaryDelegate::Tally - Tallying for message type Prepare\\n[2019-02-25 15:44:36.423221 debug]: PrimaryDelegate::Tally - Tallying for message type Prepare\\n[2019-02-25 15:44:36.423270 debug]: ConsensusNetIO - received message type Prepare for consensus type RequestBlock from 172.31.84.225:60000\\n[2019-02-25 15:44:36.423306 debug]: ConsensusConnection<RequestBlock> - Received Prepare message from delegate: 12 with block hash AC73FBE055694EC9FE611BDCB8AEFBC1F9A82ECBC85A429F0B257FF275FD4486\\n[2019-02-25 15:44:36.424224 debug]: PrimaryDelegate::Tally - Tallying for message type Prepare\\n[2019-02-25 15:44:36.424269 debug]: ConsensusNetIO - received message type Prepare for consensus type RequestBlock from 172.31.88.46:60000\\n[2019-02-25 15:44:36.424304 debug]: ConsensusConnection<RequestBlock> - Received Prepare message from delegate: 13 with block hash AC73FBE055694EC9FE611BDCB8AEFBC1F9A82ECBC85A429F0B257FF275FD4486\\n[2019-02-25 15:44:36.425216 debug]: PrimaryDelegate::Tally - Tallying for message type Prepare\\n[2019-02-25 15:44:36.425259 debug]: ConsensusNetIO - received message type Prepare for consensus type RequestBlock from 172.31.90.45:60000\\n[2019-02-25 15:44:36.425299 debug]: ConsensusConnection<RequestBlock> - Received Prepare message from delegate: 14 with block hash AC73FBE055694EC9FE611BDCB8AEFBC1F9A82ECBC85A429F0B257FF275FD4486\\n[2019-02-25 15:44:36.425765 debug]: ConsensusNetIO - received message type Prepare for consensus type RequestBlock from 172.31.88.76:60000\\n[2019-02-25 15:44:36.425804 debug]: ConsensusConnection<RequestBlock> - Received Prepare message from delegate: 9 with block hash AC73FBE055694EC9FE611BDCB8AEFBC1F9A82ECBC85A429F0B257FF275FD4486\\n[2019-02-25 15:44:36.425840 debug]: ConsensusNetIO - received message type Prepare for consensus type RequestBlock from 172.31.93.205:60000\\n[2019-02-25 15:44:36.425873 debug]: ConsensusConnection<RequestBlock> - Received Prepare message from delegate: 30 with block hash AC73FBE055694EC9FE611BDCB8AEFBC1F9A82ECBC85A429F0B257FF275FD4486\\n[2019-02-25 15:44:36.426388 debug]: PrimaryDelegate::Tally - Tallying for message type Prepare\\n[2019-02-25 15:44:36.427325 debug]: PrimaryDelegate::Tally - Tallying for message type Prepare\\n[2019-02-25 15:44:36.427375 debug]: ConsensusNetIO - received message type Prepare for consensus type RequestBlock from 172.31.87.98:60000\\n[2019-02-25 15:44:36.427411 debug]: ConsensusConnection<RequestBlock> - Received Prepare message from delegate: 26 with block hash AC73FBE055694EC9FE611BDCB8AEFBC1F9A82ECBC85A429F0B257FF275FD4486\\n[2019-02-25 15:44:36.428328 debug]: PrimaryDelegate::Tally - Tallying for message type Prepare\\n[2019-02-25 15:44:36.428375 debug]: ConsensusNetIO - received message type Prepare for consensus type RequestBlock from 172.31.95.248:60000\\n[2019-02-25 15:44:36.428410 debug]: ConsensusConnection<RequestBlock> - Received Prepare message from delegate: 16 with block hash AC73FBE055694EC9FE611BDCB8AEFBC1F9A82ECBC85A429F0B257FF275FD4486\\n[2019-02-25 15:44:36.429354 debug]: PrimaryDelegate::Tally - Tallying for message type Prepare\\n[2019-02-25 15:44:36.430299 debug]: PrimaryDelegate::Tally - Tallying for message type Prepare\\n[2019-02-25 15:44:36.430350 debug]: ConsensusNetIO - received message type Prepare for consensus type RequestBlock from 172.31.86.44:60000\\n[2019-02-25 15:44:36.430386 debug]: ConsensusConnection<RequestBlock> - Received Prepare message from delegate: 19 with block hash AC73FBE055694EC9FE611BDCB8AEFBC1F9A82ECBC85A429F0B257FF275FD4486\\n[2019-02-25 15:44:36.431308 debug]: PrimaryDelegate::Tally - Tallying for message type Prepare\\n[2019-02-25 15:44:36.431354 debug]: ConsensusNetIO - received message type Prepare for consensus type RequestBlock from 172.31.83.181:60000\\n[2019-02-25 15:44:36.431390 debug]: ConsensusConnection<RequestBlock> - Received Prepare message from delegate: 22 with block hash AC73FBE055694EC9FE611BDCB8AEFBC1F9A82ECBC85A429F0B257FF275FD4486\\n[2019-02-25 15:44:36.432303 debug]: PrimaryDelegate::Tally - Tallying for message type Prepare\\n[2019-02-25 15:44:36.432346 debug]: ConsensusNetIO - received message type Prepare for consensus type RequestBlock from 172.31.94.122:60000\\n[2019-02-25 15:44:36.432381 debug]: ConsensusConnection<RequestBlock> - Received Prepare message from delegate: 23 with block hash AC73FBE055694EC9FE611BDCB8AEFBC1F9A82ECBC85A429F0B257FF275FD4486\\n[2019-02-25 15:44:36.433298 debug]: PrimaryDelegate::Tally - Tallying for message type Prepare\\n[2019-02-25 15:44:36.433343 debug]: ConsensusNetIO - received message type Prepare for consensus type RequestBlock from 172.31.82.122:60000\\n[2019-02-25 15:44:36.433378 debug]: ConsensusConnection<RequestBlock> - Received Prepare message from delegate: 24 with block hash AC73FBE055694EC9FE611BDCB8AEFBC1F9A82ECBC85A429F0B257FF275FD4486\\n[2019-02-25 15:44:36.433765 debug]: ConsensusNetIO - received message type Prepare for consensus type RequestBlock from 172.31.80.49:60000\\n[2019-02-25 15:44:36.433809 debug]: ConsensusConnection<RequestBlock> - Received Prepare message from delegate: 21 with block hash AC73FBE055694EC9FE611BDCB8AEFBC1F9A82ECBC85A429F0B257FF275FD4486\\n[2019-02-25 15:44:36.433849 debug]: ConsensusNetIO - received message type Prepare for consensus type RequestBlock from 172.31.92.242:60000\\n[2019-02-25 15:44:36.433888 debug]: ConsensusConnection<RequestBlock> - Received Prepare message from delegate: 27 with block hash AC73FBE055694EC9FE611BDCB8AEFBC1F9A82ECBC85A429F0B257FF275FD4486\\n[2019-02-25 15:44:36.434480 debug]: PrimaryDelegate::Tally - Tallying for message type Prepare\\n[2019-02-25 15:44:36.435420 debug]: PrimaryDelegate::Tally - Tallying for message type Prepare\\n[2019-02-25 15:44:36.435470 debug]: ConsensusNetIO - received message type Prepare for consensus type RequestBlock from 172.31.93.108:60000\\n[2019-02-25 15:44:36.435506 debug]: ConsensusConnection<RequestBlock> - Received Prepare message from delegate: 25 with block hash AC73FBE055694EC9FE611BDCB8AEFBC1F9A82ECBC85A429F0B257FF275FD4486\\n[2019-02-25 15:44:36.436422 debug]: PrimaryDelegate::Tally - Tallying for message type Prepare\\n[2019-02-25 15:44:36.436467 debug]: ConsensusNetIO - received message type Prepare for consensus type RequestBlock from 172.31.93.26:60000\\n[2019-02-25 15:44:36.436502 debug]: ConsensusConnection<RequestBlock> - Received Prepare message from delegate: 17 with block hash AC73FBE055694EC9FE611BDCB8AEFBC1F9A82ECBC85A429F0B257FF275FD4486\\n[2019-02-25 15:44:36.437437 debug]: PrimaryDelegate::Tally - Tallying for message type Prepare\\n[2019-02-25 15:44:36.437481 debug]: ConsensusNetIO - received message type Prepare for consensus type RequestBlock from 172.31.80.50:60000\\n[2019-02-25 15:44:36.437515 debug]: ConsensusConnection<RequestBlock> - Received Prepare message from delegate: 29 with block hash AC73FBE055694EC9FE611BDCB8AEFBC1F9A82ECBC85A429F0B257FF275FD4486\\n[2019-02-25 15:44:36.437765 debug]: ConsensusNetIO - received message type Prepare for consensus type RequestBlock from 172.31.92.101:60000\\n[2019-02-25 15:44:36.437804 debug]: ConsensusConnection<RequestBlock> - Received Prepare message from delegate: 20 with block hash AC73FBE055694EC9FE611BDCB8AEFBC1F9A82ECBC85A429F0B257FF275FD4486\\n[2019-02-25 15:44:36.438538 debug]: PrimaryDelegate::Tally - Tallying for message type Prepare\\n[2019-02-25 15:44:36.439496 debug]: PrimaryDelegate::Tally - Tallying for message type Prepare\\n[2019-02-25 15:44:36.439548 debug]: ConsensusNetIO - received message type Prepare for consensus type RequestBlock from 172.31.95.206:60000\\n[2019-02-25 15:44:36.439584 debug]: ConsensusConnection<RequestBlock> - Received Prepare message from delegate: 8 with block hash AC73FBE055694EC9FE611BDCB8AEFBC1F9A82ECBC85A429F0B257FF275FD4486\\n[2019-02-25 15:44:36.440520 debug]: PrimaryDelegate::Tally - Tallying for message type Prepare\\n[2019-02-25 15:44:36.441768 debug]: ConsensusNetIO - received message type Prepare for consensus type RequestBlock from 172.31.80.253:60000\\n[2019-02-25 15:44:36.441819 debug]: ConsensusConnection<RequestBlock> - Received Prepare message from delegate: 31 with block hash AC73FBE055694EC9FE611BDCB8AEFBC1F9A82ECBC85A429F0B257FF275FD4486\\n[2019-02-25 15:44:36.447552 info]: PrimaryDelegate - Disregarding message: Received Prepare message while in Pre Prepare (state already changing)\\n[2019-02-25 15:44:36.447606 debug]: ConsensusNetIO - received message type Prepare for consensus type RequestBlock from 172.31.92.205:60000\\n[2019-02-25 15:44:36.447647 debug]: ConsensusConnection<RequestBlock> - Received Prepare message from delegate: 18 with block hash AC73FBE055694EC9FE611BDCB8AEFBC1F9A82ECBC85A429F0B257FF275FD4486\\n[2019-02-25 15:44:36.447662 info]: PrimaryDelegate - Disregarding message: Received Prepare message while in Pre Prepare (state already changing)\\n[2019-02-25 15:44:36.447697 debug]: ConsensusNetIO - received message type Prepare for consensus type RequestBlock from 172.31.94.98:60000\\n[2019-02-25 15:44:36.447729 debug]: ConsensusConnection<RequestBlock> - Received Prepare message from delegate: 7 with block hash AC73FBE055694EC9FE611BDCB8AEFBC1F9A82ECBC85A429F0B257FF275FD4486\\n[2019-02-25 15:44:36.447742 info]: PrimaryDelegate - Disregarding message: Received Prepare message while in Pre Prepare (state already changing)\\n[2019-02-25 15:44:36.447766 info]: PrimaryDelegate - Disregarding message: Received Prepare message while in Pre Prepare (state already changing)\\n[2019-02-25 15:44:36.447801 info]: PrimaryDelegate - Disregarding message: Received Prepare message while in Pre Prepare (state already changing)\\n[2019-02-25 15:44:36.447831 info]: PrimaryDelegate - Disregarding message: Received Prepare message while in Pre Prepare (state already changing)\\n[2019-02-25 15:44:36.447859 info]: PrimaryDelegate - Disregarding message: Received Prepare message while in Pre Prepare (state already changing)\\n[2019-02-25 15:44:36.447887 info]: PrimaryDelegate - Disregarding message: Received Prepare message while in Pre Prepare (state already changing)\\n[2019-02-25 15:44:36.447916 info]: PrimaryDelegate - Disregarding message: Received Prepare message while in Pre Prepare (state already changing)\\n[2019-02-25 15:44:36.447951 debug]: PostPrepare (RequestBlock) timeout either expired or canceled. Error code: Operation canceled\\n[2019-02-25 15:44:36.447974 debug]: PrimaryDelegate::CancelTimer - Primary timer canceled. \\n[2019-02-25 15:44:36.448648 debug]: ConsensusNetIO - received message type Post_Prepare for consensus type RequestBlock from 172.31.94.98:60000\\n[2019-02-25 15:44:36.448689 debug]: ConsensusConnection<RequestBlock> - Received Post_Prepare message from delegate: 7 with block hash A48D82284ED43E340A3117A21C2B3E6CB6FD2E9D9C0DAF1C85DD115BBF4DDC34\\n[2019-02-25 15:44:36.454438 debug]: ConsensusNetIO - received message type Commit for consensus type RequestBlock from 172.31.82.208:60000\\n[2019-02-25 15:44:36.454486 debug]: ConsensusConnection<RequestBlock> - Received Commit message from delegate: 2 with block hash AC73FBE055694EC9FE611BDCB8AEFBC1F9A82ECBC85A429F0B257FF275FD4486\\n[2019-02-25 15:44:36.455505 debug]: PrimaryDelegate::Tally - Tallying for message type Commit\\n[2019-02-25 15:44:36.455568 debug]: ConsensusNetIO - received message type Commit for consensus type RequestBlock from 172.31.88.46:60000\\n[2019-02-25 15:44:36.455607 debug]: ConsensusConnection<RequestBlock> - Received Commit message from delegate: 13 with block hash AC73FBE055694EC9FE611BDCB8AEFBC1F9A82ECBC85A429F0B257FF275FD4486\\n[2019-02-25 15:44:36.456516 debug]: ConsensusNetIO - received message type Commit for consensus type RequestBlock from 172.31.92.220:60000\\n[2019-02-25 15:44:36.456576 debug]: ConsensusConnection<RequestBlock> - Received Commit message from delegate: 1 with block hash AC73FBE055694EC9FE611BDCB8AEFBC1F9A82ECBC85A429F0B257FF275FD4486\\n[2019-02-25 15:44:36.456618 debug]: ConsensusNetIO - received message type Commit for consensus type RequestBlock from 172.31.95.233:60000\\n[2019-02-25 15:44:36.456652 debug]: ConsensusConnection<RequestBlock> - Received Commit message from delegate: 28 with block hash AC73FBE055694EC9FE611BDCB8AEFBC1F9A82ECBC85A429F0B257FF275FD4486\\n[2019-02-25 15:44:36.456697 debug]: ConsensusNetIO - received message type Commit for consensus type RequestBlock from 172.31.85.125:60000\\n[2019-02-25 15:44:36.456730 debug]: ConsensusConnection<RequestBlock> - Received Commit message from delegate: 4 with block hash AC73FBE055694EC9FE611BDCB8AEFBC1F9A82ECBC85A429F0B257FF275FD4486\\n[2019-02-25 15:44:36.456762 debug]: ConsensusNetIO - received message type Commit for consensus type RequestBlock from 172.31.90.45:60000\\n[2019-02-25 15:44:36.456792 debug]: ConsensusConnection<RequestBlock> - Received Commit message from delegate: 14 with block hash AC73FBE055694EC9FE611BDCB8AEFBC1F9A82ECBC85A429F0B257FF275FD4486\\n[2019-02-25 15:44:36.456824 debug]: ConsensusNetIO - received message type Commit for consensus type RequestBlock from 172.31.82.144:60000\\n[2019-02-25 15:44:36.456854 debug]: ConsensusConnection<RequestBlock> - Received Commit message from delegate: 10 with block hash AC73FBE055694EC9FE611BDCB8AEFBC1F9A82ECBC85A429F0B257FF275FD4486\\n[2019-02-25 15:44:36.456980 debug]: PrimaryDelegate::Tally - Tallying for message type Commit\\n[2019-02-25 15:44:36.457022 debug]: ConsensusNetIO - received message type Commit for consensus type RequestBlock from 172.31.93.18:60000\\n[2019-02-25 15:44:36.457055 debug]: ConsensusConnection<RequestBlock> - Received Commit message from delegate: 3 with block hash AC73FBE055694EC9FE611BDCB8AEFBC1F9A82ECBC85A429F0B257FF275FD4486\\n[2019-02-25 15:44:36.457769 debug]: ConsensusNetIO - received message type Commit for consensus type RequestBlock from 172.31.89.87:60000\\n[2019-02-25 15:44:36.457808 debug]: ConsensusConnection<RequestBlock> - Received Commit message from delegate: 6 with block hash AC73FBE055694EC9FE611BDCB8AEFBC1F9A82ECBC85A429F0B257FF275FD4486\\n[2019-02-25 15:44:36.458096 debug]: PrimaryDelegate::Tally - Tallying for message type Commit\\n[2019-02-25 15:44:36.459060 debug]: PrimaryDelegate::Tally - Tallying for message type Commit\\n[2019-02-25 15:44:36.459129 debug]: ConsensusNetIO - received message type Commit for consensus type RequestBlock from 172.31.93.205:60000\\n[2019-02-25 15:44:36.459183 debug]: ConsensusConnection<RequestBlock> - Received Commit message from delegate: 30 with block hash AC73FBE055694EC9FE611BDCB8AEFBC1F9A82ECBC85A429F0B257FF275FD4486\\n[2019-02-25 15:44:36.460173 debug]: PrimaryDelegate::Tally - Tallying for message type Commit\\n[2019-02-25 15:44:36.460220 debug]: ConsensusNetIO - received message type Commit for consensus type RequestBlock from 172.31.88.76:60000\\n[2019-02-25 15:44:36.460255 debug]: ConsensusConnection<RequestBlock> - Received Commit message from delegate: 9 with block hash AC73FBE055694EC9FE611BDCB8AEFBC1F9A82ECBC85A429F0B257FF275FD4486\\n[2019-02-25 15:44:36.461193 debug]: PrimaryDelegate::Tally - Tallying for message type Commit\\n[2019-02-25 15:44:36.461236 debug]: ConsensusNetIO - received message type Commit for consensus type RequestBlock from 172.31.84.225:60000\\n[2019-02-25 15:44:36.461270 debug]: ConsensusConnection<RequestBlock> - Received Commit message from delegate: 12 with block hash AC73FBE055694EC9FE611BDCB8AEFBC1F9A82ECBC85A429F0B257FF275FD4486\\n[2019-02-25 15:44:36.461774 debug]: ConsensusNetIO - received message type Commit for consensus type RequestBlock from 172.31.83.233:60000\\n[2019-02-25 15:44:36.461813 debug]: ConsensusConnection<RequestBlock> - Received Commit message from delegate: 11 with block hash AC73FBE055694EC9FE611BDCB8AEFBC1F9A82ECBC85A429F0B257FF275FD4486\\n[2019-02-25 15:44:36.462421 debug]: OnConsensusMessage<RequestBlock> sent commit\\n[2019-02-25 15:44:36.462473 debug]: ConsensusNetIO - received message type Commit for consensus type RequestBlock from 172.31.86.44:60000\\n[2019-02-25 15:44:36.462510 debug]: ConsensusConnection<RequestBlock> - Received Commit message from delegate: 19 with block hash AC73FBE055694EC9FE611BDCB8AEFBC1F9A82ECBC85A429F0B257FF275FD4486\\n[2019-02-25 15:44:36.463032 debug]: PrimaryDelegate::Tally - Tallying for message type Commit\\n[2019-02-25 15:44:36.463945 debug]: PrimaryDelegate::Tally - Tallying for message type Commit\\n[2019-02-25 15:44:36.463989 debug]: ConsensusNetIO - received message type Commit for consensus type RequestBlock from 172.31.83.2:60000\\n[2019-02-25 15:44:36.464022 debug]: ConsensusConnection<RequestBlock> - Received Commit message from delegate: 5 with block hash AC73FBE055694EC9FE611BDCB8AEFBC1F9A82ECBC85A429F0B257FF275FD4486\\n[2019-02-25 15:44:36.464940 debug]: PrimaryDelegate::Tally - Tallying for message type Commit\\n[2019-02-25 15:44:36.464991 debug]: ConsensusNetIO - received message type Commit for consensus type RequestBlock from 172.31.87.98:60000\\n[2019-02-25 15:44:36.465026 debug]: ConsensusConnection<RequestBlock> - Received Commit message from delegate: 26 with block hash AC73FBE055694EC9FE611BDCB8AEFBC1F9A82ECBC85A429F0B257FF275FD4486\\n[2019-02-25 15:44:36.465963 debug]: PrimaryDelegate::Tally - Tallying for message type Commit\\n[2019-02-25 15:44:36.466846 debug]: PrimaryDelegate::Tally - Tallying for message type Commit\\n[2019-02-25 15:44:36.466894 debug]: ConsensusNetIO - received message type Commit for consensus type RequestBlock from 172.31.80.253:60000\\n[2019-02-25 15:44:36.466931 debug]: ConsensusConnection<RequestBlock> - Received Commit message from delegate: 31 with block hash AC73FBE055694EC9FE611BDCB8AEFBC1F9A82ECBC85A429F0B257FF275FD4486\\n[2019-02-25 15:44:36.467863 debug]: PrimaryDelegate::Tally - Tallying for message type Commit\\n[2019-02-25 15:44:36.467909 debug]: ConsensusNetIO - received message type Commit for consensus type RequestBlock from 172.31.95.248:60000\\n[2019-02-25 15:44:36.467942 debug]: ConsensusConnection<RequestBlock> - Received Commit message from delegate: 16 with block hash AC73FBE055694EC9FE611BDCB8AEFBC1F9A82ECBC85A429F0B257FF275FD4486\\n[2019-02-25 15:44:36.468901 debug]: PrimaryDelegate::Tally - Tallying for message type Commit\\n[2019-02-25 15:44:36.468941 debug]: ConsensusNetIO - received message type Commit for consensus type RequestBlock from 172.31.83.181:60000\\n[2019-02-25 15:44:36.468973 debug]: ConsensusConnection<RequestBlock> - Received Commit message from delegate: 22 with block hash AC73FBE055694EC9FE611BDCB8AEFBC1F9A82ECBC85A429F0B257FF275FD4486\\n[2019-02-25 15:44:36.469764 debug]: ConsensusNetIO - received message type Commit for consensus type RequestBlock from 172.31.92.205:60000\\n[2019-02-25 15:44:36.469801 debug]: ConsensusConnection<RequestBlock> - Received Commit message from delegate: 18 with block hash AC73FBE055694EC9FE611BDCB8AEFBC1F9A82ECBC85A429F0B257FF275FD4486\\n[2019-02-25 15:44:36.469844 debug]: ConsensusNetIO - received message type Commit for consensus type RequestBlock from 172.31.94.122:60000\\n[2019-02-25 15:44:36.469876 debug]: ConsensusConnection<RequestBlock> - Received Commit message from delegate: 23 with block hash AC73FBE055694EC9FE611BDCB8AEFBC1F9A82ECBC85A429F0B257FF275FD4486\\n[2019-02-25 15:44:36.470090 debug]: PrimaryDelegate::Tally - Tallying for message type Commit\\n[2019-02-25 15:44:36.471009 debug]: PrimaryDelegate::Tally - Tallying for message type Commit\\n[2019-02-25 15:44:36.471068 debug]: ConsensusNetIO - received message type Commit for consensus type RequestBlock from 172.31.80.49:60000\\n[2019-02-25 15:44:36.471108 debug]: ConsensusConnection<RequestBlock> - Received Commit message from delegate: 21 with block hash AC73FBE055694EC9FE611BDCB8AEFBC1F9A82ECBC85A429F0B257FF275FD4486\\n[2019-02-25 15:44:36.472075 debug]: PrimaryDelegate::Tally - Tallying for message type Commit\\n[2019-02-25 15:44:36.472118 debug]: ConsensusNetIO - received message type Commit for consensus type RequestBlock from 172.31.93.26:60000\\n[2019-02-25 15:44:36.472151 debug]: ConsensusConnection<RequestBlock> - Received Commit message from delegate: 17 with block hash AC73FBE055694EC9FE611BDCB8AEFBC1F9A82ECBC85A429F0B257FF275FD4486\\n[2019-02-25 15:44:36.473159 debug]: PrimaryDelegate::Tally - Tallying for message type Commit\\n[2019-02-25 15:44:36.473202 debug]: ConsensusNetIO - received message type Commit for consensus type RequestBlock from 172.31.93.108:60000\\n[2019-02-25 15:44:36.473235 debug]: ConsensusConnection<RequestBlock> - Received Commit message from delegate: 25 with block hash AC73FBE055694EC9FE611BDCB8AEFBC1F9A82ECBC85A429F0B257FF275FD4486\\n[2019-02-25 15:44:36.473764 debug]: ConsensusNetIO - received message type Commit for consensus type RequestBlock from 172.31.92.101:60000\\n[2019-02-25 15:44:36.473803 debug]: ConsensusConnection<RequestBlock> - Received Commit message from delegate: 20 with block hash AC73FBE055694EC9FE611BDCB8AEFBC1F9A82ECBC85A429F0B257FF275FD4486\\n[2019-02-25 15:44:36.474284 debug]: PrimaryDelegate::Tally - Tallying for message type Commit\\n[2019-02-25 15:44:36.475299 debug]: PrimaryDelegate::Tally - Tallying for message type Commit\\n[2019-02-25 15:44:36.476212 debug]: PrimaryDelegate::Tally - Tallying for message type Commit\\n[2019-02-25 15:44:36.476284 debug]: ConsensusNetIO - received message type Commit for consensus type RequestBlock from 172.31.95.206:60000\\n[2019-02-25 15:44:36.476318 debug]: ConsensusConnection<RequestBlock> - Received Commit message from delegate: 8 with block hash AC73FBE055694EC9FE611BDCB8AEFBC1F9A82ECBC85A429F0B257FF275FD4486\\n[2019-02-25 15:44:36.477323 debug]: PrimaryDelegate::Tally - Tallying for message type Commit\\n[2019-02-25 15:44:36.481764 debug]: ConsensusNetIO - received message type Commit for consensus type RequestBlock from 172.31.82.122:60000\\n[2019-02-25 15:44:36.481803 debug]: ConsensusConnection<RequestBlock> - Received Commit message from delegate: 24 with block hash AC73FBE055694EC9FE611BDCB8AEFBC1F9A82ECBC85A429F0B257FF275FD4486\\n[2019-02-25 15:44:36.481848 debug]: ConsensusNetIO - received message type Commit for consensus type RequestBlock from 172.31.80.50:60000\\n[2019-02-25 15:44:36.481880 debug]: ConsensusConnection<RequestBlock> - Received Commit message from delegate: 29 with block hash AC73FBE055694EC9FE611BDCB8AEFBC1F9A82ECBC85A429F0B257FF275FD4486\\n[2019-02-25 15:44:36.484304 info]: PrimaryDelegate - Disregarding message: Received Commit message while in Post Prepare (state already changing)\\n[2019-02-25 15:44:36.484347 debug]: ConsensusNetIO - received message type Commit for consensus type RequestBlock from 172.31.92.242:60000\\n[2019-02-25 15:44:36.484379 debug]: ConsensusConnection<RequestBlock> - Received Commit message from delegate: 27 with block hash AC73FBE055694EC9FE611BDCB8AEFBC1F9A82ECBC85A429F0B257FF275FD4486\\n[2019-02-25 15:44:36.484391 info]: PrimaryDelegate - Disregarding message: Received Commit message while in Post Prepare (state already changing)\\n[2019-02-25 15:44:36.484420 debug]: ConsensusNetIO - received message type Post_Commit for consensus type RequestBlock from 172.31.94.98:60000\\n[2019-02-25 15:44:36.484448 debug]: ConsensusConnection<RequestBlock> - Received Post_Commit message from delegate: 7 with block hash A48D82284ED43E340A3117A21C2B3E6CB6FD2E9D9C0DAF1C85DD115BBF4DDC34\\n[2019-02-25 15:44:36.489735 info]: PrimaryDelegate - Disregarding message: Received Commit message while in Post Prepare (state already changing)\\n[2019-02-25 15:44:36.489803 debug]: ConsensusNetIO - received message type Prepare for consensus type RequestBlock from 172.31.89.233:60000\\n[2019-02-25 15:44:36.489839 debug]: ConsensusConnection<RequestBlock> - Received Prepare message from delegate: 15 with block hash AC73FBE055694EC9FE611BDCB8AEFBC1F9A82ECBC85A429F0B257FF275FD4486\\n[2019-02-25 15:44:36.489852 info]: PrimaryDelegate - Disregarding message: Received Prepare message while in Post Prepare (state already changing)\\n[2019-02-25 15:44:36.489889 info]: PrimaryDelegate - Disregarding message: Received Commit message while in Post Prepare (state already changing)\\n[2019-02-25 15:44:36.489916 info]: PrimaryDelegate - Disregarding message: Received Commit message while in Post Prepare (state already changing)\\n[2019-02-25 15:44:36.489942 info]: PrimaryDelegate - Disregarding message: Received Commit message while in Post Prepare (state already changing)\\n[2019-02-25 15:44:36.489967 info]: PrimaryDelegate - Disregarding message: Received Commit message while in Post Prepare (state already changing)\\n[2019-02-25 15:44:36.489993 info]: PrimaryDelegate - Disregarding message: Received Commit message while in Post Prepare (state already changing)\\n[2019-02-25 15:44:36.490025 debug]: PostPrepare (RequestBlock) timeout either expired or canceled. Error code: Operation canceled\\n[2019-02-25 15:44:36.490046 debug]: PrimaryDelegate::CancelTimer - Primary timer canceled. \\n[2019-02-25 15:44:36.491008 debug]: RequestHandler::GetCurrentBatch - batch_size=0\\n[2019-02-25 15:44:36.491045 debug]: PersistenceManager<R>::ApplyUpdates - RequestBlock with 0 Requests\\n[2019-02-25 15:44:36.491070 debug]: PersistenceManager::StoreRequestBlock - AC73FBE055694EC9FE611BDCB8AEFBC1F9A82ECBC85A429F0B257FF275FD4486\\n[2019-02-25 15:44:36.491583 debug]: PersistenceManager<R>::ApplyUpdates - RequestBlock with 0 Requests\\n[2019-02-25 15:44:36.492796 debug]: RequestHandler::GetCurrentBatch - batch_size=0\\n[2019-02-25 15:44:36.492818 debug]: ConsensusManager<RequestBlock> - Stored 0 blocks.\\n[2019-02-25 15:44:36.492853 debug]: ConsensusP2pOutput<RequestBlock> - message of size 4 and type 0 added to p2p batch to delegate 0\\n[2019-02-25 15:44:36.492877 debug]: ConsensusP2pOutput<RequestBlock> - message of size 203 and type 8 added to p2p batch to delegate 0\\n[2019-02-25 15:44:36.492906 info]: ConsensusP2pOutput<RequestBlock> - p2p batch of size 216 propagated to delegate 0.\\n[2019-02-25 15:44:36.492929 debug]: RequestConsensusManager::OnConsensusReached _sequence=1\\n[2019-02-25 15:44:36.492970 debug]: PersistenceManager::StoreRequestBlock - A48D82284ED43E340A3117A21C2B3E6CB6FD2E9D9C0DAF1C85DD115BBF4DDC34\\n[2019-02-25 15:44:36.494634 debug]: ConsensusP2pOutput<RequestBlock> - message of size 4 and type 0 added to p2p batch to delegate 7\\n[2019-02-25 15:44:36.494671 debug]: ConsensusP2pOutput<RequestBlock> - message of size 203 and type 8 added to p2p batch to delegate 7\\n[2019-02-25 15:44:36.494710 info]: ConsensusP2pOutput<RequestBlock> - p2p batch of size 216 propagated to delegate 7.\\n[2019-02-25 15:44:36.494757 debug]: ConsensusNetIO - received message type Commit for consensus type RequestBlock from 172.31.94.98:60000\\n[2019-02-25 15:44:36.494794 debug]: ConsensusConnection<RequestBlock> - Received Commit message from delegate: 7 with block hash AC73FBE055694EC9FE611BDCB8AEFBC1F9A82ECBC85A429F0B257FF275FD4486\\n[2019-02-25 15:44:36.494808 info]: PrimaryDelegate - Disregarding message: Received Commit message while in Post Commit\\n[2019-02-25 15:44:36.500775 debug]: ConsensusNetIO - received message type Commit for consensus type RequestBlock from 172.31.89.233:60000\\n[2019-02-25 15:44:36.500816 debug]: ConsensusConnection<RequestBlock> - Received Commit message from delegate: 15 with block hash AC73FBE055694EC9FE611BDCB8AEFBC1F9A82ECBC85A429F0B257FF275FD4486\\n[2019-02-25 15:44:36.500830 info]: PrimaryDelegate - Disregarding message: Received Commit message while in Post Commit\\n[2019-02-25 15:44:36.546530 debug]: ConsensusNetIO - received message type Pre_Prepare for consensus type RequestBlock from 172.31.83.181:60000\\n[2019-02-25 15:44:36.546662 debug]: ConsensusConnection<RequestBlock> - Received Pre_Prepare message from delegate: 22 with block hash 4F18F9F4D34F031B37049AA3D2660424048159E511397AA40773F1D4C84AD051\\n[2019-02-25 15:44:36.553847 debug]: ConsensusNetIO - received message type Pre_Prepare for consensus type RequestBlock from 172.31.95.206:60000\\n[2019-02-25 15:44:36.553905 debug]: ConsensusConnection<RequestBlock> - Received Pre_Prepare message from delegate: 8 with block hash 4A1B717CF7FCB9D266668413B41CB2BFCC2801A746044F814F29097BCB860CC7\\n[2019-02-25 15:44:36.577376 debug]: ConsensusNetIO - received message type Pre_Prepare for consensus type RequestBlock from 172.31.90.45:60000\\n[2019-02-25 15:44:36.577432 debug]: ConsensusConnection<RequestBlock> - Received Pre_Prepare message from delegate: 14 with block hash 89D1BE2888E74FD2D3C4E7A506CB05E340AF12A0D599CB9068F14BA21018A63E\\n[2019-02-25 15:44:36.577909 debug]: ConsensusNetIO - received message type Post_Prepare for consensus type RequestBlock from 172.31.83.181:60000\\n[2019-02-25 15:44:36.577951 debug]: ConsensusConnection<RequestBlock> - Received Post_Prepare message from delegate: 22 with block hash 4F18F9F4D34F031B37049AA3D2660424048159E511397AA40773F1D4C84AD051\\n[2019-02-25 15:44:36.584555 debug]: OnConsensusMessage<RequestBlock> sent commit\\n[2019-02-25 15:44:36.585062 debug]: ConsensusNetIO - received message type Post_Prepare for consensus type RequestBlock from 172.31.95.206:60000\\n[2019-02-25 15:44:36.585151 debug]: ConsensusConnection<RequestBlock> - Received Post_Prepare message from delegate: 8 with block hash 4A1B717CF7FCB9D266668413B41CB2BFCC2801A746044F814F29097BCB860CC7\\n[2019-02-25 15:44:36.591130 debug]: OnConsensusMessage<RequestBlock> sent commit\\n[2019-02-25 15:44:36.592098 debug]: ConsensusNetIO - received message type Pre_Prepare for consensus type RequestBlock from 172.31.93.26:60000\\n[2019-02-25 15:44:36.592162 debug]: ConsensusConnection<RequestBlock> - Received Pre_Prepare message from delegate: 17 with block hash 81779482F88F81455FE6E4F9894EDA2F84B9FB75E2E3066C8BC039A63BC38350\\n[2019-02-25 15:44:36.615111 debug]: ConsensusNetIO - received message type Post_Prepare for consensus type RequestBlock from 172.31.90.45:60000\\n[2019-02-25 15:44:36.615162 debug]: ConsensusConnection<RequestBlock> - Received Post_Prepare message from delegate: 14 with block hash 89D1BE2888E74FD2D3C4E7A506CB05E340AF12A0D599CB9068F14BA21018A63E\\n[2019-02-25 15:44:36.621390 debug]: OnConsensusMessage<RequestBlock> sent commit\\n[2019-02-25 15:44:36.621476 debug]: ConsensusNetIO - received message type Post_Prepare for consensus type RequestBlock from 172.31.93.26:60000\\n[2019-02-25 15:44:36.621518 debug]: ConsensusConnection<RequestBlock> - Received Post_Prepare message from delegate: 17 with block hash 81779482F88F81455FE6E4F9894EDA2F84B9FB75E2E3066C8BC039A63BC38350\\n[2019-02-25 15:44:36.625780 debug]: ConsensusNetIO - received message type Post_Commit for consensus type RequestBlock from 172.31.83.181:60000\\n[2019-02-25 15:44:36.625820 debug]: ConsensusConnection<RequestBlock> - Received Post_Commit message from delegate: 22 with block hash 4F18F9F4D34F031B37049AA3D2660424048159E511397AA40773F1D4C84AD051\\n[2019-02-25 15:44:36.629510 debug]: ConsensusNetIO - received message type Post_Commit for consensus type RequestBlock from 172.31.95.206:60000\\n[2019-02-25 15:44:36.629549 debug]: ConsensusConnection<RequestBlock> - Received Post_Commit message from delegate: 8 with block hash 4A1B717CF7FCB9D266668413B41CB2BFCC2801A746044F814F29097BCB860CC7\\n[2019-02-25 15:44:36.638904 debug]: PersistenceManager<R>::ApplyUpdates - RequestBlock with 0 Requests\\n[2019-02-25 15:44:36.638939 debug]: PersistenceManager::StoreRequestBlock - 4A1B717CF7FCB9D266668413B41CB2BFCC2801A746044F814F29097BCB860CC7\\n[2019-02-25 15:44:36.639071 debug]: PersistenceManager<R>::ApplyUpdates - RequestBlock with 0 Requests\\n[2019-02-25 15:44:36.639105 debug]: OnConsensusMessage<RequestBlock> sent commit\\n[2019-02-25 15:44:36.640791 debug]: PersistenceManager::StoreRequestBlock - 4F18F9F4D34F031B37049AA3D2660424048159E511397AA40773F1D4C84AD051\\n[2019-02-25 15:44:36.640891 debug]: ConsensusP2pOutput<RequestBlock> - message of size 4 and type 0 added to p2p batch to delegate 8\\n[2019-02-25 15:44:36.640913 debug]: ConsensusP2pOutput<RequestBlock> - message of size 203 and type 8 added to p2p batch to delegate 8\\n[2019-02-25 15:44:36.640955 info]: ConsensusP2pOutput<RequestBlock> - p2p batch of size 216 propagated to delegate 8.\\n[2019-02-25 15:44:36.642452 debug]: ConsensusP2pOutput<RequestBlock> - message of size 4 and type 0 added to p2p batch to delegate 22\\n[2019-02-25 15:44:36.642476 debug]: ConsensusP2pOutput<RequestBlock> - message of size 203 and type 8 added to p2p batch to delegate 22\\n[2019-02-25 15:44:36.642508 info]: ConsensusP2pOutput<RequestBlock> - p2p batch of size 216 propagated to delegate 22.\\n[2019-02-25 15:44:36.651492 debug]: ConsensusNetIO - received message type Pre_Prepare for consensus type RequestBlock from 172.31.94.122:60000\\n[2019-02-25 15:44:36.651598 debug]: ConsensusConnection<RequestBlock> - Received Pre_Prepare message from delegate: 23 with block hash 1BB385F031A455D16D4600EE45C721976B61FD05CF1E2B29AFD66AA55FE927CD\\n[2019-02-25 15:44:36.668021 debug]: ConsensusNetIO - received message type Post_Commit for consensus type RequestBlock from 172.31.93.26:60000\\n[2019-02-25 15:44:36.668064 debug]: ConsensusConnection<RequestBlock> - Received Post_Commit message from delegate: 17 with block hash 81779482F88F81455FE6E4F9894EDA2F84B9FB75E2E3066C8BC039A63BC38350\\n[2019-02-25 15:44:36.673602 debug]: ConsensusNetIO - received message type Post_Commit for consensus type RequestBlock from 172.31.90.45:60000\\n[2019-02-25 15:44:36.673646 debug]: ConsensusConnection<RequestBlock> - Received Post_Commit message from delegate: 14 with block hash 89D1BE2888E74FD2D3C4E7A506CB05E340AF12A0D599CB9068F14BA21018A63E\\n[2019-02-25 15:44:36.679279 debug]: PersistenceManager<R>::ApplyUpdates - RequestBlock with 0 Requests\\n[2019-02-25 15:44:36.679313 debug]: PersistenceManager::StoreRequestBlock - 81779482F88F81455FE6E4F9894EDA2F84B9FB75E2E3066C8BC039A63BC38350\\n[2019-02-25 15:44:36.679433 debug]: PersistenceManager<R>::ApplyUpdates - RequestBlock with 0 Requests\\n[2019-02-25 15:44:36.681233 debug]: ConsensusP2pOutput<RequestBlock> - message of size 4 and type 0 added to p2p batch to delegate 17\\n[2019-02-25 15:44:36.681266 debug]: ConsensusP2pOutput<RequestBlock> - message of size 203 and type 8 added to p2p batch to delegate 17\\n[2019-02-25 15:44:36.681300 info]: ConsensusP2pOutput<RequestBlock> - p2p batch of size 216 propagated to delegate 17.\\n[2019-02-25 15:44:36.681355 debug]: PersistenceManager::StoreRequestBlock - 89D1BE2888E74FD2D3C4E7A506CB05E340AF12A0D599CB9068F14BA21018A63E\\n[2019-02-25 15:44:36.683484 debug]: ConsensusP2pOutput<RequestBlock> - message of size 4 and type 0 added to p2p batch to delegate 14\\n[2019-02-25 15:44:36.683509 debug]: ConsensusP2pOutput<RequestBlock> - message of size 203 and type 8 added to p2p batch to delegate 14\\n[2019-02-25 15:44:36.683538 info]: ConsensusP2pOutput<RequestBlock> - p2p batch of size 216 propagated to delegate 14.\\n[2019-02-25 15:44:36.686998 debug]: ConsensusNetIO - received message type Post_Prepare for consensus type RequestBlock from 172.31.94.122:60000\\n[2019-02-25 15:44:36.687042 debug]: ConsensusConnection<RequestBlock> - Received Post_Prepare message from delegate: 23 with block hash 1BB385F031A455D16D4600EE45C721976B61FD05CF1E2B29AFD66AA55FE927CD\\n[2019-02-25 15:44:36.692923 debug]: OnConsensusMessage<RequestBlock> sent commit\\n[2019-02-25 15:44:36.718594 debug]: ConsensusNetIO - received message type Pre_Prepare for consensus type RequestBlock from 172.31.92.220:60000\\n[2019-02-25 15:44:36.718693 debug]: ConsensusConnection<RequestBlock> - Received Pre_Prepare message from delegate: 1 with block hash B8B7E6127676D8BCF9CFB018DAB4F0B6F77661CF1FCCAE4F434CC8DFA051403E\\n[2019-02-25 15:44:36.722878 debug]: ConsensusNetIO - received message type Post_Commit for consensus type RequestBlock from 172.31.94.122:60000\\n[2019-02-25 15:44:36.722926 debug]: ConsensusConnection<RequestBlock> - Received Post_Commit message from delegate: 23 with block hash 1BB385F031A455D16D4600EE45C721976B61FD05CF1E2B29AFD66AA55FE927CD\\n[2019-02-25 15:44:36.728660 debug]: PersistenceManager<R>::ApplyUpdates - RequestBlock with 0 Requests\\n[2019-02-25 15:44:36.728695 debug]: PersistenceManager::StoreRequestBlock - 1BB385F031A455D16D4600EE45C721976B61FD05CF1E2B29AFD66AA55FE927CD\\n[2019-02-25 15:44:36.731547 debug]: ConsensusP2pOutput<RequestBlock> - message of size 4 and type 0 added to p2p batch to delegate 23\\n[2019-02-25 15:44:36.731581 debug]: ConsensusP2pOutput<RequestBlock> - message of size 203 and type 8 added to p2p batch to delegate 23\\n[2019-02-25 15:44:36.731618 info]: ConsensusP2pOutput<RequestBlock> - p2p batch of size 216 propagated to delegate 23.\\n[2019-02-25 15:44:36.744324 debug]: ConsensusNetIO - received message type Pre_Prepare for consensus type RequestBlock from 172.31.93.108:60000\\n[2019-02-25 15:44:36.744385 debug]: ConsensusConnection<RequestBlock> - Received Pre_Prepare message from delegate: 25 with block hash 76B9D177AE0C5A3FFCA6CFAF81C6DDE42AE2BD89F22D4A358B23F09B3DE1EF20\\n[2019-02-25 15:44:36.745618 debug]: ConsensusNetIO - received message type Pre_Prepare for consensus type RequestBlock from 172.31.82.208:60000\\n[2019-02-25 15:44:36.745671 debug]: ConsensusConnection<RequestBlock> - Received Pre_Prepare message from delegate: 2 with block hash E0C71DFAFD66F2D67C376C60DA17080AF226C4937606D314FE0A90E71AEBDC32\\n[2019-02-25 15:44:36.754696 debug]: ConsensusNetIO - received message type Post_Prepare for consensus type RequestBlock from 172.31.92.220:60000\\n[2019-02-25 15:44:36.754745 debug]: ConsensusConnection<RequestBlock> - Received Post_Prepare message from delegate: 1 with block hash B8B7E6127676D8BCF9CFB018DAB4F0B6F77661CF1FCCAE4F434CC8DFA051403E\\n[2019-02-25 15:44:36.760713 debug]: OnConsensusMessage<RequestBlock> sent commit\\n[2019-02-25 15:44:36.775548 debug]: ConsensusNetIO - received message type Post_Prepare for consensus type RequestBlock from 172.31.93.108:60000\\n[2019-02-25 15:44:36.775597 debug]: ConsensusConnection<RequestBlock> - Received Post_Prepare message from delegate: 25 with block hash 76B9D177AE0C5A3FFCA6CFAF81C6DDE42AE2BD89F22D4A358B23F09B3DE1EF20\\n[2019-02-25 15:44:36.781415 debug]: ConsensusNetIO - received message type Post_Prepare for consensus type RequestBlock from 172.31.82.208:60000\\n[2019-02-25 15:44:36.781467 debug]: ConsensusConnection<RequestBlock> - Received Post_Prepare message from delegate: 2 with block hash E0C71DFAFD66F2D67C376C60DA17080AF226C4937606D314FE0A90E71AEBDC32\\n[2019-02-25 15:44:36.787165 debug]: OnConsensusMessage<RequestBlock> sent commit\\n[2019-02-25 15:44:36.787216 debug]: OnConsensusMessage<RequestBlock> sent commit\\n[2019-02-25 15:44:36.801643 debug]: ConsensusNetIO - received message type Post_Commit for consensus type RequestBlock from 172.31.92.220:60000\\n[2019-02-25 15:44:36.801690 debug]: ConsensusConnection<RequestBlock> - Received Post_Commit message from delegate: 1 with block hash B8B7E6127676D8BCF9CFB018DAB4F0B6F77661CF1FCCAE4F434CC8DFA051403E\\n[2019-02-25 15:44:36.807310 debug]: PersistenceManager<R>::ApplyUpdates - RequestBlock with 0 Requests\\n[2019-02-25 15:44:36.807344 debug]: PersistenceManager::StoreRequestBlock - B8B7E6127676D8BCF9CFB018DAB4F0B6F77661CF1FCCAE4F434CC8DFA051403E\\n[2019-02-25 15:44:36.809901 debug]: ConsensusP2pOutput<RequestBlock> - message of size 4 and type 0 added to p2p batch to delegate 1\\n[2019-02-25 15:44:36.809925 debug]: ConsensusP2pOutput<RequestBlock> - message of size 203 and type 8 added to p2p batch to delegate 1\\n[2019-02-25 15:44:36.809956 info]: ConsensusP2pOutput<RequestBlock> - p2p batch of size 216 propagated to delegate 1.\\n[2019-02-25 15:44:36.816924 debug]: ConsensusNetIO - received message type Post_Commit for consensus type RequestBlock from 172.31.82.208:60000\\n[2019-02-25 15:44:36.816970 debug]: ConsensusConnection<RequestBlock> - Received Post_Commit message from delegate: 2 with block hash E0C71DFAFD66F2D67C376C60DA17080AF226C4937606D314FE0A90E71AEBDC32\\n[2019-02-25 15:44:36.821759 debug]: ConsensusNetIO - received message type Post_Commit for consensus type RequestBlock from 172.31.93.108:60000\\n[2019-02-25 15:44:36.821811 debug]: ConsensusConnection<RequestBlock> - Received Post_Commit message from delegate: 25 with block hash 76B9D177AE0C5A3FFCA6CFAF81C6DDE42AE2BD89F22D4A358B23F09B3DE1EF20\\n[2019-02-25 15:44:36.828347 debug]: PersistenceManager<R>::ApplyUpdates - RequestBlock with 0 Requests\\n[2019-02-25 15:44:36.828379 debug]: PersistenceManager::StoreRequestBlock - E0C71DFAFD66F2D67C376C60DA17080AF226C4937606D314FE0A90E71AEBDC32\\n[2019-02-25 15:44:36.828482 debug]: PersistenceManager<R>::ApplyUpdates - RequestBlock with 0 Requests\\n[2019-02-25 15:44:36.830423 debug]: PersistenceManager::StoreRequestBlock - 76B9D177AE0C5A3FFCA6CFAF81C6DDE42AE2BD89F22D4A358B23F09B3DE1EF20\\n[2019-02-25 15:44:36.830528 debug]: ConsensusP2pOutput<RequestBlock> - message of size 4 and type 0 added to p2p batch to delegate 2\\n[2019-02-25 15:44:36.830550 debug]: ConsensusP2pOutput<RequestBlock> - message of size 203 and type 8 added to p2p batch to delegate 2\\n[2019-02-25 15:44:36.830579 info]: ConsensusP2pOutput<RequestBlock> - p2p batch of size 216 propagated to delegate 2.\\n[2019-02-25 15:44:36.832104 debug]: ConsensusP2pOutput<RequestBlock> - message of size 4 and type 0 added to p2p batch to delegate 25\\n[2019-02-25 15:44:36.832128 debug]: ConsensusP2pOutput<RequestBlock> - message of size 203 and type 8 added to p2p batch to delegate 25\\n[2019-02-25 15:44:36.832156 info]: ConsensusP2pOutput<RequestBlock> - p2p batch of size 216 propagated to delegate 25.\\n[2019-02-25 15:44:36.932006 debug]: ConsensusNetIO - received message type Pre_Prepare for consensus type RequestBlock from 172.31.93.18:60000\\n[2019-02-25 15:44:36.932098 debug]: ConsensusConnection<RequestBlock> - Received Pre_Prepare message from delegate: 3 with block hash CEC13943E9A4AEBF719B254BAC6B82B154C9ADD5C83D36C3C1D37F4E42ADDA0C\\n[2019-02-25 15:44:36.962323 debug]: ConsensusNetIO - received message type Post_Prepare for consensus type RequestBlock from 172.31.93.18:60000\\n[2019-02-25 15:44:36.962373 debug]: ConsensusConnection<RequestBlock> - Received Post_Prepare message from delegate: 3 with block hash CEC13943E9A4AEBF719B254BAC6B82B154C9ADD5C83D36C3C1D37F4E42ADDA0C\\n[2019-02-25 15:44:36.968310 debug]: OnConsensusMessage<RequestBlock> sent commit\\n[2019-02-25 15:44:36.995907 debug]: ConsensusNetIO - received message type Post_Commit for consensus type RequestBlock from 172.31.93.18:60000\\n[2019-02-25 15:44:36.995953 debug]: ConsensusConnection<RequestBlock> - Received Post_Commit message from delegate: 3 with block hash CEC13943E9A4AEBF719B254BAC6B82B154C9ADD5C83D36C3C1D37F4E42ADDA0C\\n[2019-02-25 15:44:37.001620 debug]: PersistenceManager<R>::ApplyUpdates - RequestBlock with 0 Requests\\n[2019-02-25 15:44:37.001656 debug]: PersistenceManager::StoreRequestBlock - CEC13943E9A4AEBF719B254BAC6B82B154C9ADD5C83D36C3C1D37F4E42ADDA0C\\n[2019-02-25 15:44:37.005734 debug]: ConsensusP2pOutput<RequestBlock> - message of size 4 and type 0 added to p2p batch to delegate 3\\n[2019-02-25 15:44:37.005788 debug]: ConsensusP2pOutput<RequestBlock> - message of size 203 and type 8 added to p2p batch to delegate 3\\n[2019-02-25 15:44:37.005820 info]: ConsensusP2pOutput<RequestBlock> - p2p batch of size 216 propagated to delegate 3.\\n[2019-02-25 15:44:37.032959 debug]: ConsensusNetIO - received message type Pre_Prepare for consensus type RequestBlock from 172.31.82.122:60000\\n[2019-02-25 15:44:37.033045 debug]: ConsensusConnection<RequestBlock> - Received Pre_Prepare message from delegate: 24 with block hash 20C779352721AC69CF7D78711AA9DE3907557A12A86003B7B1A866F06C08CB6F\\n[2019-02-25 15:44:37.061146 debug]: ConsensusNetIO - received message type Pre_Prepare for consensus type RequestBlock from 172.31.86.44:60000\\n[2019-02-25 15:44:37.061231 debug]: ConsensusConnection<RequestBlock> - Received Pre_Prepare message from delegate: 19 with block hash 4E1D100EC7E3B23DC5726A04CD9FE306566D6124C3F2AFDCBC19E788BC508433\\n[2019-02-25 15:44:37.062468 debug]: ConsensusNetIO - received message type Pre_Prepare for consensus type RequestBlock from 172.31.80.49:60000\\n[2019-02-25 15:44:37.062527 debug]: ConsensusConnection<RequestBlock> - Received Pre_Prepare message from delegate: 21 with block hash B880FF9B5FBB67FDFF2728ABF6B165DC55483C754DC010F103AF069ABD8BF948\\n[2019-02-25 15:44:37.063715 debug]: ConsensusNetIO - received message type Pre_Prepare for consensus type RequestBlock from 172.31.88.46:60000\\n[2019-02-25 15:44:37.063776 debug]: ConsensusConnection<RequestBlock> - Received Pre_Prepare message from delegate: 13 with block hash 6289E9DE1936C2037F0AB26C87151D6530F1CE9D9833F1E409BDFE4566EF3313\\n[2019-02-25 15:44:37.065893 debug]: ConsensusNetIO - received message type Post_Prepare for consensus type RequestBlock from 172.31.82.122:60000\\n[2019-02-25 15:44:37.065940 debug]: ConsensusConnection<RequestBlock> - Received Post_Prepare message from delegate: 24 with block hash 20C779352721AC69CF7D78711AA9DE3907557A12A86003B7B1A866F06C08CB6F\\n[2019-02-25 15:44:37.069283 debug]: ConsensusNetIO - received message type Pre_Prepare for consensus type RequestBlock from 172.31.92.242:60000\\n[2019-02-25 15:44:37.069339 debug]: ConsensusConnection<RequestBlock> - Received Pre_Prepare message from delegate: 27 with block hash 65EC2CAC23B7BA46319334A6E220D0A4FE0B171EE2845036B3EA86C04DFE34CD\\n[2019-02-25 15:44:37.071168 debug]: ConsensusNetIO - received message type Pre_Prepare for consensus type RequestBlock from 172.31.87.98:60000\\n[2019-02-25 15:44:37.071225 debug]: ConsensusConnection<RequestBlock> - Received Pre_Prepare message from delegate: 26 with block hash 2965F6065B95ABA4C4361571F74951D38BC59026F0881B6757ACBB7E07F6AF2C\\n[2019-02-25 15:44:37.074507 debug]: OnConsensusMessage<RequestBlock> sent commit\\n[2019-02-25 15:44:37.094647 debug]: ConsensusNetIO - received message type Post_Prepare for consensus type RequestBlock from 172.31.80.49:60000\\n[2019-02-25 15:44:37.094693 debug]: ConsensusConnection<RequestBlock> - Received Post_Prepare message from delegate: 21 with block hash B880FF9B5FBB67FDFF2728ABF6B165DC55483C754DC010F103AF069ABD8BF948\\n[2019-02-25 15:44:37.097757 debug]: ConsensusNetIO - received message type Post_Prepare for consensus type RequestBlock from 172.31.88.46:60000\\n[2019-02-25 15:44:37.097796 debug]: ConsensusConnection<RequestBlock> - Received Post_Prepare message from delegate: 13 with block hash 6289E9DE1936C2037F0AB26C87151D6530F1CE9D9833F1E409BDFE4566EF3313\\n[2019-02-25 15:44:37.101969 debug]: ConsensusNetIO - received message type Post_Prepare for consensus type RequestBlock from 172.31.87.98:60000\\n[2019-02-25 15:44:37.102008 debug]: ConsensusConnection<RequestBlock> - Received Post_Prepare message from delegate: 26 with block hash 2965F6065B95ABA4C4361571F74951D38BC59026F0881B6757ACBB7E07F6AF2C\\n[2019-02-25 15:44:37.108741 debug]: ConsensusNetIO - received message type Post_Prepare for consensus type RequestBlock from 172.31.92.242:60000\\n[2019-02-25 15:44:37.108789 debug]: ConsensusConnection<RequestBlock> - Received Post_Prepare message from delegate: 27 with block hash 65EC2CAC23B7BA46319334A6E220D0A4FE0B171EE2845036B3EA86C04DFE34CD\\n[2019-02-25 15:44:37.113761 debug]: ConsensusNetIO - received message type Post_Commit for consensus type RequestBlock from 172.31.82.122:60000\\n[2019-02-25 15:44:37.113807 debug]: ConsensusConnection<RequestBlock> - Received Post_Commit message from delegate: 24 with block hash 20C779352721AC69CF7D78711AA9DE3907557A12A86003B7B1A866F06C08CB6F\\n[2019-02-25 15:44:37.117980 debug]: ConsensusNetIO - received message type Post_Prepare for consensus type RequestBlock from 172.31.86.44:60000\\n[2019-02-25 15:44:37.118022 debug]: ConsensusConnection<RequestBlock> - Received Post_Prepare message from delegate: 19 with block hash 4E1D100EC7E3B23DC5726A04CD9FE306566D6124C3F2AFDCBC19E788BC508433\\n[2019-02-25 15:44:37.129238 debug]: OnConsensusMessage<RequestBlock> sent commit\\n[2019-02-25 15:44:37.129306 debug]: OnConsensusMessage<RequestBlock> sent commit\\n[2019-02-25 15:44:37.130229 debug]: OnConsensusMessage<RequestBlock> sent commit\\n[2019-02-25 15:44:37.130289 debug]: PersistenceManager<R>::ApplyUpdates - RequestBlock with 0 Requests\\n[2019-02-25 15:44:37.130320 debug]: PersistenceManager::StoreRequestBlock - 20C779352721AC69CF7D78711AA9DE3907557A12A86003B7B1A866F06C08CB6F\\n[2019-02-25 15:44:37.130668 debug]: OnConsensusMessage<RequestBlock> sent commit\\n[2019-02-25 15:44:37.130716 debug]: OnConsensusMessage<RequestBlock> sent commit\\n[2019-02-25 15:44:37.133530 debug]: ConsensusP2pOutput<RequestBlock> - message of size 4 and type 0 added to p2p batch to delegate 24\\n[2019-02-25 15:44:37.133557 debug]: ConsensusP2pOutput<RequestBlock> - message of size 203 and type 8 added to p2p batch to delegate 24\\n[2019-02-25 15:44:37.133593 info]: ConsensusP2pOutput<RequestBlock> - p2p batch of size 216 propagated to delegate 24.\\n[2019-02-25 15:44:37.151506 debug]: ConsensusNetIO - received message type Pre_Prepare for consensus type RequestBlock from 172.31.92.205:60000\\n[2019-02-25 15:44:37.151566 debug]: ConsensusConnection<RequestBlock> - Received Pre_Prepare message from delegate: 18 with block hash DCE7F46473184DDCB598D4C10E4E58AD0F6FAF25E94B2CC38ED110310EB02976\\n[2019-02-25 15:44:37.154549 debug]: ConsensusNetIO - received message type Pre_Prepare for consensus type RequestBlock from 172.31.88.76:60000\\n[2019-02-25 15:44:37.154662 debug]: ConsensusConnection<RequestBlock> - Received Pre_Prepare message from delegate: 9 with block hash 510C5ECFF592B8CFE53F209FB8086D97393540B5280F2B12D8F3512BF3E6D860\\n[2019-02-25 15:44:37.157708 debug]: ConsensusNetIO - received message type Pre_Prepare for consensus type RequestBlock from 172.31.84.225:60000\\n[2019-02-25 15:44:37.157779 debug]: ConsensusConnection<RequestBlock> - Received Pre_Prepare message from delegate: 12 with block hash 75A948A9A7379DCBC773C8C1488685400B9FD23051A660C8D34924C48DDF8BBF\\n[2019-02-25 15:44:37.158714 debug]: ConsensusNetIO - received message type Pre_Prepare for consensus type RequestBlock from 172.31.93.205:60000\\n[2019-02-25 15:44:37.158766 debug]: ConsensusConnection<RequestBlock> - Received Pre_Prepare message from delegate: 30 with block hash 539DE4B14D59201FBF3422D091E482475C85E5451F50FDA828DC600B8FCB1133\\n[2019-02-25 15:44:37.165146 debug]: ConsensusNetIO - received message type Post_Commit for consensus type RequestBlock from 172.31.86.44:60000\\n[2019-02-25 15:44:37.165239 debug]: ConsensusConnection<RequestBlock> - Received Post_Commit message from delegate: 19 with block hash 4E1D100EC7E3B23DC5726A04CD9FE306566D6124C3F2AFDCBC19E788BC508433\\n[2019-02-25 15:44:37.169755 debug]: ConsensusNetIO - received message type Post_Commit for consensus type RequestBlock from 172.31.88.46:60000\\n[2019-02-25 15:44:37.169803 debug]: ConsensusConnection<RequestBlock> - Received Post_Commit message from delegate: 13 with block hash 6289E9DE1936C2037F0AB26C87151D6530F1CE9D9833F1E409BDFE4566EF3313\\n[2019-02-25 15:44:37.173762 debug]: ConsensusNetIO - received message type Post_Commit for consensus type RequestBlock from 172.31.87.98:60000\\n[2019-02-25 15:44:37.173803 debug]: ConsensusConnection<RequestBlock> - Received Post_Commit message from delegate: 26 with block hash 2965F6065B95ABA4C4361571F74951D38BC59026F0881B6757ACBB7E07F6AF2C\\n[2019-02-25 15:44:37.182296 debug]: ConsensusNetIO - received message type Pre_Prepare for consensus type RequestBlock from 172.31.95.248:60000\\n[2019-02-25 15:44:37.182352 debug]: ConsensusConnection<RequestBlock> - Received Pre_Prepare message from delegate: 16 with block hash 8F6DA0C676339AA7452B8CBDCB1600476D05351CC737A1D575179F3D95EE310E\\n[2019-02-25 15:44:37.183597 debug]: ConsensusNetIO - received message type Pre_Prepare for consensus type RequestBlock from 172.31.80.253:60000\\n[2019-02-25 15:44:37.183655 debug]: ConsensusConnection<RequestBlock> - Received Pre_Prepare message from delegate: 31 with block hash 8AEC7628270F25F97A9A44643DCA53E1EDA777038DA54973722BAA04BF031A91\\n[2019-02-25 15:44:37.185051 debug]: PersistenceManager<R>::ApplyUpdates - RequestBlock with 0 Requests\\n[2019-02-25 15:44:37.185084 debug]: PersistenceManager::StoreRequestBlock - 4E1D100EC7E3B23DC5726A04CD9FE306566D6124C3F2AFDCBC19E788BC508433\\n[2019-02-25 15:44:37.185243 debug]: PersistenceManager<R>::ApplyUpdates - RequestBlock with 0 Requests\\n[2019-02-25 15:44:37.185285 debug]: PersistenceManager<R>::ApplyUpdates - RequestBlock with 0 Requests\\n[2019-02-25 15:44:37.186959 debug]: ConsensusNetIO - received message type Pre_Prepare for consensus type RequestBlock from 172.31.92.101:60000\\n[2019-02-25 15:44:37.187086 debug]: ConsensusConnection<RequestBlock> - Received Pre_Prepare message from delegate: 20 with block hash 44AB53E42797957C0FA56075CFF4E2D23ABBA4055D39FD6FBEDDF74B4C7D4F50\\n[2019-02-25 15:44:37.187616 debug]: ConsensusNetIO - received message type Post_Prepare for consensus type RequestBlock from 172.31.92.205:60000\\n[2019-02-25 15:44:37.187657 debug]: ConsensusConnection<RequestBlock> - Received Post_Prepare message from delegate: 18 with block hash DCE7F46473184DDCB598D4C10E4E58AD0F6FAF25E94B2CC38ED110310EB02976\\n[2019-02-25 15:44:37.189987 debug]: ConsensusNetIO - received message type Post_Prepare for consensus type RequestBlock from 172.31.84.225:60000\\n[2019-02-25 15:44:37.190030 debug]: ConsensusConnection<RequestBlock> - Received Post_Prepare message from delegate: 12 with block hash 75A948A9A7379DCBC773C8C1488685400B9FD23051A660C8D34924C48DDF8BBF\\n[2019-02-25 15:44:37.193758 debug]: ConsensusNetIO - received message type Post_Prepare for consensus type RequestBlock from 172.31.93.205:60000\\n[2019-02-25 15:44:37.193796 debug]: ConsensusConnection<RequestBlock> - Received Post_Prepare message from delegate: 30 with block hash 539DE4B14D59201FBF3422D091E482475C85E5451F50FDA828DC600B8FCB1133\\n[2019-02-25 15:44:37.200072 debug]: ConsensusNetIO - received message type Post_Prepare for consensus type RequestBlock from 172.31.88.76:60000\\n[2019-02-25 15:44:37.200111 debug]: ConsensusConnection<RequestBlock> - Received Post_Prepare message from delegate: 9 with block hash 510C5ECFF592B8CFE53F209FB8086D97393540B5280F2B12D8F3512BF3E6D860\\n[2019-02-25 15:44:37.205030 debug]: ConsensusP2pOutput<RequestBlock> - message of size 4 and type 0 added to p2p batch to delegate 19\\n[2019-02-25 15:44:37.205057 debug]: ConsensusP2pOutput<RequestBlock> - message of size 203 and type 8 added to p2p batch to delegate 19\\n[2019-02-25 15:44:37.205092 info]: ConsensusP2pOutput<RequestBlock> - p2p batch of size 216 propagated to delegate 19.\\n[2019-02-25 15:44:37.205345 debug]: PersistenceManager::StoreRequestBlock - 6289E9DE1936C2037F0AB26C87151D6530F1CE9D9833F1E409BDFE4566EF3313\\n[2019-02-25 15:44:37.206909 debug]: ConsensusP2pOutput<RequestBlock> - message of size 4 and type 0 added to p2p batch to delegate 13\\n[2019-02-25 15:44:37.206941 debug]: ConsensusP2pOutput<RequestBlock> - message of size 203 and type 8 added to p2p batch to delegate 13\\n[2019-02-25 15:44:37.206974 info]: ConsensusP2pOutput<RequestBlock> - p2p batch of size 216 propagated to delegate 13.\\n[2019-02-25 15:44:37.207203 debug]: PersistenceManager::StoreRequestBlock - 2965F6065B95ABA4C4361571F74951D38BC59026F0881B6757ACBB7E07F6AF2C\\n[2019-02-25 15:44:37.209247 debug]: ConsensusP2pOutput<RequestBlock> - message of size 4 and type 0 added to p2p batch to delegate 26\\n[2019-02-25 15:44:37.209274 debug]: ConsensusP2pOutput<RequestBlock> - message of size 203 and type 8 added to p2p batch to delegate 26\\n[2019-02-25 15:44:37.209305 info]: ConsensusP2pOutput<RequestBlock> - p2p batch of size 216 propagated to delegate 26.\\n[2019-02-25 15:44:37.213286 debug]: OnConsensusMessage<RequestBlock> sent commit\\n[2019-02-25 15:44:37.213355 debug]: OnConsensusMessage<RequestBlock> sent commit\\n[2019-02-25 15:44:37.213397 debug]: OnConsensusMessage<RequestBlock> sent commit\\n[2019-02-25 15:44:37.213434 debug]: OnConsensusMessage<RequestBlock> sent commit\\n[2019-02-25 15:44:37.216922 debug]: ConsensusNetIO - received message type Post_Commit for consensus type RequestBlock from 172.31.80.49:60000\\n[2019-02-25 15:44:37.216983 debug]: ConsensusConnection<RequestBlock> - Received Post_Commit message from delegate: 21 with block hash B880FF9B5FBB67FDFF2728ABF6B165DC55483C754DC010F103AF069ABD8BF948\\n[2019-02-25 15:44:37.221757 debug]: ConsensusNetIO - received message type Post_Commit for consensus type RequestBlock from 172.31.92.242:60000\\n[2019-02-25 15:44:37.221796 debug]: ConsensusConnection<RequestBlock> - Received Post_Commit message from delegate: 27 with block hash 65EC2CAC23B7BA46319334A6E220D0A4FE0B171EE2845036B3EA86C04DFE34CD\\n[2019-02-25 15:44:37.222898 debug]: ConsensusNetIO - received message type Post_Prepare for consensus type RequestBlock from 172.31.80.253:60000\\n[2019-02-25 15:44:37.222937 debug]: ConsensusConnection<RequestBlock> - Received Post_Prepare message from delegate: 31 with block hash 8AEC7628270F25F97A9A44643DCA53E1EDA777038DA54973722BAA04BF031A91\\n[2019-02-25 15:44:37.233753 debug]: PersistenceManager<R>::ApplyUpdates - RequestBlock with 0 Requests\\n[2019-02-25 15:44:37.233789 debug]: PersistenceManager::StoreRequestBlock - B880FF9B5FBB67FDFF2728ABF6B165DC55483C754DC010F103AF069ABD8BF948\\n[2019-02-25 15:44:37.233920 debug]: OnConsensusMessage<RequestBlock> sent commit\\n[2019-02-25 15:44:37.234600 debug]: PersistenceManager<R>::ApplyUpdates - RequestBlock with 0 Requests\\n[2019-02-25 15:44:37.235526 debug]: ConsensusP2pOutput<RequestBlock> - message of size 4 and type 0 added to p2p batch to delegate 21\\n[2019-02-25 15:44:37.235580 debug]: ConsensusP2pOutput<RequestBlock> - message of size 203 and type 8 added to p2p batch to delegate 21\\n[2019-02-25 15:44:37.235607 info]: ConsensusP2pOutput<RequestBlock> - p2p batch of size 216 propagated to delegate 21.\\n[2019-02-25 15:44:37.235799 debug]: PersistenceManager::StoreRequestBlock - 65EC2CAC23B7BA46319334A6E220D0A4FE0B171EE2845036B3EA86C04DFE34CD\\n[2019-02-25 15:44:37.238070 debug]: ConsensusP2pOutput<RequestBlock> - message of size 4 and type 0 added to p2p batch to delegate 27\\n[2019-02-25 15:44:37.238094 debug]: ConsensusP2pOutput<RequestBlock> - message of size 203 and type 8 added to p2p batch to delegate 27\\n[2019-02-25 15:44:37.238134 info]: ConsensusP2pOutput<RequestBlock> - p2p batch of size 216 propagated to delegate 27.\\n[2019-02-25 15:44:37.252439 debug]: ConsensusNetIO - received message type Post_Prepare for consensus type RequestBlock from 172.31.95.248:60000\\n[2019-02-25 15:44:37.252483 debug]: ConsensusConnection<RequestBlock> - Received Post_Prepare message from delegate: 16 with block hash 8F6DA0C676339AA7452B8CBDCB1600476D05351CC737A1D575179F3D95EE310E\\n[2019-02-25 15:44:37.258369 debug]: OnConsensusMessage<RequestBlock> sent commit\\n[2019-02-25 15:44:37.264803 debug]: ConsensusNetIO - received message type Post_Prepare for consensus type RequestBlock from 172.31.92.101:60000\\n[2019-02-25 15:44:37.264847 debug]: ConsensusConnection<RequestBlock> - Received Post_Prepare message from delegate: 20 with block hash 44AB53E42797957C0FA56075CFF4E2D23ABBA4055D39FD6FBEDDF74B4C7D4F50\\n[2019-02-25 15:44:37.270548 debug]: OnConsensusMessage<RequestBlock> sent commit\\n[2019-02-25 15:44:37.272327 debug]: ConsensusNetIO - received message type Post_Commit for consensus type RequestBlock from 172.31.92.205:60000\\n[2019-02-25 15:44:37.272372 debug]: ConsensusConnection<RequestBlock> - Received Post_Commit message from delegate: 18 with block hash DCE7F46473184DDCB598D4C10E4E58AD0F6FAF25E94B2CC38ED110310EB02976\\n[2019-02-25 15:44:37.278000 debug]: PersistenceManager<R>::ApplyUpdates - RequestBlock with 0 Requests\\n[2019-02-25 15:44:37.278034 debug]: PersistenceManager::StoreRequestBlock - DCE7F46473184DDCB598D4C10E4E58AD0F6FAF25E94B2CC38ED110310EB02976\\n[2019-02-25 15:44:37.279934 debug]: ConsensusP2pOutput<RequestBlock> - message of size 4 and type 0 added to p2p batch to delegate 18\\n[2019-02-25 15:44:37.279960 debug]: ConsensusP2pOutput<RequestBlock> - message of size 203 and type 8 added to p2p batch to delegate 18\\n[2019-02-25 15:44:37.279992 info]: ConsensusP2pOutput<RequestBlock> - p2p batch of size 216 propagated to delegate 18.\\n[2019-02-25 15:44:37.284443 debug]: ConsensusNetIO - received message type Post_Commit for consensus type RequestBlock from 172.31.93.205:60000\\n[2019-02-25 15:44:37.284485 debug]: ConsensusConnection<RequestBlock> - Received Post_Commit message from delegate: 30 with block hash 539DE4B14D59201FBF3422D091E482475C85E5451F50FDA828DC600B8FCB1133\\n[2019-02-25 15:44:37.286069 debug]: ConsensusNetIO - received message type Post_Commit for consensus type RequestBlock from 172.31.84.225:60000\\n[2019-02-25 15:44:37.286110 debug]: ConsensusConnection<RequestBlock> - Received Post_Commit message from delegate: 12 with block hash 75A948A9A7379DCBC773C8C1488685400B9FD23051A660C8D34924C48DDF8BBF\\n[2019-02-25 15:44:37.289760 debug]: ConsensusNetIO - received message type Post_Commit for consensus type RequestBlock from 172.31.88.76:60000\\n[2019-02-25 15:44:37.289800 debug]: ConsensusConnection<RequestBlock> - Received Post_Commit message from delegate: 9 with block hash 510C5ECFF592B8CFE53F209FB8086D97393540B5280F2B12D8F3512BF3E6D860\\n[2019-02-25 15:44:37.293763 debug]: ConsensusNetIO - received message type Post_Commit for consensus type RequestBlock from 172.31.80.253:60000\\n[2019-02-25 15:44:37.293803 debug]: ConsensusConnection<RequestBlock> - Received Post_Commit message from delegate: 31 with block hash 8AEC7628270F25F97A9A44643DCA53E1EDA777038DA54973722BAA04BF031A91\\n[2019-02-25 15:44:37.306719 debug]: PersistenceManager<R>::ApplyUpdates - RequestBlock with 0 Requests\\n[2019-02-25 15:44:37.306754 debug]: PersistenceManager::StoreRequestBlock - 510C5ECFF592B8CFE53F209FB8086D97393540B5280F2B12D8F3512BF3E6D860\\n[2019-02-25 15:44:37.307370 debug]: PersistenceManager<R>::ApplyUpdates - RequestBlock with 0 Requests\\n[2019-02-25 15:44:37.307410 debug]: PersistenceManager<R>::ApplyUpdates - RequestBlock with 0 Requests\\n[2019-02-25 15:44:37.307444 debug]: PersistenceManager<R>::ApplyUpdates - RequestBlock with 0 Requests\\n[2019-02-25 15:44:37.308724 debug]: ConsensusP2pOutput<RequestBlock> - message of size 4 and type 0 added to p2p batch to delegate 9\\n[2019-02-25 15:44:37.308749 debug]: ConsensusP2pOutput<RequestBlock> - message of size 203 and type 8 added to p2p batch to delegate 9\\n[2019-02-25 15:44:37.308780 info]: ConsensusP2pOutput<RequestBlock> - p2p batch of size 216 propagated to delegate 9.\\n[2019-02-25 15:44:37.308834 debug]: PersistenceManager::StoreRequestBlock - 75A948A9A7379DCBC773C8C1488685400B9FD23051A660C8D34924C48DDF8BBF\\n[2019-02-25 15:44:37.312234 debug]: PersistenceManager::StoreRequestBlock - 8AEC7628270F25F97A9A44643DCA53E1EDA777038DA54973722BAA04BF031A91\\n[2019-02-25 15:44:37.312346 debug]: ConsensusP2pOutput<RequestBlock> - message of size 4 and type 0 added to p2p batch to delegate 12\\n[2019-02-25 15:44:37.312368 debug]: ConsensusP2pOutput<RequestBlock> - message of size 203 and type 8 added to p2p batch to delegate 12\\n[2019-02-25 15:44:37.312397 info]: ConsensusP2pOutput<RequestBlock> - p2p batch of size 216 propagated to delegate 12.\\n[2019-02-25 15:44:37.314170 debug]: PersistenceManager::StoreRequestBlock - 539DE4B14D59201FBF3422D091E482475C85E5451F50FDA828DC600B8FCB1133\\n[2019-02-25 15:44:37.314271 debug]: ConsensusP2pOutput<RequestBlock> - message of size 4 and type 0 added to p2p batch to delegate 31\\n[2019-02-25 15:44:37.314293 debug]: ConsensusP2pOutput<RequestBlock> - message of size 203 and type 8 added to p2p batch to delegate 31\\n[2019-02-25 15:44:37.314337 info]: ConsensusP2pOutput<RequestBlock> - p2p batch of size 216 propagated to delegate 31.\\n[2019-02-25 15:44:37.315845 debug]: ConsensusP2pOutput<RequestBlock> - message of size 4 and type 0 added to p2p batch to delegate 30\\n[2019-02-25 15:44:37.315869 debug]: ConsensusP2pOutput<RequestBlock> - message of size 203 and type 8 added to p2p batch to delegate 30\\n[2019-02-25 15:44:37.315909 info]: ConsensusP2pOutput<RequestBlock> - p2p batch of size 216 propagated to delegate 30.\\n[2019-02-25 15:44:37.316905 debug]: ConsensusNetIO - received message type Post_Commit for consensus type RequestBlock from 172.31.92.101:60000\\n[2019-02-25 15:44:37.316949 debug]: ConsensusConnection<RequestBlock> - Received Post_Commit message from delegate: 20 with block hash 44AB53E42797957C0FA56075CFF4E2D23ABBA4055D39FD6FBEDDF74B4C7D4F50\\n[2019-02-25 15:44:37.322644 debug]: PersistenceManager<R>::ApplyUpdates - RequestBlock with 0 Requests\\n[2019-02-25 15:44:37.322678 debug]: PersistenceManager::StoreRequestBlock - 44AB53E42797957C0FA56075CFF4E2D23ABBA4055D39FD6FBEDDF74B4C7D4F50\\n[2019-02-25 15:44:37.323236 debug]: ConsensusNetIO - received message type Post_Commit for consensus type RequestBlock from 172.31.95.248:60000\\n[2019-02-25 15:44:37.323280 debug]: ConsensusConnection<RequestBlock> - Received Post_Commit message from delegate: 16 with block hash 8F6DA0C676339AA7452B8CBDCB1600476D05351CC737A1D575179F3D95EE310E\\n[2019-02-25 15:44:37.329031 debug]: PersistenceManager<R>::ApplyUpdates - RequestBlock with 0 Requests\\n[2019-02-25 15:44:37.329745 debug]: ConsensusP2pOutput<RequestBlock> - message of size 4 and type 0 added to p2p batch to delegate 20\\n[2019-02-25 15:44:37.329805 debug]: ConsensusP2pOutput<RequestBlock> - message of size 203 and type 8 added to p2p batch to delegate 20\\n[2019-02-25 15:44:37.329834 info]: ConsensusP2pOutput<RequestBlock> - p2p batch of size 216 propagated to delegate 20.\\n[2019-02-25 15:44:37.330050 debug]: PersistenceManager::StoreRequestBlock - 8F6DA0C676339AA7452B8CBDCB1600476D05351CC737A1D575179F3D95EE310E\\n[2019-02-25 15:44:37.331879 debug]: ConsensusP2pOutput<RequestBlock> - message of size 4 and type 0 added to p2p batch to delegate 16\\n[2019-02-25 15:44:37.331904 debug]: ConsensusP2pOutput<RequestBlock> - message of size 203 and type 8 added to p2p batch to delegate 16\\n[2019-02-25 15:44:37.331934 info]: ConsensusP2pOutput<RequestBlock> - p2p batch of size 216 propagated to delegate 16.\\n[2019-02-25 15:44:37.643474 debug]: ConsensusNetIO - received message type Pre_Prepare for consensus type RequestBlock from 172.31.82.144:60000\\n[2019-02-25 15:44:37.643594 debug]: ConsensusConnection<RequestBlock> - Received Pre_Prepare message from delegate: 10 with block hash CCC892E671C88D1EC5DE82CDE06A3B1865AA33A50A6FB660E5368B9B74B9E85C\\n[2019-02-25 15:44:37.647311 debug]: ConsensusNetIO - received message type Pre_Prepare for consensus type RequestBlock from 172.31.80.50:60000\\n[2019-02-25 15:44:37.647370 debug]: ConsensusConnection<RequestBlock> - Received Pre_Prepare message from delegate: 29 with block hash 63467BCE1F4284A8632F974C228BB495B93753110974D3571CE79F9187B7D633\\n[2019-02-25 15:44:37.673929 debug]: ConsensusNetIO - received message type Post_Prepare for consensus type RequestBlock from 172.31.82.144:60000\\n[2019-02-25 15:44:37.673978 debug]: ConsensusConnection<RequestBlock> - Received Post_Prepare message from delegate: 10 with block hash CCC892E671C88D1EC5DE82CDE06A3B1865AA33A50A6FB660E5368B9B74B9E85C\\n[2019-02-25 15:44:37.680029 debug]: OnConsensusMessage<RequestBlock> sent commit\\n[2019-02-25 15:44:37.683242 debug]: ConsensusNetIO - received message type Post_Prepare for consensus type RequestBlock from 172.31.80.50:60000\\n[2019-02-25 15:44:37.683287 debug]: ConsensusConnection<RequestBlock> - Received Post_Prepare message from delegate: 29 with block hash 63467BCE1F4284A8632F974C228BB495B93753110974D3571CE79F9187B7D633\\n[2019-02-25 15:44:37.689233 debug]: OnConsensusMessage<RequestBlock> sent commit\\n[2019-02-25 15:44:37.709205 debug]: ConsensusNetIO - received message type Post_Commit for consensus type RequestBlock from 172.31.82.144:60000\\n[2019-02-25 15:44:37.709250 debug]: ConsensusConnection<RequestBlock> - Received Post_Commit message from delegate: 10 with block hash CCC892E671C88D1EC5DE82CDE06A3B1865AA33A50A6FB660E5368B9B74B9E85C\\n[2019-02-25 15:44:37.714857 debug]: PersistenceManager<R>::ApplyUpdates - RequestBlock with 0 Requests\\n[2019-02-25 15:44:37.714889 debug]: PersistenceManager::StoreRequestBlock - CCC892E671C88D1EC5DE82CDE06A3B1865AA33A50A6FB660E5368B9B74B9E85C\\n[2019-02-25 15:44:37.716803 debug]: ConsensusP2pOutput<RequestBlock> - message of size 4 and type 0 added to p2p batch to delegate 10\\n[2019-02-25 15:44:37.716828 debug]: ConsensusP2pOutput<RequestBlock> - message of size 203 and type 8 added to p2p batch to delegate 10\\n[2019-02-25 15:44:37.716875 info]: ConsensusP2pOutput<RequestBlock> - p2p batch of size 216 propagated to delegate 10.\\n[2019-02-25 15:44:37.722003 debug]: ConsensusNetIO - received message type Post_Commit for consensus type RequestBlock from 172.31.80.50:60000\\n[2019-02-25 15:44:37.722048 debug]: ConsensusConnection<RequestBlock> - Received Post_Commit message from delegate: 29 with block hash 63467BCE1F4284A8632F974C228BB495B93753110974D3571CE79F9187B7D633\\n[2019-02-25 15:44:37.727742 debug]: PersistenceManager<R>::ApplyUpdates - RequestBlock with 0 Requests\\n[2019-02-25 15:44:37.727775 debug]: PersistenceManager::StoreRequestBlock - 63467BCE1F4284A8632F974C228BB495B93753110974D3571CE79F9187B7D633\\n[2019-02-25 15:44:37.729681 debug]: ConsensusP2pOutput<RequestBlock> - message of size 4 and type 0 added to p2p batch to delegate 29\\n[2019-02-25 15:44:37.729704 debug]: ConsensusP2pOutput<RequestBlock> - message of size 203 and type 8 added to p2p batch to delegate 29\\n[2019-02-25 15:44:37.729746 info]: ConsensusP2pOutput<RequestBlock> - p2p batch of size 216 propagated to delegate 29.\\n[2019-02-25 15:45:01.608382 info]: {\"rpc_action\": \"account_info\", \"account\": \"lgs_3e3j5tkog48pnny9dmfzj1r16pg8t1e76dz5tmac6iq689wyjfpiij4txtdo\"}\\n[2019-02-25 15:45:01.662723 debug]: ConsensusNetIO - received message type Pre_Prepare for consensus type RequestBlock from 172.31.80.253:60000\\n[2019-02-25 15:45:01.662889 debug]: ConsensusConnection<RequestBlock> - Received Pre_Prepare message from delegate: 31 with block hash 1EB4C0D39C477EF6CD7C56754B7142D228A75C1EB16E878D159C44930DE4607C\\n[2019-02-25 15:45:01.686843 info]: {\"rpc_action\": \"blocks\", \"hashes\": [\"729B6D6E390867D92BF3B380728665AB1A9D1614B3F5522D5BF89B3D2FFEAFFE\"]}\\n[2019-02-25 15:45:01.693301 debug]: ConsensusNetIO - received message type Post_Prepare for consensus type RequestBlock from 172.31.80.253:60000\\n[2019-02-25 15:45:01.693372 debug]: ConsensusConnection<RequestBlock> - Received Post_Prepare message from delegate: 31 with block hash 1EB4C0D39C477EF6CD7C56754B7142D228A75C1EB16E878D159C44930DE4607C\\n[2019-02-25 15:45:01.699387 debug]: OnConsensusMessage<RequestBlock> sent commit\\n[2019-02-25 15:45:01.728649 debug]: ConsensusNetIO - received message type Post_Commit for consensus type RequestBlock from 172.31.80.253:60000\\n[2019-02-25 15:45:01.728739 debug]: ConsensusConnection<RequestBlock> - Received Post_Commit message from delegate: 31 with block hash 1EB4C0D39C477EF6CD7C56754B7142D228A75C1EB16E878D159C44930DE4607C\\n[2019-02-25 15:45:01.734558 debug]: PersistenceManager<R>::ApplyUpdates - RequestBlock with 1 Requests\\n[2019-02-25 15:45:01.734599 debug]: PersistenceManager::StoreRequestBlock - 1EB4C0D39C477EF6CD7C56754B7142D228A75C1EB16E878D159C44930DE4607C\\n[2019-02-25 15:45:01.734779 debug]: PersistenceManager::ApplySend - new account: 57F92F57CA5D14BA0E492F4CD2269129600969D7E44B101008CEAA317CA71F17\\n[2019-02-25 15:45:01.739708 debug]: ConsensusP2pOutput<RequestBlock> - message of size 4 and type 0 added to p2p batch to delegate 31\\n[2019-02-25 15:45:01.739739 debug]: ConsensusP2pOutput<RequestBlock> - message of size 465 and type 8 added to p2p batch to delegate 31\\n[2019-02-25 15:45:01.739780 info]: ConsensusP2pOutput<RequestBlock> - p2p batch of size 480 propagated to delegate 31.\\n[2019-02-25 15:45:02.715399 info]: {\"rpc_action\": \"blocks\", \"hashes\": [\"729B6D6E390867D92BF3B380728665AB1A9D1614B3F5522D5BF89B3D2FFEAFFE\"]}\\n[2019-02-25 15:45:26.407858 info]: [p2p] Adding fixed seed nodes as DNS doesn\\'t seem to be available.\\n[2019-02-25 15:47:22.449093 info]: {\"rpc_action\":\"key_create\"}\\n']"
      ]
     },
     "execution_count": 14,
     "metadata": {},
     "output_type": "execute_result"
    }
   ],
   "source": [
    "test_suite.log_handler.grep_lines(\".*\",0)"
   ]
  },
  {
   "cell_type": "code",
   "execution_count": 18,
   "metadata": {},
   "outputs": [
    {
     "name": "stdout",
     "output_type": "stream",
     "text": [
      "{'frontier': '729B6D6E390867D92BF3B380728665AB1A9D1614B3F5522D5BF89B3D2FFEAFFE', 'receive_tip': '3448F6000346D4265B08FB3A3FF469A01ECA321DD505345F3F826A7BE7CF8A49', 'open_block': 'ADCD0B4505FC9B3827E9739AFD7A0C371DFFF703677123720BD16C480EBC8E63', 'representative_block': '0000000000000000000000000000000000000000000000000000000000000000', 'balance': '340280366920938442891525541143598989311', 'modified_timestamp': '1551109501', 'request_count': '67'}\n",
      "issue\n",
      "{'hash': 'AC813B85EBF56DB74526B368963BCBA00A293E2DE1EEE80EB0F60467CE2ED7E8', 'request': '{\\n    \"type\": \"issue\",\\n    \"origin\": \"lgs_3e3j5tkog48pnny9dmfzj1r16pg8t1e76dz5tmac6iq689wyjfpiij4txtdo\",\\n    \"signature\": \"00CA8E24AC55DEF5C95AADE4BFEC7417DDB92E4927CDA1C8995DF2CEF5D04F24AC1FC5F4B81E4016926E8971B45DBA440A851C19F5EE0CD8128E535F88846604\",\\n    \"previous\": \"729B6D6E390867D92BF3B380728665AB1A9D1614B3F5522D5BF89B3D2FFEAFFE\",\\n    \"next\": \"729B6D6E390867D92BF3B380728665AB1A9D1614B3F5522D5BF89B3D2FFEAFFE\",\\n    \"fee\": \"10000000000000000000000\",\\n    \"sequence\": \"66\",\\n    \"token_id\": \"3C825B2BA158248F2FE38718AE1B4827A90AAEA8AFB669E65139FD8B9E4C7CE8\",\\n    \"symbol\": \"FOO\",\\n    \"name\": \"foocoin\",\\n    \"total_supply\": \"65000\",\\n    \"fee_type\": \"percentage\",\\n    \"fee_rate\": \"5\",\\n    \"settings\": [\\n        \"add\",\\n        \"revoke\",\\n        \"freeze\",\\n        \"modify_freeze\",\\n        \"adjust_fee\",\\n        \"whitelist\"\\n    ],\\n    \"controllers\": [\\n        {\\n            \"account\": \"lgs_3e3j5tkog48pnny9dmfzj1r16pg8t1e76dz5tmac6iq689wyjfpiij4txtdo\",\\n            \"privileges\": [\\n                \"change_freeze\",\\n                \"change_modify_freeze\",\\n                \"promote_controller\",\\n                \"add\",\\n                \"revoke\",\\n                \"freeze\",\\n                \"adjust_fee\",\\n                \"whitelist\",\\n                \"update_issuer_info\",\\n                \"burn\",\\n                \"distribute\",\\n                \"withdraw_fee\"\\n            ]\\n        }\\n    ],\\n    \"issuer_info\": \"nothing\"\\n}\\n'}\n",
      "{'hash': 'AEFD0F6808C4D75A7DDEBF040E9EAD5F603EEFB26944E36592B13FFABCC33AC7'}\n",
      "True\n",
      "<class 'str'>\n",
      "64\n",
      "True\n",
      "polling for confirmation of issuance\n",
      "done\n"
     ]
    }
   ],
   "source": [
    "test_suite.test_token_issue()"
   ]
  },
  {
   "cell_type": "code",
   "execution_count": 19,
   "metadata": {},
   "outputs": [
    {
     "data": {
      "application/vnd.jupyter.widget-view+json": {
       "model_id": "dde16bc2698044c6a887661237a25107",
       "version_major": 2,
       "version_minor": 0
      },
      "text/plain": [
       "HBox(children=(IntProgress(value=0, max=30), HTML(value='')))"
      ]
     },
     "metadata": {},
     "output_type": "display_data"
    },
    {
     "name": "stdout",
     "output_type": "stream",
     "text": [
      "send\n",
      "send\n",
      "send\n",
      "send\n",
      "send\n",
      "send\n",
      "send\n",
      "send\n",
      "send\n",
      "send\n",
      "send\n",
      "send\n",
      "send\n",
      "send\n",
      "send\n",
      "send\n",
      "send\n",
      "send\n",
      "send\n",
      "send\n",
      "send\n",
      "send\n",
      "send\n",
      "send\n",
      "send\n",
      "send\n",
      "send\n",
      "send\n",
      "send\n",
      "send\n",
      "Starting round i = 1\n",
      "send\n",
      "send\n",
      "send\n",
      "send\n",
      "send\n",
      "send\n",
      "send\n",
      "send\n",
      "send\n",
      "send\n",
      "send\n",
      "send\n",
      "send\n",
      "send\n",
      "send\n",
      "send\n",
      "send\n",
      "send\n",
      "send\n",
      "send\n",
      "send\n",
      "send\n",
      "send\n",
      "send\n",
      "send\n",
      "send\n",
      "send\n",
      "send\n",
      "send\n",
      "send\n"
     ]
    },
    {
     "data": {
      "application/vnd.jupyter.widget-view+json": {
       "model_id": "3e63da4eb4c34cb08a8aa8d403747c4f",
       "version_major": 2,
       "version_minor": 0
      },
      "text/plain": [
       "HBox(children=(IntProgress(value=0, max=30), HTML(value='')))"
      ]
     },
     "metadata": {},
     "output_type": "display_data"
    },
    {
     "name": "stdout",
     "output_type": "stream",
     "text": [
      "Time to process: 0.19857335090637207\n",
      "Finished in 5.466866970062256s\n",
      "Starting round i = 2\n",
      "send\n",
      "send\n",
      "send\n",
      "send\n",
      "send\n",
      "send\n",
      "send\n",
      "send\n",
      "send\n",
      "send\n",
      "send\n",
      "send\n",
      "send\n",
      "send\n",
      "send\n",
      "send\n",
      "send\n",
      "send\n",
      "send\n",
      "send\n",
      "send\n",
      "send\n",
      "send\n",
      "send\n",
      "send\n",
      "send\n",
      "send\n",
      "send\n",
      "send\n",
      "send\n",
      "send\n",
      "send\n",
      "send\n",
      "send\n",
      "send\n",
      "send\n",
      "send\n",
      "send\n",
      "send\n",
      "send\n",
      "send\n",
      "send\n",
      "send\n",
      "send\n",
      "send\n",
      "send\n",
      "send\n",
      "send\n",
      "send\n",
      "send\n",
      "send\n",
      "send\n",
      "send\n",
      "send\n",
      "send\n",
      "send\n",
      "send\n",
      "send\n",
      "send\n",
      "send\n"
     ]
    },
    {
     "data": {
      "application/vnd.jupyter.widget-view+json": {
       "model_id": "1ea668a7683f4a898a851e5df782a6ab",
       "version_major": 2,
       "version_minor": 0
      },
      "text/plain": [
       "HBox(children=(IntProgress(value=0, max=60), HTML(value='')))"
      ]
     },
     "metadata": {},
     "output_type": "display_data"
    },
    {
     "name": "stdout",
     "output_type": "stream",
     "text": [
      "Time to process: 0.42810511589050293\n",
      "Finished in 8.345856666564941s\n",
      "Starting round i = 3\n",
      "send\n",
      "send\n",
      "send\n",
      "send\n",
      "send\n",
      "send\n",
      "send\n",
      "send\n",
      "send\n",
      "send\n",
      "send\n",
      "send\n",
      "send\n",
      "send\n",
      "send\n",
      "send\n",
      "send\n",
      "send\n",
      "send\n",
      "send\n",
      "send\n",
      "send\n",
      "send\n",
      "send\n",
      "send\n",
      "send\n",
      "send\n",
      "send\n",
      "send\n",
      "send\n",
      "send\n",
      "send\n",
      "send\n",
      "send\n",
      "send\n",
      "send\n",
      "send\n",
      "send\n",
      "send\n",
      "send\n",
      "send\n",
      "send\n",
      "send\n",
      "send\n",
      "send\n",
      "send\n",
      "send\n",
      "send\n",
      "send\n",
      "send\n",
      "send\n",
      "send\n",
      "send\n",
      "send\n",
      "send\n",
      "send\n",
      "send\n",
      "send\n",
      "send\n",
      "send\n",
      "send\n",
      "send\n",
      "send\n",
      "send\n",
      "send\n",
      "send\n",
      "send\n",
      "send\n",
      "send\n",
      "send\n",
      "send\n",
      "send\n",
      "send\n",
      "send\n",
      "send\n",
      "send\n",
      "send\n",
      "send\n",
      "send\n",
      "send\n",
      "send\n",
      "send\n",
      "send\n",
      "send\n",
      "send\n",
      "send\n",
      "send\n",
      "send\n",
      "send\n",
      "send\n",
      "send\n",
      "send\n",
      "send\n",
      "send\n",
      "send\n",
      "send\n",
      "send\n",
      "send\n",
      "send\n",
      "send\n",
      "send\n",
      "send\n",
      "send\n",
      "send\n",
      "send\n",
      "send\n",
      "send\n",
      "send\n",
      "send\n",
      "send\n",
      "send\n",
      "send\n",
      "send\n",
      "send\n",
      "send\n",
      "send\n",
      "send\n",
      "send\n",
      "send\n",
      "send\n"
     ]
    },
    {
     "data": {
      "application/vnd.jupyter.widget-view+json": {
       "model_id": "86a952ab19b84fc9b302c80ad2f4c431",
       "version_major": 2,
       "version_minor": 0
      },
      "text/plain": [
       "HBox(children=(IntProgress(value=0, max=120), HTML(value='')))"
      ]
     },
     "metadata": {},
     "output_type": "display_data"
    },
    {
     "name": "stdout",
     "output_type": "stream",
     "text": [
      "Time to process: 1.0011711120605469\n",
      "Finished in 14.283215045928955s\n",
      "Starting round i = 4\n",
      "send\n",
      "send\n",
      "send\n",
      "send\n",
      "send\n",
      "send\n",
      "send\n",
      "send\n",
      "send\n",
      "send\n",
      "send\n",
      "send\n",
      "send\n",
      "send\n",
      "send\n",
      "send\n",
      "send\n",
      "send\n",
      "send\n",
      "send\n",
      "send\n",
      "send\n",
      "send\n",
      "send\n",
      "send\n",
      "send\n",
      "send\n",
      "send\n",
      "send\n",
      "send\n",
      "send\n",
      "send\n",
      "send\n",
      "send\n",
      "send\n",
      "send\n",
      "send\n",
      "send\n",
      "send\n",
      "send\n",
      "send\n",
      "send\n",
      "send\n",
      "send\n",
      "send\n",
      "send\n",
      "send\n",
      "send\n",
      "send\n",
      "send\n",
      "send\n",
      "send\n",
      "send\n",
      "send\n",
      "send\n",
      "send\n",
      "send\n",
      "send\n",
      "send\n",
      "send\n",
      "send\n",
      "send\n",
      "send\n",
      "send\n",
      "send\n",
      "send\n",
      "send\n",
      "send\n",
      "send\n",
      "send\n",
      "send\n",
      "send\n",
      "send\n",
      "send\n",
      "send\n",
      "send\n",
      "send\n",
      "send\n",
      "send\n",
      "send\n",
      "send\n",
      "send\n",
      "send\n",
      "send\n",
      "send\n",
      "send\n",
      "send\n",
      "send\n",
      "send\n",
      "send\n",
      "send\n",
      "send\n",
      "send\n",
      "send\n",
      "send\n",
      "send\n",
      "send\n",
      "send\n",
      "send\n",
      "send\n",
      "send\n",
      "send\n",
      "send\n",
      "send\n",
      "send\n",
      "send\n",
      "send\n",
      "send\n",
      "send\n",
      "send\n",
      "send\n",
      "send\n",
      "send\n",
      "send\n",
      "send\n",
      "send\n",
      "send\n",
      "send\n",
      "send\n",
      "send\n",
      "send\n",
      "send\n",
      "send\n",
      "send\n",
      "send\n",
      "send\n",
      "send\n",
      "send\n",
      "send\n",
      "send\n",
      "send\n",
      "send\n",
      "send\n",
      "send\n",
      "send\n",
      "send\n",
      "send\n",
      "send\n",
      "send\n",
      "send\n",
      "send\n",
      "send\n",
      "send\n",
      "send\n",
      "send\n",
      "send\n",
      "send\n",
      "send\n",
      "send\n",
      "send\n",
      "send\n",
      "send\n",
      "send\n",
      "send\n",
      "send\n",
      "send\n",
      "send\n",
      "send\n",
      "send\n",
      "send\n",
      "send\n",
      "send\n",
      "send\n",
      "send\n",
      "send\n",
      "send\n",
      "send\n",
      "send\n",
      "send\n",
      "send\n",
      "send\n",
      "send\n",
      "send\n",
      "send\n",
      "send\n",
      "send\n",
      "send\n",
      "send\n",
      "send\n",
      "send\n",
      "send\n",
      "send\n",
      "send\n",
      "send\n",
      "send\n",
      "send\n",
      "send\n",
      "send\n",
      "send\n",
      "send\n",
      "send\n",
      "send\n",
      "send\n",
      "send\n",
      "send\n",
      "send\n",
      "send\n",
      "send\n",
      "send\n",
      "send\n",
      "send\n",
      "send\n",
      "send\n",
      "send\n",
      "send\n",
      "send\n",
      "send\n",
      "send\n",
      "send\n",
      "send\n",
      "send\n",
      "send\n",
      "send\n",
      "send\n",
      "send\n",
      "send\n",
      "send\n",
      "send\n",
      "send\n",
      "send\n",
      "send\n",
      "send\n",
      "send\n",
      "send\n",
      "send\n",
      "send\n",
      "send\n",
      "send\n",
      "send\n",
      "send\n",
      "send\n",
      "send\n",
      "send\n",
      "send\n",
      "send\n",
      "send\n",
      "send\n",
      "send\n",
      "send\n",
      "send\n"
     ]
    },
    {
     "data": {
      "application/vnd.jupyter.widget-view+json": {
       "model_id": "a370d49e12b849d5a3fc6a1731aff7fd",
       "version_major": 2,
       "version_minor": 0
      },
      "text/plain": [
       "HBox(children=(IntProgress(value=0, max=240), HTML(value='')))"
      ]
     },
     "metadata": {},
     "output_type": "display_data"
    },
    {
     "name": "stdout",
     "output_type": "stream",
     "text": [
      "Time to process: 1.8405671119689941\n",
      "Finished in 25.681610584259033s\n",
      "Starting round i = 5\n",
      "send\n",
      "send\n",
      "send\n",
      "send\n",
      "send\n",
      "send\n",
      "send\n",
      "send\n",
      "send\n",
      "send\n",
      "send\n",
      "send\n",
      "send\n",
      "send\n",
      "send\n",
      "send\n",
      "send\n",
      "send\n",
      "send\n",
      "send\n",
      "send\n",
      "send\n",
      "send\n",
      "send\n",
      "send\n",
      "send\n",
      "send\n",
      "send\n",
      "send\n",
      "send\n",
      "send\n",
      "send\n",
      "send\n",
      "send\n",
      "send\n",
      "send\n",
      "send\n",
      "send\n",
      "send\n",
      "send\n",
      "send\n",
      "send\n",
      "send\n",
      "send\n",
      "send\n",
      "send\n",
      "send\n",
      "send\n",
      "send\n",
      "send\n",
      "send\n",
      "send\n",
      "send\n",
      "send\n",
      "send\n",
      "send\n",
      "send\n",
      "send\n",
      "send\n",
      "send\n",
      "send\n",
      "send\n",
      "send\n",
      "send\n",
      "send\n",
      "send\n",
      "send\n",
      "send\n",
      "send\n",
      "send\n",
      "send\n",
      "send\n",
      "send\n",
      "send\n",
      "send\n",
      "send\n",
      "send\n",
      "send\n",
      "send\n",
      "send\n",
      "send\n",
      "send\n",
      "send\n",
      "send\n",
      "send\n",
      "send\n",
      "send\n",
      "send\n",
      "send\n",
      "send\n",
      "send\n",
      "send\n",
      "send\n",
      "send\n",
      "send\n",
      "send\n",
      "send\n",
      "send\n",
      "send\n",
      "send\n",
      "send\n",
      "send\n",
      "send\n",
      "send\n",
      "send\n",
      "send\n",
      "send\n",
      "send\n",
      "send\n",
      "send\n",
      "send\n",
      "send\n",
      "send\n",
      "send\n",
      "send\n",
      "send\n",
      "send\n",
      "send\n",
      "send\n",
      "send\n",
      "send\n",
      "send\n",
      "send\n",
      "send\n",
      "send\n",
      "send\n",
      "send\n",
      "send\n",
      "send\n",
      "send\n",
      "send\n",
      "send\n",
      "send\n",
      "send\n",
      "send\n",
      "send\n",
      "send\n",
      "send\n",
      "send\n",
      "send\n",
      "send\n",
      "send\n",
      "send\n",
      "send\n",
      "send\n",
      "send\n",
      "send\n",
      "send\n",
      "send\n",
      "send\n",
      "send\n",
      "send\n",
      "send\n",
      "send\n",
      "send\n",
      "send\n",
      "send\n",
      "send\n",
      "send\n",
      "send\n",
      "send\n",
      "send\n",
      "send\n",
      "send\n",
      "send\n",
      "send\n",
      "send\n",
      "send\n",
      "send\n",
      "send\n",
      "send\n",
      "send\n",
      "send\n",
      "send\n",
      "send\n",
      "send\n",
      "send\n",
      "send\n",
      "send\n",
      "send\n",
      "send\n",
      "send\n",
      "send\n",
      "send\n",
      "send\n",
      "send\n",
      "send\n",
      "send\n",
      "send\n",
      "send\n",
      "send\n",
      "send\n",
      "send\n",
      "send\n",
      "send\n",
      "send\n",
      "send\n",
      "send\n",
      "send\n",
      "send\n",
      "send\n",
      "send\n",
      "send\n",
      "send\n",
      "send\n",
      "send\n",
      "send\n",
      "send\n",
      "send\n",
      "send\n",
      "send\n",
      "send\n",
      "send\n",
      "send\n",
      "send\n",
      "send\n",
      "send\n",
      "send\n",
      "send\n",
      "send\n",
      "send\n",
      "send\n",
      "send\n",
      "send\n",
      "send\n",
      "send\n",
      "send\n",
      "send\n",
      "send\n"
     ]
    },
    {
     "ename": "ConnectionError",
     "evalue": "HTTPConnectionPool(host='35.174.105.169', port=55000): Max retries exceeded with url: / (Caused by NewConnectionError('<urllib3.connection.HTTPConnection object at 0x7f176c50eef0>: Failed to establish a new connection: [Errno 110] Connection timed out',))",
     "output_type": "error",
     "traceback": [
      "\u001b[0;31m---------------------------------------------------------------------------\u001b[0m",
      "\u001b[0;31mTimeoutError\u001b[0m                              Traceback (most recent call last)",
      "\u001b[0;32m~/.virtualenvs/autotest/lib/python3.6/site-packages/urllib3/connection.py\u001b[0m in \u001b[0;36m_new_conn\u001b[0;34m(self)\u001b[0m\n\u001b[1;32m    158\u001b[0m             conn = connection.create_connection(\n\u001b[0;32m--> 159\u001b[0;31m                 (self._dns_host, self.port), self.timeout, **extra_kw)\n\u001b[0m\u001b[1;32m    160\u001b[0m \u001b[0;34m\u001b[0m\u001b[0m\n",
      "\u001b[0;32m~/.virtualenvs/autotest/lib/python3.6/site-packages/urllib3/util/connection.py\u001b[0m in \u001b[0;36mcreate_connection\u001b[0;34m(address, timeout, source_address, socket_options)\u001b[0m\n\u001b[1;32m     79\u001b[0m     \u001b[0;32mif\u001b[0m \u001b[0merr\u001b[0m \u001b[0;32mis\u001b[0m \u001b[0;32mnot\u001b[0m \u001b[0;32mNone\u001b[0m\u001b[0;34m:\u001b[0m\u001b[0;34m\u001b[0m\u001b[0;34m\u001b[0m\u001b[0m\n\u001b[0;32m---> 80\u001b[0;31m         \u001b[0;32mraise\u001b[0m \u001b[0merr\u001b[0m\u001b[0;34m\u001b[0m\u001b[0;34m\u001b[0m\u001b[0m\n\u001b[0m\u001b[1;32m     81\u001b[0m \u001b[0;34m\u001b[0m\u001b[0m\n",
      "\u001b[0;32m~/.virtualenvs/autotest/lib/python3.6/site-packages/urllib3/util/connection.py\u001b[0m in \u001b[0;36mcreate_connection\u001b[0;34m(address, timeout, source_address, socket_options)\u001b[0m\n\u001b[1;32m     69\u001b[0m                 \u001b[0msock\u001b[0m\u001b[0;34m.\u001b[0m\u001b[0mbind\u001b[0m\u001b[0;34m(\u001b[0m\u001b[0msource_address\u001b[0m\u001b[0;34m)\u001b[0m\u001b[0;34m\u001b[0m\u001b[0;34m\u001b[0m\u001b[0m\n\u001b[0;32m---> 70\u001b[0;31m             \u001b[0msock\u001b[0m\u001b[0;34m.\u001b[0m\u001b[0mconnect\u001b[0m\u001b[0;34m(\u001b[0m\u001b[0msa\u001b[0m\u001b[0;34m)\u001b[0m\u001b[0;34m\u001b[0m\u001b[0;34m\u001b[0m\u001b[0m\n\u001b[0m\u001b[1;32m     71\u001b[0m             \u001b[0;32mreturn\u001b[0m \u001b[0msock\u001b[0m\u001b[0;34m\u001b[0m\u001b[0;34m\u001b[0m\u001b[0m\n",
      "\u001b[0;31mTimeoutError\u001b[0m: [Errno 110] Connection timed out",
      "\nDuring handling of the above exception, another exception occurred:\n",
      "\u001b[0;31mNewConnectionError\u001b[0m                        Traceback (most recent call last)",
      "\u001b[0;32m~/.virtualenvs/autotest/lib/python3.6/site-packages/urllib3/connectionpool.py\u001b[0m in \u001b[0;36murlopen\u001b[0;34m(self, method, url, body, headers, retries, redirect, assert_same_host, timeout, pool_timeout, release_conn, chunked, body_pos, **response_kw)\u001b[0m\n\u001b[1;32m    599\u001b[0m                                                   \u001b[0mbody\u001b[0m\u001b[0;34m=\u001b[0m\u001b[0mbody\u001b[0m\u001b[0;34m,\u001b[0m \u001b[0mheaders\u001b[0m\u001b[0;34m=\u001b[0m\u001b[0mheaders\u001b[0m\u001b[0;34m,\u001b[0m\u001b[0;34m\u001b[0m\u001b[0;34m\u001b[0m\u001b[0m\n\u001b[0;32m--> 600\u001b[0;31m                                                   chunked=chunked)\n\u001b[0m\u001b[1;32m    601\u001b[0m \u001b[0;34m\u001b[0m\u001b[0m\n",
      "\u001b[0;32m~/.virtualenvs/autotest/lib/python3.6/site-packages/urllib3/connectionpool.py\u001b[0m in \u001b[0;36m_make_request\u001b[0;34m(self, conn, method, url, timeout, chunked, **httplib_request_kw)\u001b[0m\n\u001b[1;32m    353\u001b[0m         \u001b[0;32melse\u001b[0m\u001b[0;34m:\u001b[0m\u001b[0;34m\u001b[0m\u001b[0;34m\u001b[0m\u001b[0m\n\u001b[0;32m--> 354\u001b[0;31m             \u001b[0mconn\u001b[0m\u001b[0;34m.\u001b[0m\u001b[0mrequest\u001b[0m\u001b[0;34m(\u001b[0m\u001b[0mmethod\u001b[0m\u001b[0;34m,\u001b[0m \u001b[0murl\u001b[0m\u001b[0;34m,\u001b[0m \u001b[0;34m**\u001b[0m\u001b[0mhttplib_request_kw\u001b[0m\u001b[0;34m)\u001b[0m\u001b[0;34m\u001b[0m\u001b[0;34m\u001b[0m\u001b[0m\n\u001b[0m\u001b[1;32m    355\u001b[0m \u001b[0;34m\u001b[0m\u001b[0m\n",
      "\u001b[0;32m/usr/lib/python3.6/http/client.py\u001b[0m in \u001b[0;36mrequest\u001b[0;34m(self, method, url, body, headers, encode_chunked)\u001b[0m\n\u001b[1;32m   1238\u001b[0m         \u001b[0;34m\"\"\"Send a complete request to the server.\"\"\"\u001b[0m\u001b[0;34m\u001b[0m\u001b[0;34m\u001b[0m\u001b[0m\n\u001b[0;32m-> 1239\u001b[0;31m         \u001b[0mself\u001b[0m\u001b[0;34m.\u001b[0m\u001b[0m_send_request\u001b[0m\u001b[0;34m(\u001b[0m\u001b[0mmethod\u001b[0m\u001b[0;34m,\u001b[0m \u001b[0murl\u001b[0m\u001b[0;34m,\u001b[0m \u001b[0mbody\u001b[0m\u001b[0;34m,\u001b[0m \u001b[0mheaders\u001b[0m\u001b[0;34m,\u001b[0m \u001b[0mencode_chunked\u001b[0m\u001b[0;34m)\u001b[0m\u001b[0;34m\u001b[0m\u001b[0;34m\u001b[0m\u001b[0m\n\u001b[0m\u001b[1;32m   1240\u001b[0m \u001b[0;34m\u001b[0m\u001b[0m\n",
      "\u001b[0;32m/usr/lib/python3.6/http/client.py\u001b[0m in \u001b[0;36m_send_request\u001b[0;34m(self, method, url, body, headers, encode_chunked)\u001b[0m\n\u001b[1;32m   1284\u001b[0m             \u001b[0mbody\u001b[0m \u001b[0;34m=\u001b[0m \u001b[0m_encode\u001b[0m\u001b[0;34m(\u001b[0m\u001b[0mbody\u001b[0m\u001b[0;34m,\u001b[0m \u001b[0;34m'body'\u001b[0m\u001b[0;34m)\u001b[0m\u001b[0;34m\u001b[0m\u001b[0;34m\u001b[0m\u001b[0m\n\u001b[0;32m-> 1285\u001b[0;31m         \u001b[0mself\u001b[0m\u001b[0;34m.\u001b[0m\u001b[0mendheaders\u001b[0m\u001b[0;34m(\u001b[0m\u001b[0mbody\u001b[0m\u001b[0;34m,\u001b[0m \u001b[0mencode_chunked\u001b[0m\u001b[0;34m=\u001b[0m\u001b[0mencode_chunked\u001b[0m\u001b[0;34m)\u001b[0m\u001b[0;34m\u001b[0m\u001b[0;34m\u001b[0m\u001b[0m\n\u001b[0m\u001b[1;32m   1286\u001b[0m \u001b[0;34m\u001b[0m\u001b[0m\n",
      "\u001b[0;32m/usr/lib/python3.6/http/client.py\u001b[0m in \u001b[0;36mendheaders\u001b[0;34m(self, message_body, encode_chunked)\u001b[0m\n\u001b[1;32m   1233\u001b[0m             \u001b[0;32mraise\u001b[0m \u001b[0mCannotSendHeader\u001b[0m\u001b[0;34m(\u001b[0m\u001b[0;34m)\u001b[0m\u001b[0;34m\u001b[0m\u001b[0;34m\u001b[0m\u001b[0m\n\u001b[0;32m-> 1234\u001b[0;31m         \u001b[0mself\u001b[0m\u001b[0;34m.\u001b[0m\u001b[0m_send_output\u001b[0m\u001b[0;34m(\u001b[0m\u001b[0mmessage_body\u001b[0m\u001b[0;34m,\u001b[0m \u001b[0mencode_chunked\u001b[0m\u001b[0;34m=\u001b[0m\u001b[0mencode_chunked\u001b[0m\u001b[0;34m)\u001b[0m\u001b[0;34m\u001b[0m\u001b[0;34m\u001b[0m\u001b[0m\n\u001b[0m\u001b[1;32m   1235\u001b[0m \u001b[0;34m\u001b[0m\u001b[0m\n",
      "\u001b[0;32m/usr/lib/python3.6/http/client.py\u001b[0m in \u001b[0;36m_send_output\u001b[0;34m(self, message_body, encode_chunked)\u001b[0m\n\u001b[1;32m   1025\u001b[0m         \u001b[0;32mdel\u001b[0m \u001b[0mself\u001b[0m\u001b[0;34m.\u001b[0m\u001b[0m_buffer\u001b[0m\u001b[0;34m[\u001b[0m\u001b[0;34m:\u001b[0m\u001b[0;34m]\u001b[0m\u001b[0;34m\u001b[0m\u001b[0;34m\u001b[0m\u001b[0m\n\u001b[0;32m-> 1026\u001b[0;31m         \u001b[0mself\u001b[0m\u001b[0;34m.\u001b[0m\u001b[0msend\u001b[0m\u001b[0;34m(\u001b[0m\u001b[0mmsg\u001b[0m\u001b[0;34m)\u001b[0m\u001b[0;34m\u001b[0m\u001b[0;34m\u001b[0m\u001b[0m\n\u001b[0m\u001b[1;32m   1027\u001b[0m \u001b[0;34m\u001b[0m\u001b[0m\n",
      "\u001b[0;32m/usr/lib/python3.6/http/client.py\u001b[0m in \u001b[0;36msend\u001b[0;34m(self, data)\u001b[0m\n\u001b[1;32m    963\u001b[0m             \u001b[0;32mif\u001b[0m \u001b[0mself\u001b[0m\u001b[0;34m.\u001b[0m\u001b[0mauto_open\u001b[0m\u001b[0;34m:\u001b[0m\u001b[0;34m\u001b[0m\u001b[0;34m\u001b[0m\u001b[0m\n\u001b[0;32m--> 964\u001b[0;31m                 \u001b[0mself\u001b[0m\u001b[0;34m.\u001b[0m\u001b[0mconnect\u001b[0m\u001b[0;34m(\u001b[0m\u001b[0;34m)\u001b[0m\u001b[0;34m\u001b[0m\u001b[0;34m\u001b[0m\u001b[0m\n\u001b[0m\u001b[1;32m    965\u001b[0m             \u001b[0;32melse\u001b[0m\u001b[0;34m:\u001b[0m\u001b[0;34m\u001b[0m\u001b[0;34m\u001b[0m\u001b[0m\n",
      "\u001b[0;32m~/.virtualenvs/autotest/lib/python3.6/site-packages/urllib3/connection.py\u001b[0m in \u001b[0;36mconnect\u001b[0;34m(self)\u001b[0m\n\u001b[1;32m    180\u001b[0m     \u001b[0;32mdef\u001b[0m \u001b[0mconnect\u001b[0m\u001b[0;34m(\u001b[0m\u001b[0mself\u001b[0m\u001b[0;34m)\u001b[0m\u001b[0;34m:\u001b[0m\u001b[0;34m\u001b[0m\u001b[0;34m\u001b[0m\u001b[0m\n\u001b[0;32m--> 181\u001b[0;31m         \u001b[0mconn\u001b[0m \u001b[0;34m=\u001b[0m \u001b[0mself\u001b[0m\u001b[0;34m.\u001b[0m\u001b[0m_new_conn\u001b[0m\u001b[0;34m(\u001b[0m\u001b[0;34m)\u001b[0m\u001b[0;34m\u001b[0m\u001b[0;34m\u001b[0m\u001b[0m\n\u001b[0m\u001b[1;32m    182\u001b[0m         \u001b[0mself\u001b[0m\u001b[0;34m.\u001b[0m\u001b[0m_prepare_conn\u001b[0m\u001b[0;34m(\u001b[0m\u001b[0mconn\u001b[0m\u001b[0;34m)\u001b[0m\u001b[0;34m\u001b[0m\u001b[0;34m\u001b[0m\u001b[0m\n",
      "\u001b[0;32m~/.virtualenvs/autotest/lib/python3.6/site-packages/urllib3/connection.py\u001b[0m in \u001b[0;36m_new_conn\u001b[0;34m(self)\u001b[0m\n\u001b[1;32m    167\u001b[0m             raise NewConnectionError(\n\u001b[0;32m--> 168\u001b[0;31m                 self, \"Failed to establish a new connection: %s\" % e)\n\u001b[0m\u001b[1;32m    169\u001b[0m \u001b[0;34m\u001b[0m\u001b[0m\n",
      "\u001b[0;31mNewConnectionError\u001b[0m: <urllib3.connection.HTTPConnection object at 0x7f176c50eef0>: Failed to establish a new connection: [Errno 110] Connection timed out",
      "\nDuring handling of the above exception, another exception occurred:\n",
      "\u001b[0;31mMaxRetryError\u001b[0m                             Traceback (most recent call last)",
      "\u001b[0;32m~/.virtualenvs/autotest/lib/python3.6/site-packages/requests/adapters.py\u001b[0m in \u001b[0;36msend\u001b[0;34m(self, request, stream, timeout, verify, cert, proxies)\u001b[0m\n\u001b[1;32m    448\u001b[0m                     \u001b[0mretries\u001b[0m\u001b[0;34m=\u001b[0m\u001b[0mself\u001b[0m\u001b[0;34m.\u001b[0m\u001b[0mmax_retries\u001b[0m\u001b[0;34m,\u001b[0m\u001b[0;34m\u001b[0m\u001b[0;34m\u001b[0m\u001b[0m\n\u001b[0;32m--> 449\u001b[0;31m                     \u001b[0mtimeout\u001b[0m\u001b[0;34m=\u001b[0m\u001b[0mtimeout\u001b[0m\u001b[0;34m\u001b[0m\u001b[0;34m\u001b[0m\u001b[0m\n\u001b[0m\u001b[1;32m    450\u001b[0m                 )\n",
      "\u001b[0;32m~/.virtualenvs/autotest/lib/python3.6/site-packages/urllib3/connectionpool.py\u001b[0m in \u001b[0;36murlopen\u001b[0;34m(self, method, url, body, headers, retries, redirect, assert_same_host, timeout, pool_timeout, release_conn, chunked, body_pos, **response_kw)\u001b[0m\n\u001b[1;32m    637\u001b[0m             retries = retries.increment(method, url, error=e, _pool=self,\n\u001b[0;32m--> 638\u001b[0;31m                                         _stacktrace=sys.exc_info()[2])\n\u001b[0m\u001b[1;32m    639\u001b[0m             \u001b[0mretries\u001b[0m\u001b[0;34m.\u001b[0m\u001b[0msleep\u001b[0m\u001b[0;34m(\u001b[0m\u001b[0;34m)\u001b[0m\u001b[0;34m\u001b[0m\u001b[0;34m\u001b[0m\u001b[0m\n",
      "\u001b[0;32m~/.virtualenvs/autotest/lib/python3.6/site-packages/urllib3/util/retry.py\u001b[0m in \u001b[0;36mincrement\u001b[0;34m(self, method, url, response, error, _pool, _stacktrace)\u001b[0m\n\u001b[1;32m    397\u001b[0m         \u001b[0;32mif\u001b[0m \u001b[0mnew_retry\u001b[0m\u001b[0;34m.\u001b[0m\u001b[0mis_exhausted\u001b[0m\u001b[0;34m(\u001b[0m\u001b[0;34m)\u001b[0m\u001b[0;34m:\u001b[0m\u001b[0;34m\u001b[0m\u001b[0;34m\u001b[0m\u001b[0m\n\u001b[0;32m--> 398\u001b[0;31m             \u001b[0;32mraise\u001b[0m \u001b[0mMaxRetryError\u001b[0m\u001b[0;34m(\u001b[0m\u001b[0m_pool\u001b[0m\u001b[0;34m,\u001b[0m \u001b[0murl\u001b[0m\u001b[0;34m,\u001b[0m \u001b[0merror\u001b[0m \u001b[0;32mor\u001b[0m \u001b[0mResponseError\u001b[0m\u001b[0;34m(\u001b[0m\u001b[0mcause\u001b[0m\u001b[0;34m)\u001b[0m\u001b[0;34m)\u001b[0m\u001b[0;34m\u001b[0m\u001b[0;34m\u001b[0m\u001b[0m\n\u001b[0m\u001b[1;32m    399\u001b[0m \u001b[0;34m\u001b[0m\u001b[0m\n",
      "\u001b[0;31mMaxRetryError\u001b[0m: HTTPConnectionPool(host='35.174.105.169', port=55000): Max retries exceeded with url: / (Caused by NewConnectionError('<urllib3.connection.HTTPConnection object at 0x7f176c50eef0>: Failed to establish a new connection: [Errno 110] Connection timed out',))",
      "\nDuring handling of the above exception, another exception occurred:\n",
      "\u001b[0;31mConnectionError\u001b[0m                           Traceback (most recent call last)",
      "\u001b[0;32m<ipython-input-19-e0c559c204f5>\u001b[0m in \u001b[0;36m<module>\u001b[0;34m\u001b[0m\n\u001b[0;32m----> 1\u001b[0;31m \u001b[0mtest_suite\u001b[0m\u001b[0;34m.\u001b[0m\u001b[0mtest_account_creation\u001b[0m\u001b[0;34m(\u001b[0m\u001b[0;34m)\u001b[0m\u001b[0;34m\u001b[0m\u001b[0;34m\u001b[0m\u001b[0m\n\u001b[0m",
      "\u001b[0;32m~/Code/autotest/autotest/run_test.py\u001b[0m in \u001b[0;36mtest_account_creation\u001b[0;34m(self, num_worker_threads, pwr)\u001b[0m\n\u001b[1;32m     51\u001b[0m \u001b[0;34m\u001b[0m\u001b[0m\n\u001b[1;32m     52\u001b[0m     \u001b[0;32mdef\u001b[0m \u001b[0mtest_account_creation\u001b[0m\u001b[0;34m(\u001b[0m\u001b[0mself\u001b[0m\u001b[0;34m,\u001b[0m \u001b[0mnum_worker_threads\u001b[0m\u001b[0;34m=\u001b[0m\u001b[0;36m32\u001b[0m\u001b[0;34m,\u001b[0m \u001b[0mpwr\u001b[0m\u001b[0;34m=\u001b[0m\u001b[0;36m5\u001b[0m\u001b[0;34m)\u001b[0m\u001b[0;34m:\u001b[0m\u001b[0;34m\u001b[0m\u001b[0;34m\u001b[0m\u001b[0m\n\u001b[0;32m---> 53\u001b[0;31m         \u001b[0mself\u001b[0m\u001b[0;34m.\u001b[0m\u001b[0mcreate_accounts_parallel\u001b[0m\u001b[0;34m(\u001b[0m\u001b[0mpwr\u001b[0m\u001b[0;34m,\u001b[0m \u001b[0mnum_worker_threads\u001b[0m\u001b[0;34m=\u001b[0m\u001b[0mnum_worker_threads\u001b[0m\u001b[0;34m)\u001b[0m\u001b[0;34m\u001b[0m\u001b[0;34m\u001b[0m\u001b[0m\n\u001b[0m\u001b[1;32m     54\u001b[0m         \u001b[0merr_dict\u001b[0m \u001b[0;34m=\u001b[0m \u001b[0mself\u001b[0m\u001b[0;34m.\u001b[0m\u001b[0mverify_account_creation\u001b[0m\u001b[0;34m(\u001b[0m\u001b[0mpwr\u001b[0m\u001b[0;34m)\u001b[0m\u001b[0;34m\u001b[0m\u001b[0;34m\u001b[0m\u001b[0m\n\u001b[1;32m     55\u001b[0m         \u001b[0;32mif\u001b[0m \u001b[0mlen\u001b[0m\u001b[0;34m(\u001b[0m\u001b[0merr_dict\u001b[0m\u001b[0;34m)\u001b[0m\u001b[0;34m:\u001b[0m\u001b[0;34m\u001b[0m\u001b[0;34m\u001b[0m\u001b[0m\n",
      "\u001b[0;32m~/Code/autotest/autotest/run_test.py\u001b[0m in \u001b[0;36mcreate_accounts_parallel\u001b[0;34m(self, powr, num_worker_threads)\u001b[0m\n\u001b[1;32m    173\u001b[0m             \u001b[0mprint\u001b[0m\u001b[0;34m(\u001b[0m\u001b[0;34m'Starting round i = {}'\u001b[0m\u001b[0;34m.\u001b[0m\u001b[0mformat\u001b[0m\u001b[0;34m(\u001b[0m\u001b[0mi\u001b[0m \u001b[0;34m+\u001b[0m \u001b[0;36m1\u001b[0m\u001b[0;34m)\u001b[0m\u001b[0;34m)\u001b[0m\u001b[0;34m\u001b[0m\u001b[0;34m\u001b[0m\u001b[0m\n\u001b[1;32m    174\u001b[0m             \u001b[0mt0\u001b[0m \u001b[0;34m=\u001b[0m \u001b[0mtime\u001b[0m\u001b[0;34m(\u001b[0m\u001b[0;34m)\u001b[0m\u001b[0;34m\u001b[0m\u001b[0;34m\u001b[0m\u001b[0m\n\u001b[0;32m--> 175\u001b[0;31m             \u001b[0;32mif\u001b[0m \u001b[0;32mnot\u001b[0m \u001b[0mself\u001b[0m\u001b[0;34m.\u001b[0m\u001b[0msend_and_confirm\u001b[0m\u001b[0;34m(\u001b[0m\u001b[0msender_size\u001b[0m\u001b[0;34m,\u001b[0m \u001b[0msend_amt\u001b[0m\u001b[0;34m,\u001b[0m \u001b[0mnum_worker_threads\u001b[0m\u001b[0;34m)\u001b[0m\u001b[0;34m:\u001b[0m\u001b[0;34m\u001b[0m\u001b[0;34m\u001b[0m\u001b[0m\n\u001b[0m\u001b[1;32m    176\u001b[0m                 \u001b[0mprint\u001b[0m\u001b[0;34m(\u001b[0m\u001b[0;34m'Failed at iteration with exponent i={}'\u001b[0m\u001b[0;34m.\u001b[0m\u001b[0mformat\u001b[0m\u001b[0;34m(\u001b[0m\u001b[0mi\u001b[0m\u001b[0;34m)\u001b[0m\u001b[0;34m)\u001b[0m\u001b[0;34m\u001b[0m\u001b[0;34m\u001b[0m\u001b[0m\n\u001b[1;32m    177\u001b[0m                 \u001b[0;32mreturn\u001b[0m\u001b[0;34m\u001b[0m\u001b[0;34m\u001b[0m\u001b[0m\n",
      "\u001b[0;32m~/Code/autotest/autotest/run_test.py\u001b[0m in \u001b[0;36msend_and_confirm\u001b[0;34m(self, sender_size, send_amt, num_worker_threads)\u001b[0m\n\u001b[1;32m    200\u001b[0m             \u001b[0md_ids\u001b[0m\u001b[0;34m[\u001b[0m\u001b[0mj\u001b[0m\u001b[0;34m]\u001b[0m\u001b[0;34m,\u001b[0m\u001b[0;34m\u001b[0m\u001b[0;34m\u001b[0m\u001b[0m\n\u001b[1;32m    201\u001b[0m             \u001b[0msend_amt\u001b[0m\u001b[0;34m\u001b[0m\u001b[0;34m\u001b[0m\u001b[0m\n\u001b[0;32m--> 202\u001b[0;31m         ) for j in range(sender_size)])\n\u001b[0m\u001b[1;32m    203\u001b[0m         \u001b[0mresps\u001b[0m \u001b[0;34m=\u001b[0m \u001b[0;34m{\u001b[0m\u001b[0;34m}\u001b[0m\u001b[0;34m\u001b[0m\u001b[0;34m\u001b[0m\u001b[0m\n\u001b[1;32m    204\u001b[0m \u001b[0;34m\u001b[0m\u001b[0m\n",
      "\u001b[0;32m~/Code/autotest/autotest/run_test.py\u001b[0m in \u001b[0;36m<listcomp>\u001b[0;34m(.0)\u001b[0m\n\u001b[1;32m    200\u001b[0m             \u001b[0md_ids\u001b[0m\u001b[0;34m[\u001b[0m\u001b[0mj\u001b[0m\u001b[0;34m]\u001b[0m\u001b[0;34m,\u001b[0m\u001b[0;34m\u001b[0m\u001b[0;34m\u001b[0m\u001b[0m\n\u001b[1;32m    201\u001b[0m             \u001b[0msend_amt\u001b[0m\u001b[0;34m\u001b[0m\u001b[0;34m\u001b[0m\u001b[0m\n\u001b[0;32m--> 202\u001b[0;31m         ) for j in range(sender_size)])\n\u001b[0m\u001b[1;32m    203\u001b[0m         \u001b[0mresps\u001b[0m \u001b[0;34m=\u001b[0m \u001b[0;34m{\u001b[0m\u001b[0;34m}\u001b[0m\u001b[0;34m\u001b[0m\u001b[0;34m\u001b[0m\u001b[0m\n\u001b[1;32m    204\u001b[0m \u001b[0;34m\u001b[0m\u001b[0m\n",
      "\u001b[0;32m~/Code/autotest/autotest/run_test.py\u001b[0m in \u001b[0;36mcreate_next_txn\u001b[0;34m(self, sender_addr, sender_pub, sender_prv, destination, designated_id, amount_mlgs)\u001b[0m\n\u001b[1;32m    243\u001b[0m \u001b[0;34m\u001b[0m\u001b[0m\n\u001b[1;32m    244\u001b[0m     \u001b[0;32mdef\u001b[0m \u001b[0mcreate_next_txn\u001b[0m\u001b[0;34m(\u001b[0m\u001b[0mself\u001b[0m\u001b[0;34m,\u001b[0m \u001b[0msender_addr\u001b[0m\u001b[0;34m,\u001b[0m \u001b[0msender_pub\u001b[0m\u001b[0;34m,\u001b[0m \u001b[0msender_prv\u001b[0m\u001b[0;34m,\u001b[0m \u001b[0mdestination\u001b[0m\u001b[0;34m,\u001b[0m \u001b[0mdesignated_id\u001b[0m\u001b[0;34m=\u001b[0m\u001b[0;36m0\u001b[0m\u001b[0;34m,\u001b[0m \u001b[0mamount_mlgs\u001b[0m\u001b[0;34m=\u001b[0m\u001b[0;32mNone\u001b[0m\u001b[0;34m)\u001b[0m\u001b[0;34m:\u001b[0m\u001b[0;34m\u001b[0m\u001b[0;34m\u001b[0m\u001b[0m\n\u001b[0;32m--> 245\u001b[0;31m         \u001b[0minfo_data\u001b[0m \u001b[0;34m=\u001b[0m \u001b[0mself\u001b[0m\u001b[0;34m.\u001b[0m\u001b[0mnodes\u001b[0m\u001b[0;34m[\u001b[0m\u001b[0mdesignated_id\u001b[0m\u001b[0;34m]\u001b[0m\u001b[0;34m.\u001b[0m\u001b[0maccount_info\u001b[0m\u001b[0;34m(\u001b[0m\u001b[0msender_addr\u001b[0m\u001b[0;34m)\u001b[0m\u001b[0;34m\u001b[0m\u001b[0;34m\u001b[0m\u001b[0m\n\u001b[0m\u001b[1;32m    246\u001b[0m         \u001b[0mprev\u001b[0m \u001b[0;34m=\u001b[0m \u001b[0minfo_data\u001b[0m\u001b[0;34m[\u001b[0m\u001b[0;34m'frontier'\u001b[0m\u001b[0;34m]\u001b[0m\u001b[0;34m\u001b[0m\u001b[0;34m\u001b[0m\u001b[0m\n\u001b[1;32m    247\u001b[0m         \u001b[0mdesignated_id\u001b[0m \u001b[0;34m=\u001b[0m \u001b[0mdesignated_delegate\u001b[0m\u001b[0;34m(\u001b[0m\u001b[0msender_pub\u001b[0m\u001b[0;34m,\u001b[0m \u001b[0mprev\u001b[0m\u001b[0;34m)\u001b[0m\u001b[0;34m\u001b[0m\u001b[0;34m\u001b[0m\u001b[0m\n",
      "\u001b[0;32m~/Code/autotest/autotest/utils.py\u001b[0m in \u001b[0;36maccount_info\u001b[0;34m(self, account)\u001b[0m\n\u001b[1;32m     59\u001b[0m \u001b[0;34m\u001b[0m\u001b[0m\n\u001b[1;32m     60\u001b[0m     \u001b[0;32mdef\u001b[0m \u001b[0maccount_info\u001b[0m\u001b[0;34m(\u001b[0m\u001b[0mself\u001b[0m\u001b[0;34m,\u001b[0m \u001b[0maccount\u001b[0m\u001b[0;34m=\u001b[0m\u001b[0mg_account\u001b[0m\u001b[0;34m)\u001b[0m\u001b[0;34m:\u001b[0m\u001b[0;34m\u001b[0m\u001b[0;34m\u001b[0m\u001b[0m\n\u001b[0;32m---> 61\u001b[0;31m         \u001b[0;32mreturn\u001b[0m \u001b[0mself\u001b[0m\u001b[0;34m.\u001b[0m\u001b[0mcall\u001b[0m\u001b[0;34m(\u001b[0m\u001b[0;34m'account_info'\u001b[0m\u001b[0;34m,\u001b[0m \u001b[0maccount\u001b[0m\u001b[0;34m=\u001b[0m\u001b[0maccount\u001b[0m\u001b[0;34m)\u001b[0m\u001b[0;34m\u001b[0m\u001b[0;34m\u001b[0m\u001b[0m\n\u001b[0m\u001b[1;32m     62\u001b[0m \u001b[0;34m\u001b[0m\u001b[0m\n\u001b[1;32m     63\u001b[0m     \u001b[0;32mdef\u001b[0m \u001b[0maccount_history\u001b[0m\u001b[0;34m(\u001b[0m\u001b[0mself\u001b[0m\u001b[0;34m,\u001b[0m \u001b[0maccount\u001b[0m\u001b[0;34m=\u001b[0m\u001b[0mg_account\u001b[0m\u001b[0;34m,\u001b[0m \u001b[0mraw\u001b[0m\u001b[0;34m=\u001b[0m\u001b[0;32mTrue\u001b[0m\u001b[0;34m,\u001b[0m \u001b[0mcount\u001b[0m\u001b[0;34m=\u001b[0m\u001b[0;36m100\u001b[0m\u001b[0;34m,\u001b[0m \u001b[0mhead\u001b[0m\u001b[0;34m=\u001b[0m\u001b[0;34m''\u001b[0m\u001b[0;34m)\u001b[0m\u001b[0;34m:\u001b[0m\u001b[0;34m\u001b[0m\u001b[0;34m\u001b[0m\u001b[0m\n",
      "\u001b[0;32m~/Code/autotest/autotest/utils.py\u001b[0m in \u001b[0;36mcall\u001b[0;34m(self, action, merge_block, **kwargs)\u001b[0m\n\u001b[1;32m     49\u001b[0m         \u001b[0mmessage\u001b[0m \u001b[0;34m=\u001b[0m \u001b[0;34m{\u001b[0m\u001b[0;34m'rpc_action'\u001b[0m\u001b[0;34m:\u001b[0m \u001b[0maction\u001b[0m\u001b[0;34m,\u001b[0m \u001b[0;34m**\u001b[0m\u001b[0mkwargs\u001b[0m\u001b[0;34m}\u001b[0m\u001b[0;34m\u001b[0m\u001b[0;34m\u001b[0m\u001b[0m\n\u001b[1;32m     50\u001b[0m         \u001b[0mmessage\u001b[0m\u001b[0;34m.\u001b[0m\u001b[0mupdate\u001b[0m\u001b[0;34m(\u001b[0m\u001b[0mmerge_block\u001b[0m\u001b[0;34m)\u001b[0m\u001b[0;34m\u001b[0m\u001b[0;34m\u001b[0m\u001b[0m\n\u001b[0;32m---> 51\u001b[0;31m         \u001b[0mresp\u001b[0m \u001b[0;34m=\u001b[0m \u001b[0mrequests\u001b[0m\u001b[0;34m.\u001b[0m\u001b[0mpost\u001b[0m\u001b[0;34m(\u001b[0m\u001b[0mself\u001b[0m\u001b[0;34m.\u001b[0m\u001b[0muri\u001b[0m\u001b[0;34m,\u001b[0m \u001b[0mjson\u001b[0m\u001b[0;34m=\u001b[0m\u001b[0mmessage\u001b[0m\u001b[0;34m,\u001b[0m \u001b[0mheaders\u001b[0m\u001b[0;34m=\u001b[0m\u001b[0;34m{\u001b[0m\u001b[0;34m'Content-Type'\u001b[0m\u001b[0;34m:\u001b[0m \u001b[0;34m'application/json'\u001b[0m\u001b[0;34m}\u001b[0m\u001b[0;34m)\u001b[0m\u001b[0;34m\u001b[0m\u001b[0;34m\u001b[0m\u001b[0m\n\u001b[0m\u001b[1;32m     52\u001b[0m         \u001b[0mres\u001b[0m \u001b[0;34m=\u001b[0m \u001b[0mresp\u001b[0m\u001b[0;34m.\u001b[0m\u001b[0mjson\u001b[0m\u001b[0;34m(\u001b[0m\u001b[0;34m)\u001b[0m\u001b[0;34m\u001b[0m\u001b[0;34m\u001b[0m\u001b[0m\n\u001b[1;32m     53\u001b[0m         \u001b[0;32mif\u001b[0m \u001b[0;34m'error'\u001b[0m \u001b[0;32min\u001b[0m \u001b[0mres\u001b[0m\u001b[0;34m:\u001b[0m\u001b[0;34m\u001b[0m\u001b[0;34m\u001b[0m\u001b[0m\n",
      "\u001b[0;32m~/.virtualenvs/autotest/lib/python3.6/site-packages/requests/api.py\u001b[0m in \u001b[0;36mpost\u001b[0;34m(url, data, json, **kwargs)\u001b[0m\n\u001b[1;32m    114\u001b[0m     \"\"\"\n\u001b[1;32m    115\u001b[0m \u001b[0;34m\u001b[0m\u001b[0m\n\u001b[0;32m--> 116\u001b[0;31m     \u001b[0;32mreturn\u001b[0m \u001b[0mrequest\u001b[0m\u001b[0;34m(\u001b[0m\u001b[0;34m'post'\u001b[0m\u001b[0;34m,\u001b[0m \u001b[0murl\u001b[0m\u001b[0;34m,\u001b[0m \u001b[0mdata\u001b[0m\u001b[0;34m=\u001b[0m\u001b[0mdata\u001b[0m\u001b[0;34m,\u001b[0m \u001b[0mjson\u001b[0m\u001b[0;34m=\u001b[0m\u001b[0mjson\u001b[0m\u001b[0;34m,\u001b[0m \u001b[0;34m**\u001b[0m\u001b[0mkwargs\u001b[0m\u001b[0;34m)\u001b[0m\u001b[0;34m\u001b[0m\u001b[0;34m\u001b[0m\u001b[0m\n\u001b[0m\u001b[1;32m    117\u001b[0m \u001b[0;34m\u001b[0m\u001b[0m\n\u001b[1;32m    118\u001b[0m \u001b[0;34m\u001b[0m\u001b[0m\n",
      "\u001b[0;32m~/.virtualenvs/autotest/lib/python3.6/site-packages/requests/api.py\u001b[0m in \u001b[0;36mrequest\u001b[0;34m(method, url, **kwargs)\u001b[0m\n\u001b[1;32m     58\u001b[0m     \u001b[0;31m# cases, and look like a memory leak in others.\u001b[0m\u001b[0;34m\u001b[0m\u001b[0;34m\u001b[0m\u001b[0;34m\u001b[0m\u001b[0m\n\u001b[1;32m     59\u001b[0m     \u001b[0;32mwith\u001b[0m \u001b[0msessions\u001b[0m\u001b[0;34m.\u001b[0m\u001b[0mSession\u001b[0m\u001b[0;34m(\u001b[0m\u001b[0;34m)\u001b[0m \u001b[0;32mas\u001b[0m \u001b[0msession\u001b[0m\u001b[0;34m:\u001b[0m\u001b[0;34m\u001b[0m\u001b[0;34m\u001b[0m\u001b[0m\n\u001b[0;32m---> 60\u001b[0;31m         \u001b[0;32mreturn\u001b[0m \u001b[0msession\u001b[0m\u001b[0;34m.\u001b[0m\u001b[0mrequest\u001b[0m\u001b[0;34m(\u001b[0m\u001b[0mmethod\u001b[0m\u001b[0;34m=\u001b[0m\u001b[0mmethod\u001b[0m\u001b[0;34m,\u001b[0m \u001b[0murl\u001b[0m\u001b[0;34m=\u001b[0m\u001b[0murl\u001b[0m\u001b[0;34m,\u001b[0m \u001b[0;34m**\u001b[0m\u001b[0mkwargs\u001b[0m\u001b[0;34m)\u001b[0m\u001b[0;34m\u001b[0m\u001b[0;34m\u001b[0m\u001b[0m\n\u001b[0m\u001b[1;32m     61\u001b[0m \u001b[0;34m\u001b[0m\u001b[0m\n\u001b[1;32m     62\u001b[0m \u001b[0;34m\u001b[0m\u001b[0m\n",
      "\u001b[0;32m~/.virtualenvs/autotest/lib/python3.6/site-packages/requests/sessions.py\u001b[0m in \u001b[0;36mrequest\u001b[0;34m(self, method, url, params, data, headers, cookies, files, auth, timeout, allow_redirects, proxies, hooks, stream, verify, cert, json)\u001b[0m\n\u001b[1;32m    531\u001b[0m         }\n\u001b[1;32m    532\u001b[0m         \u001b[0msend_kwargs\u001b[0m\u001b[0;34m.\u001b[0m\u001b[0mupdate\u001b[0m\u001b[0;34m(\u001b[0m\u001b[0msettings\u001b[0m\u001b[0;34m)\u001b[0m\u001b[0;34m\u001b[0m\u001b[0;34m\u001b[0m\u001b[0m\n\u001b[0;32m--> 533\u001b[0;31m         \u001b[0mresp\u001b[0m \u001b[0;34m=\u001b[0m \u001b[0mself\u001b[0m\u001b[0;34m.\u001b[0m\u001b[0msend\u001b[0m\u001b[0;34m(\u001b[0m\u001b[0mprep\u001b[0m\u001b[0;34m,\u001b[0m \u001b[0;34m**\u001b[0m\u001b[0msend_kwargs\u001b[0m\u001b[0;34m)\u001b[0m\u001b[0;34m\u001b[0m\u001b[0;34m\u001b[0m\u001b[0m\n\u001b[0m\u001b[1;32m    534\u001b[0m \u001b[0;34m\u001b[0m\u001b[0m\n\u001b[1;32m    535\u001b[0m         \u001b[0;32mreturn\u001b[0m \u001b[0mresp\u001b[0m\u001b[0;34m\u001b[0m\u001b[0;34m\u001b[0m\u001b[0m\n",
      "\u001b[0;32m~/.virtualenvs/autotest/lib/python3.6/site-packages/requests/sessions.py\u001b[0m in \u001b[0;36msend\u001b[0;34m(self, request, **kwargs)\u001b[0m\n\u001b[1;32m    644\u001b[0m \u001b[0;34m\u001b[0m\u001b[0m\n\u001b[1;32m    645\u001b[0m         \u001b[0;31m# Send the request\u001b[0m\u001b[0;34m\u001b[0m\u001b[0;34m\u001b[0m\u001b[0;34m\u001b[0m\u001b[0m\n\u001b[0;32m--> 646\u001b[0;31m         \u001b[0mr\u001b[0m \u001b[0;34m=\u001b[0m \u001b[0madapter\u001b[0m\u001b[0;34m.\u001b[0m\u001b[0msend\u001b[0m\u001b[0;34m(\u001b[0m\u001b[0mrequest\u001b[0m\u001b[0;34m,\u001b[0m \u001b[0;34m**\u001b[0m\u001b[0mkwargs\u001b[0m\u001b[0;34m)\u001b[0m\u001b[0;34m\u001b[0m\u001b[0;34m\u001b[0m\u001b[0m\n\u001b[0m\u001b[1;32m    647\u001b[0m \u001b[0;34m\u001b[0m\u001b[0m\n\u001b[1;32m    648\u001b[0m         \u001b[0;31m# Total elapsed time of the request (approximately)\u001b[0m\u001b[0;34m\u001b[0m\u001b[0;34m\u001b[0m\u001b[0;34m\u001b[0m\u001b[0m\n",
      "\u001b[0;32m~/.virtualenvs/autotest/lib/python3.6/site-packages/requests/adapters.py\u001b[0m in \u001b[0;36msend\u001b[0;34m(self, request, stream, timeout, verify, cert, proxies)\u001b[0m\n\u001b[1;32m    514\u001b[0m                 \u001b[0;32mraise\u001b[0m \u001b[0mSSLError\u001b[0m\u001b[0;34m(\u001b[0m\u001b[0me\u001b[0m\u001b[0;34m,\u001b[0m \u001b[0mrequest\u001b[0m\u001b[0;34m=\u001b[0m\u001b[0mrequest\u001b[0m\u001b[0;34m)\u001b[0m\u001b[0;34m\u001b[0m\u001b[0;34m\u001b[0m\u001b[0m\n\u001b[1;32m    515\u001b[0m \u001b[0;34m\u001b[0m\u001b[0m\n\u001b[0;32m--> 516\u001b[0;31m             \u001b[0;32mraise\u001b[0m \u001b[0mConnectionError\u001b[0m\u001b[0;34m(\u001b[0m\u001b[0me\u001b[0m\u001b[0;34m,\u001b[0m \u001b[0mrequest\u001b[0m\u001b[0;34m=\u001b[0m\u001b[0mrequest\u001b[0m\u001b[0;34m)\u001b[0m\u001b[0;34m\u001b[0m\u001b[0;34m\u001b[0m\u001b[0m\n\u001b[0m\u001b[1;32m    517\u001b[0m \u001b[0;34m\u001b[0m\u001b[0m\n\u001b[1;32m    518\u001b[0m         \u001b[0;32mexcept\u001b[0m \u001b[0mClosedPoolError\u001b[0m \u001b[0;32mas\u001b[0m \u001b[0me\u001b[0m\u001b[0;34m:\u001b[0m\u001b[0;34m\u001b[0m\u001b[0;34m\u001b[0m\u001b[0m\n",
      "\u001b[0;31mConnectionError\u001b[0m: HTTPConnectionPool(host='35.174.105.169', port=55000): Max retries exceeded with url: / (Caused by NewConnectionError('<urllib3.connection.HTTPConnection object at 0x7f176c50eef0>: Failed to establish a new connection: [Errno 110] Connection timed out',))"
     ]
    }
   ],
   "source": [
    "test_suite.test_account_creation()"
   ]
  },
  {
   "cell_type": "code",
   "execution_count": 6,
   "metadata": {},
   "outputs": [
    {
     "name": "stdout",
     "output_type": "stream",
     "text": [
      "Commands: \n",
      "\tsystemctl stop logos_core\n",
      "\taws s3 cp s3://logos-bench-us-east-1/helpers/gen_config.py /home/ubuntu/bench/gen_config.py\n",
      "\taws s3 cp s3://logos-bench-us-east-1/configs/cj-token/bench.json.tmpl /home/ubuntu/bench/config/bench.json.tmpl && python /home/ubuntu/bench/gen_config.py --callback --callback_address 81667ab3.ngrok.io && cp /home/ubuntu/bench/config/bench.json /home/ubuntu/bench/LogosTest/config.json\n",
      "\trm -f /home/ubuntu/bench/LogosTest/log/* /home/ubuntu/bench/LogosTest/data.ldb /home/ubuntu/bench/LogosTest/data.ldb-lock\n",
      "\tsleep 20 && systemctl start logos_core\n",
      "Command id: \n",
      "\t8fa7d170-30d1-4ddd-a4c2-ed36b6536420\n",
      "32 out of 32 expected Successes..                 \n",
      "All succeeded\n"
     ]
    }
   ],
   "source": [
    "update_config(cluster_name, 'cj-token', new_generator=True, callback_args={'callback_address':'81667ab3.ngrok.io'})"
   ]
  },
  {
   "cell_type": "code",
   "execution_count": 253,
   "metadata": {},
   "outputs": [],
   "source": [
    "node = LogosRpc(\"172.1.1.100\")"
   ]
  },
  {
   "cell_type": "code",
   "execution_count": 254,
   "metadata": {},
   "outputs": [
    {
     "data": {
      "text/plain": [
       "{'private': '090B28C807D6E0C262EDDD5F092C3F84F1E5FF71C418C04BA1EBD6F6646EA05E',\n",
       " 'public': '6B8A318B65B1E2B0FB0D28FB03BDF5A2F3EF26C198085A0764926B68CB244B62',\n",
       " 'account': 'lgs_1twc887pdeh4p5xitc9u1gyzdaqmxwme581ada5pb6mdf57kaku439t8t8gc'}"
      ]
     },
     "execution_count": 254,
     "metadata": {},
     "output_type": "execute_result"
    }
   ],
   "source": [
    "node.key_create()"
   ]
  },
  {
   "cell_type": "code",
   "execution_count": 190,
   "metadata": {},
   "outputs": [],
   "source": [
    "from test_election import *\n"
   ]
  },
  {
   "cell_type": "code",
   "execution_count": 258,
   "metadata": {},
   "outputs": [
    {
     "name": "stdout",
     "output_type": "stream",
     "text": [
      "True\n"
     ]
    }
   ],
   "source": [
    "bls_key =node.candidates()['00FCAF1230E0BE00B44EE9590F7998503FCA540CA225ECD266E6BF52ACE65686']['bls_key']\n",
    "for x in bls_keys:\n",
    "    if bls_key == x:\n",
    "        print(True)\n"
   ]
  },
  {
   "cell_type": "code",
   "execution_count": 226,
   "metadata": {},
   "outputs": [],
   "source": [
    "prev = node.get_previous(accounts[0])\n",
    "b = node.block_create(0,0,prev,type='election_vote',key=prv_keys[0])"
   ]
  },
  {
   "cell_type": "code",
   "execution_count": 237,
   "metadata": {},
   "outputs": [
    {
     "name": "stdout",
     "output_type": "stream",
     "text": [
      "{'hash': '7CA6E68516B2E3A68B6A306E03F3C5D181BC2876132ABCA134CFEFBB6C98853F', 'request': '{\\n    \"type\": \"announce_candidacy\",\\n    \"origin\": \"lgs_3kdbxitaj7f6mrir6miiwtw4muhcc58e6tn5st6rfaxsdnb7gr4roudwn951\",\\n    \"signature\": \"090FF079ACB86BF353C8C709D95CD6F15050003E185A7AD54B09AC1CEB29708237805ED1FDB679D9013FEB08C6E5862FD362D356AE7CCFC9A8202DA0E803E905\",\\n    \"previous\": \"0000000000000000000000000000000000000000000000000000000000000000\",\\n    \"next\": \"0000000000000000000000000000000000000000000000000000000000000000\",\\n    \"fee\": \"10000000000000000000000\",\\n    \"sequence\": \"0\"\\n}\\n'}\n",
      "{'hash': '7CA6E68516B2E3A68B6A306E03F3C5D181BC2876132ABCA134CFEFBB6C98853F'}\n",
      "{'hash': 'E6318652C78D7942CE4C0707ACEE12EA75AC8AB7081212A0160AF19C77275A2D', 'request': '{\\n    \"type\": \"announce_candidacy\",\\n    \"origin\": \"lgs_3qgmh14nwztqw4wmcdzy4xpqeejey68chx6nciczwn9abji7ihhum9qtpmdr\",\\n    \"signature\": \"A4030391B001F6A4234C08F28821C8419BDD0624A35EC50D37D607BED2FA1255ADC588160996FA69595C292A0AC2548677605B64A5E1BDEBE831277A88EE5900\",\\n    \"previous\": \"0000000000000000000000000000000000000000000000000000000000000000\",\\n    \"next\": \"0000000000000000000000000000000000000000000000000000000000000000\",\\n    \"fee\": \"10000000000000000000000\",\\n    \"sequence\": \"0\"\\n}\\n'}\n",
      "{'hash': 'E6318652C78D7942CE4C0707ACEE12EA75AC8AB7081212A0160AF19C77275A2D'}\n",
      "{'hash': 'BBF48FC209458DE032B50C0B8BB031EF1F3E6B784FCBEC74F79382972AD80684', 'request': '{\\n    \"type\": \"announce_candidacy\",\\n    \"origin\": \"lgs_1psj5pt1yehsfyhpj6auti6f3iz7eq7yyy9mx5ajydhnnsink3int38qu5bf\",\\n    \"signature\": \"4724B94CE369C842CC6EF4050B5ABF8E6698CB882ECE541A0DB534C8ADBE8EA1660E2918CB119274F1E3C1A08F118C40FF7D481399E53A3EABB7073517B9C40C\",\\n    \"previous\": \"0000000000000000000000000000000000000000000000000000000000000000\",\\n    \"next\": \"0000000000000000000000000000000000000000000000000000000000000000\",\\n    \"fee\": \"10000000000000000000000\",\\n    \"sequence\": \"0\"\\n}\\n'}\n",
      "{'hash': 'BBF48FC209458DE032B50C0B8BB031EF1F3E6B784FCBEC74F79382972AD80684'}\n",
      "{'hash': 'E3331F616A9B73B99E15453D648E16C8E021229D20D6364DCE8D0F45EB723F5B', 'request': '{\\n    \"type\": \"announce_candidacy\",\\n    \"origin\": \"lgs_33fy4hcnfz74f5q3qeu7ir3b3eo6mdirpx77gr1xqzu56ucrj6u1qx1q1rk9\",\\n    \"signature\": \"46200AE03578333280FC55FEFC9643DEB66CC15ED4B70ACAC3B66EDB61F7EFDA986A69499EF92DEDDA8424A589F2AEC5799AD59F0965E35209EA9A6A6F683106\",\\n    \"previous\": \"0000000000000000000000000000000000000000000000000000000000000000\",\\n    \"next\": \"0000000000000000000000000000000000000000000000000000000000000000\",\\n    \"fee\": \"10000000000000000000000\",\\n    \"sequence\": \"0\"\\n}\\n'}\n",
      "{'hash': 'E3331F616A9B73B99E15453D648E16C8E021229D20D6364DCE8D0F45EB723F5B'}\n",
      "{'hash': '61F709545C9EB2FB30D26AA65FD5F1EC138A8CACEF8BD2D59421A3B1EA5664B8', 'request': '{\\n    \"type\": \"announce_candidacy\",\\n    \"origin\": \"lgs_3ywrboez5i9nua17uhzc49t6j4wnmyjhmjwxsrbfnf83p5wptd1yzmp1fodj\",\\n    \"signature\": \"4B4E2BD011F0CAF4BD4350BEE4A78513D4B84416FBEDADF5C46FFDA55638B375A42EF889428856EC949BB733BEAF5528FBCD4D33DADFD222EBB89A25EDB7450B\",\\n    \"previous\": \"0000000000000000000000000000000000000000000000000000000000000000\",\\n    \"next\": \"0000000000000000000000000000000000000000000000000000000000000000\",\\n    \"fee\": \"10000000000000000000000\",\\n    \"sequence\": \"0\"\\n}\\n'}\n",
      "{'hash': '61F709545C9EB2FB30D26AA65FD5F1EC138A8CACEF8BD2D59421A3B1EA5664B8'}\n",
      "{'hash': '146F8925969DCA40B48F9F113B0AADD02E53477B1ACB4BE8C03EEC365DEECC55', 'request': '{\\n    \"type\": \"announce_candidacy\",\\n    \"origin\": \"lgs_1hn7os3sc1midkqt4ew5g7jqatjgebduza7przb9btq47jztta9fzym17zgc\",\\n    \"signature\": \"DD9ABF345897033F9ACE881280EE2E9E8D1891948C1FAE84F181618FE1ACE09F8F71B991539E6460EE450A86021F6963C3EB1043FF017950010587D29B7DFE05\",\\n    \"previous\": \"0000000000000000000000000000000000000000000000000000000000000000\",\\n    \"next\": \"0000000000000000000000000000000000000000000000000000000000000000\",\\n    \"fee\": \"10000000000000000000000\",\\n    \"sequence\": \"0\"\\n}\\n'}\n",
      "{'hash': '146F8925969DCA40B48F9F113B0AADD02E53477B1ACB4BE8C03EEC365DEECC55'}\n",
      "{'hash': '0AE0E1F31561FFCA79B86B1D2AA9BAE89EB72BC04F546B741C2A79E6D7ED9764', 'request': '{\\n    \"type\": \"announce_candidacy\",\\n    \"origin\": \"lgs_3siaaj1uxbzjoc966h77593mge9m5inip676cwrkugnxnxsug4d8x6xpn9z7\",\\n    \"signature\": \"34D2123B6960E3884AEBBF8B78BAE03B056D13901A6AC2401222846CD9F80103A7724C2C2670F3173226674CF34A4D32B75C5D6EA47004B6B55A5BE8E56BDF0E\",\\n    \"previous\": \"0000000000000000000000000000000000000000000000000000000000000000\",\\n    \"next\": \"0000000000000000000000000000000000000000000000000000000000000000\",\\n    \"fee\": \"10000000000000000000000\",\\n    \"sequence\": \"0\"\\n}\\n'}\n",
      "{'hash': '0AE0E1F31561FFCA79B86B1D2AA9BAE89EB72BC04F546B741C2A79E6D7ED9764'}\n",
      "{'hash': 'CA34D0857FBEDFBCB813B857F9760C61C2A749684655AB30B74778C5875DE4A9', 'request': '{\\n    \"type\": \"announce_candidacy\",\\n    \"origin\": \"lgs_367z6qp84y6u9fjotn4iwqwre13pbud9b77utoipno6iujb8toq7utb7wupe\",\\n    \"signature\": \"F24A566C141C6362AFADF53CB05958716FA97C1A951063BBA9E0D5727F64AAE4E209F90934ECE034708C9A3DB2CEAF6F1E198C6F7AEB16B4E2037463B0D4D808\",\\n    \"previous\": \"0000000000000000000000000000000000000000000000000000000000000000\",\\n    \"next\": \"0000000000000000000000000000000000000000000000000000000000000000\",\\n    \"fee\": \"10000000000000000000000\",\\n    \"sequence\": \"0\"\\n}\\n'}\n",
      "{'hash': 'CA34D0857FBEDFBCB813B857F9760C61C2A749684655AB30B74778C5875DE4A9'}\n",
      "{'hash': '81A5237A10FCB47B845A25E423DD84B7927D2E2B26F0D9EFAF89AC6B405D5322', 'request': '{\\n    \"type\": \"announce_candidacy\",\\n    \"origin\": \"lgs_3oo7af6bydss9fg5i3jd7nzo9gib1wwzfghaggrr7bkiwbdaym4dy8iw917n\",\\n    \"signature\": \"94DE0392487A891068A558504E82B99924CBEB99BE226E2C31009104F54291E5E99B946DA2C915D3C63369F2D5CDB46357F3F0C6483ED563B5381C161078BD0C\",\\n    \"previous\": \"0000000000000000000000000000000000000000000000000000000000000000\",\\n    \"next\": \"0000000000000000000000000000000000000000000000000000000000000000\",\\n    \"fee\": \"10000000000000000000000\",\\n    \"sequence\": \"0\"\\n}\\n'}\n",
      "{'hash': '81A5237A10FCB47B845A25E423DD84B7927D2E2B26F0D9EFAF89AC6B405D5322'}\n",
      "{'hash': 'A81017506AD1B7BFDD25DDC5C011D14B5B396B36BDBD81507605FD8AD85458DA', 'request': '{\\n    \"type\": \"announce_candidacy\",\\n    \"origin\": \"lgs_1nhkwu4bpnz6pwtgjf735sn97dn7fd5kbp5zwpnhqj6n7zefbc7ruuf4ah4k\",\\n    \"signature\": \"4941822C1E8F1665E91FAE856BA41720BF47DFCC5EAA80F08F072ECE34266A9C407EC258118EE4ED4FEA78EDD7034BC6B487DC0EE04A4E7BA224EDC0B3ED6409\",\\n    \"previous\": \"0000000000000000000000000000000000000000000000000000000000000000\",\\n    \"next\": \"0000000000000000000000000000000000000000000000000000000000000000\",\\n    \"fee\": \"10000000000000000000000\",\\n    \"sequence\": \"0\"\\n}\\n'}\n",
      "{'hash': 'A81017506AD1B7BFDD25DDC5C011D14B5B396B36BDBD81507605FD8AD85458DA'}\n"
     ]
    }
   ],
   "source": [
    "for x in range(10):\n",
    "    prev = node.get_previous(accounts[x])\n",
    "    b = node.block_create(0,0,prev,type='announce_candidacy',key=prv_keys[x],bls_key=bls_keys[x])\n",
    "    print(b)\n",
    "    req = node.process(b['request'])\n",
    "    print(req)"
   ]
  },
  {
   "cell_type": "code",
   "execution_count": 233,
   "metadata": {},
   "outputs": [
    {
     "name": "stdout",
     "output_type": "stream",
     "text": [
      "{'hash': '7CA6E68516B2E3A68B6A306E03F3C5D181BC2876132ABCA134CFEFBB6C98853F', 'request': '{\\n    \"type\": \"announce_candidacy\",\\n    \"origin\": \"lgs_3kdbxitaj7f6mrir6miiwtw4muhcc58e6tn5st6rfaxsdnb7gr4roudwn951\",\\n    \"signature\": \"090FF079ACB86BF353C8C709D95CD6F15050003E185A7AD54B09AC1CEB29708237805ED1FDB679D9013FEB08C6E5862FD362D356AE7CCFC9A8202DA0E803E905\",\\n    \"previous\": \"0000000000000000000000000000000000000000000000000000000000000000\",\\n    \"next\": \"0000000000000000000000000000000000000000000000000000000000000000\",\\n    \"fee\": \"10000000000000000000000\",\\n    \"sequence\": \"0\"\\n}\\n'}\n"
     ]
    },
    {
     "data": {
      "text/plain": [
       "True"
      ]
     },
     "execution_count": 233,
     "metadata": {},
     "output_type": "execute_result"
    }
   ],
   "source": [
    "print(b)\n",
    "req = json.loads(b['request'])\n",
    "req['origin'] == accounts[0]"
   ]
  },
  {
   "cell_type": "code",
   "execution_count": null,
   "metadata": {},
   "outputs": [],
   "source": []
  },
  {
   "cell_type": "code",
   "execution_count": 198,
   "metadata": {},
   "outputs": [
    {
     "data": {
      "text/plain": [
       "True"
      ]
     },
     "execution_count": 198,
     "metadata": {},
     "output_type": "execute_result"
    }
   ],
   "source": [
    "int(node.account_balance(accounts[0])['balance']) > int(req['fee'])\n"
   ]
  },
  {
   "cell_type": "code",
   "execution_count": 234,
   "metadata": {},
   "outputs": [
    {
     "name": "stdout",
     "output_type": "stream",
     "text": [
      "{'hash': '7CA6E68516B2E3A68B6A306E03F3C5D181BC2876132ABCA134CFEFBB6C98853F'}\n"
     ]
    }
   ],
   "source": [
    "req = node.process(b['request'])\n",
    "print(req)"
   ]
  },
  {
   "cell_type": "code",
   "execution_count": 235,
   "metadata": {},
   "outputs": [
    {
     "name": "stdout",
     "output_type": "stream",
     "text": [
      "{'type': 'announce_candidacy', 'origin': 'lgs_3kdbxitaj7f6mrir6miiwtw4muhcc58e6tn5st6rfaxsdnb7gr4roudwn951', 'signature': '090FF079ACB86BF353C8C709D95CD6F15050003E185A7AD54B09AC1CEB29708237805ED1FDB679D9013FEB08C6E5862FD362D356AE7CCFC9A8202DA0E803E905', 'previous': '0000000000000000000000000000000000000000000000000000000000000000', 'next': '0000000000000000000000000000000000000000000000000000000000000000', 'fee': '10000000000000000000000', 'sequence': '0'}\n"
     ]
    }
   ],
   "source": [
    "res = node.block(req['hash'])\n",
    "print(res)"
   ]
  },
  {
   "cell_type": "code",
   "execution_count": 60,
   "metadata": {},
   "outputs": [
    {
     "name": "stdout",
     "output_type": "stream",
     "text": [
      "{'hash': '03B52BE2C5BF831186D31DC627401D3D399771BBFD8C6ED13CC5652976821D3D'}\n"
     ]
    }
   ],
   "source": []
  },
  {
   "cell_type": "code",
   "execution_count": 61,
   "metadata": {},
   "outputs": [
    {
     "name": "stdout",
     "output_type": "stream",
     "text": [
      "{'type': 'election_vote', 'origin': 'lgs_3kdbxitaj7f6mrir6miiwtw4muhcc58e6tn5st6rfaxsdnb7gr4roudwn951', 'signature': '64284775640DF056B859579F7BC657C70C020A7D1A6249177910271E88EC9A64247473B899276DE385F98DB8A9DF21A686A904CF50439DFE5408C31C54E53A08', 'previous': '89BA954145B159D303B46858D64DB19F7430ACC964C20D63C36F31FDE4CCF4E5', 'next': '89BA954145B159D303B46858D64DB19F7430ACC964C20D63C36F31FDE4CCF4E5', 'fee': '10000000000000000000000', 'sequence': '1', 'votes': ''}\n"
     ]
    }
   ],
   "source": []
  },
  {
   "cell_type": "code",
   "execution_count": null,
   "metadata": {},
   "outputs": [],
   "source": []
  }
 ],
 "metadata": {
  "kernelspec": {
   "display_name": "Python 3",
   "language": "python",
   "name": "python3"
  },
  "language_info": {
   "codemirror_mode": {
    "name": "ipython",
    "version": 3
   },
   "file_extension": ".py",
   "mimetype": "text/x-python",
   "name": "python",
   "nbconvert_exporter": "python",
   "pygments_lexer": "ipython3",
   "version": "3.6.7"
  }
 },
 "nbformat": 4,
 "nbformat_minor": 2
}
