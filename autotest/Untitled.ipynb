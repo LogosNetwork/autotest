{
 "cells": [
  {
   "cell_type": "code",
   "execution_count": 1,
   "metadata": {},
   "outputs": [],
   "source": [
    "%load_ext autoreload\n",
    "%autoreload 2"
   ]
  },
  {
   "cell_type": "code",
   "execution_count": 2,
   "metadata": {},
   "outputs": [
    {
     "name": "stderr",
     "output_type": "stream",
     "text": [
      "/home/cj/.virtualenvs/autotest/lib/python3.6/site-packages/tqdm/autonotebook/__init__.py:14: TqdmExperimentalWarning: Using `tqdm.autonotebook.tqdm` in notebook mode. Use `tqdm.tqdm` instead to force console mode (e.g. in jupyter console)\n",
      "  \" (e.g. in jupyter console)\", TqdmExperimentalWarning)\n"
     ]
    }
   ],
   "source": [
    "from run_test import *"
   ]
  },
  {
   "cell_type": "code",
   "execution_count": 5,
   "metadata": {},
   "outputs": [],
   "source": [
    "cluster_name = 'token'\n",
    "\n",
    "test_suite = TestRequests(32)"
   ]
  },
  {
   "cell_type": "code",
   "execution_count": 158,
   "metadata": {},
   "outputs": [
    {
     "name": "stdout",
     "output_type": "stream",
     "text": [
      "Commands: \n",
      "\tsystemctl stop logos_core\n",
      "\taws s3 cp s3://logos-bench-us-east-1/binaries/cj-token/logos_core /home/ubuntu/bench/logos_core\n",
      "\tchmod a+x /home/ubuntu/bench/logos_core\n",
      "\trm -f /home/ubuntu/bench/LogosTest/log/*\n",
      "\tsleep 20 && systemctl start logos_core\n",
      "Command id: \n",
      "\t72d5b2a5-fd4d-443c-a70f-66dd0128ae6e\n",
      "32 out of 32 expected Successes..                 \n",
      "All succeeded\n"
     ]
    }
   ],
   "source": [
    "update_logos(\"token\",\"cj-token\", clear_db=False)"
   ]
  },
  {
   "cell_type": "code",
   "execution_count": 6,
   "metadata": {},
   "outputs": [
    {
     "ename": "TypeError",
     "evalue": "'NoneType' object is not iterable",
     "output_type": "error",
     "traceback": [
      "\u001b[0;31m---------------------------------------------------------------------------\u001b[0m",
      "\u001b[0;31mTypeError\u001b[0m                                 Traceback (most recent call last)",
      "\u001b[0;32m<ipython-input-6-7aab214db0f5>\u001b[0m in \u001b[0;36m<module>\u001b[0;34m\u001b[0m\n\u001b[0;32m----> 1\u001b[0;31m \u001b[0mtest_suite\u001b[0m\u001b[0;34m.\u001b[0m\u001b[0mis_cluster_initialized\u001b[0m\u001b[0;34m(\u001b[0m\u001b[0;34m)\u001b[0m\u001b[0;34m\u001b[0m\u001b[0;34m\u001b[0m\u001b[0m\n\u001b[0m",
      "\u001b[0;32m~/Code/autotest/autotest/run_test.py\u001b[0m in \u001b[0;36mis_cluster_initialized\u001b[0;34m(self, from_all)\u001b[0m\n\u001b[1;32m    110\u001b[0m \u001b[0;34m\u001b[0m\u001b[0m\n\u001b[1;32m    111\u001b[0m     \u001b[0;32mdef\u001b[0m \u001b[0mis_cluster_initialized\u001b[0m\u001b[0;34m(\u001b[0m\u001b[0mself\u001b[0m\u001b[0;34m,\u001b[0m \u001b[0mfrom_all\u001b[0m\u001b[0;34m=\u001b[0m\u001b[0;32mFalse\u001b[0m\u001b[0;34m)\u001b[0m\u001b[0;34m:\u001b[0m\u001b[0;34m\u001b[0m\u001b[0;34m\u001b[0m\u001b[0m\n\u001b[0;32m--> 112\u001b[0;31m         \u001b[0;32mif\u001b[0m \u001b[0;32mnot\u001b[0m \u001b[0mself\u001b[0m\u001b[0;34m.\u001b[0m\u001b[0mis_cluster_running\u001b[0m\u001b[0;34m(\u001b[0m\u001b[0;32mNone\u001b[0m \u001b[0;32mif\u001b[0m \u001b[0mfrom_all\u001b[0m \u001b[0;32melse\u001b[0m \u001b[0;36m0\u001b[0m\u001b[0;34m)\u001b[0m\u001b[0;34m:\u001b[0m\u001b[0;34m\u001b[0m\u001b[0;34m\u001b[0m\u001b[0m\n\u001b[0m\u001b[1;32m    113\u001b[0m             \u001b[0;32mreturn\u001b[0m \u001b[0;32mFalse\u001b[0m\u001b[0;34m\u001b[0m\u001b[0;34m\u001b[0m\u001b[0m\n\u001b[1;32m    114\u001b[0m \u001b[0;34m\u001b[0m\u001b[0m\n",
      "\u001b[0;32m~/Code/autotest/autotest/run_test.py\u001b[0m in \u001b[0;36mis_cluster_running\u001b[0;34m(self, node_id, verbose)\u001b[0m\n\u001b[1;32m    130\u001b[0m         \u001b[0mpids\u001b[0m \u001b[0;34m=\u001b[0m \u001b[0mself\u001b[0m\u001b[0;34m.\u001b[0m\u001b[0mlog_handler\u001b[0m\u001b[0;34m.\u001b[0m\u001b[0mcollect_lines\u001b[0m\u001b[0;34m(\u001b[0m\u001b[0;34m'pgrep logos_core'\u001b[0m\u001b[0;34m,\u001b[0m \u001b[0mnode_id\u001b[0m\u001b[0;34m)\u001b[0m\u001b[0;34m\u001b[0m\u001b[0;34m\u001b[0m\u001b[0m\n\u001b[1;32m    131\u001b[0m         \u001b[0mrunning\u001b[0m \u001b[0;34m=\u001b[0m \u001b[0;32mTrue\u001b[0m\u001b[0;34m\u001b[0m\u001b[0;34m\u001b[0m\u001b[0m\n\u001b[0;32m--> 132\u001b[0;31m         \u001b[0;32mfor\u001b[0m \u001b[0mi\u001b[0m\u001b[0;34m,\u001b[0m \u001b[0mpid\u001b[0m \u001b[0;32min\u001b[0m \u001b[0menumerate\u001b[0m\u001b[0;34m(\u001b[0m\u001b[0mpids\u001b[0m\u001b[0;34m)\u001b[0m\u001b[0;34m:\u001b[0m\u001b[0;34m\u001b[0m\u001b[0;34m\u001b[0m\u001b[0m\n\u001b[0m\u001b[1;32m    133\u001b[0m             \u001b[0;32mif\u001b[0m \u001b[0;32mnot\u001b[0m \u001b[0mpid\u001b[0m\u001b[0;34m:\u001b[0m\u001b[0;34m\u001b[0m\u001b[0;34m\u001b[0m\u001b[0m\n\u001b[1;32m    134\u001b[0m                 \u001b[0;32mif\u001b[0m \u001b[0mverbose\u001b[0m\u001b[0;34m:\u001b[0m\u001b[0;34m\u001b[0m\u001b[0;34m\u001b[0m\u001b[0m\n",
      "\u001b[0;31mTypeError\u001b[0m: 'NoneType' object is not iterable"
     ]
    }
   ],
   "source": [
    "test_suite.is_cluster_initialized()"
   ]
  },
  {
   "cell_type": "code",
   "execution_count": null,
   "metadata": {},
   "outputs": [],
   "source": []
  },
  {
   "cell_type": "code",
   "execution_count": 10,
   "metadata": {},
   "outputs": [
    {
     "name": "stdout",
     "output_type": "stream",
     "text": [
      "Commands: \n",
      "\tsystemctl stop logos_core\n",
      "\trm -f /home/ubuntu/bench/LogosTest/log/* /home/ubuntu/bench/LogosTest/data.ldb /home/ubuntu/bench/LogosTest/data.ldb-lock\n",
      "\tsleep 20 && systemctl start logos_core\n",
      "Command id: \n",
      "\t56b7925b-a33c-4aec-abb9-eb4ae042a92c\n",
      "32 out of 32 expected Successes...                \n",
      "All succeeded\n"
     ]
    }
   ],
   "source": [
    "restart_logos(cluster_name)"
   ]
  },
  {
   "cell_type": "code",
   "execution_count": 20,
   "metadata": {
    "scrolled": false
   },
   "outputs": [
    {
     "data": {
      "text/plain": [
       "{0: '18.207.173.104',\n",
       " 1: '18.212.168.244',\n",
       " 2: '184.72.193.105',\n",
       " 3: '3.82.139.139',\n",
       " 4: '3.82.174.74',\n",
       " 5: '3.83.133.56',\n",
       " 6: '3.83.177.235',\n",
       " 7: '3.83.48.201',\n",
       " 8: '3.84.252.232',\n",
       " 9: '3.85.107.246',\n",
       " 10: '3.85.107.66',\n",
       " 11: '3.86.206.176',\n",
       " 12: '3.86.216.114',\n",
       " 13: '3.86.252.2',\n",
       " 14: '3.86.92.241',\n",
       " 15: '3.90.67.103',\n",
       " 16: '3.91.182.200',\n",
       " 17: '3.94.109.110',\n",
       " 18: '34.238.44.217',\n",
       " 19: '35.173.193.62',\n",
       " 20: '35.174.105.169',\n",
       " 21: '35.174.115.82',\n",
       " 22: '52.207.236.143',\n",
       " 23: '52.90.107.227',\n",
       " 24: '54.145.135.97',\n",
       " 25: '54.147.125.226',\n",
       " 26: '54.152.196.134',\n",
       " 27: '54.165.245.15',\n",
       " 28: '54.173.200.41',\n",
       " 29: '54.210.248.115',\n",
       " 30: '54.84.163.144',\n",
       " 31: '54.89.253.51'}"
      ]
     },
     "execution_count": 20,
     "metadata": {},
     "output_type": "execute_result"
    }
   ],
   "source": [
    "test_suite.ips"
   ]
  },
  {
   "cell_type": "code",
   "execution_count": 17,
   "metadata": {},
   "outputs": [],
   "source": [
    "with open(\"foo.txt\", 'w') as file:\n",
    "     file.write(test_suite.log_handler.grep_lines(\".*\", 0)[0])"
   ]
  },
  {
   "cell_type": "code",
   "execution_count": 9,
   "metadata": {},
   "outputs": [
    {
     "name": "stdout",
     "output_type": "stream",
     "text": [
      "Node 0 with ip 18.207.173.104 reported the following error: [2019-02-28 18:33:39.020629 error]: NetIOAssembler - Error receiving message: End of file global 0 connection Current delegate None state None\n",
      "[2019-02-28 18:33:39.020751 error]: ConsensusNetIOManager::OnNetIOError End of file 30 172.31.93.205:60000\n",
      "\n",
      "Received 30 out of 31 Post_Commit messages\n"
     ]
    },
    {
     "data": {
      "text/plain": [
       "False"
      ]
     },
     "execution_count": 9,
     "metadata": {},
     "output_type": "execute_result"
    }
   ],
   "source": [
    "test_suite.is_cluster_initialized()\n"
   ]
  },
  {
   "cell_type": "code",
   "execution_count": 10,
   "metadata": {},
   "outputs": [
    {
     "name": "stdout",
     "output_type": "stream",
     "text": [
      "test account creation\n"
     ]
    },
    {
     "data": {
      "application/vnd.jupyter.widget-view+json": {
       "model_id": "15ebdd3bce2c4352aa1baf867e43a103",
       "version_major": 2,
       "version_minor": 0
      },
      "text/plain": [
       "HBox(children=(IntProgress(value=0, max=30), HTML(value='')))"
      ]
     },
     "metadata": {},
     "output_type": "display_data"
    },
    {
     "name": "stdout",
     "output_type": "stream",
     "text": [
      "send\n",
      "send\n"
     ]
    },
    {
     "ename": "ConnectionError",
     "evalue": "HTTPConnectionPool(host='54.84.163.144', port=55000): Max retries exceeded with url: / (Caused by NewConnectionError('<urllib3.connection.HTTPConnection object at 0x7f176ee9bd68>: Failed to establish a new connection: [Errno 110] Connection timed out',))",
     "output_type": "error",
     "traceback": [
      "\u001b[0;31m---------------------------------------------------------------------------\u001b[0m",
      "\u001b[0;31mTimeoutError\u001b[0m                              Traceback (most recent call last)",
      "\u001b[0;32m~/.virtualenvs/autotest/lib/python3.6/site-packages/urllib3/connection.py\u001b[0m in \u001b[0;36m_new_conn\u001b[0;34m(self)\u001b[0m\n\u001b[1;32m    158\u001b[0m             conn = connection.create_connection(\n\u001b[0;32m--> 159\u001b[0;31m                 (self._dns_host, self.port), self.timeout, **extra_kw)\n\u001b[0m\u001b[1;32m    160\u001b[0m \u001b[0;34m\u001b[0m\u001b[0m\n",
      "\u001b[0;32m~/.virtualenvs/autotest/lib/python3.6/site-packages/urllib3/util/connection.py\u001b[0m in \u001b[0;36mcreate_connection\u001b[0;34m(address, timeout, source_address, socket_options)\u001b[0m\n\u001b[1;32m     79\u001b[0m     \u001b[0;32mif\u001b[0m \u001b[0merr\u001b[0m \u001b[0;32mis\u001b[0m \u001b[0;32mnot\u001b[0m \u001b[0;32mNone\u001b[0m\u001b[0;34m:\u001b[0m\u001b[0;34m\u001b[0m\u001b[0;34m\u001b[0m\u001b[0m\n\u001b[0;32m---> 80\u001b[0;31m         \u001b[0;32mraise\u001b[0m \u001b[0merr\u001b[0m\u001b[0;34m\u001b[0m\u001b[0;34m\u001b[0m\u001b[0m\n\u001b[0m\u001b[1;32m     81\u001b[0m \u001b[0;34m\u001b[0m\u001b[0m\n",
      "\u001b[0;32m~/.virtualenvs/autotest/lib/python3.6/site-packages/urllib3/util/connection.py\u001b[0m in \u001b[0;36mcreate_connection\u001b[0;34m(address, timeout, source_address, socket_options)\u001b[0m\n\u001b[1;32m     69\u001b[0m                 \u001b[0msock\u001b[0m\u001b[0;34m.\u001b[0m\u001b[0mbind\u001b[0m\u001b[0;34m(\u001b[0m\u001b[0msource_address\u001b[0m\u001b[0;34m)\u001b[0m\u001b[0;34m\u001b[0m\u001b[0;34m\u001b[0m\u001b[0m\n\u001b[0;32m---> 70\u001b[0;31m             \u001b[0msock\u001b[0m\u001b[0;34m.\u001b[0m\u001b[0mconnect\u001b[0m\u001b[0;34m(\u001b[0m\u001b[0msa\u001b[0m\u001b[0;34m)\u001b[0m\u001b[0;34m\u001b[0m\u001b[0;34m\u001b[0m\u001b[0m\n\u001b[0m\u001b[1;32m     71\u001b[0m             \u001b[0;32mreturn\u001b[0m \u001b[0msock\u001b[0m\u001b[0;34m\u001b[0m\u001b[0;34m\u001b[0m\u001b[0m\n",
      "\u001b[0;31mTimeoutError\u001b[0m: [Errno 110] Connection timed out",
      "\nDuring handling of the above exception, another exception occurred:\n",
      "\u001b[0;31mNewConnectionError\u001b[0m                        Traceback (most recent call last)",
      "\u001b[0;32m~/.virtualenvs/autotest/lib/python3.6/site-packages/urllib3/connectionpool.py\u001b[0m in \u001b[0;36murlopen\u001b[0;34m(self, method, url, body, headers, retries, redirect, assert_same_host, timeout, pool_timeout, release_conn, chunked, body_pos, **response_kw)\u001b[0m\n\u001b[1;32m    599\u001b[0m                                                   \u001b[0mbody\u001b[0m\u001b[0;34m=\u001b[0m\u001b[0mbody\u001b[0m\u001b[0;34m,\u001b[0m \u001b[0mheaders\u001b[0m\u001b[0;34m=\u001b[0m\u001b[0mheaders\u001b[0m\u001b[0;34m,\u001b[0m\u001b[0;34m\u001b[0m\u001b[0;34m\u001b[0m\u001b[0m\n\u001b[0;32m--> 600\u001b[0;31m                                                   chunked=chunked)\n\u001b[0m\u001b[1;32m    601\u001b[0m \u001b[0;34m\u001b[0m\u001b[0m\n",
      "\u001b[0;32m~/.virtualenvs/autotest/lib/python3.6/site-packages/urllib3/connectionpool.py\u001b[0m in \u001b[0;36m_make_request\u001b[0;34m(self, conn, method, url, timeout, chunked, **httplib_request_kw)\u001b[0m\n\u001b[1;32m    353\u001b[0m         \u001b[0;32melse\u001b[0m\u001b[0;34m:\u001b[0m\u001b[0;34m\u001b[0m\u001b[0;34m\u001b[0m\u001b[0m\n\u001b[0;32m--> 354\u001b[0;31m             \u001b[0mconn\u001b[0m\u001b[0;34m.\u001b[0m\u001b[0mrequest\u001b[0m\u001b[0;34m(\u001b[0m\u001b[0mmethod\u001b[0m\u001b[0;34m,\u001b[0m \u001b[0murl\u001b[0m\u001b[0;34m,\u001b[0m \u001b[0;34m**\u001b[0m\u001b[0mhttplib_request_kw\u001b[0m\u001b[0;34m)\u001b[0m\u001b[0;34m\u001b[0m\u001b[0;34m\u001b[0m\u001b[0m\n\u001b[0m\u001b[1;32m    355\u001b[0m \u001b[0;34m\u001b[0m\u001b[0m\n",
      "\u001b[0;32m/usr/lib/python3.6/http/client.py\u001b[0m in \u001b[0;36mrequest\u001b[0;34m(self, method, url, body, headers, encode_chunked)\u001b[0m\n\u001b[1;32m   1238\u001b[0m         \u001b[0;34m\"\"\"Send a complete request to the server.\"\"\"\u001b[0m\u001b[0;34m\u001b[0m\u001b[0;34m\u001b[0m\u001b[0m\n\u001b[0;32m-> 1239\u001b[0;31m         \u001b[0mself\u001b[0m\u001b[0;34m.\u001b[0m\u001b[0m_send_request\u001b[0m\u001b[0;34m(\u001b[0m\u001b[0mmethod\u001b[0m\u001b[0;34m,\u001b[0m \u001b[0murl\u001b[0m\u001b[0;34m,\u001b[0m \u001b[0mbody\u001b[0m\u001b[0;34m,\u001b[0m \u001b[0mheaders\u001b[0m\u001b[0;34m,\u001b[0m \u001b[0mencode_chunked\u001b[0m\u001b[0;34m)\u001b[0m\u001b[0;34m\u001b[0m\u001b[0;34m\u001b[0m\u001b[0m\n\u001b[0m\u001b[1;32m   1240\u001b[0m \u001b[0;34m\u001b[0m\u001b[0m\n",
      "\u001b[0;32m/usr/lib/python3.6/http/client.py\u001b[0m in \u001b[0;36m_send_request\u001b[0;34m(self, method, url, body, headers, encode_chunked)\u001b[0m\n\u001b[1;32m   1284\u001b[0m             \u001b[0mbody\u001b[0m \u001b[0;34m=\u001b[0m \u001b[0m_encode\u001b[0m\u001b[0;34m(\u001b[0m\u001b[0mbody\u001b[0m\u001b[0;34m,\u001b[0m \u001b[0;34m'body'\u001b[0m\u001b[0;34m)\u001b[0m\u001b[0;34m\u001b[0m\u001b[0;34m\u001b[0m\u001b[0m\n\u001b[0;32m-> 1285\u001b[0;31m         \u001b[0mself\u001b[0m\u001b[0;34m.\u001b[0m\u001b[0mendheaders\u001b[0m\u001b[0;34m(\u001b[0m\u001b[0mbody\u001b[0m\u001b[0;34m,\u001b[0m \u001b[0mencode_chunked\u001b[0m\u001b[0;34m=\u001b[0m\u001b[0mencode_chunked\u001b[0m\u001b[0;34m)\u001b[0m\u001b[0;34m\u001b[0m\u001b[0;34m\u001b[0m\u001b[0m\n\u001b[0m\u001b[1;32m   1286\u001b[0m \u001b[0;34m\u001b[0m\u001b[0m\n",
      "\u001b[0;32m/usr/lib/python3.6/http/client.py\u001b[0m in \u001b[0;36mendheaders\u001b[0;34m(self, message_body, encode_chunked)\u001b[0m\n\u001b[1;32m   1233\u001b[0m             \u001b[0;32mraise\u001b[0m \u001b[0mCannotSendHeader\u001b[0m\u001b[0;34m(\u001b[0m\u001b[0;34m)\u001b[0m\u001b[0;34m\u001b[0m\u001b[0;34m\u001b[0m\u001b[0m\n\u001b[0;32m-> 1234\u001b[0;31m         \u001b[0mself\u001b[0m\u001b[0;34m.\u001b[0m\u001b[0m_send_output\u001b[0m\u001b[0;34m(\u001b[0m\u001b[0mmessage_body\u001b[0m\u001b[0;34m,\u001b[0m \u001b[0mencode_chunked\u001b[0m\u001b[0;34m=\u001b[0m\u001b[0mencode_chunked\u001b[0m\u001b[0;34m)\u001b[0m\u001b[0;34m\u001b[0m\u001b[0;34m\u001b[0m\u001b[0m\n\u001b[0m\u001b[1;32m   1235\u001b[0m \u001b[0;34m\u001b[0m\u001b[0m\n",
      "\u001b[0;32m/usr/lib/python3.6/http/client.py\u001b[0m in \u001b[0;36m_send_output\u001b[0;34m(self, message_body, encode_chunked)\u001b[0m\n\u001b[1;32m   1025\u001b[0m         \u001b[0;32mdel\u001b[0m \u001b[0mself\u001b[0m\u001b[0;34m.\u001b[0m\u001b[0m_buffer\u001b[0m\u001b[0;34m[\u001b[0m\u001b[0;34m:\u001b[0m\u001b[0;34m]\u001b[0m\u001b[0;34m\u001b[0m\u001b[0;34m\u001b[0m\u001b[0m\n\u001b[0;32m-> 1026\u001b[0;31m         \u001b[0mself\u001b[0m\u001b[0;34m.\u001b[0m\u001b[0msend\u001b[0m\u001b[0;34m(\u001b[0m\u001b[0mmsg\u001b[0m\u001b[0;34m)\u001b[0m\u001b[0;34m\u001b[0m\u001b[0;34m\u001b[0m\u001b[0m\n\u001b[0m\u001b[1;32m   1027\u001b[0m \u001b[0;34m\u001b[0m\u001b[0m\n",
      "\u001b[0;32m/usr/lib/python3.6/http/client.py\u001b[0m in \u001b[0;36msend\u001b[0;34m(self, data)\u001b[0m\n\u001b[1;32m    963\u001b[0m             \u001b[0;32mif\u001b[0m \u001b[0mself\u001b[0m\u001b[0;34m.\u001b[0m\u001b[0mauto_open\u001b[0m\u001b[0;34m:\u001b[0m\u001b[0;34m\u001b[0m\u001b[0;34m\u001b[0m\u001b[0m\n\u001b[0;32m--> 964\u001b[0;31m                 \u001b[0mself\u001b[0m\u001b[0;34m.\u001b[0m\u001b[0mconnect\u001b[0m\u001b[0;34m(\u001b[0m\u001b[0;34m)\u001b[0m\u001b[0;34m\u001b[0m\u001b[0;34m\u001b[0m\u001b[0m\n\u001b[0m\u001b[1;32m    965\u001b[0m             \u001b[0;32melse\u001b[0m\u001b[0;34m:\u001b[0m\u001b[0;34m\u001b[0m\u001b[0;34m\u001b[0m\u001b[0m\n",
      "\u001b[0;32m~/.virtualenvs/autotest/lib/python3.6/site-packages/urllib3/connection.py\u001b[0m in \u001b[0;36mconnect\u001b[0;34m(self)\u001b[0m\n\u001b[1;32m    180\u001b[0m     \u001b[0;32mdef\u001b[0m \u001b[0mconnect\u001b[0m\u001b[0;34m(\u001b[0m\u001b[0mself\u001b[0m\u001b[0;34m)\u001b[0m\u001b[0;34m:\u001b[0m\u001b[0;34m\u001b[0m\u001b[0;34m\u001b[0m\u001b[0m\n\u001b[0;32m--> 181\u001b[0;31m         \u001b[0mconn\u001b[0m \u001b[0;34m=\u001b[0m \u001b[0mself\u001b[0m\u001b[0;34m.\u001b[0m\u001b[0m_new_conn\u001b[0m\u001b[0;34m(\u001b[0m\u001b[0;34m)\u001b[0m\u001b[0;34m\u001b[0m\u001b[0;34m\u001b[0m\u001b[0m\n\u001b[0m\u001b[1;32m    182\u001b[0m         \u001b[0mself\u001b[0m\u001b[0;34m.\u001b[0m\u001b[0m_prepare_conn\u001b[0m\u001b[0;34m(\u001b[0m\u001b[0mconn\u001b[0m\u001b[0;34m)\u001b[0m\u001b[0;34m\u001b[0m\u001b[0;34m\u001b[0m\u001b[0m\n",
      "\u001b[0;32m~/.virtualenvs/autotest/lib/python3.6/site-packages/urllib3/connection.py\u001b[0m in \u001b[0;36m_new_conn\u001b[0;34m(self)\u001b[0m\n\u001b[1;32m    167\u001b[0m             raise NewConnectionError(\n\u001b[0;32m--> 168\u001b[0;31m                 self, \"Failed to establish a new connection: %s\" % e)\n\u001b[0m\u001b[1;32m    169\u001b[0m \u001b[0;34m\u001b[0m\u001b[0m\n",
      "\u001b[0;31mNewConnectionError\u001b[0m: <urllib3.connection.HTTPConnection object at 0x7f176ee9bd68>: Failed to establish a new connection: [Errno 110] Connection timed out",
      "\nDuring handling of the above exception, another exception occurred:\n",
      "\u001b[0;31mMaxRetryError\u001b[0m                             Traceback (most recent call last)",
      "\u001b[0;32m~/.virtualenvs/autotest/lib/python3.6/site-packages/requests/adapters.py\u001b[0m in \u001b[0;36msend\u001b[0;34m(self, request, stream, timeout, verify, cert, proxies)\u001b[0m\n\u001b[1;32m    448\u001b[0m                     \u001b[0mretries\u001b[0m\u001b[0;34m=\u001b[0m\u001b[0mself\u001b[0m\u001b[0;34m.\u001b[0m\u001b[0mmax_retries\u001b[0m\u001b[0;34m,\u001b[0m\u001b[0;34m\u001b[0m\u001b[0;34m\u001b[0m\u001b[0m\n\u001b[0;32m--> 449\u001b[0;31m                     \u001b[0mtimeout\u001b[0m\u001b[0;34m=\u001b[0m\u001b[0mtimeout\u001b[0m\u001b[0;34m\u001b[0m\u001b[0;34m\u001b[0m\u001b[0m\n\u001b[0m\u001b[1;32m    450\u001b[0m                 )\n",
      "\u001b[0;32m~/.virtualenvs/autotest/lib/python3.6/site-packages/urllib3/connectionpool.py\u001b[0m in \u001b[0;36murlopen\u001b[0;34m(self, method, url, body, headers, retries, redirect, assert_same_host, timeout, pool_timeout, release_conn, chunked, body_pos, **response_kw)\u001b[0m\n\u001b[1;32m    637\u001b[0m             retries = retries.increment(method, url, error=e, _pool=self,\n\u001b[0;32m--> 638\u001b[0;31m                                         _stacktrace=sys.exc_info()[2])\n\u001b[0m\u001b[1;32m    639\u001b[0m             \u001b[0mretries\u001b[0m\u001b[0;34m.\u001b[0m\u001b[0msleep\u001b[0m\u001b[0;34m(\u001b[0m\u001b[0;34m)\u001b[0m\u001b[0;34m\u001b[0m\u001b[0;34m\u001b[0m\u001b[0m\n",
      "\u001b[0;32m~/.virtualenvs/autotest/lib/python3.6/site-packages/urllib3/util/retry.py\u001b[0m in \u001b[0;36mincrement\u001b[0;34m(self, method, url, response, error, _pool, _stacktrace)\u001b[0m\n\u001b[1;32m    397\u001b[0m         \u001b[0;32mif\u001b[0m \u001b[0mnew_retry\u001b[0m\u001b[0;34m.\u001b[0m\u001b[0mis_exhausted\u001b[0m\u001b[0;34m(\u001b[0m\u001b[0;34m)\u001b[0m\u001b[0;34m:\u001b[0m\u001b[0;34m\u001b[0m\u001b[0;34m\u001b[0m\u001b[0m\n\u001b[0;32m--> 398\u001b[0;31m             \u001b[0;32mraise\u001b[0m \u001b[0mMaxRetryError\u001b[0m\u001b[0;34m(\u001b[0m\u001b[0m_pool\u001b[0m\u001b[0;34m,\u001b[0m \u001b[0murl\u001b[0m\u001b[0;34m,\u001b[0m \u001b[0merror\u001b[0m \u001b[0;32mor\u001b[0m \u001b[0mResponseError\u001b[0m\u001b[0;34m(\u001b[0m\u001b[0mcause\u001b[0m\u001b[0;34m)\u001b[0m\u001b[0;34m)\u001b[0m\u001b[0;34m\u001b[0m\u001b[0;34m\u001b[0m\u001b[0m\n\u001b[0m\u001b[1;32m    399\u001b[0m \u001b[0;34m\u001b[0m\u001b[0m\n",
      "\u001b[0;31mMaxRetryError\u001b[0m: HTTPConnectionPool(host='54.84.163.144', port=55000): Max retries exceeded with url: / (Caused by NewConnectionError('<urllib3.connection.HTTPConnection object at 0x7f176ee9bd68>: Failed to establish a new connection: [Errno 110] Connection timed out',))",
      "\nDuring handling of the above exception, another exception occurred:\n",
      "\u001b[0;31mConnectionError\u001b[0m                           Traceback (most recent call last)",
      "\u001b[0;32m<ipython-input-10-a57dc184208a>\u001b[0m in \u001b[0;36m<module>\u001b[0;34m\u001b[0m\n\u001b[0;32m----> 1\u001b[0;31m \u001b[0mtest_suite\u001b[0m\u001b[0;34m.\u001b[0m\u001b[0mrun\u001b[0m\u001b[0;34m(\u001b[0m\u001b[0;34m)\u001b[0m\u001b[0;34m\u001b[0m\u001b[0;34m\u001b[0m\u001b[0m\n\u001b[0m",
      "\u001b[0;32m~/Code/autotest/autotest/run_test.py\u001b[0m in \u001b[0;36mrun\u001b[0;34m(self)\u001b[0m\n\u001b[1;32m     44\u001b[0m             \u001b[0;32mif\u001b[0m \u001b[0mmember\u001b[0m\u001b[0;34m.\u001b[0m\u001b[0mstartswith\u001b[0m\u001b[0;34m(\u001b[0m\u001b[0;34m'test_'\u001b[0m\u001b[0;34m)\u001b[0m \u001b[0;32mand\u001b[0m \u001b[0mhasattr\u001b[0m\u001b[0;34m(\u001b[0m\u001b[0mmethod\u001b[0m\u001b[0;34m,\u001b[0m \u001b[0;34m'__call__'\u001b[0m\u001b[0;34m)\u001b[0m\u001b[0;34m:\u001b[0m\u001b[0;34m\u001b[0m\u001b[0;34m\u001b[0m\u001b[0m\n\u001b[1;32m     45\u001b[0m                 \u001b[0mprint\u001b[0m\u001b[0;34m(\u001b[0m\u001b[0mmember\u001b[0m\u001b[0;34m.\u001b[0m\u001b[0mreplace\u001b[0m\u001b[0;34m(\u001b[0m\u001b[0;34m'_'\u001b[0m\u001b[0;34m,\u001b[0m \u001b[0;34m' '\u001b[0m\u001b[0;34m)\u001b[0m\u001b[0;34m)\u001b[0m\u001b[0;34m\u001b[0m\u001b[0;34m\u001b[0m\u001b[0m\n\u001b[0;32m---> 46\u001b[0;31m                 \u001b[0mmethod\u001b[0m\u001b[0;34m(\u001b[0m\u001b[0;34m)\u001b[0m\u001b[0;34m\u001b[0m\u001b[0;34m\u001b[0m\u001b[0m\n\u001b[0m\u001b[1;32m     47\u001b[0m \u001b[0;34m\u001b[0m\u001b[0m\n\u001b[1;32m     48\u001b[0m     \"\"\"\n",
      "\u001b[0;32m~/Code/autotest/autotest/run_test.py\u001b[0m in \u001b[0;36mtest_account_creation\u001b[0;34m(self, num_worker_threads, pwr)\u001b[0m\n\u001b[1;32m     51\u001b[0m \u001b[0;34m\u001b[0m\u001b[0m\n\u001b[1;32m     52\u001b[0m     \u001b[0;32mdef\u001b[0m \u001b[0mtest_account_creation\u001b[0m\u001b[0;34m(\u001b[0m\u001b[0mself\u001b[0m\u001b[0;34m,\u001b[0m \u001b[0mnum_worker_threads\u001b[0m\u001b[0;34m=\u001b[0m\u001b[0;36m32\u001b[0m\u001b[0;34m,\u001b[0m \u001b[0mpwr\u001b[0m\u001b[0;34m=\u001b[0m\u001b[0;36m5\u001b[0m\u001b[0;34m)\u001b[0m\u001b[0;34m:\u001b[0m\u001b[0;34m\u001b[0m\u001b[0;34m\u001b[0m\u001b[0m\n\u001b[0;32m---> 53\u001b[0;31m         \u001b[0mself\u001b[0m\u001b[0;34m.\u001b[0m\u001b[0mcreate_accounts_parallel\u001b[0m\u001b[0;34m(\u001b[0m\u001b[0mpwr\u001b[0m\u001b[0;34m,\u001b[0m \u001b[0mnum_worker_threads\u001b[0m\u001b[0;34m=\u001b[0m\u001b[0mnum_worker_threads\u001b[0m\u001b[0;34m)\u001b[0m\u001b[0;34m\u001b[0m\u001b[0;34m\u001b[0m\u001b[0m\n\u001b[0m\u001b[1;32m     54\u001b[0m         \u001b[0merr_dict\u001b[0m \u001b[0;34m=\u001b[0m \u001b[0mself\u001b[0m\u001b[0;34m.\u001b[0m\u001b[0mverify_account_creation\u001b[0m\u001b[0;34m(\u001b[0m\u001b[0mpwr\u001b[0m\u001b[0;34m)\u001b[0m\u001b[0;34m\u001b[0m\u001b[0;34m\u001b[0m\u001b[0m\n\u001b[1;32m     55\u001b[0m         \u001b[0;32mif\u001b[0m \u001b[0mlen\u001b[0m\u001b[0;34m(\u001b[0m\u001b[0merr_dict\u001b[0m\u001b[0;34m)\u001b[0m\u001b[0;34m:\u001b[0m\u001b[0;34m\u001b[0m\u001b[0;34m\u001b[0m\u001b[0m\n",
      "\u001b[0;32m~/Code/autotest/autotest/run_test.py\u001b[0m in \u001b[0;36mcreate_accounts_parallel\u001b[0;34m(self, powr, num_worker_threads)\u001b[0m\n\u001b[1;32m    161\u001b[0m             \u001b[0maccount\u001b[0m \u001b[0;34m=\u001b[0m \u001b[0mself\u001b[0m\u001b[0;34m.\u001b[0m\u001b[0maccounts\u001b[0m\u001b[0;34m[\u001b[0m\u001b[0mi\u001b[0m\u001b[0;34m]\u001b[0m\u001b[0;34m\u001b[0m\u001b[0;34m\u001b[0m\u001b[0m\n\u001b[1;32m    162\u001b[0m             \u001b[0md_id\u001b[0m\u001b[0;34m,\u001b[0m \u001b[0mblock_data\u001b[0m \u001b[0;34m=\u001b[0m \u001b[0mself\u001b[0m\u001b[0;34m.\u001b[0m\u001b[0mcreate_next_genesis_txn\u001b[0m\u001b[0;34m(\u001b[0m\u001b[0maccount\u001b[0m\u001b[0;34m[\u001b[0m\u001b[0;34m'account'\u001b[0m\u001b[0;34m]\u001b[0m\u001b[0;34m,\u001b[0m \u001b[0md_id\u001b[0m\u001b[0;34m,\u001b[0m \u001b[0;36m2000000000000\u001b[0m\u001b[0;34m)\u001b[0m\u001b[0;34m\u001b[0m\u001b[0;34m\u001b[0m\u001b[0m\n\u001b[0;32m--> 163\u001b[0;31m             \u001b[0mself\u001b[0m\u001b[0;34m.\u001b[0m\u001b[0mnodes\u001b[0m\u001b[0;34m[\u001b[0m\u001b[0md_id\u001b[0m\u001b[0;34m]\u001b[0m\u001b[0;34m.\u001b[0m\u001b[0mprocess\u001b[0m\u001b[0;34m(\u001b[0m\u001b[0mblock_data\u001b[0m\u001b[0;34m[\u001b[0m\u001b[0;34m'request'\u001b[0m\u001b[0;34m]\u001b[0m\u001b[0;34m)\u001b[0m\u001b[0;34m\u001b[0m\u001b[0;34m\u001b[0m\u001b[0m\n\u001b[0m\u001b[1;32m    164\u001b[0m             \u001b[0md_id\u001b[0m \u001b[0;34m=\u001b[0m \u001b[0mdesignated_delegate\u001b[0m\u001b[0;34m(\u001b[0m\u001b[0mg_pub\u001b[0m\u001b[0;34m,\u001b[0m \u001b[0mblock_data\u001b[0m\u001b[0;34m[\u001b[0m\u001b[0;34m'hash'\u001b[0m\u001b[0;34m]\u001b[0m\u001b[0;34m)\u001b[0m\u001b[0;34m\u001b[0m\u001b[0;34m\u001b[0m\u001b[0m\n\u001b[1;32m    165\u001b[0m             \u001b[0;32mif\u001b[0m \u001b[0;32mnot\u001b[0m \u001b[0mself\u001b[0m\u001b[0;34m.\u001b[0m\u001b[0mwait_for_blocks_persistence\u001b[0m\u001b[0;34m(\u001b[0m\u001b[0;34m[\u001b[0m\u001b[0mblock_data\u001b[0m\u001b[0;34m[\u001b[0m\u001b[0;34m'hash'\u001b[0m\u001b[0;34m]\u001b[0m\u001b[0;34m]\u001b[0m\u001b[0;34m)\u001b[0m\u001b[0;34m:\u001b[0m\u001b[0;34m\u001b[0m\u001b[0;34m\u001b[0m\u001b[0m\n",
      "\u001b[0;32m~/Code/autotest/autotest/utils.py\u001b[0m in \u001b[0;36mprocess\u001b[0;34m(self, block)\u001b[0m\n\u001b[1;32m     91\u001b[0m \u001b[0;34m\u001b[0m\u001b[0m\n\u001b[1;32m     92\u001b[0m     \u001b[0;32mdef\u001b[0m \u001b[0mprocess\u001b[0m\u001b[0;34m(\u001b[0m\u001b[0mself\u001b[0m\u001b[0;34m,\u001b[0m \u001b[0mblock\u001b[0m\u001b[0;34m)\u001b[0m\u001b[0;34m:\u001b[0m\u001b[0;34m\u001b[0m\u001b[0;34m\u001b[0m\u001b[0m\n\u001b[0;32m---> 93\u001b[0;31m         \u001b[0;32mreturn\u001b[0m \u001b[0mself\u001b[0m\u001b[0;34m.\u001b[0m\u001b[0mcall\u001b[0m\u001b[0;34m(\u001b[0m\u001b[0;34m'process'\u001b[0m\u001b[0;34m,\u001b[0m \u001b[0mrequest\u001b[0m\u001b[0;34m=\u001b[0m\u001b[0mblock\u001b[0m\u001b[0;34m)\u001b[0m\u001b[0;34m\u001b[0m\u001b[0;34m\u001b[0m\u001b[0m\n\u001b[0m\u001b[1;32m     94\u001b[0m \u001b[0;34m\u001b[0m\u001b[0m\n\u001b[1;32m     95\u001b[0m     \u001b[0;32mdef\u001b[0m \u001b[0mmicroblock_test\u001b[0m\u001b[0;34m(\u001b[0m\u001b[0mself\u001b[0m\u001b[0;34m)\u001b[0m\u001b[0;34m:\u001b[0m\u001b[0;34m\u001b[0m\u001b[0;34m\u001b[0m\u001b[0m\n",
      "\u001b[0;32m~/Code/autotest/autotest/utils.py\u001b[0m in \u001b[0;36mcall\u001b[0;34m(self, action, merge_block, **kwargs)\u001b[0m\n\u001b[1;32m     49\u001b[0m         \u001b[0mmessage\u001b[0m \u001b[0;34m=\u001b[0m \u001b[0;34m{\u001b[0m\u001b[0;34m'rpc_action'\u001b[0m\u001b[0;34m:\u001b[0m \u001b[0maction\u001b[0m\u001b[0;34m,\u001b[0m \u001b[0;34m**\u001b[0m\u001b[0mkwargs\u001b[0m\u001b[0;34m}\u001b[0m\u001b[0;34m\u001b[0m\u001b[0;34m\u001b[0m\u001b[0m\n\u001b[1;32m     50\u001b[0m         \u001b[0mmessage\u001b[0m\u001b[0;34m.\u001b[0m\u001b[0mupdate\u001b[0m\u001b[0;34m(\u001b[0m\u001b[0mmerge_block\u001b[0m\u001b[0;34m)\u001b[0m\u001b[0;34m\u001b[0m\u001b[0;34m\u001b[0m\u001b[0m\n\u001b[0;32m---> 51\u001b[0;31m         \u001b[0mresp\u001b[0m \u001b[0;34m=\u001b[0m \u001b[0mrequests\u001b[0m\u001b[0;34m.\u001b[0m\u001b[0mpost\u001b[0m\u001b[0;34m(\u001b[0m\u001b[0mself\u001b[0m\u001b[0;34m.\u001b[0m\u001b[0muri\u001b[0m\u001b[0;34m,\u001b[0m \u001b[0mjson\u001b[0m\u001b[0;34m=\u001b[0m\u001b[0mmessage\u001b[0m\u001b[0;34m,\u001b[0m \u001b[0mheaders\u001b[0m\u001b[0;34m=\u001b[0m\u001b[0;34m{\u001b[0m\u001b[0;34m'Content-Type'\u001b[0m\u001b[0;34m:\u001b[0m \u001b[0;34m'application/json'\u001b[0m\u001b[0;34m}\u001b[0m\u001b[0;34m)\u001b[0m\u001b[0;34m\u001b[0m\u001b[0;34m\u001b[0m\u001b[0m\n\u001b[0m\u001b[1;32m     52\u001b[0m         \u001b[0mres\u001b[0m \u001b[0;34m=\u001b[0m \u001b[0mresp\u001b[0m\u001b[0;34m.\u001b[0m\u001b[0mjson\u001b[0m\u001b[0;34m(\u001b[0m\u001b[0;34m)\u001b[0m\u001b[0;34m\u001b[0m\u001b[0;34m\u001b[0m\u001b[0m\n\u001b[1;32m     53\u001b[0m         \u001b[0;32mif\u001b[0m \u001b[0;34m'error'\u001b[0m \u001b[0;32min\u001b[0m \u001b[0mres\u001b[0m\u001b[0;34m:\u001b[0m\u001b[0;34m\u001b[0m\u001b[0;34m\u001b[0m\u001b[0m\n",
      "\u001b[0;32m~/.virtualenvs/autotest/lib/python3.6/site-packages/requests/api.py\u001b[0m in \u001b[0;36mpost\u001b[0;34m(url, data, json, **kwargs)\u001b[0m\n\u001b[1;32m    114\u001b[0m     \"\"\"\n\u001b[1;32m    115\u001b[0m \u001b[0;34m\u001b[0m\u001b[0m\n\u001b[0;32m--> 116\u001b[0;31m     \u001b[0;32mreturn\u001b[0m \u001b[0mrequest\u001b[0m\u001b[0;34m(\u001b[0m\u001b[0;34m'post'\u001b[0m\u001b[0;34m,\u001b[0m \u001b[0murl\u001b[0m\u001b[0;34m,\u001b[0m \u001b[0mdata\u001b[0m\u001b[0;34m=\u001b[0m\u001b[0mdata\u001b[0m\u001b[0;34m,\u001b[0m \u001b[0mjson\u001b[0m\u001b[0;34m=\u001b[0m\u001b[0mjson\u001b[0m\u001b[0;34m,\u001b[0m \u001b[0;34m**\u001b[0m\u001b[0mkwargs\u001b[0m\u001b[0;34m)\u001b[0m\u001b[0;34m\u001b[0m\u001b[0;34m\u001b[0m\u001b[0m\n\u001b[0m\u001b[1;32m    117\u001b[0m \u001b[0;34m\u001b[0m\u001b[0m\n\u001b[1;32m    118\u001b[0m \u001b[0;34m\u001b[0m\u001b[0m\n",
      "\u001b[0;32m~/.virtualenvs/autotest/lib/python3.6/site-packages/requests/api.py\u001b[0m in \u001b[0;36mrequest\u001b[0;34m(method, url, **kwargs)\u001b[0m\n\u001b[1;32m     58\u001b[0m     \u001b[0;31m# cases, and look like a memory leak in others.\u001b[0m\u001b[0;34m\u001b[0m\u001b[0;34m\u001b[0m\u001b[0;34m\u001b[0m\u001b[0m\n\u001b[1;32m     59\u001b[0m     \u001b[0;32mwith\u001b[0m \u001b[0msessions\u001b[0m\u001b[0;34m.\u001b[0m\u001b[0mSession\u001b[0m\u001b[0;34m(\u001b[0m\u001b[0;34m)\u001b[0m \u001b[0;32mas\u001b[0m \u001b[0msession\u001b[0m\u001b[0;34m:\u001b[0m\u001b[0;34m\u001b[0m\u001b[0;34m\u001b[0m\u001b[0m\n\u001b[0;32m---> 60\u001b[0;31m         \u001b[0;32mreturn\u001b[0m \u001b[0msession\u001b[0m\u001b[0;34m.\u001b[0m\u001b[0mrequest\u001b[0m\u001b[0;34m(\u001b[0m\u001b[0mmethod\u001b[0m\u001b[0;34m=\u001b[0m\u001b[0mmethod\u001b[0m\u001b[0;34m,\u001b[0m \u001b[0murl\u001b[0m\u001b[0;34m=\u001b[0m\u001b[0murl\u001b[0m\u001b[0;34m,\u001b[0m \u001b[0;34m**\u001b[0m\u001b[0mkwargs\u001b[0m\u001b[0;34m)\u001b[0m\u001b[0;34m\u001b[0m\u001b[0;34m\u001b[0m\u001b[0m\n\u001b[0m\u001b[1;32m     61\u001b[0m \u001b[0;34m\u001b[0m\u001b[0m\n\u001b[1;32m     62\u001b[0m \u001b[0;34m\u001b[0m\u001b[0m\n",
      "\u001b[0;32m~/.virtualenvs/autotest/lib/python3.6/site-packages/requests/sessions.py\u001b[0m in \u001b[0;36mrequest\u001b[0;34m(self, method, url, params, data, headers, cookies, files, auth, timeout, allow_redirects, proxies, hooks, stream, verify, cert, json)\u001b[0m\n\u001b[1;32m    531\u001b[0m         }\n\u001b[1;32m    532\u001b[0m         \u001b[0msend_kwargs\u001b[0m\u001b[0;34m.\u001b[0m\u001b[0mupdate\u001b[0m\u001b[0;34m(\u001b[0m\u001b[0msettings\u001b[0m\u001b[0;34m)\u001b[0m\u001b[0;34m\u001b[0m\u001b[0;34m\u001b[0m\u001b[0m\n\u001b[0;32m--> 533\u001b[0;31m         \u001b[0mresp\u001b[0m \u001b[0;34m=\u001b[0m \u001b[0mself\u001b[0m\u001b[0;34m.\u001b[0m\u001b[0msend\u001b[0m\u001b[0;34m(\u001b[0m\u001b[0mprep\u001b[0m\u001b[0;34m,\u001b[0m \u001b[0;34m**\u001b[0m\u001b[0msend_kwargs\u001b[0m\u001b[0;34m)\u001b[0m\u001b[0;34m\u001b[0m\u001b[0;34m\u001b[0m\u001b[0m\n\u001b[0m\u001b[1;32m    534\u001b[0m \u001b[0;34m\u001b[0m\u001b[0m\n\u001b[1;32m    535\u001b[0m         \u001b[0;32mreturn\u001b[0m \u001b[0mresp\u001b[0m\u001b[0;34m\u001b[0m\u001b[0;34m\u001b[0m\u001b[0m\n",
      "\u001b[0;32m~/.virtualenvs/autotest/lib/python3.6/site-packages/requests/sessions.py\u001b[0m in \u001b[0;36msend\u001b[0;34m(self, request, **kwargs)\u001b[0m\n\u001b[1;32m    644\u001b[0m \u001b[0;34m\u001b[0m\u001b[0m\n\u001b[1;32m    645\u001b[0m         \u001b[0;31m# Send the request\u001b[0m\u001b[0;34m\u001b[0m\u001b[0;34m\u001b[0m\u001b[0;34m\u001b[0m\u001b[0m\n\u001b[0;32m--> 646\u001b[0;31m         \u001b[0mr\u001b[0m \u001b[0;34m=\u001b[0m \u001b[0madapter\u001b[0m\u001b[0;34m.\u001b[0m\u001b[0msend\u001b[0m\u001b[0;34m(\u001b[0m\u001b[0mrequest\u001b[0m\u001b[0;34m,\u001b[0m \u001b[0;34m**\u001b[0m\u001b[0mkwargs\u001b[0m\u001b[0;34m)\u001b[0m\u001b[0;34m\u001b[0m\u001b[0;34m\u001b[0m\u001b[0m\n\u001b[0m\u001b[1;32m    647\u001b[0m \u001b[0;34m\u001b[0m\u001b[0m\n\u001b[1;32m    648\u001b[0m         \u001b[0;31m# Total elapsed time of the request (approximately)\u001b[0m\u001b[0;34m\u001b[0m\u001b[0;34m\u001b[0m\u001b[0;34m\u001b[0m\u001b[0m\n",
      "\u001b[0;32m~/.virtualenvs/autotest/lib/python3.6/site-packages/requests/adapters.py\u001b[0m in \u001b[0;36msend\u001b[0;34m(self, request, stream, timeout, verify, cert, proxies)\u001b[0m\n\u001b[1;32m    514\u001b[0m                 \u001b[0;32mraise\u001b[0m \u001b[0mSSLError\u001b[0m\u001b[0;34m(\u001b[0m\u001b[0me\u001b[0m\u001b[0;34m,\u001b[0m \u001b[0mrequest\u001b[0m\u001b[0;34m=\u001b[0m\u001b[0mrequest\u001b[0m\u001b[0;34m)\u001b[0m\u001b[0;34m\u001b[0m\u001b[0;34m\u001b[0m\u001b[0m\n\u001b[1;32m    515\u001b[0m \u001b[0;34m\u001b[0m\u001b[0m\n\u001b[0;32m--> 516\u001b[0;31m             \u001b[0;32mraise\u001b[0m \u001b[0mConnectionError\u001b[0m\u001b[0;34m(\u001b[0m\u001b[0me\u001b[0m\u001b[0;34m,\u001b[0m \u001b[0mrequest\u001b[0m\u001b[0;34m=\u001b[0m\u001b[0mrequest\u001b[0m\u001b[0;34m)\u001b[0m\u001b[0;34m\u001b[0m\u001b[0;34m\u001b[0m\u001b[0m\n\u001b[0m\u001b[1;32m    517\u001b[0m \u001b[0;34m\u001b[0m\u001b[0m\n\u001b[1;32m    518\u001b[0m         \u001b[0;32mexcept\u001b[0m \u001b[0mClosedPoolError\u001b[0m \u001b[0;32mas\u001b[0m \u001b[0me\u001b[0m\u001b[0;34m:\u001b[0m\u001b[0;34m\u001b[0m\u001b[0;34m\u001b[0m\u001b[0m\n",
      "\u001b[0;31mConnectionError\u001b[0m: HTTPConnectionPool(host='54.84.163.144', port=55000): Max retries exceeded with url: / (Caused by NewConnectionError('<urllib3.connection.HTTPConnection object at 0x7f176ee9bd68>: Failed to establish a new connection: [Errno 110] Connection timed out',))"
     ]
    }
   ],
   "source": [
    "test_suite.run()"
   ]
  },
  {
   "cell_type": "code",
   "execution_count": 15,
   "metadata": {},
   "outputs": [
    {
     "data": {
      "text/plain": [
       "'/home/cj/Code/autotest/autotest'"
      ]
     },
     "execution_count": 15,
     "metadata": {},
     "output_type": "execute_result"
    }
   ],
   "source": [
    "import os\n",
    "os.getcwd()"
   ]
  },
  {
   "cell_type": "code",
   "execution_count": 14,
   "metadata": {},
   "outputs": [
    {
     "data": {
      "text/plain": [
       "['[2019-02-25 15:44:21.382570 warning]: PersistenceManager creating default reservations\\n[2019-02-25 15:44:21.383334 debug]: DelegateIdentityManager::IdentifyDelegates retrieving delegates from epoch 1\\n[2019-02-25 15:44:21.384433 info]: VOTE:  total is 3249600 quorum is 2166399 max tolerated fault is 1083199\\n[2019-02-25 15:44:21.384464 info]: STAKE: total is 3249600 quorum is 2166399 max tolerated fault is 1083199\\n[2019-02-25 15:44:21.385487 info]: VOTE:  total is 3249600 quorum is 2166399 max tolerated fault is 1083199\\n[2019-02-25 15:44:21.385510 info]: STAKE: total is 3249600 quorum is 2166399 max tolerated fault is 1083199\\n[2019-02-25 15:44:21.386327 info]: VOTE:  total is 3249600 quorum is 2166399 max tolerated fault is 1083199\\n[2019-02-25 15:44:21.386351 info]: STAKE: total is 3249600 quorum is 2166399 max tolerated fault is 1083199\\n[2019-02-25 15:44:21.386877 info]: ConsensusNetIO - Trying to connect to: 172.31.92.220:60000 remote delegate id 1 connection Current\\n[2019-02-25 15:44:21.386982 info]: ConsensusNetIO - Trying to connect to: 172.31.82.208:60000 remote delegate id 2 connection Current\\n[2019-02-25 15:44:21.387057 info]: ConsensusNetIO - Trying to connect to: 172.31.93.18:60000 remote delegate id 3 connection Current\\n[2019-02-25 15:44:21.387134 info]: ConsensusNetIO - Trying to connect to: 172.31.85.125:60000 remote delegate id 4 connection Current\\n[2019-02-25 15:44:21.387205 info]: ConsensusNetIO - Trying to connect to: 172.31.83.2:60000 remote delegate id 5 connection Current\\n[2019-02-25 15:44:21.387273 info]: ConsensusNetIO - Trying to connect to: 172.31.89.87:60000 remote delegate id 6 connection Current\\n[2019-02-25 15:44:21.387351 info]: ConsensusNetIO - Trying to connect to: 172.31.94.98:60000 remote delegate id 7 connection Current\\n[2019-02-25 15:44:21.387443 info]: ConsensusNetIO - Trying to connect to: 172.31.95.206:60000 remote delegate id 8 connection Current\\n[2019-02-25 15:44:21.387521 info]: ConsensusNetIO - Trying to connect to: 172.31.88.76:60000 remote delegate id 9 connection Current\\n[2019-02-25 15:44:21.387596 info]: ConsensusNetIO - Trying to connect to: 172.31.82.144:60000 remote delegate id 10 connection Current\\n[2019-02-25 15:44:21.387683 info]: ConsensusNetIO - Trying to connect to: 172.31.83.233:60000 remote delegate id 11 connection Current\\n[2019-02-25 15:44:21.387756 info]: ConsensusNetIO - Trying to connect to: 172.31.84.225:60000 remote delegate id 12 connection Current\\n[2019-02-25 15:44:21.387851 info]: ConsensusNetIO - Trying to connect to: 172.31.88.46:60000 remote delegate id 13 connection Current\\n[2019-02-25 15:44:21.387937 info]: ConsensusNetIO - Trying to connect to: 172.31.90.45:60000 remote delegate id 14 connection Current\\n[2019-02-25 15:44:21.388008 info]: ConsensusNetIO - Trying to connect to: 172.31.89.233:60000 remote delegate id 15 connection Current\\n[2019-02-25 15:44:21.388103 info]: ConsensusNetIO - Trying to connect to: 172.31.95.248:60000 remote delegate id 16 connection Current\\n[2019-02-25 15:44:21.388192 info]: ConsensusNetIO - Trying to connect to: 172.31.93.26:60000 remote delegate id 17 connection Current\\n[2019-02-25 15:44:21.388274 info]: ConsensusNetIO - Trying to connect to: 172.31.92.205:60000 remote delegate id 18 connection Current\\n[2019-02-25 15:44:21.388359 info]: ConsensusNetIO - Trying to connect to: 172.31.86.44:60000 remote delegate id 19 connection Current\\n[2019-02-25 15:44:21.388446 info]: ConsensusNetIO - Trying to connect to: 172.31.92.101:60000 remote delegate id 20 connection Current\\n[2019-02-25 15:44:21.388522 info]: ConsensusNetIO - Trying to connect to: 172.31.80.49:60000 remote delegate id 21 connection Current\\n[2019-02-25 15:44:21.388588 info]: ConsensusNetIO - Trying to connect to: 172.31.83.181:60000 remote delegate id 22 connection Current\\n[2019-02-25 15:44:21.388682 info]: ConsensusNetIO - Trying to connect to: 172.31.94.122:60000 remote delegate id 23 connection Current\\n[2019-02-25 15:44:21.388756 info]: ConsensusNetIO - Trying to connect to: 172.31.82.122:60000 remote delegate id 24 connection Current\\n[2019-02-25 15:44:21.388840 info]: ConsensusNetIO - Trying to connect to: 172.31.93.108:60000 remote delegate id 25 connection Current\\n[2019-02-25 15:44:21.388928 info]: ConsensusNetIO - Trying to connect to: 172.31.87.98:60000 remote delegate id 26 connection Current\\n[2019-02-25 15:44:21.389017 info]: ConsensusNetIO - Trying to connect to: 172.31.92.242:60000 remote delegate id 27 connection Current\\n[2019-02-25 15:44:21.389096 info]: ConsensusNetIO - Trying to connect to: 172.31.95.233:60000 remote delegate id 28 connection Current\\n[2019-02-25 15:44:21.389167 info]: ConsensusNetIO - Trying to connect to: 172.31.80.50:60000 remote delegate id 29 connection Current\\n[2019-02-25 15:44:21.389254 info]: ConsensusNetIO - Trying to connect to: 172.31.93.205:60000 remote delegate id 30 connection Current\\n[2019-02-25 15:44:21.389320 info]: ConsensusNetIO - Trying to connect to: 172.31.80.253:60000 remote delegate id 31 connection Current\\n[2019-02-25 15:44:21.389440 info]: ConsensusContainer::ConsensusContainer initialized delegate is in epoch true epoch transition enabled false 0 0 3\\n[2019-02-25 15:44:21.389483 info]: TxPeerManager::TxPeerManager creating acceptor on 172.31.82.5:56001\\n[2019-02-25 15:44:21.389558 info]: TxPeerManager::TxPeerManager creating acceptor on 172.31.82.5:56002\\n[2019-02-25 15:44:21.389615 info]: TxAcceptor::TxAcceptor creating delegate TxAcceptor\\n[2019-02-25 15:44:21.389967 info]: [p2p] logos version v0.1.0.0-unk (release build)\\n[2019-02-25 15:44:21.390008 info]: [p2p] InitParameterInteraction: parameter interaction: -whitelistforcerelay=1 -> setting -whitelistrelay=1\\n[2019-02-25 15:44:21.390044 info]: [p2p] Using the \\'standard\\' Blake2b implementation\\n[2019-02-25 15:44:21.390060 info]: [p2p] Using RdRand as an additional entropy source\\n[2019-02-25 15:44:21.391296 info]: [p2p] Startup time: 2019-02-25T15:44:21Z\\n[2019-02-25 15:44:21.391321 info]: [p2p] Using at most 125 automatic connections (1024 file descriptors available)\\n[2019-02-25 15:44:21.392015 info]: [p2p] Bound to [::]:14495\\n[2019-02-25 15:44:21.392115 info]: [p2p] Error: Unable to bind to 0.0.0.0:14495: bind: Address already in use\\n[2019-02-25 15:44:21.392152 info]: [p2p] ERROR: DeserializeLMDB: Failed to get peers data, error -30798\\n[2019-02-25 15:44:21.392423 info]: [p2p] Invalid or missing peers.dat; recreating\\n[2019-02-25 15:44:21.397131 info]: [p2p] ERROR: DeserializeLMDB: Failed to get banlist data, error -30798\\n[2019-02-25 15:44:21.397156 info]: [p2p] Invalid or missing banlist.dat; recreating\\n[2019-02-25 15:44:21.400436 warning]: ConsensusNetIO - Error connecting to 172.31.92.220:60000 : Connection refused Retrying in 5 seconds.\\n[2019-02-25 15:44:21.400514 warning]: ConsensusNetIO - Error connecting to 172.31.82.208:60000 : Connection refused Retrying in 5 seconds.\\n[2019-02-25 15:44:21.400568 warning]: ConsensusNetIO - Error connecting to 172.31.93.18:60000 : Connection refused Retrying in 5 seconds.\\n[2019-02-25 15:44:21.400621 warning]: ConsensusNetIO - Error connecting to 172.31.85.125:60000 : Connection refused Retrying in 5 seconds.\\n[2019-02-25 15:44:21.400672 warning]: ConsensusNetIO - Error connecting to 172.31.83.2:60000 : Connection refused Retrying in 5 seconds.\\n[2019-02-25 15:44:21.400780 warning]: ConsensusNetIO - Error connecting to 172.31.95.206:60000 : Connection refused Retrying in 5 seconds.\\n[2019-02-25 15:44:21.400846 warning]: ConsensusNetIO - Error connecting to 172.31.88.76:60000 : Connection refused Retrying in 5 seconds.\\n[2019-02-25 15:44:21.400898 warning]: ConsensusNetIO - Error connecting to 172.31.82.144:60000 : Connection refused Retrying in 5 seconds.\\n[2019-02-25 15:44:21.400947 warning]: ConsensusNetIO - Error connecting to 172.31.83.233:60000 : Connection refused Retrying in 5 seconds.\\n[2019-02-25 15:44:21.400996 warning]: ConsensusNetIO - Error connecting to 172.31.84.225:60000 : Connection refused Retrying in 5 seconds.\\n[2019-02-25 15:44:21.401044 warning]: ConsensusNetIO - Error connecting to 172.31.88.46:60000 : Connection refused Retrying in 5 seconds.\\n[2019-02-25 15:44:21.401093 warning]: ConsensusNetIO - Error connecting to 172.31.90.45:60000 : Connection refused Retrying in 5 seconds.\\n[2019-02-25 15:44:21.401225 warning]: ConsensusNetIO - Error connecting to 172.31.95.248:60000 : Connection refused Retrying in 5 seconds.\\n[2019-02-25 15:44:21.401312 warning]: ConsensusNetIO - Error connecting to 172.31.93.26:60000 : Connection refused Retrying in 5 seconds.\\n[2019-02-25 15:44:21.401393 warning]: ConsensusNetIO - Error connecting to 172.31.92.205:60000 : Connection refused Retrying in 5 seconds.\\n[2019-02-25 15:44:21.401446 warning]: ConsensusNetIO - Error connecting to 172.31.86.44:60000 : Connection refused Retrying in 5 seconds.\\n[2019-02-25 15:44:21.401509 warning]: ConsensusNetIO - Error connecting to 172.31.92.101:60000 : Connection refused Retrying in 5 seconds.\\n[2019-02-25 15:44:21.401561 warning]: ConsensusNetIO - Error connecting to 172.31.80.49:60000 : Connection refused Retrying in 5 seconds.\\n[2019-02-25 15:44:21.401640 warning]: ConsensusNetIO - Error connecting to 172.31.83.181:60000 : Connection refused Retrying in 5 seconds.\\n[2019-02-25 15:44:21.401741 warning]: ConsensusNetIO - Error connecting to 172.31.82.122:60000 : Connection refused Retrying in 5 seconds.\\n[2019-02-25 15:44:21.401810 warning]: ConsensusNetIO - Error connecting to 172.31.93.108:60000 : Connection refused Retrying in 5 seconds.\\n[2019-02-25 15:44:21.401869 warning]: ConsensusNetIO - Error connecting to 172.31.87.98:60000 : Connection refused Retrying in 5 seconds.\\n[2019-02-25 15:44:21.401913 warning]: ConsensusNetIO - Error connecting to 172.31.94.122:60000 : Connection refused Retrying in 5 seconds.\\n[2019-02-25 15:44:21.401967 warning]: ConsensusNetIO - Error connecting to 172.31.92.242:60000 : Connection refused Retrying in 5 seconds.\\n[2019-02-25 15:44:21.402066 warning]: ConsensusNetIO - Error connecting to 172.31.80.50:60000 : Connection refused Retrying in 5 seconds.\\n[2019-02-25 15:44:21.402126 warning]: ConsensusNetIO - Error connecting to 172.31.93.205:60000 : Connection refused Retrying in 5 seconds.\\n[2019-02-25 15:44:21.402163 warning]: ConsensusNetIO - Error connecting to 172.31.80.253:60000 : Connection refused Retrying in 5 seconds.\\n[2019-02-25 15:44:21.402196 info]: ConsensusNetIO - Connected to 172.31.89.87:60000. Remote delegate id: 6\\n[2019-02-25 15:44:21.402280 info]: ConsensusNetIO - Connected to 172.31.94.98:60000. Remote delegate id: 7\\n[2019-02-25 15:44:21.402347 info]: ConsensusNetIO - Connected to 172.31.89.233:60000. Remote delegate id: 15\\n[2019-02-25 15:44:21.402431 info]: ConsensusNetIO - Connected to 172.31.95.233:60000. Remote delegate id: 28\\n[2019-02-25 15:44:21.402523 debug]: ConsensusNetIO - received message type Key Advertisement for consensus type Any from 172.31.89.87:60000\\n[2019-02-25 15:44:21.403069 info]: ConsensusNetIO - Added consensus connection RequestBlock 0 local delegate 0 remote delegate 6 global 0 Connection Current\\n[2019-02-25 15:44:21.403106 info]: ConsensusNetIO - Added consensus connection MicroBlock 1 local delegate 0 remote delegate 6 global 0 Connection Current\\n[2019-02-25 15:44:21.403137 info]: ConsensusNetIO - Added consensus connection Epoch 2 local delegate 0 remote delegate 6 global 0 Connection Current\\n[2019-02-25 15:44:21.403180 debug]: ConsensusNetIO - received message type Key Advertisement for consensus type Any from 172.31.94.98:60000\\n[2019-02-25 15:44:21.403567 debug]: ConsensusNetIO - received message type Key Advertisement for consensus type Any from 172.31.89.233:60000\\n[2019-02-25 15:44:21.404075 info]: ConsensusNetIO - Added consensus connection RequestBlock 0 local delegate 0 remote delegate 15 global 0 Connection Current\\n[2019-02-25 15:44:21.404115 info]: ConsensusNetIO - Added consensus connection MicroBlock 1 local delegate 0 remote delegate 15 global 0 Connection Current\\n[2019-02-25 15:44:21.404143 info]: ConsensusNetIO - Added consensus connection Epoch 2 local delegate 0 remote delegate 15 global 0 Connection Current\\n[2019-02-25 15:44:21.404191 debug]: ConsensusNetIO - received message type Key Advertisement for consensus type Any from 172.31.95.233:60000\\n[2019-02-25 15:44:21.404799 info]: [p2p] msghand thread start\\n[2019-02-25 15:44:21.404856 info]: [p2p] opencon thread start\\n[2019-02-25 15:44:21.404917 info]: [p2p] addcon thread start\\n[2019-02-25 15:44:21.405359 info]: ConsensusNetIO - Added consensus connection RequestBlock 0 local delegate 0 remote delegate 28 global 0 Connection Current\\n[2019-02-25 15:44:21.405401 info]: ConsensusNetIO - Added consensus connection MicroBlock 1 local delegate 0 remote delegate 28 global 0 Connection Current\\n[2019-02-25 15:44:21.405428 info]: ConsensusNetIO - Added consensus connection Epoch 2 local delegate 0 remote delegate 28 global 0 Connection Current\\n[2019-02-25 15:44:21.405470 info]: [p2p] dnsseed thread start\\n[2019-02-25 15:44:21.405501 info]: [p2p] Loading addresses from DNS seeds (could take a while)\\n[2019-02-25 15:44:21.405514 info]: [p2p] 0 addresses found from DNS seeds\\n[2019-02-25 15:44:21.405524 info]: [p2p] dnsseed thread exit\\n[2019-02-25 15:44:21.405774 info]: ConsensusNetIO - Added consensus connection RequestBlock 0 local delegate 0 remote delegate 7 global 0 Connection Current\\n[2019-02-25 15:44:21.405807 info]: ConsensusNetIO - Added consensus connection MicroBlock 1 local delegate 0 remote delegate 7 global 0 Connection Current\\n[2019-02-25 15:44:21.405833 info]: ConsensusNetIO - Added consensus connection Epoch 2 local delegate 0 remote delegate 7 global 0 Connection Current\\n[2019-02-25 15:44:21.405875 info]: [p2p] net thread start\\n[2019-02-25 15:44:25.239441 info]: {\"rpc_action\": \"account_info\", \"account\": \"lgs_3e3j5tkog48pnny9dmfzj1r16pg8t1e76dz5tmac6iq689wyjfpiij4txtdo\"}\\n[2019-02-25 15:44:26.401373 info]: ConsensusNetIO - Connected to 172.31.92.220:60000. Remote delegate id: 1\\n[2019-02-25 15:44:26.401663 info]: ConsensusNetIO - Connected to 172.31.82.208:60000. Remote delegate id: 2\\n[2019-02-25 15:44:26.401743 info]: ConsensusNetIO - Connected to 172.31.93.18:60000. Remote delegate id: 3\\n[2019-02-25 15:44:26.401871 info]: ConsensusNetIO - Connected to 172.31.85.125:60000. Remote delegate id: 4\\n[2019-02-25 15:44:26.401951 info]: ConsensusNetIO - Connected to 172.31.95.206:60000. Remote delegate id: 8\\n[2019-02-25 15:44:26.402117 info]: ConsensusNetIO - Connected to 172.31.83.2:60000. Remote delegate id: 5\\n[2019-02-25 15:44:26.402174 info]: ConsensusNetIO - Connected to 172.31.82.144:60000. Remote delegate id: 10\\n[2019-02-25 15:44:26.402264 info]: ConsensusNetIO - Connected to 172.31.83.233:60000. Remote delegate id: 11\\n[2019-02-25 15:44:26.402408 debug]: ConsensusNetIO - received message type Key Advertisement for consensus type Any from 172.31.92.220:60000\\n[2019-02-25 15:44:26.403116 info]: ConsensusNetIO - Added consensus connection RequestBlock 0 local delegate 0 remote delegate 1 global 0 Connection Current\\n[2019-02-25 15:44:26.403163 info]: ConsensusNetIO - Added consensus connection MicroBlock 1 local delegate 0 remote delegate 1 global 0 Connection Current\\n[2019-02-25 15:44:26.403200 info]: ConsensusNetIO - Added consensus connection Epoch 2 local delegate 0 remote delegate 1 global 0 Connection Current\\n[2019-02-25 15:44:26.403242 info]: ConsensusNetIO - Connected to 172.31.84.225:60000. Remote delegate id: 12\\n[2019-02-25 15:44:26.403318 info]: ConsensusNetIO - Connected to 172.31.90.45:60000. Remote delegate id: 14\\n[2019-02-25 15:44:26.403392 info]: ConsensusNetIO - Connected to 172.31.88.76:60000. Remote delegate id: 9\\n[2019-02-25 15:44:26.403456 info]: ConsensusNetIO - Connected to 172.31.88.46:60000. Remote delegate id: 13\\n[2019-02-25 15:44:26.403540 debug]: ConsensusNetIO - received message type Key Advertisement for consensus type Any from 172.31.82.208:60000\\n[2019-02-25 15:44:26.404044 info]: ConsensusNetIO - Added consensus connection RequestBlock 0 local delegate 0 remote delegate 2 global 0 Connection Current\\n[2019-02-25 15:44:26.404076 info]: ConsensusNetIO - Added consensus connection MicroBlock 1 local delegate 0 remote delegate 2 global 0 Connection Current\\n[2019-02-25 15:44:26.404102 info]: ConsensusNetIO - Added consensus connection Epoch 2 local delegate 0 remote delegate 2 global 0 Connection Current\\n[2019-02-25 15:44:26.404141 debug]: ConsensusNetIO - received message type Key Advertisement for consensus type Any from 172.31.95.206:60000\\n[2019-02-25 15:44:26.404565 debug]: ConsensusNetIO - received message type Key Advertisement for consensus type Any from 172.31.93.18:60000\\n[2019-02-25 15:44:26.405083 info]: ConsensusNetIO - Added consensus connection RequestBlock 0 local delegate 0 remote delegate 3 global 0 Connection Current\\n[2019-02-25 15:44:26.405122 info]: ConsensusNetIO - Added consensus connection MicroBlock 1 local delegate 0 remote delegate 3 global 0 Connection Current\\n[2019-02-25 15:44:26.405149 info]: ConsensusNetIO - Added consensus connection Epoch 2 local delegate 0 remote delegate 3 global 0 Connection Current\\n[2019-02-25 15:44:26.405190 debug]: ConsensusNetIO - received message type Key Advertisement for consensus type Any from 172.31.85.125:60000\\n[2019-02-25 15:44:26.405679 info]: ConsensusNetIO - Added consensus connection RequestBlock 0 local delegate 0 remote delegate 4 global 0 Connection Current\\n[2019-02-25 15:44:26.405711 info]: ConsensusNetIO - Added consensus connection MicroBlock 1 local delegate 0 remote delegate 4 global 0 Connection Current\\n[2019-02-25 15:44:26.405777 debug]: ConsensusNetIO - received message type Key Advertisement for consensus type Any from 172.31.82.144:60000\\n[2019-02-25 15:44:26.405816 debug]: ConsensusNetIO - received message type Key Advertisement for consensus type Any from 172.31.83.2:60000\\n[2019-02-25 15:44:26.405848 debug]: ConsensusNetIO - received message type Key Advertisement for consensus type Any from 172.31.83.233:60000\\n[2019-02-25 15:44:26.405883 debug]: ConsensusNetIO - received message type Key Advertisement for consensus type Any from 172.31.84.225:60000\\n[2019-02-25 15:44:26.405961 debug]: ConsensusNetIO - received message type Key Advertisement for consensus type Any from 172.31.90.45:60000\\n[2019-02-25 15:44:26.405996 debug]: ConsensusNetIO - received message type Key Advertisement for consensus type Any from 172.31.88.76:60000\\n[2019-02-25 15:44:26.408771 info]: ConsensusNetIO - Added consensus connection Epoch 2 local delegate 0 remote delegate 4 global 0 Connection Current\\n[2019-02-25 15:44:26.408824 debug]: ConsensusNetIO - received message type Key Advertisement for consensus type Any from 172.31.88.46:60000\\n[2019-02-25 15:44:26.409327 info]: ConsensusNetIO - Added consensus connection RequestBlock 0 local delegate 0 remote delegate 13 global 0 Connection Current\\n[2019-02-25 15:44:26.409361 info]: ConsensusNetIO - Added consensus connection MicroBlock 1 local delegate 0 remote delegate 13 global 0 Connection Current\\n[2019-02-25 15:44:26.409390 info]: ConsensusNetIO - Added consensus connection Epoch 2 local delegate 0 remote delegate 13 global 0 Connection Current\\n[2019-02-25 15:44:26.409637 info]: ConsensusNetIO - Added consensus connection RequestBlock 0 local delegate 0 remote delegate 10 global 0 Connection Current\\n[2019-02-25 15:44:26.409684 info]: ConsensusNetIO - Added consensus connection MicroBlock 1 local delegate 0 remote delegate 10 global 0 Connection Current\\n[2019-02-25 15:44:26.409735 info]: ConsensusNetIO - Added consensus connection Epoch 2 local delegate 0 remote delegate 10 global 0 Connection Current\\n[2019-02-25 15:44:26.409798 info]: ConsensusNetIO - Added consensus connection RequestBlock 0 local delegate 0 remote delegate 5 global 0 Connection Current\\n[2019-02-25 15:44:26.409835 info]: ConsensusNetIO - Added consensus connection MicroBlock 1 local delegate 0 remote delegate 5 global 0 Connection Current\\n[2019-02-25 15:44:26.409863 info]: ConsensusNetIO - Added consensus connection Epoch 2 local delegate 0 remote delegate 5 global 0 Connection Current\\n[2019-02-25 15:44:26.409923 info]: ConsensusNetIO - Added consensus connection RequestBlock 0 local delegate 0 remote delegate 11 global 0 Connection Current\\n[2019-02-25 15:44:26.409958 info]: ConsensusNetIO - Added consensus connection MicroBlock 1 local delegate 0 remote delegate 11 global 0 Connection Current\\n[2019-02-25 15:44:26.409985 info]: ConsensusNetIO - Added consensus connection Epoch 2 local delegate 0 remote delegate 11 global 0 Connection Current\\n[2019-02-25 15:44:26.410096 info]: ConsensusNetIO - Added consensus connection RequestBlock 0 local delegate 0 remote delegate 12 global 0 Connection Current\\n[2019-02-25 15:44:26.410127 info]: ConsensusNetIO - Added consensus connection MicroBlock 1 local delegate 0 remote delegate 12 global 0 Connection Current\\n[2019-02-25 15:44:26.410160 info]: ConsensusNetIO - Added consensus connection Epoch 2 local delegate 0 remote delegate 12 global 0 Connection Current\\n[2019-02-25 15:44:26.410219 info]: ConsensusNetIO - Added consensus connection RequestBlock 0 local delegate 0 remote delegate 14 global 0 Connection Current\\n[2019-02-25 15:44:26.410252 info]: ConsensusNetIO - Added consensus connection MicroBlock 1 local delegate 0 remote delegate 14 global 0 Connection Current\\n[2019-02-25 15:44:26.410329 info]: ConsensusNetIO - Added consensus connection Epoch 2 local delegate 0 remote delegate 14 global 0 Connection Current\\n[2019-02-25 15:44:26.410379 info]: ConsensusNetIO - Added consensus connection RequestBlock 0 local delegate 0 remote delegate 9 global 0 Connection Current\\n[2019-02-25 15:44:26.410412 info]: ConsensusNetIO - Added consensus connection MicroBlock 1 local delegate 0 remote delegate 9 global 0 Connection Current\\n[2019-02-25 15:44:26.410443 info]: ConsensusNetIO - Added consensus connection Epoch 2 local delegate 0 remote delegate 9 global 0 Connection Current\\n[2019-02-25 15:44:26.410680 info]: ConsensusNetIO - Connected to 172.31.92.205:60000. Remote delegate id: 18\\n[2019-02-25 15:44:26.410738 info]: ConsensusNetIO - Connected to 172.31.86.44:60000. Remote delegate id: 19\\n[2019-02-25 15:44:26.410788 info]: ConsensusNetIO - Connected to 172.31.92.101:60000. Remote delegate id: 20\\n[2019-02-25 15:44:26.410846 info]: ConsensusNetIO - Connected to 172.31.95.248:60000. Remote delegate id: 16\\n[2019-02-25 15:44:26.410907 info]: ConsensusNetIO - Connected to 172.31.83.181:60000. Remote delegate id: 22\\n[2019-02-25 15:44:26.410996 info]: ConsensusNetIO - Connected to 172.31.82.122:60000. Remote delegate id: 24\\n[2019-02-25 15:44:26.411065 info]: ConsensusNetIO - Connected to 172.31.87.98:60000. Remote delegate id: 26\\n[2019-02-25 15:44:26.411120 info]: ConsensusNetIO - Connected to 172.31.80.49:60000. Remote delegate id: 21\\n[2019-02-25 15:44:26.411227 info]: ConsensusNetIO - Connected to 172.31.93.108:60000. Remote delegate id: 25\\n[2019-02-25 15:44:26.411288 info]: ConsensusNetIO - Connected to 172.31.92.242:60000. Remote delegate id: 27\\n[2019-02-25 15:44:26.411343 info]: ConsensusNetIO - Connected to 172.31.94.122:60000. Remote delegate id: 23\\n[2019-02-25 15:44:26.411436 info]: ConsensusNetIO - Connected to 172.31.80.50:60000. Remote delegate id: 29\\n[2019-02-25 15:44:26.411497 info]: ConsensusNetIO - Connected to 172.31.93.205:60000. Remote delegate id: 30\\n[2019-02-25 15:44:26.411635 debug]: ConsensusNetIO - received message type Key Advertisement for consensus type Any from 172.31.93.205:60000\\n[2019-02-25 15:44:26.412172 info]: ConsensusNetIO - Added consensus connection RequestBlock 0 local delegate 0 remote delegate 30 global 0 Connection Current\\n[2019-02-25 15:44:26.412206 info]: ConsensusNetIO - Added consensus connection MicroBlock 1 local delegate 0 remote delegate 30 global 0 Connection Current\\n[2019-02-25 15:44:26.412229 info]: ConsensusNetIO - Added consensus connection Epoch 2 local delegate 0 remote delegate 30 global 0 Connection Current\\n[2019-02-25 15:44:26.412277 info]: ConsensusNetIO - Connected to 172.31.80.253:60000. Remote delegate id: 31\\n[2019-02-25 15:44:26.412368 debug]: ConsensusNetIO - received message type Key Advertisement for consensus type Any from 172.31.92.205:60000\\n[2019-02-25 15:44:26.412739 debug]: ConsensusNetIO - received message type Key Advertisement for consensus type Any from 172.31.86.44:60000\\n[2019-02-25 15:44:26.413239 info]: ConsensusNetIO - Added consensus connection RequestBlock 0 local delegate 0 remote delegate 19 global 0 Connection Current\\n[2019-02-25 15:44:26.413276 info]: ConsensusNetIO - Added consensus connection MicroBlock 1 local delegate 0 remote delegate 19 global 0 Connection Current\\n[2019-02-25 15:44:26.413309 info]: ConsensusNetIO - Added consensus connection Epoch 2 local delegate 0 remote delegate 19 global 0 Connection Current\\n[2019-02-25 15:44:26.413350 debug]: ConsensusNetIO - received message type Key Advertisement for consensus type Any from 172.31.92.101:60000\\n[2019-02-25 15:44:26.413729 debug]: ConsensusNetIO - received message type Key Advertisement for consensus type Any from 172.31.83.181:60000\\n[2019-02-25 15:44:26.414217 info]: ConsensusNetIO - Added consensus connection RequestBlock 0 local delegate 0 remote delegate 22 global 0 Connection Current\\n[2019-02-25 15:44:26.414250 info]: ConsensusNetIO - Added consensus connection MicroBlock 1 local delegate 0 remote delegate 22 global 0 Connection Current\\n[2019-02-25 15:44:26.414273 info]: ConsensusNetIO - Added consensus connection Epoch 2 local delegate 0 remote delegate 22 global 0 Connection Current\\n[2019-02-25 15:44:26.414310 debug]: ConsensusNetIO - received message type Key Advertisement for consensus type Any from 172.31.87.98:60000\\n[2019-02-25 15:44:26.414795 info]: ConsensusNetIO - Added consensus connection RequestBlock 0 local delegate 0 remote delegate 26 global 0 Connection Current\\n[2019-02-25 15:44:26.414828 info]: ConsensusNetIO - Added consensus connection MicroBlock 1 local delegate 0 remote delegate 26 global 0 Connection Current\\n[2019-02-25 15:44:26.414857 info]: ConsensusNetIO - Added consensus connection Epoch 2 local delegate 0 remote delegate 26 global 0 Connection Current\\n[2019-02-25 15:44:26.414896 debug]: ConsensusNetIO - received message type Key Advertisement for consensus type Any from 172.31.95.248:60000\\n[2019-02-25 15:44:26.415382 info]: ConsensusNetIO - Added consensus connection RequestBlock 0 local delegate 0 remote delegate 16 global 0 Connection Current\\n[2019-02-25 15:44:26.415414 info]: ConsensusNetIO - Added consensus connection MicroBlock 1 local delegate 0 remote delegate 16 global 0 Connection Current\\n[2019-02-25 15:44:26.415437 info]: ConsensusNetIO - Added consensus connection Epoch 2 local delegate 0 remote delegate 16 global 0 Connection Current\\n[2019-02-25 15:44:26.415474 debug]: ConsensusNetIO - received message type Key Advertisement for consensus type Any from 172.31.82.122:60000\\n[2019-02-25 15:44:26.415971 info]: ConsensusNetIO - Added consensus connection RequestBlock 0 local delegate 0 remote delegate 24 global 0 Connection Current\\n[2019-02-25 15:44:26.416000 info]: ConsensusNetIO - Added consensus connection MicroBlock 1 local delegate 0 remote delegate 24 global 0 Connection Current\\n[2019-02-25 15:44:26.416026 info]: ConsensusNetIO - Added consensus connection Epoch 2 local delegate 0 remote delegate 24 global 0 Connection Current\\n[2019-02-25 15:44:26.416065 debug]: ConsensusNetIO - received message type Key Advertisement for consensus type Any from 172.31.94.122:60000\\n[2019-02-25 15:44:26.416558 info]: ConsensusNetIO - Added consensus connection RequestBlock 0 local delegate 0 remote delegate 23 global 0 Connection Current\\n[2019-02-25 15:44:26.416587 info]: ConsensusNetIO - Added consensus connection MicroBlock 1 local delegate 0 remote delegate 23 global 0 Connection Current\\n[2019-02-25 15:44:26.416609 info]: ConsensusNetIO - Added consensus connection Epoch 2 local delegate 0 remote delegate 23 global 0 Connection Current\\n[2019-02-25 15:44:26.416646 debug]: ConsensusNetIO - received message type Key Advertisement for consensus type Any from 172.31.92.242:60000\\n[2019-02-25 15:44:26.417133 info]: ConsensusNetIO - Added consensus connection RequestBlock 0 local delegate 0 remote delegate 27 global 0 Connection Current\\n[2019-02-25 15:44:26.417162 info]: ConsensusNetIO - Added consensus connection MicroBlock 1 local delegate 0 remote delegate 27 global 0 Connection Current\\n[2019-02-25 15:44:26.417186 info]: ConsensusNetIO - Added consensus connection Epoch 2 local delegate 0 remote delegate 27 global 0 Connection Current\\n[2019-02-25 15:44:26.417226 debug]: ConsensusNetIO - received message type Key Advertisement for consensus type Any from 172.31.80.50:60000\\n[2019-02-25 15:44:26.417758 debug]: ConsensusNetIO - received message type Key Advertisement for consensus type Any from 172.31.93.108:60000\\n[2019-02-25 15:44:26.418258 debug]: ConsensusNetIO - received message type Key Advertisement for consensus type Any from 172.31.80.253:60000\\n[2019-02-25 15:44:26.418747 debug]: ConsensusNetIO - received message type Key Advertisement for consensus type Any from 172.31.80.49:60000\\n[2019-02-25 15:44:26.419541 info]: ConsensusNetIO - Connected to 172.31.93.26:60000. Remote delegate id: 17\\n[2019-02-25 15:44:26.419742 info]: ConsensusNetIO - Added consensus connection RequestBlock 0 local delegate 0 remote delegate 29 global 0 Connection Current\\n[2019-02-25 15:44:26.419826 info]: ConsensusNetIO - Added consensus connection MicroBlock 1 local delegate 0 remote delegate 29 global 0 Connection Current\\n[2019-02-25 15:44:26.419858 info]: ConsensusNetIO - Added consensus connection Epoch 2 local delegate 0 remote delegate 29 global 0 Connection Current\\n[2019-02-25 15:44:26.419896 info]: ConsensusNetIO - Added consensus connection RequestBlock 0 local delegate 0 remote delegate 25 global 0 Connection Current\\n[2019-02-25 15:44:26.419924 info]: ConsensusNetIO - Added consensus connection MicroBlock 1 local delegate 0 remote delegate 25 global 0 Connection Current\\n[2019-02-25 15:44:26.419945 info]: ConsensusNetIO - Added consensus connection Epoch 2 local delegate 0 remote delegate 25 global 0 Connection Current\\n[2019-02-25 15:44:26.420022 info]: ConsensusNetIO - Added consensus connection RequestBlock 0 local delegate 0 remote delegate 31 global 0 Connection Current\\n[2019-02-25 15:44:26.420053 info]: ConsensusNetIO - Added consensus connection MicroBlock 1 local delegate 0 remote delegate 31 global 0 Connection Current\\n[2019-02-25 15:44:26.420078 info]: ConsensusNetIO - Added consensus connection Epoch 2 local delegate 0 remote delegate 31 global 0 Connection Current\\n[2019-02-25 15:44:26.420152 info]: ConsensusNetIO - Added consensus connection RequestBlock 0 local delegate 0 remote delegate 21 global 0 Connection Current\\n[2019-02-25 15:44:26.420183 info]: ConsensusNetIO - Added consensus connection MicroBlock 1 local delegate 0 remote delegate 21 global 0 Connection Current\\n[2019-02-25 15:44:26.420207 info]: ConsensusNetIO - Added consensus connection Epoch 2 local delegate 0 remote delegate 21 global 0 Connection Current\\n[2019-02-25 15:44:26.420255 info]: ConsensusNetIO - Added consensus connection RequestBlock 0 local delegate 0 remote delegate 20 global 0 Connection Current\\n[2019-02-25 15:44:26.420286 info]: ConsensusNetIO - Added consensus connection MicroBlock 1 local delegate 0 remote delegate 20 global 0 Connection Current\\n[2019-02-25 15:44:26.420307 info]: ConsensusNetIO - Added consensus connection Epoch 2 local delegate 0 remote delegate 20 global 0 Connection Current\\n[2019-02-25 15:44:26.420355 debug]: ConsensusNetIO - received message type Key Advertisement for consensus type Any from 172.31.93.26:60000\\n[2019-02-25 15:44:26.420883 info]: ConsensusNetIO - Added consensus connection RequestBlock 0 local delegate 0 remote delegate 17 global 0 Connection Current\\n[2019-02-25 15:44:26.420918 info]: ConsensusNetIO - Added consensus connection MicroBlock 1 local delegate 0 remote delegate 17 global 0 Connection Current\\n[2019-02-25 15:44:26.420940 info]: ConsensusNetIO - Added consensus connection Epoch 2 local delegate 0 remote delegate 17 global 0 Connection Current\\n[2019-02-25 15:44:26.420998 info]: ConsensusNetIO - Added consensus connection RequestBlock 0 local delegate 0 remote delegate 18 global 0 Connection Current\\n[2019-02-25 15:44:26.421027 info]: ConsensusNetIO - Added consensus connection MicroBlock 1 local delegate 0 remote delegate 18 global 0 Connection Current\\n[2019-02-25 15:44:26.421048 info]: ConsensusNetIO - Added consensus connection Epoch 2 local delegate 0 remote delegate 18 global 0 Connection Current\\n[2019-02-25 15:44:26.421094 info]: ConsensusNetIO - Added consensus connection RequestBlock 0 local delegate 0 remote delegate 8 global 0 Connection Current\\n[2019-02-25 15:44:26.421141 info]: ConsensusNetIO - Added consensus connection MicroBlock 1 local delegate 0 remote delegate 8 global 0 Connection Current\\n[2019-02-25 15:44:26.421167 info]: ConsensusNetIO - Added consensus connection Epoch 2 local delegate 0 remote delegate 8 global 0 Connection Current\\n[2019-02-25 15:44:33.073772 debug]: ConsensusNetIO - received message type Pre_Prepare for consensus type RequestBlock from 172.31.95.233:60000\\n[2019-02-25 15:44:33.073913 debug]: ConsensusConnection<RequestBlock> - Received Pre_Prepare message from delegate: 28 with block hash BAA223912811F3AA439E66C1D22268B740E40C613BE44DD5B6B359B2760A520C\\n[2019-02-25 15:44:33.104646 debug]: ConsensusNetIO - received message type Post_Prepare for consensus type RequestBlock from 172.31.95.233:60000\\n[2019-02-25 15:44:33.104703 debug]: ConsensusConnection<RequestBlock> - Received Post_Prepare message from delegate: 28 with block hash BAA223912811F3AA439E66C1D22268B740E40C613BE44DD5B6B359B2760A520C\\n[2019-02-25 15:44:33.110932 debug]: OnConsensusMessage<RequestBlock> sent commit\\n[2019-02-25 15:44:33.139858 debug]: ConsensusNetIO - received message type Post_Commit for consensus type RequestBlock from 172.31.95.233:60000\\n[2019-02-25 15:44:33.139915 debug]: ConsensusConnection<RequestBlock> - Received Post_Commit message from delegate: 28 with block hash BAA223912811F3AA439E66C1D22268B740E40C613BE44DD5B6B359B2760A520C\\n[2019-02-25 15:44:33.145892 debug]: PersistenceManager<R>::ApplyUpdates - RequestBlock with 0 Requests\\n[2019-02-25 15:44:33.145940 debug]: PersistenceManager::StoreRequestBlock - BAA223912811F3AA439E66C1D22268B740E40C613BE44DD5B6B359B2760A520C\\n[2019-02-25 15:44:33.149602 debug]: ConsensusP2pOutput<RequestBlock> - message of size 4 and type 0 added to p2p batch to delegate 28\\n[2019-02-25 15:44:33.149630 debug]: ConsensusP2pOutput<RequestBlock> - message of size 203 and type 8 added to p2p batch to delegate 28\\n[2019-02-25 15:44:33.149660 info]: ConsensusP2pOutput<RequestBlock> - p2p batch of size 216 propagated to delegate 28.\\n[2019-02-25 15:44:33.464429 debug]: ConsensusNetIO - received message type Pre_Prepare for consensus type RequestBlock from 172.31.83.2:60000\\n[2019-02-25 15:44:33.464568 debug]: ConsensusConnection<RequestBlock> - Received Pre_Prepare message from delegate: 5 with block hash 9AA14184C5066841DFD46654047077B0622C957B6E0E00CDA0C135CE8095B295\\n[2019-02-25 15:44:33.495023 debug]: ConsensusNetIO - received message type Post_Prepare for consensus type RequestBlock from 172.31.83.2:60000\\n[2019-02-25 15:44:33.495097 debug]: ConsensusConnection<RequestBlock> - Received Post_Prepare message from delegate: 5 with block hash 9AA14184C5066841DFD46654047077B0622C957B6E0E00CDA0C135CE8095B295\\n[2019-02-25 15:44:33.501145 debug]: OnConsensusMessage<RequestBlock> sent commit\\n[2019-02-25 15:44:33.529921 debug]: ConsensusNetIO - received message type Post_Commit for consensus type RequestBlock from 172.31.83.2:60000\\n[2019-02-25 15:44:33.529973 debug]: ConsensusConnection<RequestBlock> - Received Post_Commit message from delegate: 5 with block hash 9AA14184C5066841DFD46654047077B0622C957B6E0E00CDA0C135CE8095B295\\n[2019-02-25 15:44:33.535962 debug]: PersistenceManager<R>::ApplyUpdates - RequestBlock with 0 Requests\\n[2019-02-25 15:44:33.536000 debug]: PersistenceManager::StoreRequestBlock - 9AA14184C5066841DFD46654047077B0622C957B6E0E00CDA0C135CE8095B295\\n[2019-02-25 15:44:33.540501 debug]: ConsensusP2pOutput<RequestBlock> - message of size 4 and type 0 added to p2p batch to delegate 5\\n[2019-02-25 15:44:33.540541 debug]: ConsensusP2pOutput<RequestBlock> - message of size 203 and type 8 added to p2p batch to delegate 5\\n[2019-02-25 15:44:33.540581 info]: ConsensusP2pOutput<RequestBlock> - p2p batch of size 216 propagated to delegate 5.\\n[2019-02-25 15:44:33.598088 debug]: ConsensusNetIO - received message type Pre_Prepare for consensus type RequestBlock from 172.31.85.125:60000\\n[2019-02-25 15:44:33.598160 debug]: ConsensusConnection<RequestBlock> - Received Pre_Prepare message from delegate: 4 with block hash F04652E02876156A0DF9C2E176170C3BE1BFFE0E8E50E5901BD80C2936D670C6\\n[2019-02-25 15:44:33.629024 debug]: ConsensusNetIO - received message type Post_Prepare for consensus type RequestBlock from 172.31.85.125:60000\\n[2019-02-25 15:44:33.629074 debug]: ConsensusConnection<RequestBlock> - Received Post_Prepare message from delegate: 4 with block hash F04652E02876156A0DF9C2E176170C3BE1BFFE0E8E50E5901BD80C2936D670C6\\n[2019-02-25 15:44:33.635172 debug]: OnConsensusMessage<RequestBlock> sent commit\\n[2019-02-25 15:44:33.664304 debug]: ConsensusNetIO - received message type Post_Commit for consensus type RequestBlock from 172.31.85.125:60000\\n[2019-02-25 15:44:33.664348 debug]: ConsensusConnection<RequestBlock> - Received Post_Commit message from delegate: 4 with block hash F04652E02876156A0DF9C2E176170C3BE1BFFE0E8E50E5901BD80C2936D670C6\\n[2019-02-25 15:44:33.670084 debug]: PersistenceManager<R>::ApplyUpdates - RequestBlock with 0 Requests\\n[2019-02-25 15:44:33.670119 debug]: PersistenceManager::StoreRequestBlock - F04652E02876156A0DF9C2E176170C3BE1BFFE0E8E50E5901BD80C2936D670C6\\n[2019-02-25 15:44:33.675348 debug]: ConsensusP2pOutput<RequestBlock> - message of size 4 and type 0 added to p2p batch to delegate 4\\n[2019-02-25 15:44:33.675377 debug]: ConsensusP2pOutput<RequestBlock> - message of size 203 and type 8 added to p2p batch to delegate 4\\n[2019-02-25 15:44:33.675409 info]: ConsensusP2pOutput<RequestBlock> - p2p batch of size 216 propagated to delegate 4.\\n[2019-02-25 15:44:36.227574 debug]: ConsensusNetIO - received message type Pre_Prepare for consensus type RequestBlock from 172.31.83.233:60000\\n[2019-02-25 15:44:36.227690 debug]: ConsensusConnection<RequestBlock> - Received Pre_Prepare message from delegate: 11 with block hash DE806A25877FEE32ADF17FE3068E0337EBAEAD993A3601CAE5ADAA763E17313C\\n[2019-02-25 15:44:36.237070 debug]: ConsensusNetIO - received message type Pre_Prepare for consensus type RequestBlock from 172.31.89.87:60000\\n[2019-02-25 15:44:36.237128 debug]: ConsensusConnection<RequestBlock> - Received Pre_Prepare message from delegate: 6 with block hash F38F72FF336CA0E8CED3112C23D5FCAFA518A050A36AD6F19867C618B5416248\\n[2019-02-25 15:44:36.259000 debug]: ConsensusNetIO - received message type Post_Prepare for consensus type RequestBlock from 172.31.83.233:60000\\n[2019-02-25 15:44:36.259049 debug]: ConsensusConnection<RequestBlock> - Received Post_Prepare message from delegate: 11 with block hash DE806A25877FEE32ADF17FE3068E0337EBAEAD993A3601CAE5ADAA763E17313C\\n[2019-02-25 15:44:36.264896 debug]: OnConsensusMessage<RequestBlock> sent commit\\n[2019-02-25 15:44:36.267355 debug]: ConsensusNetIO - received message type Post_Prepare for consensus type RequestBlock from 172.31.89.87:60000\\n[2019-02-25 15:44:36.267399 debug]: ConsensusConnection<RequestBlock> - Received Post_Prepare message from delegate: 6 with block hash F38F72FF336CA0E8CED3112C23D5FCAFA518A050A36AD6F19867C618B5416248\\n[2019-02-25 15:44:36.273330 debug]: OnConsensusMessage<RequestBlock> sent commit\\n[2019-02-25 15:44:36.299898 debug]: ConsensusNetIO - received message type Post_Commit for consensus type RequestBlock from 172.31.83.233:60000\\n[2019-02-25 15:44:36.299950 debug]: ConsensusConnection<RequestBlock> - Received Post_Commit message from delegate: 11 with block hash DE806A25877FEE32ADF17FE3068E0337EBAEAD993A3601CAE5ADAA763E17313C\\n[2019-02-25 15:44:36.302324 debug]: ConsensusNetIO - received message type Post_Commit for consensus type RequestBlock from 172.31.89.87:60000\\n[2019-02-25 15:44:36.302380 debug]: ConsensusConnection<RequestBlock> - Received Post_Commit message from delegate: 6 with block hash F38F72FF336CA0E8CED3112C23D5FCAFA518A050A36AD6F19867C618B5416248\\n[2019-02-25 15:44:36.307498 debug]: ConsensusNetIO - received message type Pre_Prepare for consensus type RequestBlock from 172.31.89.233:60000\\n[2019-02-25 15:44:36.307559 debug]: ConsensusConnection<RequestBlock> - Received Pre_Prepare message from delegate: 15 with block hash BF5B00DBA6C16867E3F831B0C21BFF3F646C010874AAABBBC24FCB03E535AC20\\n[2019-02-25 15:44:36.312731 debug]: PersistenceManager<R>::ApplyUpdates - RequestBlock with 0 Requests\\n[2019-02-25 15:44:36.312777 debug]: PersistenceManager::StoreRequestBlock - F38F72FF336CA0E8CED3112C23D5FCAFA518A050A36AD6F19867C618B5416248\\n[2019-02-25 15:44:36.312924 debug]: PersistenceManager<R>::ApplyUpdates - RequestBlock with 0 Requests\\n[2019-02-25 15:44:36.314836 debug]: PersistenceManager::StoreRequestBlock - DE806A25877FEE32ADF17FE3068E0337EBAEAD993A3601CAE5ADAA763E17313C\\n[2019-02-25 15:44:36.314941 debug]: ConsensusP2pOutput<RequestBlock> - message of size 4 and type 0 added to p2p batch to delegate 6\\n[2019-02-25 15:44:36.314963 debug]: ConsensusP2pOutput<RequestBlock> - message of size 203 and type 8 added to p2p batch to delegate 6\\n[2019-02-25 15:44:36.314993 info]: ConsensusP2pOutput<RequestBlock> - p2p batch of size 216 propagated to delegate 6.\\n[2019-02-25 15:44:36.316818 debug]: ConsensusP2pOutput<RequestBlock> - message of size 4 and type 0 added to p2p batch to delegate 11\\n[2019-02-25 15:44:36.316847 debug]: ConsensusP2pOutput<RequestBlock> - message of size 203 and type 8 added to p2p batch to delegate 11\\n[2019-02-25 15:44:36.316874 info]: ConsensusP2pOutput<RequestBlock> - p2p batch of size 216 propagated to delegate 11.\\n[2019-02-25 15:44:36.342081 debug]: ConsensusNetIO - received message type Post_Prepare for consensus type RequestBlock from 172.31.89.233:60000\\n[2019-02-25 15:44:36.342148 debug]: ConsensusConnection<RequestBlock> - Received Post_Prepare message from delegate: 15 with block hash BF5B00DBA6C16867E3F831B0C21BFF3F646C010874AAABBBC24FCB03E535AC20\\n[2019-02-25 15:44:36.348175 debug]: OnConsensusMessage<RequestBlock> sent commit\\n[2019-02-25 15:44:36.377186 debug]: ConsensusNetIO - received message type Post_Commit for consensus type RequestBlock from 172.31.89.233:60000\\n[2019-02-25 15:44:36.377241 debug]: ConsensusConnection<RequestBlock> - Received Post_Commit message from delegate: 15 with block hash BF5B00DBA6C16867E3F831B0C21BFF3F646C010874AAABBBC24FCB03E535AC20\\n[2019-02-25 15:44:36.382794 debug]: PersistenceManager<R>::ApplyUpdates - RequestBlock with 0 Requests\\n[2019-02-25 15:44:36.382827 debug]: PersistenceManager::StoreRequestBlock - BF5B00DBA6C16867E3F831B0C21BFF3F646C010874AAABBBC24FCB03E535AC20\\n[2019-02-25 15:44:36.384751 debug]: ConsensusP2pOutput<RequestBlock> - message of size 4 and type 0 added to p2p batch to delegate 15\\n[2019-02-25 15:44:36.384777 debug]: ConsensusP2pOutput<RequestBlock> - message of size 203 and type 8 added to p2p batch to delegate 15\\n[2019-02-25 15:44:36.384808 info]: ConsensusP2pOutput<RequestBlock> - p2p batch of size 216 propagated to delegate 15.\\n[2019-02-25 15:44:36.407601 debug]: ConsensusNetIO - received message type Pre_Prepare for consensus type RequestBlock from 172.31.94.98:60000\\n[2019-02-25 15:44:36.407661 debug]: ConsensusConnection<RequestBlock> - Received Pre_Prepare message from delegate: 7 with block hash A48D82284ED43E340A3117A21C2B3E6CB6FD2E9D9C0DAF1C85DD115BBF4DDC34\\n[2019-02-25 15:44:36.416124 debug]: RequestHandler::PrepareNextBatch requests_size=1\\n[2019-02-25 15:44:36.416182 info]: Initiating RequestBlock consensus.\\n[2019-02-25 15:44:36.416208 debug]: RequestHandler::GetCurrentBatch - batch_size=0\\n[2019-02-25 15:44:36.416233 info]: PrimaryDelegate - Initiating Consensus with PrePrepare hash: AC73FBE055694EC9FE611BDCB8AEFBC1F9A82ECBC85A429F0B257FF275FD4486\\n[2019-02-25 15:44:36.416785 debug]: JSON representation: {\\n    \"delegate\": \"0\",\\n    \"epoch_number\": \"3\",\\n    \"sequence\": \"0\",\\n    \"timestamp\": \"1551109476416\",\\n    \"previous\": \"0000000000000000000000000000000000000000000000000000000000000000\",\\n    \"signature\": \"1b351fed0296d4f49793e39abbcbe8efe106c8f5c476be554ff0b1938260ca06\",\\n    \"type\": \"RequestBlock\",\\n    \"request_count\": \"0\",\\n    \"requests\": \"\",\\n    \"hash\": \"AC73FBE055694EC9FE611BDCB8AEFBC1F9A82ECBC85A429F0B257FF275FD4486\"\\n}\\n\\n[2019-02-25 15:44:36.418556 debug]: ConsensusNetIO - received message type Prepare for consensus type RequestBlock from 172.31.89.87:60000\\n[2019-02-25 15:44:36.418649 debug]: ConsensusConnection<RequestBlock> - Received Prepare message from delegate: 6 with block hash AC73FBE055694EC9FE611BDCB8AEFBC1F9A82ECBC85A429F0B257FF275FD4486\\n[2019-02-25 15:44:36.419803 debug]: PrimaryDelegate::Tally - Tallying for message type Prepare\\n[2019-02-25 15:44:36.419879 debug]: ConsensusNetIO - received message type Prepare for consensus type RequestBlock from 172.31.85.125:60000\\n[2019-02-25 15:44:36.419921 debug]: ConsensusConnection<RequestBlock> - Received Prepare message from delegate: 4 with block hash AC73FBE055694EC9FE611BDCB8AEFBC1F9A82ECBC85A429F0B257FF275FD4486\\n[2019-02-25 15:44:36.420852 debug]: PrimaryDelegate::Tally - Tallying for message type Prepare\\n[2019-02-25 15:44:36.420905 debug]: ConsensusNetIO - received message type Prepare for consensus type RequestBlock from 172.31.92.220:60000\\n[2019-02-25 15:44:36.420942 debug]: ConsensusConnection<RequestBlock> - Received Prepare message from delegate: 1 with block hash AC73FBE055694EC9FE611BDCB8AEFBC1F9A82ECBC85A429F0B257FF275FD4486\\n[2019-02-25 15:44:36.421760 debug]: ConsensusNetIO - received message type Prepare for consensus type RequestBlock from 172.31.82.208:60000\\n[2019-02-25 15:44:36.421800 debug]: ConsensusConnection<RequestBlock> - Received Prepare message from delegate: 2 with block hash AC73FBE055694EC9FE611BDCB8AEFBC1F9A82ECBC85A429F0B257FF275FD4486\\n[2019-02-25 15:44:36.421837 debug]: ConsensusNetIO - received message type Prepare for consensus type RequestBlock from 172.31.83.233:60000\\n[2019-02-25 15:44:36.421870 debug]: ConsensusConnection<RequestBlock> - Received Prepare message from delegate: 11 with block hash AC73FBE055694EC9FE611BDCB8AEFBC1F9A82ECBC85A429F0B257FF275FD4486\\n[2019-02-25 15:44:36.421904 debug]: ConsensusNetIO - received message type Prepare for consensus type RequestBlock from 172.31.83.2:60000\\n[2019-02-25 15:44:36.421936 debug]: ConsensusConnection<RequestBlock> - Received Prepare message from delegate: 5 with block hash AC73FBE055694EC9FE611BDCB8AEFBC1F9A82ECBC85A429F0B257FF275FD4486\\n[2019-02-25 15:44:36.421968 debug]: ConsensusNetIO - received message type Prepare for consensus type RequestBlock from 172.31.95.233:60000\\n[2019-02-25 15:44:36.421998 debug]: ConsensusConnection<RequestBlock> - Received Prepare message from delegate: 28 with block hash AC73FBE055694EC9FE611BDCB8AEFBC1F9A82ECBC85A429F0B257FF275FD4486\\n[2019-02-25 15:44:36.422030 debug]: ConsensusNetIO - received message type Prepare for consensus type RequestBlock from 172.31.82.144:60000\\n[2019-02-25 15:44:36.422061 debug]: ConsensusConnection<RequestBlock> - Received Prepare message from delegate: 10 with block hash AC73FBE055694EC9FE611BDCB8AEFBC1F9A82ECBC85A429F0B257FF275FD4486\\n[2019-02-25 15:44:36.422091 debug]: ConsensusNetIO - received message type Prepare for consensus type RequestBlock from 172.31.93.18:60000\\n[2019-02-25 15:44:36.422121 debug]: ConsensusConnection<RequestBlock> - Received Prepare message from delegate: 3 with block hash AC73FBE055694EC9FE611BDCB8AEFBC1F9A82ECBC85A429F0B257FF275FD4486\\n[2019-02-25 15:44:36.422283 debug]: PrimaryDelegate::Tally - Tallying for message type Prepare\\n[2019-02-25 15:44:36.423221 debug]: PrimaryDelegate::Tally - Tallying for message type Prepare\\n[2019-02-25 15:44:36.423270 debug]: ConsensusNetIO - received message type Prepare for consensus type RequestBlock from 172.31.84.225:60000\\n[2019-02-25 15:44:36.423306 debug]: ConsensusConnection<RequestBlock> - Received Prepare message from delegate: 12 with block hash AC73FBE055694EC9FE611BDCB8AEFBC1F9A82ECBC85A429F0B257FF275FD4486\\n[2019-02-25 15:44:36.424224 debug]: PrimaryDelegate::Tally - Tallying for message type Prepare\\n[2019-02-25 15:44:36.424269 debug]: ConsensusNetIO - received message type Prepare for consensus type RequestBlock from 172.31.88.46:60000\\n[2019-02-25 15:44:36.424304 debug]: ConsensusConnection<RequestBlock> - Received Prepare message from delegate: 13 with block hash AC73FBE055694EC9FE611BDCB8AEFBC1F9A82ECBC85A429F0B257FF275FD4486\\n[2019-02-25 15:44:36.425216 debug]: PrimaryDelegate::Tally - Tallying for message type Prepare\\n[2019-02-25 15:44:36.425259 debug]: ConsensusNetIO - received message type Prepare for consensus type RequestBlock from 172.31.90.45:60000\\n[2019-02-25 15:44:36.425299 debug]: ConsensusConnection<RequestBlock> - Received Prepare message from delegate: 14 with block hash AC73FBE055694EC9FE611BDCB8AEFBC1F9A82ECBC85A429F0B257FF275FD4486\\n[2019-02-25 15:44:36.425765 debug]: ConsensusNetIO - received message type Prepare for consensus type RequestBlock from 172.31.88.76:60000\\n[2019-02-25 15:44:36.425804 debug]: ConsensusConnection<RequestBlock> - Received Prepare message from delegate: 9 with block hash AC73FBE055694EC9FE611BDCB8AEFBC1F9A82ECBC85A429F0B257FF275FD4486\\n[2019-02-25 15:44:36.425840 debug]: ConsensusNetIO - received message type Prepare for consensus type RequestBlock from 172.31.93.205:60000\\n[2019-02-25 15:44:36.425873 debug]: ConsensusConnection<RequestBlock> - Received Prepare message from delegate: 30 with block hash AC73FBE055694EC9FE611BDCB8AEFBC1F9A82ECBC85A429F0B257FF275FD4486\\n[2019-02-25 15:44:36.426388 debug]: PrimaryDelegate::Tally - Tallying for message type Prepare\\n[2019-02-25 15:44:36.427325 debug]: PrimaryDelegate::Tally - Tallying for message type Prepare\\n[2019-02-25 15:44:36.427375 debug]: ConsensusNetIO - received message type Prepare for consensus type RequestBlock from 172.31.87.98:60000\\n[2019-02-25 15:44:36.427411 debug]: ConsensusConnection<RequestBlock> - Received Prepare message from delegate: 26 with block hash AC73FBE055694EC9FE611BDCB8AEFBC1F9A82ECBC85A429F0B257FF275FD4486\\n[2019-02-25 15:44:36.428328 debug]: PrimaryDelegate::Tally - Tallying for message type Prepare\\n[2019-02-25 15:44:36.428375 debug]: ConsensusNetIO - received message type Prepare for consensus type RequestBlock from 172.31.95.248:60000\\n[2019-02-25 15:44:36.428410 debug]: ConsensusConnection<RequestBlock> - Received Prepare message from delegate: 16 with block hash AC73FBE055694EC9FE611BDCB8AEFBC1F9A82ECBC85A429F0B257FF275FD4486\\n[2019-02-25 15:44:36.429354 debug]: PrimaryDelegate::Tally - Tallying for message type Prepare\\n[2019-02-25 15:44:36.430299 debug]: PrimaryDelegate::Tally - Tallying for message type Prepare\\n[2019-02-25 15:44:36.430350 debug]: ConsensusNetIO - received message type Prepare for consensus type RequestBlock from 172.31.86.44:60000\\n[2019-02-25 15:44:36.430386 debug]: ConsensusConnection<RequestBlock> - Received Prepare message from delegate: 19 with block hash AC73FBE055694EC9FE611BDCB8AEFBC1F9A82ECBC85A429F0B257FF275FD4486\\n[2019-02-25 15:44:36.431308 debug]: PrimaryDelegate::Tally - Tallying for message type Prepare\\n[2019-02-25 15:44:36.431354 debug]: ConsensusNetIO - received message type Prepare for consensus type RequestBlock from 172.31.83.181:60000\\n[2019-02-25 15:44:36.431390 debug]: ConsensusConnection<RequestBlock> - Received Prepare message from delegate: 22 with block hash AC73FBE055694EC9FE611BDCB8AEFBC1F9A82ECBC85A429F0B257FF275FD4486\\n[2019-02-25 15:44:36.432303 debug]: PrimaryDelegate::Tally - Tallying for message type Prepare\\n[2019-02-25 15:44:36.432346 debug]: ConsensusNetIO - received message type Prepare for consensus type RequestBlock from 172.31.94.122:60000\\n[2019-02-25 15:44:36.432381 debug]: ConsensusConnection<RequestBlock> - Received Prepare message from delegate: 23 with block hash AC73FBE055694EC9FE611BDCB8AEFBC1F9A82ECBC85A429F0B257FF275FD4486\\n[2019-02-25 15:44:36.433298 debug]: PrimaryDelegate::Tally - Tallying for message type Prepare\\n[2019-02-25 15:44:36.433343 debug]: ConsensusNetIO - received message type Prepare for consensus type RequestBlock from 172.31.82.122:60000\\n[2019-02-25 15:44:36.433378 debug]: ConsensusConnection<RequestBlock> - Received Prepare message from delegate: 24 with block hash AC73FBE055694EC9FE611BDCB8AEFBC1F9A82ECBC85A429F0B257FF275FD4486\\n[2019-02-25 15:44:36.433765 debug]: ConsensusNetIO - received message type Prepare for consensus type RequestBlock from 172.31.80.49:60000\\n[2019-02-25 15:44:36.433809 debug]: ConsensusConnection<RequestBlock> - Received Prepare message from delegate: 21 with block hash AC73FBE055694EC9FE611BDCB8AEFBC1F9A82ECBC85A429F0B257FF275FD4486\\n[2019-02-25 15:44:36.433849 debug]: ConsensusNetIO - received message type Prepare for consensus type RequestBlock from 172.31.92.242:60000\\n[2019-02-25 15:44:36.433888 debug]: ConsensusConnection<RequestBlock> - Received Prepare message from delegate: 27 with block hash AC73FBE055694EC9FE611BDCB8AEFBC1F9A82ECBC85A429F0B257FF275FD4486\\n[2019-02-25 15:44:36.434480 debug]: PrimaryDelegate::Tally - Tallying for message type Prepare\\n[2019-02-25 15:44:36.435420 debug]: PrimaryDelegate::Tally - Tallying for message type Prepare\\n[2019-02-25 15:44:36.435470 debug]: ConsensusNetIO - received message type Prepare for consensus type RequestBlock from 172.31.93.108:60000\\n[2019-02-25 15:44:36.435506 debug]: ConsensusConnection<RequestBlock> - Received Prepare message from delegate: 25 with block hash AC73FBE055694EC9FE611BDCB8AEFBC1F9A82ECBC85A429F0B257FF275FD4486\\n[2019-02-25 15:44:36.436422 debug]: PrimaryDelegate::Tally - Tallying for message type Prepare\\n[2019-02-25 15:44:36.436467 debug]: ConsensusNetIO - received message type Prepare for consensus type RequestBlock from 172.31.93.26:60000\\n[2019-02-25 15:44:36.436502 debug]: ConsensusConnection<RequestBlock> - Received Prepare message from delegate: 17 with block hash AC73FBE055694EC9FE611BDCB8AEFBC1F9A82ECBC85A429F0B257FF275FD4486\\n[2019-02-25 15:44:36.437437 debug]: PrimaryDelegate::Tally - Tallying for message type Prepare\\n[2019-02-25 15:44:36.437481 debug]: ConsensusNetIO - received message type Prepare for consensus type RequestBlock from 172.31.80.50:60000\\n[2019-02-25 15:44:36.437515 debug]: ConsensusConnection<RequestBlock> - Received Prepare message from delegate: 29 with block hash AC73FBE055694EC9FE611BDCB8AEFBC1F9A82ECBC85A429F0B257FF275FD4486\\n[2019-02-25 15:44:36.437765 debug]: ConsensusNetIO - received message type Prepare for consensus type RequestBlock from 172.31.92.101:60000\\n[2019-02-25 15:44:36.437804 debug]: ConsensusConnection<RequestBlock> - Received Prepare message from delegate: 20 with block hash AC73FBE055694EC9FE611BDCB8AEFBC1F9A82ECBC85A429F0B257FF275FD4486\\n[2019-02-25 15:44:36.438538 debug]: PrimaryDelegate::Tally - Tallying for message type Prepare\\n[2019-02-25 15:44:36.439496 debug]: PrimaryDelegate::Tally - Tallying for message type Prepare\\n[2019-02-25 15:44:36.439548 debug]: ConsensusNetIO - received message type Prepare for consensus type RequestBlock from 172.31.95.206:60000\\n[2019-02-25 15:44:36.439584 debug]: ConsensusConnection<RequestBlock> - Received Prepare message from delegate: 8 with block hash AC73FBE055694EC9FE611BDCB8AEFBC1F9A82ECBC85A429F0B257FF275FD4486\\n[2019-02-25 15:44:36.440520 debug]: PrimaryDelegate::Tally - Tallying for message type Prepare\\n[2019-02-25 15:44:36.441768 debug]: ConsensusNetIO - received message type Prepare for consensus type RequestBlock from 172.31.80.253:60000\\n[2019-02-25 15:44:36.441819 debug]: ConsensusConnection<RequestBlock> - Received Prepare message from delegate: 31 with block hash AC73FBE055694EC9FE611BDCB8AEFBC1F9A82ECBC85A429F0B257FF275FD4486\\n[2019-02-25 15:44:36.447552 info]: PrimaryDelegate - Disregarding message: Received Prepare message while in Pre Prepare (state already changing)\\n[2019-02-25 15:44:36.447606 debug]: ConsensusNetIO - received message type Prepare for consensus type RequestBlock from 172.31.92.205:60000\\n[2019-02-25 15:44:36.447647 debug]: ConsensusConnection<RequestBlock> - Received Prepare message from delegate: 18 with block hash AC73FBE055694EC9FE611BDCB8AEFBC1F9A82ECBC85A429F0B257FF275FD4486\\n[2019-02-25 15:44:36.447662 info]: PrimaryDelegate - Disregarding message: Received Prepare message while in Pre Prepare (state already changing)\\n[2019-02-25 15:44:36.447697 debug]: ConsensusNetIO - received message type Prepare for consensus type RequestBlock from 172.31.94.98:60000\\n[2019-02-25 15:44:36.447729 debug]: ConsensusConnection<RequestBlock> - Received Prepare message from delegate: 7 with block hash AC73FBE055694EC9FE611BDCB8AEFBC1F9A82ECBC85A429F0B257FF275FD4486\\n[2019-02-25 15:44:36.447742 info]: PrimaryDelegate - Disregarding message: Received Prepare message while in Pre Prepare (state already changing)\\n[2019-02-25 15:44:36.447766 info]: PrimaryDelegate - Disregarding message: Received Prepare message while in Pre Prepare (state already changing)\\n[2019-02-25 15:44:36.447801 info]: PrimaryDelegate - Disregarding message: Received Prepare message while in Pre Prepare (state already changing)\\n[2019-02-25 15:44:36.447831 info]: PrimaryDelegate - Disregarding message: Received Prepare message while in Pre Prepare (state already changing)\\n[2019-02-25 15:44:36.447859 info]: PrimaryDelegate - Disregarding message: Received Prepare message while in Pre Prepare (state already changing)\\n[2019-02-25 15:44:36.447887 info]: PrimaryDelegate - Disregarding message: Received Prepare message while in Pre Prepare (state already changing)\\n[2019-02-25 15:44:36.447916 info]: PrimaryDelegate - Disregarding message: Received Prepare message while in Pre Prepare (state already changing)\\n[2019-02-25 15:44:36.447951 debug]: PostPrepare (RequestBlock) timeout either expired or canceled. Error code: Operation canceled\\n[2019-02-25 15:44:36.447974 debug]: PrimaryDelegate::CancelTimer - Primary timer canceled. \\n[2019-02-25 15:44:36.448648 debug]: ConsensusNetIO - received message type Post_Prepare for consensus type RequestBlock from 172.31.94.98:60000\\n[2019-02-25 15:44:36.448689 debug]: ConsensusConnection<RequestBlock> - Received Post_Prepare message from delegate: 7 with block hash A48D82284ED43E340A3117A21C2B3E6CB6FD2E9D9C0DAF1C85DD115BBF4DDC34\\n[2019-02-25 15:44:36.454438 debug]: ConsensusNetIO - received message type Commit for consensus type RequestBlock from 172.31.82.208:60000\\n[2019-02-25 15:44:36.454486 debug]: ConsensusConnection<RequestBlock> - Received Commit message from delegate: 2 with block hash AC73FBE055694EC9FE611BDCB8AEFBC1F9A82ECBC85A429F0B257FF275FD4486\\n[2019-02-25 15:44:36.455505 debug]: PrimaryDelegate::Tally - Tallying for message type Commit\\n[2019-02-25 15:44:36.455568 debug]: ConsensusNetIO - received message type Commit for consensus type RequestBlock from 172.31.88.46:60000\\n[2019-02-25 15:44:36.455607 debug]: ConsensusConnection<RequestBlock> - Received Commit message from delegate: 13 with block hash AC73FBE055694EC9FE611BDCB8AEFBC1F9A82ECBC85A429F0B257FF275FD4486\\n[2019-02-25 15:44:36.456516 debug]: ConsensusNetIO - received message type Commit for consensus type RequestBlock from 172.31.92.220:60000\\n[2019-02-25 15:44:36.456576 debug]: ConsensusConnection<RequestBlock> - Received Commit message from delegate: 1 with block hash AC73FBE055694EC9FE611BDCB8AEFBC1F9A82ECBC85A429F0B257FF275FD4486\\n[2019-02-25 15:44:36.456618 debug]: ConsensusNetIO - received message type Commit for consensus type RequestBlock from 172.31.95.233:60000\\n[2019-02-25 15:44:36.456652 debug]: ConsensusConnection<RequestBlock> - Received Commit message from delegate: 28 with block hash AC73FBE055694EC9FE611BDCB8AEFBC1F9A82ECBC85A429F0B257FF275FD4486\\n[2019-02-25 15:44:36.456697 debug]: ConsensusNetIO - received message type Commit for consensus type RequestBlock from 172.31.85.125:60000\\n[2019-02-25 15:44:36.456730 debug]: ConsensusConnection<RequestBlock> - Received Commit message from delegate: 4 with block hash AC73FBE055694EC9FE611BDCB8AEFBC1F9A82ECBC85A429F0B257FF275FD4486\\n[2019-02-25 15:44:36.456762 debug]: ConsensusNetIO - received message type Commit for consensus type RequestBlock from 172.31.90.45:60000\\n[2019-02-25 15:44:36.456792 debug]: ConsensusConnection<RequestBlock> - Received Commit message from delegate: 14 with block hash AC73FBE055694EC9FE611BDCB8AEFBC1F9A82ECBC85A429F0B257FF275FD4486\\n[2019-02-25 15:44:36.456824 debug]: ConsensusNetIO - received message type Commit for consensus type RequestBlock from 172.31.82.144:60000\\n[2019-02-25 15:44:36.456854 debug]: ConsensusConnection<RequestBlock> - Received Commit message from delegate: 10 with block hash AC73FBE055694EC9FE611BDCB8AEFBC1F9A82ECBC85A429F0B257FF275FD4486\\n[2019-02-25 15:44:36.456980 debug]: PrimaryDelegate::Tally - Tallying for message type Commit\\n[2019-02-25 15:44:36.457022 debug]: ConsensusNetIO - received message type Commit for consensus type RequestBlock from 172.31.93.18:60000\\n[2019-02-25 15:44:36.457055 debug]: ConsensusConnection<RequestBlock> - Received Commit message from delegate: 3 with block hash AC73FBE055694EC9FE611BDCB8AEFBC1F9A82ECBC85A429F0B257FF275FD4486\\n[2019-02-25 15:44:36.457769 debug]: ConsensusNetIO - received message type Commit for consensus type RequestBlock from 172.31.89.87:60000\\n[2019-02-25 15:44:36.457808 debug]: ConsensusConnection<RequestBlock> - Received Commit message from delegate: 6 with block hash AC73FBE055694EC9FE611BDCB8AEFBC1F9A82ECBC85A429F0B257FF275FD4486\\n[2019-02-25 15:44:36.458096 debug]: PrimaryDelegate::Tally - Tallying for message type Commit\\n[2019-02-25 15:44:36.459060 debug]: PrimaryDelegate::Tally - Tallying for message type Commit\\n[2019-02-25 15:44:36.459129 debug]: ConsensusNetIO - received message type Commit for consensus type RequestBlock from 172.31.93.205:60000\\n[2019-02-25 15:44:36.459183 debug]: ConsensusConnection<RequestBlock> - Received Commit message from delegate: 30 with block hash AC73FBE055694EC9FE611BDCB8AEFBC1F9A82ECBC85A429F0B257FF275FD4486\\n[2019-02-25 15:44:36.460173 debug]: PrimaryDelegate::Tally - Tallying for message type Commit\\n[2019-02-25 15:44:36.460220 debug]: ConsensusNetIO - received message type Commit for consensus type RequestBlock from 172.31.88.76:60000\\n[2019-02-25 15:44:36.460255 debug]: ConsensusConnection<RequestBlock> - Received Commit message from delegate: 9 with block hash AC73FBE055694EC9FE611BDCB8AEFBC1F9A82ECBC85A429F0B257FF275FD4486\\n[2019-02-25 15:44:36.461193 debug]: PrimaryDelegate::Tally - Tallying for message type Commit\\n[2019-02-25 15:44:36.461236 debug]: ConsensusNetIO - received message type Commit for consensus type RequestBlock from 172.31.84.225:60000\\n[2019-02-25 15:44:36.461270 debug]: ConsensusConnection<RequestBlock> - Received Commit message from delegate: 12 with block hash AC73FBE055694EC9FE611BDCB8AEFBC1F9A82ECBC85A429F0B257FF275FD4486\\n[2019-02-25 15:44:36.461774 debug]: ConsensusNetIO - received message type Commit for consensus type RequestBlock from 172.31.83.233:60000\\n[2019-02-25 15:44:36.461813 debug]: ConsensusConnection<RequestBlock> - Received Commit message from delegate: 11 with block hash AC73FBE055694EC9FE611BDCB8AEFBC1F9A82ECBC85A429F0B257FF275FD4486\\n[2019-02-25 15:44:36.462421 debug]: OnConsensusMessage<RequestBlock> sent commit\\n[2019-02-25 15:44:36.462473 debug]: ConsensusNetIO - received message type Commit for consensus type RequestBlock from 172.31.86.44:60000\\n[2019-02-25 15:44:36.462510 debug]: ConsensusConnection<RequestBlock> - Received Commit message from delegate: 19 with block hash AC73FBE055694EC9FE611BDCB8AEFBC1F9A82ECBC85A429F0B257FF275FD4486\\n[2019-02-25 15:44:36.463032 debug]: PrimaryDelegate::Tally - Tallying for message type Commit\\n[2019-02-25 15:44:36.463945 debug]: PrimaryDelegate::Tally - Tallying for message type Commit\\n[2019-02-25 15:44:36.463989 debug]: ConsensusNetIO - received message type Commit for consensus type RequestBlock from 172.31.83.2:60000\\n[2019-02-25 15:44:36.464022 debug]: ConsensusConnection<RequestBlock> - Received Commit message from delegate: 5 with block hash AC73FBE055694EC9FE611BDCB8AEFBC1F9A82ECBC85A429F0B257FF275FD4486\\n[2019-02-25 15:44:36.464940 debug]: PrimaryDelegate::Tally - Tallying for message type Commit\\n[2019-02-25 15:44:36.464991 debug]: ConsensusNetIO - received message type Commit for consensus type RequestBlock from 172.31.87.98:60000\\n[2019-02-25 15:44:36.465026 debug]: ConsensusConnection<RequestBlock> - Received Commit message from delegate: 26 with block hash AC73FBE055694EC9FE611BDCB8AEFBC1F9A82ECBC85A429F0B257FF275FD4486\\n[2019-02-25 15:44:36.465963 debug]: PrimaryDelegate::Tally - Tallying for message type Commit\\n[2019-02-25 15:44:36.466846 debug]: PrimaryDelegate::Tally - Tallying for message type Commit\\n[2019-02-25 15:44:36.466894 debug]: ConsensusNetIO - received message type Commit for consensus type RequestBlock from 172.31.80.253:60000\\n[2019-02-25 15:44:36.466931 debug]: ConsensusConnection<RequestBlock> - Received Commit message from delegate: 31 with block hash AC73FBE055694EC9FE611BDCB8AEFBC1F9A82ECBC85A429F0B257FF275FD4486\\n[2019-02-25 15:44:36.467863 debug]: PrimaryDelegate::Tally - Tallying for message type Commit\\n[2019-02-25 15:44:36.467909 debug]: ConsensusNetIO - received message type Commit for consensus type RequestBlock from 172.31.95.248:60000\\n[2019-02-25 15:44:36.467942 debug]: ConsensusConnection<RequestBlock> - Received Commit message from delegate: 16 with block hash AC73FBE055694EC9FE611BDCB8AEFBC1F9A82ECBC85A429F0B257FF275FD4486\\n[2019-02-25 15:44:36.468901 debug]: PrimaryDelegate::Tally - Tallying for message type Commit\\n[2019-02-25 15:44:36.468941 debug]: ConsensusNetIO - received message type Commit for consensus type RequestBlock from 172.31.83.181:60000\\n[2019-02-25 15:44:36.468973 debug]: ConsensusConnection<RequestBlock> - Received Commit message from delegate: 22 with block hash AC73FBE055694EC9FE611BDCB8AEFBC1F9A82ECBC85A429F0B257FF275FD4486\\n[2019-02-25 15:44:36.469764 debug]: ConsensusNetIO - received message type Commit for consensus type RequestBlock from 172.31.92.205:60000\\n[2019-02-25 15:44:36.469801 debug]: ConsensusConnection<RequestBlock> - Received Commit message from delegate: 18 with block hash AC73FBE055694EC9FE611BDCB8AEFBC1F9A82ECBC85A429F0B257FF275FD4486\\n[2019-02-25 15:44:36.469844 debug]: ConsensusNetIO - received message type Commit for consensus type RequestBlock from 172.31.94.122:60000\\n[2019-02-25 15:44:36.469876 debug]: ConsensusConnection<RequestBlock> - Received Commit message from delegate: 23 with block hash AC73FBE055694EC9FE611BDCB8AEFBC1F9A82ECBC85A429F0B257FF275FD4486\\n[2019-02-25 15:44:36.470090 debug]: PrimaryDelegate::Tally - Tallying for message type Commit\\n[2019-02-25 15:44:36.471009 debug]: PrimaryDelegate::Tally - Tallying for message type Commit\\n[2019-02-25 15:44:36.471068 debug]: ConsensusNetIO - received message type Commit for consensus type RequestBlock from 172.31.80.49:60000\\n[2019-02-25 15:44:36.471108 debug]: ConsensusConnection<RequestBlock> - Received Commit message from delegate: 21 with block hash AC73FBE055694EC9FE611BDCB8AEFBC1F9A82ECBC85A429F0B257FF275FD4486\\n[2019-02-25 15:44:36.472075 debug]: PrimaryDelegate::Tally - Tallying for message type Commit\\n[2019-02-25 15:44:36.472118 debug]: ConsensusNetIO - received message type Commit for consensus type RequestBlock from 172.31.93.26:60000\\n[2019-02-25 15:44:36.472151 debug]: ConsensusConnection<RequestBlock> - Received Commit message from delegate: 17 with block hash AC73FBE055694EC9FE611BDCB8AEFBC1F9A82ECBC85A429F0B257FF275FD4486\\n[2019-02-25 15:44:36.473159 debug]: PrimaryDelegate::Tally - Tallying for message type Commit\\n[2019-02-25 15:44:36.473202 debug]: ConsensusNetIO - received message type Commit for consensus type RequestBlock from 172.31.93.108:60000\\n[2019-02-25 15:44:36.473235 debug]: ConsensusConnection<RequestBlock> - Received Commit message from delegate: 25 with block hash AC73FBE055694EC9FE611BDCB8AEFBC1F9A82ECBC85A429F0B257FF275FD4486\\n[2019-02-25 15:44:36.473764 debug]: ConsensusNetIO - received message type Commit for consensus type RequestBlock from 172.31.92.101:60000\\n[2019-02-25 15:44:36.473803 debug]: ConsensusConnection<RequestBlock> - Received Commit message from delegate: 20 with block hash AC73FBE055694EC9FE611BDCB8AEFBC1F9A82ECBC85A429F0B257FF275FD4486\\n[2019-02-25 15:44:36.474284 debug]: PrimaryDelegate::Tally - Tallying for message type Commit\\n[2019-02-25 15:44:36.475299 debug]: PrimaryDelegate::Tally - Tallying for message type Commit\\n[2019-02-25 15:44:36.476212 debug]: PrimaryDelegate::Tally - Tallying for message type Commit\\n[2019-02-25 15:44:36.476284 debug]: ConsensusNetIO - received message type Commit for consensus type RequestBlock from 172.31.95.206:60000\\n[2019-02-25 15:44:36.476318 debug]: ConsensusConnection<RequestBlock> - Received Commit message from delegate: 8 with block hash AC73FBE055694EC9FE611BDCB8AEFBC1F9A82ECBC85A429F0B257FF275FD4486\\n[2019-02-25 15:44:36.477323 debug]: PrimaryDelegate::Tally - Tallying for message type Commit\\n[2019-02-25 15:44:36.481764 debug]: ConsensusNetIO - received message type Commit for consensus type RequestBlock from 172.31.82.122:60000\\n[2019-02-25 15:44:36.481803 debug]: ConsensusConnection<RequestBlock> - Received Commit message from delegate: 24 with block hash AC73FBE055694EC9FE611BDCB8AEFBC1F9A82ECBC85A429F0B257FF275FD4486\\n[2019-02-25 15:44:36.481848 debug]: ConsensusNetIO - received message type Commit for consensus type RequestBlock from 172.31.80.50:60000\\n[2019-02-25 15:44:36.481880 debug]: ConsensusConnection<RequestBlock> - Received Commit message from delegate: 29 with block hash AC73FBE055694EC9FE611BDCB8AEFBC1F9A82ECBC85A429F0B257FF275FD4486\\n[2019-02-25 15:44:36.484304 info]: PrimaryDelegate - Disregarding message: Received Commit message while in Post Prepare (state already changing)\\n[2019-02-25 15:44:36.484347 debug]: ConsensusNetIO - received message type Commit for consensus type RequestBlock from 172.31.92.242:60000\\n[2019-02-25 15:44:36.484379 debug]: ConsensusConnection<RequestBlock> - Received Commit message from delegate: 27 with block hash AC73FBE055694EC9FE611BDCB8AEFBC1F9A82ECBC85A429F0B257FF275FD4486\\n[2019-02-25 15:44:36.484391 info]: PrimaryDelegate - Disregarding message: Received Commit message while in Post Prepare (state already changing)\\n[2019-02-25 15:44:36.484420 debug]: ConsensusNetIO - received message type Post_Commit for consensus type RequestBlock from 172.31.94.98:60000\\n[2019-02-25 15:44:36.484448 debug]: ConsensusConnection<RequestBlock> - Received Post_Commit message from delegate: 7 with block hash A48D82284ED43E340A3117A21C2B3E6CB6FD2E9D9C0DAF1C85DD115BBF4DDC34\\n[2019-02-25 15:44:36.489735 info]: PrimaryDelegate - Disregarding message: Received Commit message while in Post Prepare (state already changing)\\n[2019-02-25 15:44:36.489803 debug]: ConsensusNetIO - received message type Prepare for consensus type RequestBlock from 172.31.89.233:60000\\n[2019-02-25 15:44:36.489839 debug]: ConsensusConnection<RequestBlock> - Received Prepare message from delegate: 15 with block hash AC73FBE055694EC9FE611BDCB8AEFBC1F9A82ECBC85A429F0B257FF275FD4486\\n[2019-02-25 15:44:36.489852 info]: PrimaryDelegate - Disregarding message: Received Prepare message while in Post Prepare (state already changing)\\n[2019-02-25 15:44:36.489889 info]: PrimaryDelegate - Disregarding message: Received Commit message while in Post Prepare (state already changing)\\n[2019-02-25 15:44:36.489916 info]: PrimaryDelegate - Disregarding message: Received Commit message while in Post Prepare (state already changing)\\n[2019-02-25 15:44:36.489942 info]: PrimaryDelegate - Disregarding message: Received Commit message while in Post Prepare (state already changing)\\n[2019-02-25 15:44:36.489967 info]: PrimaryDelegate - Disregarding message: Received Commit message while in Post Prepare (state already changing)\\n[2019-02-25 15:44:36.489993 info]: PrimaryDelegate - Disregarding message: Received Commit message while in Post Prepare (state already changing)\\n[2019-02-25 15:44:36.490025 debug]: PostPrepare (RequestBlock) timeout either expired or canceled. Error code: Operation canceled\\n[2019-02-25 15:44:36.490046 debug]: PrimaryDelegate::CancelTimer - Primary timer canceled. \\n[2019-02-25 15:44:36.491008 debug]: RequestHandler::GetCurrentBatch - batch_size=0\\n[2019-02-25 15:44:36.491045 debug]: PersistenceManager<R>::ApplyUpdates - RequestBlock with 0 Requests\\n[2019-02-25 15:44:36.491070 debug]: PersistenceManager::StoreRequestBlock - AC73FBE055694EC9FE611BDCB8AEFBC1F9A82ECBC85A429F0B257FF275FD4486\\n[2019-02-25 15:44:36.491583 debug]: PersistenceManager<R>::ApplyUpdates - RequestBlock with 0 Requests\\n[2019-02-25 15:44:36.492796 debug]: RequestHandler::GetCurrentBatch - batch_size=0\\n[2019-02-25 15:44:36.492818 debug]: ConsensusManager<RequestBlock> - Stored 0 blocks.\\n[2019-02-25 15:44:36.492853 debug]: ConsensusP2pOutput<RequestBlock> - message of size 4 and type 0 added to p2p batch to delegate 0\\n[2019-02-25 15:44:36.492877 debug]: ConsensusP2pOutput<RequestBlock> - message of size 203 and type 8 added to p2p batch to delegate 0\\n[2019-02-25 15:44:36.492906 info]: ConsensusP2pOutput<RequestBlock> - p2p batch of size 216 propagated to delegate 0.\\n[2019-02-25 15:44:36.492929 debug]: RequestConsensusManager::OnConsensusReached _sequence=1\\n[2019-02-25 15:44:36.492970 debug]: PersistenceManager::StoreRequestBlock - A48D82284ED43E340A3117A21C2B3E6CB6FD2E9D9C0DAF1C85DD115BBF4DDC34\\n[2019-02-25 15:44:36.494634 debug]: ConsensusP2pOutput<RequestBlock> - message of size 4 and type 0 added to p2p batch to delegate 7\\n[2019-02-25 15:44:36.494671 debug]: ConsensusP2pOutput<RequestBlock> - message of size 203 and type 8 added to p2p batch to delegate 7\\n[2019-02-25 15:44:36.494710 info]: ConsensusP2pOutput<RequestBlock> - p2p batch of size 216 propagated to delegate 7.\\n[2019-02-25 15:44:36.494757 debug]: ConsensusNetIO - received message type Commit for consensus type RequestBlock from 172.31.94.98:60000\\n[2019-02-25 15:44:36.494794 debug]: ConsensusConnection<RequestBlock> - Received Commit message from delegate: 7 with block hash AC73FBE055694EC9FE611BDCB8AEFBC1F9A82ECBC85A429F0B257FF275FD4486\\n[2019-02-25 15:44:36.494808 info]: PrimaryDelegate - Disregarding message: Received Commit message while in Post Commit\\n[2019-02-25 15:44:36.500775 debug]: ConsensusNetIO - received message type Commit for consensus type RequestBlock from 172.31.89.233:60000\\n[2019-02-25 15:44:36.500816 debug]: ConsensusConnection<RequestBlock> - Received Commit message from delegate: 15 with block hash AC73FBE055694EC9FE611BDCB8AEFBC1F9A82ECBC85A429F0B257FF275FD4486\\n[2019-02-25 15:44:36.500830 info]: PrimaryDelegate - Disregarding message: Received Commit message while in Post Commit\\n[2019-02-25 15:44:36.546530 debug]: ConsensusNetIO - received message type Pre_Prepare for consensus type RequestBlock from 172.31.83.181:60000\\n[2019-02-25 15:44:36.546662 debug]: ConsensusConnection<RequestBlock> - Received Pre_Prepare message from delegate: 22 with block hash 4F18F9F4D34F031B37049AA3D2660424048159E511397AA40773F1D4C84AD051\\n[2019-02-25 15:44:36.553847 debug]: ConsensusNetIO - received message type Pre_Prepare for consensus type RequestBlock from 172.31.95.206:60000\\n[2019-02-25 15:44:36.553905 debug]: ConsensusConnection<RequestBlock> - Received Pre_Prepare message from delegate: 8 with block hash 4A1B717CF7FCB9D266668413B41CB2BFCC2801A746044F814F29097BCB860CC7\\n[2019-02-25 15:44:36.577376 debug]: ConsensusNetIO - received message type Pre_Prepare for consensus type RequestBlock from 172.31.90.45:60000\\n[2019-02-25 15:44:36.577432 debug]: ConsensusConnection<RequestBlock> - Received Pre_Prepare message from delegate: 14 with block hash 89D1BE2888E74FD2D3C4E7A506CB05E340AF12A0D599CB9068F14BA21018A63E\\n[2019-02-25 15:44:36.577909 debug]: ConsensusNetIO - received message type Post_Prepare for consensus type RequestBlock from 172.31.83.181:60000\\n[2019-02-25 15:44:36.577951 debug]: ConsensusConnection<RequestBlock> - Received Post_Prepare message from delegate: 22 with block hash 4F18F9F4D34F031B37049AA3D2660424048159E511397AA40773F1D4C84AD051\\n[2019-02-25 15:44:36.584555 debug]: OnConsensusMessage<RequestBlock> sent commit\\n[2019-02-25 15:44:36.585062 debug]: ConsensusNetIO - received message type Post_Prepare for consensus type RequestBlock from 172.31.95.206:60000\\n[2019-02-25 15:44:36.585151 debug]: ConsensusConnection<RequestBlock> - Received Post_Prepare message from delegate: 8 with block hash 4A1B717CF7FCB9D266668413B41CB2BFCC2801A746044F814F29097BCB860CC7\\n[2019-02-25 15:44:36.591130 debug]: OnConsensusMessage<RequestBlock> sent commit\\n[2019-02-25 15:44:36.592098 debug]: ConsensusNetIO - received message type Pre_Prepare for consensus type RequestBlock from 172.31.93.26:60000\\n[2019-02-25 15:44:36.592162 debug]: ConsensusConnection<RequestBlock> - Received Pre_Prepare message from delegate: 17 with block hash 81779482F88F81455FE6E4F9894EDA2F84B9FB75E2E3066C8BC039A63BC38350\\n[2019-02-25 15:44:36.615111 debug]: ConsensusNetIO - received message type Post_Prepare for consensus type RequestBlock from 172.31.90.45:60000\\n[2019-02-25 15:44:36.615162 debug]: ConsensusConnection<RequestBlock> - Received Post_Prepare message from delegate: 14 with block hash 89D1BE2888E74FD2D3C4E7A506CB05E340AF12A0D599CB9068F14BA21018A63E\\n[2019-02-25 15:44:36.621390 debug]: OnConsensusMessage<RequestBlock> sent commit\\n[2019-02-25 15:44:36.621476 debug]: ConsensusNetIO - received message type Post_Prepare for consensus type RequestBlock from 172.31.93.26:60000\\n[2019-02-25 15:44:36.621518 debug]: ConsensusConnection<RequestBlock> - Received Post_Prepare message from delegate: 17 with block hash 81779482F88F81455FE6E4F9894EDA2F84B9FB75E2E3066C8BC039A63BC38350\\n[2019-02-25 15:44:36.625780 debug]: ConsensusNetIO - received message type Post_Commit for consensus type RequestBlock from 172.31.83.181:60000\\n[2019-02-25 15:44:36.625820 debug]: ConsensusConnection<RequestBlock> - Received Post_Commit message from delegate: 22 with block hash 4F18F9F4D34F031B37049AA3D2660424048159E511397AA40773F1D4C84AD051\\n[2019-02-25 15:44:36.629510 debug]: ConsensusNetIO - received message type Post_Commit for consensus type RequestBlock from 172.31.95.206:60000\\n[2019-02-25 15:44:36.629549 debug]: ConsensusConnection<RequestBlock> - Received Post_Commit message from delegate: 8 with block hash 4A1B717CF7FCB9D266668413B41CB2BFCC2801A746044F814F29097BCB860CC7\\n[2019-02-25 15:44:36.638904 debug]: PersistenceManager<R>::ApplyUpdates - RequestBlock with 0 Requests\\n[2019-02-25 15:44:36.638939 debug]: PersistenceManager::StoreRequestBlock - 4A1B717CF7FCB9D266668413B41CB2BFCC2801A746044F814F29097BCB860CC7\\n[2019-02-25 15:44:36.639071 debug]: PersistenceManager<R>::ApplyUpdates - RequestBlock with 0 Requests\\n[2019-02-25 15:44:36.639105 debug]: OnConsensusMessage<RequestBlock> sent commit\\n[2019-02-25 15:44:36.640791 debug]: PersistenceManager::StoreRequestBlock - 4F18F9F4D34F031B37049AA3D2660424048159E511397AA40773F1D4C84AD051\\n[2019-02-25 15:44:36.640891 debug]: ConsensusP2pOutput<RequestBlock> - message of size 4 and type 0 added to p2p batch to delegate 8\\n[2019-02-25 15:44:36.640913 debug]: ConsensusP2pOutput<RequestBlock> - message of size 203 and type 8 added to p2p batch to delegate 8\\n[2019-02-25 15:44:36.640955 info]: ConsensusP2pOutput<RequestBlock> - p2p batch of size 216 propagated to delegate 8.\\n[2019-02-25 15:44:36.642452 debug]: ConsensusP2pOutput<RequestBlock> - message of size 4 and type 0 added to p2p batch to delegate 22\\n[2019-02-25 15:44:36.642476 debug]: ConsensusP2pOutput<RequestBlock> - message of size 203 and type 8 added to p2p batch to delegate 22\\n[2019-02-25 15:44:36.642508 info]: ConsensusP2pOutput<RequestBlock> - p2p batch of size 216 propagated to delegate 22.\\n[2019-02-25 15:44:36.651492 debug]: ConsensusNetIO - received message type Pre_Prepare for consensus type RequestBlock from 172.31.94.122:60000\\n[2019-02-25 15:44:36.651598 debug]: ConsensusConnection<RequestBlock> - Received Pre_Prepare message from delegate: 23 with block hash 1BB385F031A455D16D4600EE45C721976B61FD05CF1E2B29AFD66AA55FE927CD\\n[2019-02-25 15:44:36.668021 debug]: ConsensusNetIO - received message type Post_Commit for consensus type RequestBlock from 172.31.93.26:60000\\n[2019-02-25 15:44:36.668064 debug]: ConsensusConnection<RequestBlock> - Received Post_Commit message from delegate: 17 with block hash 81779482F88F81455FE6E4F9894EDA2F84B9FB75E2E3066C8BC039A63BC38350\\n[2019-02-25 15:44:36.673602 debug]: ConsensusNetIO - received message type Post_Commit for consensus type RequestBlock from 172.31.90.45:60000\\n[2019-02-25 15:44:36.673646 debug]: ConsensusConnection<RequestBlock> - Received Post_Commit message from delegate: 14 with block hash 89D1BE2888E74FD2D3C4E7A506CB05E340AF12A0D599CB9068F14BA21018A63E\\n[2019-02-25 15:44:36.679279 debug]: PersistenceManager<R>::ApplyUpdates - RequestBlock with 0 Requests\\n[2019-02-25 15:44:36.679313 debug]: PersistenceManager::StoreRequestBlock - 81779482F88F81455FE6E4F9894EDA2F84B9FB75E2E3066C8BC039A63BC38350\\n[2019-02-25 15:44:36.679433 debug]: PersistenceManager<R>::ApplyUpdates - RequestBlock with 0 Requests\\n[2019-02-25 15:44:36.681233 debug]: ConsensusP2pOutput<RequestBlock> - message of size 4 and type 0 added to p2p batch to delegate 17\\n[2019-02-25 15:44:36.681266 debug]: ConsensusP2pOutput<RequestBlock> - message of size 203 and type 8 added to p2p batch to delegate 17\\n[2019-02-25 15:44:36.681300 info]: ConsensusP2pOutput<RequestBlock> - p2p batch of size 216 propagated to delegate 17.\\n[2019-02-25 15:44:36.681355 debug]: PersistenceManager::StoreRequestBlock - 89D1BE2888E74FD2D3C4E7A506CB05E340AF12A0D599CB9068F14BA21018A63E\\n[2019-02-25 15:44:36.683484 debug]: ConsensusP2pOutput<RequestBlock> - message of size 4 and type 0 added to p2p batch to delegate 14\\n[2019-02-25 15:44:36.683509 debug]: ConsensusP2pOutput<RequestBlock> - message of size 203 and type 8 added to p2p batch to delegate 14\\n[2019-02-25 15:44:36.683538 info]: ConsensusP2pOutput<RequestBlock> - p2p batch of size 216 propagated to delegate 14.\\n[2019-02-25 15:44:36.686998 debug]: ConsensusNetIO - received message type Post_Prepare for consensus type RequestBlock from 172.31.94.122:60000\\n[2019-02-25 15:44:36.687042 debug]: ConsensusConnection<RequestBlock> - Received Post_Prepare message from delegate: 23 with block hash 1BB385F031A455D16D4600EE45C721976B61FD05CF1E2B29AFD66AA55FE927CD\\n[2019-02-25 15:44:36.692923 debug]: OnConsensusMessage<RequestBlock> sent commit\\n[2019-02-25 15:44:36.718594 debug]: ConsensusNetIO - received message type Pre_Prepare for consensus type RequestBlock from 172.31.92.220:60000\\n[2019-02-25 15:44:36.718693 debug]: ConsensusConnection<RequestBlock> - Received Pre_Prepare message from delegate: 1 with block hash B8B7E6127676D8BCF9CFB018DAB4F0B6F77661CF1FCCAE4F434CC8DFA051403E\\n[2019-02-25 15:44:36.722878 debug]: ConsensusNetIO - received message type Post_Commit for consensus type RequestBlock from 172.31.94.122:60000\\n[2019-02-25 15:44:36.722926 debug]: ConsensusConnection<RequestBlock> - Received Post_Commit message from delegate: 23 with block hash 1BB385F031A455D16D4600EE45C721976B61FD05CF1E2B29AFD66AA55FE927CD\\n[2019-02-25 15:44:36.728660 debug]: PersistenceManager<R>::ApplyUpdates - RequestBlock with 0 Requests\\n[2019-02-25 15:44:36.728695 debug]: PersistenceManager::StoreRequestBlock - 1BB385F031A455D16D4600EE45C721976B61FD05CF1E2B29AFD66AA55FE927CD\\n[2019-02-25 15:44:36.731547 debug]: ConsensusP2pOutput<RequestBlock> - message of size 4 and type 0 added to p2p batch to delegate 23\\n[2019-02-25 15:44:36.731581 debug]: ConsensusP2pOutput<RequestBlock> - message of size 203 and type 8 added to p2p batch to delegate 23\\n[2019-02-25 15:44:36.731618 info]: ConsensusP2pOutput<RequestBlock> - p2p batch of size 216 propagated to delegate 23.\\n[2019-02-25 15:44:36.744324 debug]: ConsensusNetIO - received message type Pre_Prepare for consensus type RequestBlock from 172.31.93.108:60000\\n[2019-02-25 15:44:36.744385 debug]: ConsensusConnection<RequestBlock> - Received Pre_Prepare message from delegate: 25 with block hash 76B9D177AE0C5A3FFCA6CFAF81C6DDE42AE2BD89F22D4A358B23F09B3DE1EF20\\n[2019-02-25 15:44:36.745618 debug]: ConsensusNetIO - received message type Pre_Prepare for consensus type RequestBlock from 172.31.82.208:60000\\n[2019-02-25 15:44:36.745671 debug]: ConsensusConnection<RequestBlock> - Received Pre_Prepare message from delegate: 2 with block hash E0C71DFAFD66F2D67C376C60DA17080AF226C4937606D314FE0A90E71AEBDC32\\n[2019-02-25 15:44:36.754696 debug]: ConsensusNetIO - received message type Post_Prepare for consensus type RequestBlock from 172.31.92.220:60000\\n[2019-02-25 15:44:36.754745 debug]: ConsensusConnection<RequestBlock> - Received Post_Prepare message from delegate: 1 with block hash B8B7E6127676D8BCF9CFB018DAB4F0B6F77661CF1FCCAE4F434CC8DFA051403E\\n[2019-02-25 15:44:36.760713 debug]: OnConsensusMessage<RequestBlock> sent commit\\n[2019-02-25 15:44:36.775548 debug]: ConsensusNetIO - received message type Post_Prepare for consensus type RequestBlock from 172.31.93.108:60000\\n[2019-02-25 15:44:36.775597 debug]: ConsensusConnection<RequestBlock> - Received Post_Prepare message from delegate: 25 with block hash 76B9D177AE0C5A3FFCA6CFAF81C6DDE42AE2BD89F22D4A358B23F09B3DE1EF20\\n[2019-02-25 15:44:36.781415 debug]: ConsensusNetIO - received message type Post_Prepare for consensus type RequestBlock from 172.31.82.208:60000\\n[2019-02-25 15:44:36.781467 debug]: ConsensusConnection<RequestBlock> - Received Post_Prepare message from delegate: 2 with block hash E0C71DFAFD66F2D67C376C60DA17080AF226C4937606D314FE0A90E71AEBDC32\\n[2019-02-25 15:44:36.787165 debug]: OnConsensusMessage<RequestBlock> sent commit\\n[2019-02-25 15:44:36.787216 debug]: OnConsensusMessage<RequestBlock> sent commit\\n[2019-02-25 15:44:36.801643 debug]: ConsensusNetIO - received message type Post_Commit for consensus type RequestBlock from 172.31.92.220:60000\\n[2019-02-25 15:44:36.801690 debug]: ConsensusConnection<RequestBlock> - Received Post_Commit message from delegate: 1 with block hash B8B7E6127676D8BCF9CFB018DAB4F0B6F77661CF1FCCAE4F434CC8DFA051403E\\n[2019-02-25 15:44:36.807310 debug]: PersistenceManager<R>::ApplyUpdates - RequestBlock with 0 Requests\\n[2019-02-25 15:44:36.807344 debug]: PersistenceManager::StoreRequestBlock - B8B7E6127676D8BCF9CFB018DAB4F0B6F77661CF1FCCAE4F434CC8DFA051403E\\n[2019-02-25 15:44:36.809901 debug]: ConsensusP2pOutput<RequestBlock> - message of size 4 and type 0 added to p2p batch to delegate 1\\n[2019-02-25 15:44:36.809925 debug]: ConsensusP2pOutput<RequestBlock> - message of size 203 and type 8 added to p2p batch to delegate 1\\n[2019-02-25 15:44:36.809956 info]: ConsensusP2pOutput<RequestBlock> - p2p batch of size 216 propagated to delegate 1.\\n[2019-02-25 15:44:36.816924 debug]: ConsensusNetIO - received message type Post_Commit for consensus type RequestBlock from 172.31.82.208:60000\\n[2019-02-25 15:44:36.816970 debug]: ConsensusConnection<RequestBlock> - Received Post_Commit message from delegate: 2 with block hash E0C71DFAFD66F2D67C376C60DA17080AF226C4937606D314FE0A90E71AEBDC32\\n[2019-02-25 15:44:36.821759 debug]: ConsensusNetIO - received message type Post_Commit for consensus type RequestBlock from 172.31.93.108:60000\\n[2019-02-25 15:44:36.821811 debug]: ConsensusConnection<RequestBlock> - Received Post_Commit message from delegate: 25 with block hash 76B9D177AE0C5A3FFCA6CFAF81C6DDE42AE2BD89F22D4A358B23F09B3DE1EF20\\n[2019-02-25 15:44:36.828347 debug]: PersistenceManager<R>::ApplyUpdates - RequestBlock with 0 Requests\\n[2019-02-25 15:44:36.828379 debug]: PersistenceManager::StoreRequestBlock - E0C71DFAFD66F2D67C376C60DA17080AF226C4937606D314FE0A90E71AEBDC32\\n[2019-02-25 15:44:36.828482 debug]: PersistenceManager<R>::ApplyUpdates - RequestBlock with 0 Requests\\n[2019-02-25 15:44:36.830423 debug]: PersistenceManager::StoreRequestBlock - 76B9D177AE0C5A3FFCA6CFAF81C6DDE42AE2BD89F22D4A358B23F09B3DE1EF20\\n[2019-02-25 15:44:36.830528 debug]: ConsensusP2pOutput<RequestBlock> - message of size 4 and type 0 added to p2p batch to delegate 2\\n[2019-02-25 15:44:36.830550 debug]: ConsensusP2pOutput<RequestBlock> - message of size 203 and type 8 added to p2p batch to delegate 2\\n[2019-02-25 15:44:36.830579 info]: ConsensusP2pOutput<RequestBlock> - p2p batch of size 216 propagated to delegate 2.\\n[2019-02-25 15:44:36.832104 debug]: ConsensusP2pOutput<RequestBlock> - message of size 4 and type 0 added to p2p batch to delegate 25\\n[2019-02-25 15:44:36.832128 debug]: ConsensusP2pOutput<RequestBlock> - message of size 203 and type 8 added to p2p batch to delegate 25\\n[2019-02-25 15:44:36.832156 info]: ConsensusP2pOutput<RequestBlock> - p2p batch of size 216 propagated to delegate 25.\\n[2019-02-25 15:44:36.932006 debug]: ConsensusNetIO - received message type Pre_Prepare for consensus type RequestBlock from 172.31.93.18:60000\\n[2019-02-25 15:44:36.932098 debug]: ConsensusConnection<RequestBlock> - Received Pre_Prepare message from delegate: 3 with block hash CEC13943E9A4AEBF719B254BAC6B82B154C9ADD5C83D36C3C1D37F4E42ADDA0C\\n[2019-02-25 15:44:36.962323 debug]: ConsensusNetIO - received message type Post_Prepare for consensus type RequestBlock from 172.31.93.18:60000\\n[2019-02-25 15:44:36.962373 debug]: ConsensusConnection<RequestBlock> - Received Post_Prepare message from delegate: 3 with block hash CEC13943E9A4AEBF719B254BAC6B82B154C9ADD5C83D36C3C1D37F4E42ADDA0C\\n[2019-02-25 15:44:36.968310 debug]: OnConsensusMessage<RequestBlock> sent commit\\n[2019-02-25 15:44:36.995907 debug]: ConsensusNetIO - received message type Post_Commit for consensus type RequestBlock from 172.31.93.18:60000\\n[2019-02-25 15:44:36.995953 debug]: ConsensusConnection<RequestBlock> - Received Post_Commit message from delegate: 3 with block hash CEC13943E9A4AEBF719B254BAC6B82B154C9ADD5C83D36C3C1D37F4E42ADDA0C\\n[2019-02-25 15:44:37.001620 debug]: PersistenceManager<R>::ApplyUpdates - RequestBlock with 0 Requests\\n[2019-02-25 15:44:37.001656 debug]: PersistenceManager::StoreRequestBlock - CEC13943E9A4AEBF719B254BAC6B82B154C9ADD5C83D36C3C1D37F4E42ADDA0C\\n[2019-02-25 15:44:37.005734 debug]: ConsensusP2pOutput<RequestBlock> - message of size 4 and type 0 added to p2p batch to delegate 3\\n[2019-02-25 15:44:37.005788 debug]: ConsensusP2pOutput<RequestBlock> - message of size 203 and type 8 added to p2p batch to delegate 3\\n[2019-02-25 15:44:37.005820 info]: ConsensusP2pOutput<RequestBlock> - p2p batch of size 216 propagated to delegate 3.\\n[2019-02-25 15:44:37.032959 debug]: ConsensusNetIO - received message type Pre_Prepare for consensus type RequestBlock from 172.31.82.122:60000\\n[2019-02-25 15:44:37.033045 debug]: ConsensusConnection<RequestBlock> - Received Pre_Prepare message from delegate: 24 with block hash 20C779352721AC69CF7D78711AA9DE3907557A12A86003B7B1A866F06C08CB6F\\n[2019-02-25 15:44:37.061146 debug]: ConsensusNetIO - received message type Pre_Prepare for consensus type RequestBlock from 172.31.86.44:60000\\n[2019-02-25 15:44:37.061231 debug]: ConsensusConnection<RequestBlock> - Received Pre_Prepare message from delegate: 19 with block hash 4E1D100EC7E3B23DC5726A04CD9FE306566D6124C3F2AFDCBC19E788BC508433\\n[2019-02-25 15:44:37.062468 debug]: ConsensusNetIO - received message type Pre_Prepare for consensus type RequestBlock from 172.31.80.49:60000\\n[2019-02-25 15:44:37.062527 debug]: ConsensusConnection<RequestBlock> - Received Pre_Prepare message from delegate: 21 with block hash B880FF9B5FBB67FDFF2728ABF6B165DC55483C754DC010F103AF069ABD8BF948\\n[2019-02-25 15:44:37.063715 debug]: ConsensusNetIO - received message type Pre_Prepare for consensus type RequestBlock from 172.31.88.46:60000\\n[2019-02-25 15:44:37.063776 debug]: ConsensusConnection<RequestBlock> - Received Pre_Prepare message from delegate: 13 with block hash 6289E9DE1936C2037F0AB26C87151D6530F1CE9D9833F1E409BDFE4566EF3313\\n[2019-02-25 15:44:37.065893 debug]: ConsensusNetIO - received message type Post_Prepare for consensus type RequestBlock from 172.31.82.122:60000\\n[2019-02-25 15:44:37.065940 debug]: ConsensusConnection<RequestBlock> - Received Post_Prepare message from delegate: 24 with block hash 20C779352721AC69CF7D78711AA9DE3907557A12A86003B7B1A866F06C08CB6F\\n[2019-02-25 15:44:37.069283 debug]: ConsensusNetIO - received message type Pre_Prepare for consensus type RequestBlock from 172.31.92.242:60000\\n[2019-02-25 15:44:37.069339 debug]: ConsensusConnection<RequestBlock> - Received Pre_Prepare message from delegate: 27 with block hash 65EC2CAC23B7BA46319334A6E220D0A4FE0B171EE2845036B3EA86C04DFE34CD\\n[2019-02-25 15:44:37.071168 debug]: ConsensusNetIO - received message type Pre_Prepare for consensus type RequestBlock from 172.31.87.98:60000\\n[2019-02-25 15:44:37.071225 debug]: ConsensusConnection<RequestBlock> - Received Pre_Prepare message from delegate: 26 with block hash 2965F6065B95ABA4C4361571F74951D38BC59026F0881B6757ACBB7E07F6AF2C\\n[2019-02-25 15:44:37.074507 debug]: OnConsensusMessage<RequestBlock> sent commit\\n[2019-02-25 15:44:37.094647 debug]: ConsensusNetIO - received message type Post_Prepare for consensus type RequestBlock from 172.31.80.49:60000\\n[2019-02-25 15:44:37.094693 debug]: ConsensusConnection<RequestBlock> - Received Post_Prepare message from delegate: 21 with block hash B880FF9B5FBB67FDFF2728ABF6B165DC55483C754DC010F103AF069ABD8BF948\\n[2019-02-25 15:44:37.097757 debug]: ConsensusNetIO - received message type Post_Prepare for consensus type RequestBlock from 172.31.88.46:60000\\n[2019-02-25 15:44:37.097796 debug]: ConsensusConnection<RequestBlock> - Received Post_Prepare message from delegate: 13 with block hash 6289E9DE1936C2037F0AB26C87151D6530F1CE9D9833F1E409BDFE4566EF3313\\n[2019-02-25 15:44:37.101969 debug]: ConsensusNetIO - received message type Post_Prepare for consensus type RequestBlock from 172.31.87.98:60000\\n[2019-02-25 15:44:37.102008 debug]: ConsensusConnection<RequestBlock> - Received Post_Prepare message from delegate: 26 with block hash 2965F6065B95ABA4C4361571F74951D38BC59026F0881B6757ACBB7E07F6AF2C\\n[2019-02-25 15:44:37.108741 debug]: ConsensusNetIO - received message type Post_Prepare for consensus type RequestBlock from 172.31.92.242:60000\\n[2019-02-25 15:44:37.108789 debug]: ConsensusConnection<RequestBlock> - Received Post_Prepare message from delegate: 27 with block hash 65EC2CAC23B7BA46319334A6E220D0A4FE0B171EE2845036B3EA86C04DFE34CD\\n[2019-02-25 15:44:37.113761 debug]: ConsensusNetIO - received message type Post_Commit for consensus type RequestBlock from 172.31.82.122:60000\\n[2019-02-25 15:44:37.113807 debug]: ConsensusConnection<RequestBlock> - Received Post_Commit message from delegate: 24 with block hash 20C779352721AC69CF7D78711AA9DE3907557A12A86003B7B1A866F06C08CB6F\\n[2019-02-25 15:44:37.117980 debug]: ConsensusNetIO - received message type Post_Prepare for consensus type RequestBlock from 172.31.86.44:60000\\n[2019-02-25 15:44:37.118022 debug]: ConsensusConnection<RequestBlock> - Received Post_Prepare message from delegate: 19 with block hash 4E1D100EC7E3B23DC5726A04CD9FE306566D6124C3F2AFDCBC19E788BC508433\\n[2019-02-25 15:44:37.129238 debug]: OnConsensusMessage<RequestBlock> sent commit\\n[2019-02-25 15:44:37.129306 debug]: OnConsensusMessage<RequestBlock> sent commit\\n[2019-02-25 15:44:37.130229 debug]: OnConsensusMessage<RequestBlock> sent commit\\n[2019-02-25 15:44:37.130289 debug]: PersistenceManager<R>::ApplyUpdates - RequestBlock with 0 Requests\\n[2019-02-25 15:44:37.130320 debug]: PersistenceManager::StoreRequestBlock - 20C779352721AC69CF7D78711AA9DE3907557A12A86003B7B1A866F06C08CB6F\\n[2019-02-25 15:44:37.130668 debug]: OnConsensusMessage<RequestBlock> sent commit\\n[2019-02-25 15:44:37.130716 debug]: OnConsensusMessage<RequestBlock> sent commit\\n[2019-02-25 15:44:37.133530 debug]: ConsensusP2pOutput<RequestBlock> - message of size 4 and type 0 added to p2p batch to delegate 24\\n[2019-02-25 15:44:37.133557 debug]: ConsensusP2pOutput<RequestBlock> - message of size 203 and type 8 added to p2p batch to delegate 24\\n[2019-02-25 15:44:37.133593 info]: ConsensusP2pOutput<RequestBlock> - p2p batch of size 216 propagated to delegate 24.\\n[2019-02-25 15:44:37.151506 debug]: ConsensusNetIO - received message type Pre_Prepare for consensus type RequestBlock from 172.31.92.205:60000\\n[2019-02-25 15:44:37.151566 debug]: ConsensusConnection<RequestBlock> - Received Pre_Prepare message from delegate: 18 with block hash DCE7F46473184DDCB598D4C10E4E58AD0F6FAF25E94B2CC38ED110310EB02976\\n[2019-02-25 15:44:37.154549 debug]: ConsensusNetIO - received message type Pre_Prepare for consensus type RequestBlock from 172.31.88.76:60000\\n[2019-02-25 15:44:37.154662 debug]: ConsensusConnection<RequestBlock> - Received Pre_Prepare message from delegate: 9 with block hash 510C5ECFF592B8CFE53F209FB8086D97393540B5280F2B12D8F3512BF3E6D860\\n[2019-02-25 15:44:37.157708 debug]: ConsensusNetIO - received message type Pre_Prepare for consensus type RequestBlock from 172.31.84.225:60000\\n[2019-02-25 15:44:37.157779 debug]: ConsensusConnection<RequestBlock> - Received Pre_Prepare message from delegate: 12 with block hash 75A948A9A7379DCBC773C8C1488685400B9FD23051A660C8D34924C48DDF8BBF\\n[2019-02-25 15:44:37.158714 debug]: ConsensusNetIO - received message type Pre_Prepare for consensus type RequestBlock from 172.31.93.205:60000\\n[2019-02-25 15:44:37.158766 debug]: ConsensusConnection<RequestBlock> - Received Pre_Prepare message from delegate: 30 with block hash 539DE4B14D59201FBF3422D091E482475C85E5451F50FDA828DC600B8FCB1133\\n[2019-02-25 15:44:37.165146 debug]: ConsensusNetIO - received message type Post_Commit for consensus type RequestBlock from 172.31.86.44:60000\\n[2019-02-25 15:44:37.165239 debug]: ConsensusConnection<RequestBlock> - Received Post_Commit message from delegate: 19 with block hash 4E1D100EC7E3B23DC5726A04CD9FE306566D6124C3F2AFDCBC19E788BC508433\\n[2019-02-25 15:44:37.169755 debug]: ConsensusNetIO - received message type Post_Commit for consensus type RequestBlock from 172.31.88.46:60000\\n[2019-02-25 15:44:37.169803 debug]: ConsensusConnection<RequestBlock> - Received Post_Commit message from delegate: 13 with block hash 6289E9DE1936C2037F0AB26C87151D6530F1CE9D9833F1E409BDFE4566EF3313\\n[2019-02-25 15:44:37.173762 debug]: ConsensusNetIO - received message type Post_Commit for consensus type RequestBlock from 172.31.87.98:60000\\n[2019-02-25 15:44:37.173803 debug]: ConsensusConnection<RequestBlock> - Received Post_Commit message from delegate: 26 with block hash 2965F6065B95ABA4C4361571F74951D38BC59026F0881B6757ACBB7E07F6AF2C\\n[2019-02-25 15:44:37.182296 debug]: ConsensusNetIO - received message type Pre_Prepare for consensus type RequestBlock from 172.31.95.248:60000\\n[2019-02-25 15:44:37.182352 debug]: ConsensusConnection<RequestBlock> - Received Pre_Prepare message from delegate: 16 with block hash 8F6DA0C676339AA7452B8CBDCB1600476D05351CC737A1D575179F3D95EE310E\\n[2019-02-25 15:44:37.183597 debug]: ConsensusNetIO - received message type Pre_Prepare for consensus type RequestBlock from 172.31.80.253:60000\\n[2019-02-25 15:44:37.183655 debug]: ConsensusConnection<RequestBlock> - Received Pre_Prepare message from delegate: 31 with block hash 8AEC7628270F25F97A9A44643DCA53E1EDA777038DA54973722BAA04BF031A91\\n[2019-02-25 15:44:37.185051 debug]: PersistenceManager<R>::ApplyUpdates - RequestBlock with 0 Requests\\n[2019-02-25 15:44:37.185084 debug]: PersistenceManager::StoreRequestBlock - 4E1D100EC7E3B23DC5726A04CD9FE306566D6124C3F2AFDCBC19E788BC508433\\n[2019-02-25 15:44:37.185243 debug]: PersistenceManager<R>::ApplyUpdates - RequestBlock with 0 Requests\\n[2019-02-25 15:44:37.185285 debug]: PersistenceManager<R>::ApplyUpdates - RequestBlock with 0 Requests\\n[2019-02-25 15:44:37.186959 debug]: ConsensusNetIO - received message type Pre_Prepare for consensus type RequestBlock from 172.31.92.101:60000\\n[2019-02-25 15:44:37.187086 debug]: ConsensusConnection<RequestBlock> - Received Pre_Prepare message from delegate: 20 with block hash 44AB53E42797957C0FA56075CFF4E2D23ABBA4055D39FD6FBEDDF74B4C7D4F50\\n[2019-02-25 15:44:37.187616 debug]: ConsensusNetIO - received message type Post_Prepare for consensus type RequestBlock from 172.31.92.205:60000\\n[2019-02-25 15:44:37.187657 debug]: ConsensusConnection<RequestBlock> - Received Post_Prepare message from delegate: 18 with block hash DCE7F46473184DDCB598D4C10E4E58AD0F6FAF25E94B2CC38ED110310EB02976\\n[2019-02-25 15:44:37.189987 debug]: ConsensusNetIO - received message type Post_Prepare for consensus type RequestBlock from 172.31.84.225:60000\\n[2019-02-25 15:44:37.190030 debug]: ConsensusConnection<RequestBlock> - Received Post_Prepare message from delegate: 12 with block hash 75A948A9A7379DCBC773C8C1488685400B9FD23051A660C8D34924C48DDF8BBF\\n[2019-02-25 15:44:37.193758 debug]: ConsensusNetIO - received message type Post_Prepare for consensus type RequestBlock from 172.31.93.205:60000\\n[2019-02-25 15:44:37.193796 debug]: ConsensusConnection<RequestBlock> - Received Post_Prepare message from delegate: 30 with block hash 539DE4B14D59201FBF3422D091E482475C85E5451F50FDA828DC600B8FCB1133\\n[2019-02-25 15:44:37.200072 debug]: ConsensusNetIO - received message type Post_Prepare for consensus type RequestBlock from 172.31.88.76:60000\\n[2019-02-25 15:44:37.200111 debug]: ConsensusConnection<RequestBlock> - Received Post_Prepare message from delegate: 9 with block hash 510C5ECFF592B8CFE53F209FB8086D97393540B5280F2B12D8F3512BF3E6D860\\n[2019-02-25 15:44:37.205030 debug]: ConsensusP2pOutput<RequestBlock> - message of size 4 and type 0 added to p2p batch to delegate 19\\n[2019-02-25 15:44:37.205057 debug]: ConsensusP2pOutput<RequestBlock> - message of size 203 and type 8 added to p2p batch to delegate 19\\n[2019-02-25 15:44:37.205092 info]: ConsensusP2pOutput<RequestBlock> - p2p batch of size 216 propagated to delegate 19.\\n[2019-02-25 15:44:37.205345 debug]: PersistenceManager::StoreRequestBlock - 6289E9DE1936C2037F0AB26C87151D6530F1CE9D9833F1E409BDFE4566EF3313\\n[2019-02-25 15:44:37.206909 debug]: ConsensusP2pOutput<RequestBlock> - message of size 4 and type 0 added to p2p batch to delegate 13\\n[2019-02-25 15:44:37.206941 debug]: ConsensusP2pOutput<RequestBlock> - message of size 203 and type 8 added to p2p batch to delegate 13\\n[2019-02-25 15:44:37.206974 info]: ConsensusP2pOutput<RequestBlock> - p2p batch of size 216 propagated to delegate 13.\\n[2019-02-25 15:44:37.207203 debug]: PersistenceManager::StoreRequestBlock - 2965F6065B95ABA4C4361571F74951D38BC59026F0881B6757ACBB7E07F6AF2C\\n[2019-02-25 15:44:37.209247 debug]: ConsensusP2pOutput<RequestBlock> - message of size 4 and type 0 added to p2p batch to delegate 26\\n[2019-02-25 15:44:37.209274 debug]: ConsensusP2pOutput<RequestBlock> - message of size 203 and type 8 added to p2p batch to delegate 26\\n[2019-02-25 15:44:37.209305 info]: ConsensusP2pOutput<RequestBlock> - p2p batch of size 216 propagated to delegate 26.\\n[2019-02-25 15:44:37.213286 debug]: OnConsensusMessage<RequestBlock> sent commit\\n[2019-02-25 15:44:37.213355 debug]: OnConsensusMessage<RequestBlock> sent commit\\n[2019-02-25 15:44:37.213397 debug]: OnConsensusMessage<RequestBlock> sent commit\\n[2019-02-25 15:44:37.213434 debug]: OnConsensusMessage<RequestBlock> sent commit\\n[2019-02-25 15:44:37.216922 debug]: ConsensusNetIO - received message type Post_Commit for consensus type RequestBlock from 172.31.80.49:60000\\n[2019-02-25 15:44:37.216983 debug]: ConsensusConnection<RequestBlock> - Received Post_Commit message from delegate: 21 with block hash B880FF9B5FBB67FDFF2728ABF6B165DC55483C754DC010F103AF069ABD8BF948\\n[2019-02-25 15:44:37.221757 debug]: ConsensusNetIO - received message type Post_Commit for consensus type RequestBlock from 172.31.92.242:60000\\n[2019-02-25 15:44:37.221796 debug]: ConsensusConnection<RequestBlock> - Received Post_Commit message from delegate: 27 with block hash 65EC2CAC23B7BA46319334A6E220D0A4FE0B171EE2845036B3EA86C04DFE34CD\\n[2019-02-25 15:44:37.222898 debug]: ConsensusNetIO - received message type Post_Prepare for consensus type RequestBlock from 172.31.80.253:60000\\n[2019-02-25 15:44:37.222937 debug]: ConsensusConnection<RequestBlock> - Received Post_Prepare message from delegate: 31 with block hash 8AEC7628270F25F97A9A44643DCA53E1EDA777038DA54973722BAA04BF031A91\\n[2019-02-25 15:44:37.233753 debug]: PersistenceManager<R>::ApplyUpdates - RequestBlock with 0 Requests\\n[2019-02-25 15:44:37.233789 debug]: PersistenceManager::StoreRequestBlock - B880FF9B5FBB67FDFF2728ABF6B165DC55483C754DC010F103AF069ABD8BF948\\n[2019-02-25 15:44:37.233920 debug]: OnConsensusMessage<RequestBlock> sent commit\\n[2019-02-25 15:44:37.234600 debug]: PersistenceManager<R>::ApplyUpdates - RequestBlock with 0 Requests\\n[2019-02-25 15:44:37.235526 debug]: ConsensusP2pOutput<RequestBlock> - message of size 4 and type 0 added to p2p batch to delegate 21\\n[2019-02-25 15:44:37.235580 debug]: ConsensusP2pOutput<RequestBlock> - message of size 203 and type 8 added to p2p batch to delegate 21\\n[2019-02-25 15:44:37.235607 info]: ConsensusP2pOutput<RequestBlock> - p2p batch of size 216 propagated to delegate 21.\\n[2019-02-25 15:44:37.235799 debug]: PersistenceManager::StoreRequestBlock - 65EC2CAC23B7BA46319334A6E220D0A4FE0B171EE2845036B3EA86C04DFE34CD\\n[2019-02-25 15:44:37.238070 debug]: ConsensusP2pOutput<RequestBlock> - message of size 4 and type 0 added to p2p batch to delegate 27\\n[2019-02-25 15:44:37.238094 debug]: ConsensusP2pOutput<RequestBlock> - message of size 203 and type 8 added to p2p batch to delegate 27\\n[2019-02-25 15:44:37.238134 info]: ConsensusP2pOutput<RequestBlock> - p2p batch of size 216 propagated to delegate 27.\\n[2019-02-25 15:44:37.252439 debug]: ConsensusNetIO - received message type Post_Prepare for consensus type RequestBlock from 172.31.95.248:60000\\n[2019-02-25 15:44:37.252483 debug]: ConsensusConnection<RequestBlock> - Received Post_Prepare message from delegate: 16 with block hash 8F6DA0C676339AA7452B8CBDCB1600476D05351CC737A1D575179F3D95EE310E\\n[2019-02-25 15:44:37.258369 debug]: OnConsensusMessage<RequestBlock> sent commit\\n[2019-02-25 15:44:37.264803 debug]: ConsensusNetIO - received message type Post_Prepare for consensus type RequestBlock from 172.31.92.101:60000\\n[2019-02-25 15:44:37.264847 debug]: ConsensusConnection<RequestBlock> - Received Post_Prepare message from delegate: 20 with block hash 44AB53E42797957C0FA56075CFF4E2D23ABBA4055D39FD6FBEDDF74B4C7D4F50\\n[2019-02-25 15:44:37.270548 debug]: OnConsensusMessage<RequestBlock> sent commit\\n[2019-02-25 15:44:37.272327 debug]: ConsensusNetIO - received message type Post_Commit for consensus type RequestBlock from 172.31.92.205:60000\\n[2019-02-25 15:44:37.272372 debug]: ConsensusConnection<RequestBlock> - Received Post_Commit message from delegate: 18 with block hash DCE7F46473184DDCB598D4C10E4E58AD0F6FAF25E94B2CC38ED110310EB02976\\n[2019-02-25 15:44:37.278000 debug]: PersistenceManager<R>::ApplyUpdates - RequestBlock with 0 Requests\\n[2019-02-25 15:44:37.278034 debug]: PersistenceManager::StoreRequestBlock - DCE7F46473184DDCB598D4C10E4E58AD0F6FAF25E94B2CC38ED110310EB02976\\n[2019-02-25 15:44:37.279934 debug]: ConsensusP2pOutput<RequestBlock> - message of size 4 and type 0 added to p2p batch to delegate 18\\n[2019-02-25 15:44:37.279960 debug]: ConsensusP2pOutput<RequestBlock> - message of size 203 and type 8 added to p2p batch to delegate 18\\n[2019-02-25 15:44:37.279992 info]: ConsensusP2pOutput<RequestBlock> - p2p batch of size 216 propagated to delegate 18.\\n[2019-02-25 15:44:37.284443 debug]: ConsensusNetIO - received message type Post_Commit for consensus type RequestBlock from 172.31.93.205:60000\\n[2019-02-25 15:44:37.284485 debug]: ConsensusConnection<RequestBlock> - Received Post_Commit message from delegate: 30 with block hash 539DE4B14D59201FBF3422D091E482475C85E5451F50FDA828DC600B8FCB1133\\n[2019-02-25 15:44:37.286069 debug]: ConsensusNetIO - received message type Post_Commit for consensus type RequestBlock from 172.31.84.225:60000\\n[2019-02-25 15:44:37.286110 debug]: ConsensusConnection<RequestBlock> - Received Post_Commit message from delegate: 12 with block hash 75A948A9A7379DCBC773C8C1488685400B9FD23051A660C8D34924C48DDF8BBF\\n[2019-02-25 15:44:37.289760 debug]: ConsensusNetIO - received message type Post_Commit for consensus type RequestBlock from 172.31.88.76:60000\\n[2019-02-25 15:44:37.289800 debug]: ConsensusConnection<RequestBlock> - Received Post_Commit message from delegate: 9 with block hash 510C5ECFF592B8CFE53F209FB8086D97393540B5280F2B12D8F3512BF3E6D860\\n[2019-02-25 15:44:37.293763 debug]: ConsensusNetIO - received message type Post_Commit for consensus type RequestBlock from 172.31.80.253:60000\\n[2019-02-25 15:44:37.293803 debug]: ConsensusConnection<RequestBlock> - Received Post_Commit message from delegate: 31 with block hash 8AEC7628270F25F97A9A44643DCA53E1EDA777038DA54973722BAA04BF031A91\\n[2019-02-25 15:44:37.306719 debug]: PersistenceManager<R>::ApplyUpdates - RequestBlock with 0 Requests\\n[2019-02-25 15:44:37.306754 debug]: PersistenceManager::StoreRequestBlock - 510C5ECFF592B8CFE53F209FB8086D97393540B5280F2B12D8F3512BF3E6D860\\n[2019-02-25 15:44:37.307370 debug]: PersistenceManager<R>::ApplyUpdates - RequestBlock with 0 Requests\\n[2019-02-25 15:44:37.307410 debug]: PersistenceManager<R>::ApplyUpdates - RequestBlock with 0 Requests\\n[2019-02-25 15:44:37.307444 debug]: PersistenceManager<R>::ApplyUpdates - RequestBlock with 0 Requests\\n[2019-02-25 15:44:37.308724 debug]: ConsensusP2pOutput<RequestBlock> - message of size 4 and type 0 added to p2p batch to delegate 9\\n[2019-02-25 15:44:37.308749 debug]: ConsensusP2pOutput<RequestBlock> - message of size 203 and type 8 added to p2p batch to delegate 9\\n[2019-02-25 15:44:37.308780 info]: ConsensusP2pOutput<RequestBlock> - p2p batch of size 216 propagated to delegate 9.\\n[2019-02-25 15:44:37.308834 debug]: PersistenceManager::StoreRequestBlock - 75A948A9A7379DCBC773C8C1488685400B9FD23051A660C8D34924C48DDF8BBF\\n[2019-02-25 15:44:37.312234 debug]: PersistenceManager::StoreRequestBlock - 8AEC7628270F25F97A9A44643DCA53E1EDA777038DA54973722BAA04BF031A91\\n[2019-02-25 15:44:37.312346 debug]: ConsensusP2pOutput<RequestBlock> - message of size 4 and type 0 added to p2p batch to delegate 12\\n[2019-02-25 15:44:37.312368 debug]: ConsensusP2pOutput<RequestBlock> - message of size 203 and type 8 added to p2p batch to delegate 12\\n[2019-02-25 15:44:37.312397 info]: ConsensusP2pOutput<RequestBlock> - p2p batch of size 216 propagated to delegate 12.\\n[2019-02-25 15:44:37.314170 debug]: PersistenceManager::StoreRequestBlock - 539DE4B14D59201FBF3422D091E482475C85E5451F50FDA828DC600B8FCB1133\\n[2019-02-25 15:44:37.314271 debug]: ConsensusP2pOutput<RequestBlock> - message of size 4 and type 0 added to p2p batch to delegate 31\\n[2019-02-25 15:44:37.314293 debug]: ConsensusP2pOutput<RequestBlock> - message of size 203 and type 8 added to p2p batch to delegate 31\\n[2019-02-25 15:44:37.314337 info]: ConsensusP2pOutput<RequestBlock> - p2p batch of size 216 propagated to delegate 31.\\n[2019-02-25 15:44:37.315845 debug]: ConsensusP2pOutput<RequestBlock> - message of size 4 and type 0 added to p2p batch to delegate 30\\n[2019-02-25 15:44:37.315869 debug]: ConsensusP2pOutput<RequestBlock> - message of size 203 and type 8 added to p2p batch to delegate 30\\n[2019-02-25 15:44:37.315909 info]: ConsensusP2pOutput<RequestBlock> - p2p batch of size 216 propagated to delegate 30.\\n[2019-02-25 15:44:37.316905 debug]: ConsensusNetIO - received message type Post_Commit for consensus type RequestBlock from 172.31.92.101:60000\\n[2019-02-25 15:44:37.316949 debug]: ConsensusConnection<RequestBlock> - Received Post_Commit message from delegate: 20 with block hash 44AB53E42797957C0FA56075CFF4E2D23ABBA4055D39FD6FBEDDF74B4C7D4F50\\n[2019-02-25 15:44:37.322644 debug]: PersistenceManager<R>::ApplyUpdates - RequestBlock with 0 Requests\\n[2019-02-25 15:44:37.322678 debug]: PersistenceManager::StoreRequestBlock - 44AB53E42797957C0FA56075CFF4E2D23ABBA4055D39FD6FBEDDF74B4C7D4F50\\n[2019-02-25 15:44:37.323236 debug]: ConsensusNetIO - received message type Post_Commit for consensus type RequestBlock from 172.31.95.248:60000\\n[2019-02-25 15:44:37.323280 debug]: ConsensusConnection<RequestBlock> - Received Post_Commit message from delegate: 16 with block hash 8F6DA0C676339AA7452B8CBDCB1600476D05351CC737A1D575179F3D95EE310E\\n[2019-02-25 15:44:37.329031 debug]: PersistenceManager<R>::ApplyUpdates - RequestBlock with 0 Requests\\n[2019-02-25 15:44:37.329745 debug]: ConsensusP2pOutput<RequestBlock> - message of size 4 and type 0 added to p2p batch to delegate 20\\n[2019-02-25 15:44:37.329805 debug]: ConsensusP2pOutput<RequestBlock> - message of size 203 and type 8 added to p2p batch to delegate 20\\n[2019-02-25 15:44:37.329834 info]: ConsensusP2pOutput<RequestBlock> - p2p batch of size 216 propagated to delegate 20.\\n[2019-02-25 15:44:37.330050 debug]: PersistenceManager::StoreRequestBlock - 8F6DA0C676339AA7452B8CBDCB1600476D05351CC737A1D575179F3D95EE310E\\n[2019-02-25 15:44:37.331879 debug]: ConsensusP2pOutput<RequestBlock> - message of size 4 and type 0 added to p2p batch to delegate 16\\n[2019-02-25 15:44:37.331904 debug]: ConsensusP2pOutput<RequestBlock> - message of size 203 and type 8 added to p2p batch to delegate 16\\n[2019-02-25 15:44:37.331934 info]: ConsensusP2pOutput<RequestBlock> - p2p batch of size 216 propagated to delegate 16.\\n[2019-02-25 15:44:37.643474 debug]: ConsensusNetIO - received message type Pre_Prepare for consensus type RequestBlock from 172.31.82.144:60000\\n[2019-02-25 15:44:37.643594 debug]: ConsensusConnection<RequestBlock> - Received Pre_Prepare message from delegate: 10 with block hash CCC892E671C88D1EC5DE82CDE06A3B1865AA33A50A6FB660E5368B9B74B9E85C\\n[2019-02-25 15:44:37.647311 debug]: ConsensusNetIO - received message type Pre_Prepare for consensus type RequestBlock from 172.31.80.50:60000\\n[2019-02-25 15:44:37.647370 debug]: ConsensusConnection<RequestBlock> - Received Pre_Prepare message from delegate: 29 with block hash 63467BCE1F4284A8632F974C228BB495B93753110974D3571CE79F9187B7D633\\n[2019-02-25 15:44:37.673929 debug]: ConsensusNetIO - received message type Post_Prepare for consensus type RequestBlock from 172.31.82.144:60000\\n[2019-02-25 15:44:37.673978 debug]: ConsensusConnection<RequestBlock> - Received Post_Prepare message from delegate: 10 with block hash CCC892E671C88D1EC5DE82CDE06A3B1865AA33A50A6FB660E5368B9B74B9E85C\\n[2019-02-25 15:44:37.680029 debug]: OnConsensusMessage<RequestBlock> sent commit\\n[2019-02-25 15:44:37.683242 debug]: ConsensusNetIO - received message type Post_Prepare for consensus type RequestBlock from 172.31.80.50:60000\\n[2019-02-25 15:44:37.683287 debug]: ConsensusConnection<RequestBlock> - Received Post_Prepare message from delegate: 29 with block hash 63467BCE1F4284A8632F974C228BB495B93753110974D3571CE79F9187B7D633\\n[2019-02-25 15:44:37.689233 debug]: OnConsensusMessage<RequestBlock> sent commit\\n[2019-02-25 15:44:37.709205 debug]: ConsensusNetIO - received message type Post_Commit for consensus type RequestBlock from 172.31.82.144:60000\\n[2019-02-25 15:44:37.709250 debug]: ConsensusConnection<RequestBlock> - Received Post_Commit message from delegate: 10 with block hash CCC892E671C88D1EC5DE82CDE06A3B1865AA33A50A6FB660E5368B9B74B9E85C\\n[2019-02-25 15:44:37.714857 debug]: PersistenceManager<R>::ApplyUpdates - RequestBlock with 0 Requests\\n[2019-02-25 15:44:37.714889 debug]: PersistenceManager::StoreRequestBlock - CCC892E671C88D1EC5DE82CDE06A3B1865AA33A50A6FB660E5368B9B74B9E85C\\n[2019-02-25 15:44:37.716803 debug]: ConsensusP2pOutput<RequestBlock> - message of size 4 and type 0 added to p2p batch to delegate 10\\n[2019-02-25 15:44:37.716828 debug]: ConsensusP2pOutput<RequestBlock> - message of size 203 and type 8 added to p2p batch to delegate 10\\n[2019-02-25 15:44:37.716875 info]: ConsensusP2pOutput<RequestBlock> - p2p batch of size 216 propagated to delegate 10.\\n[2019-02-25 15:44:37.722003 debug]: ConsensusNetIO - received message type Post_Commit for consensus type RequestBlock from 172.31.80.50:60000\\n[2019-02-25 15:44:37.722048 debug]: ConsensusConnection<RequestBlock> - Received Post_Commit message from delegate: 29 with block hash 63467BCE1F4284A8632F974C228BB495B93753110974D3571CE79F9187B7D633\\n[2019-02-25 15:44:37.727742 debug]: PersistenceManager<R>::ApplyUpdates - RequestBlock with 0 Requests\\n[2019-02-25 15:44:37.727775 debug]: PersistenceManager::StoreRequestBlock - 63467BCE1F4284A8632F974C228BB495B93753110974D3571CE79F9187B7D633\\n[2019-02-25 15:44:37.729681 debug]: ConsensusP2pOutput<RequestBlock> - message of size 4 and type 0 added to p2p batch to delegate 29\\n[2019-02-25 15:44:37.729704 debug]: ConsensusP2pOutput<RequestBlock> - message of size 203 and type 8 added to p2p batch to delegate 29\\n[2019-02-25 15:44:37.729746 info]: ConsensusP2pOutput<RequestBlock> - p2p batch of size 216 propagated to delegate 29.\\n[2019-02-25 15:45:01.608382 info]: {\"rpc_action\": \"account_info\", \"account\": \"lgs_3e3j5tkog48pnny9dmfzj1r16pg8t1e76dz5tmac6iq689wyjfpiij4txtdo\"}\\n[2019-02-25 15:45:01.662723 debug]: ConsensusNetIO - received message type Pre_Prepare for consensus type RequestBlock from 172.31.80.253:60000\\n[2019-02-25 15:45:01.662889 debug]: ConsensusConnection<RequestBlock> - Received Pre_Prepare message from delegate: 31 with block hash 1EB4C0D39C477EF6CD7C56754B7142D228A75C1EB16E878D159C44930DE4607C\\n[2019-02-25 15:45:01.686843 info]: {\"rpc_action\": \"blocks\", \"hashes\": [\"729B6D6E390867D92BF3B380728665AB1A9D1614B3F5522D5BF89B3D2FFEAFFE\"]}\\n[2019-02-25 15:45:01.693301 debug]: ConsensusNetIO - received message type Post_Prepare for consensus type RequestBlock from 172.31.80.253:60000\\n[2019-02-25 15:45:01.693372 debug]: ConsensusConnection<RequestBlock> - Received Post_Prepare message from delegate: 31 with block hash 1EB4C0D39C477EF6CD7C56754B7142D228A75C1EB16E878D159C44930DE4607C\\n[2019-02-25 15:45:01.699387 debug]: OnConsensusMessage<RequestBlock> sent commit\\n[2019-02-25 15:45:01.728649 debug]: ConsensusNetIO - received message type Post_Commit for consensus type RequestBlock from 172.31.80.253:60000\\n[2019-02-25 15:45:01.728739 debug]: ConsensusConnection<RequestBlock> - Received Post_Commit message from delegate: 31 with block hash 1EB4C0D39C477EF6CD7C56754B7142D228A75C1EB16E878D159C44930DE4607C\\n[2019-02-25 15:45:01.734558 debug]: PersistenceManager<R>::ApplyUpdates - RequestBlock with 1 Requests\\n[2019-02-25 15:45:01.734599 debug]: PersistenceManager::StoreRequestBlock - 1EB4C0D39C477EF6CD7C56754B7142D228A75C1EB16E878D159C44930DE4607C\\n[2019-02-25 15:45:01.734779 debug]: PersistenceManager::ApplySend - new account: 57F92F57CA5D14BA0E492F4CD2269129600969D7E44B101008CEAA317CA71F17\\n[2019-02-25 15:45:01.739708 debug]: ConsensusP2pOutput<RequestBlock> - message of size 4 and type 0 added to p2p batch to delegate 31\\n[2019-02-25 15:45:01.739739 debug]: ConsensusP2pOutput<RequestBlock> - message of size 465 and type 8 added to p2p batch to delegate 31\\n[2019-02-25 15:45:01.739780 info]: ConsensusP2pOutput<RequestBlock> - p2p batch of size 480 propagated to delegate 31.\\n[2019-02-25 15:45:02.715399 info]: {\"rpc_action\": \"blocks\", \"hashes\": [\"729B6D6E390867D92BF3B380728665AB1A9D1614B3F5522D5BF89B3D2FFEAFFE\"]}\\n[2019-02-25 15:45:26.407858 info]: [p2p] Adding fixed seed nodes as DNS doesn\\'t seem to be available.\\n[2019-02-25 15:47:22.449093 info]: {\"rpc_action\":\"key_create\"}\\n']"
      ]
     },
     "execution_count": 14,
     "metadata": {},
     "output_type": "execute_result"
    }
   ],
   "source": [
    "test_suite.log_handler.grep_lines(\".*\",0)"
   ]
  },
  {
   "cell_type": "code",
   "execution_count": 18,
   "metadata": {},
   "outputs": [
    {
     "name": "stdout",
     "output_type": "stream",
     "text": [
      "{'frontier': '729B6D6E390867D92BF3B380728665AB1A9D1614B3F5522D5BF89B3D2FFEAFFE', 'receive_tip': '3448F6000346D4265B08FB3A3FF469A01ECA321DD505345F3F826A7BE7CF8A49', 'open_block': 'ADCD0B4505FC9B3827E9739AFD7A0C371DFFF703677123720BD16C480EBC8E63', 'representative_block': '0000000000000000000000000000000000000000000000000000000000000000', 'balance': '340280366920938442891525541143598989311', 'modified_timestamp': '1551109501', 'request_count': '67'}\n",
      "issue\n",
      "{'hash': 'AC813B85EBF56DB74526B368963BCBA00A293E2DE1EEE80EB0F60467CE2ED7E8', 'request': '{\\n    \"type\": \"issue\",\\n    \"origin\": \"lgs_3e3j5tkog48pnny9dmfzj1r16pg8t1e76dz5tmac6iq689wyjfpiij4txtdo\",\\n    \"signature\": \"00CA8E24AC55DEF5C95AADE4BFEC7417DDB92E4927CDA1C8995DF2CEF5D04F24AC1FC5F4B81E4016926E8971B45DBA440A851C19F5EE0CD8128E535F88846604\",\\n    \"previous\": \"729B6D6E390867D92BF3B380728665AB1A9D1614B3F5522D5BF89B3D2FFEAFFE\",\\n    \"next\": \"729B6D6E390867D92BF3B380728665AB1A9D1614B3F5522D5BF89B3D2FFEAFFE\",\\n    \"fee\": \"10000000000000000000000\",\\n    \"sequence\": \"66\",\\n    \"token_id\": \"3C825B2BA158248F2FE38718AE1B4827A90AAEA8AFB669E65139FD8B9E4C7CE8\",\\n    \"symbol\": \"FOO\",\\n    \"name\": \"foocoin\",\\n    \"total_supply\": \"65000\",\\n    \"fee_type\": \"percentage\",\\n    \"fee_rate\": \"5\",\\n    \"settings\": [\\n        \"add\",\\n        \"revoke\",\\n        \"freeze\",\\n        \"modify_freeze\",\\n        \"adjust_fee\",\\n        \"whitelist\"\\n    ],\\n    \"controllers\": [\\n        {\\n            \"account\": \"lgs_3e3j5tkog48pnny9dmfzj1r16pg8t1e76dz5tmac6iq689wyjfpiij4txtdo\",\\n            \"privileges\": [\\n                \"change_freeze\",\\n                \"change_modify_freeze\",\\n                \"promote_controller\",\\n                \"add\",\\n                \"revoke\",\\n                \"freeze\",\\n                \"adjust_fee\",\\n                \"whitelist\",\\n                \"update_issuer_info\",\\n                \"burn\",\\n                \"distribute\",\\n                \"withdraw_fee\"\\n            ]\\n        }\\n    ],\\n    \"issuer_info\": \"nothing\"\\n}\\n'}\n",
      "{'hash': 'AEFD0F6808C4D75A7DDEBF040E9EAD5F603EEFB26944E36592B13FFABCC33AC7'}\n",
      "True\n",
      "<class 'str'>\n",
      "64\n",
      "True\n",
      "polling for confirmation of issuance\n",
      "done\n"
     ]
    }
   ],
   "source": [
    "test_suite.test_token_issue()"
   ]
  },
  {
   "cell_type": "code",
   "execution_count": 19,
   "metadata": {},
   "outputs": [
    {
     "data": {
      "application/vnd.jupyter.widget-view+json": {
       "model_id": "dde16bc2698044c6a887661237a25107",
       "version_major": 2,
       "version_minor": 0
      },
      "text/plain": [
       "HBox(children=(IntProgress(value=0, max=30), HTML(value='')))"
      ]
     },
     "metadata": {},
     "output_type": "display_data"
    },
    {
     "name": "stdout",
     "output_type": "stream",
     "text": [
      "send\n",
      "send\n",
      "send\n",
      "send\n",
      "send\n",
      "send\n",
      "send\n",
      "send\n",
      "send\n",
      "send\n",
      "send\n",
      "send\n",
      "send\n",
      "send\n",
      "send\n",
      "send\n",
      "send\n",
      "send\n",
      "send\n",
      "send\n",
      "send\n",
      "send\n",
      "send\n",
      "send\n",
      "send\n",
      "send\n",
      "send\n",
      "send\n",
      "send\n",
      "send\n",
      "Starting round i = 1\n",
      "send\n",
      "send\n",
      "send\n",
      "send\n",
      "send\n",
      "send\n",
      "send\n",
      "send\n",
      "send\n",
      "send\n",
      "send\n",
      "send\n",
      "send\n",
      "send\n",
      "send\n",
      "send\n",
      "send\n",
      "send\n",
      "send\n",
      "send\n",
      "send\n",
      "send\n",
      "send\n",
      "send\n",
      "send\n",
      "send\n",
      "send\n",
      "send\n",
      "send\n",
      "send\n"
     ]
    },
    {
     "data": {
      "application/vnd.jupyter.widget-view+json": {
       "model_id": "3e63da4eb4c34cb08a8aa8d403747c4f",
       "version_major": 2,
       "version_minor": 0
      },
      "text/plain": [
       "HBox(children=(IntProgress(value=0, max=30), HTML(value='')))"
      ]
     },
     "metadata": {},
     "output_type": "display_data"
    },
    {
     "name": "stdout",
     "output_type": "stream",
     "text": [
      "Time to process: 0.19857335090637207\n",
      "Finished in 5.466866970062256s\n",
      "Starting round i = 2\n",
      "send\n",
      "send\n",
      "send\n",
      "send\n",
      "send\n",
      "send\n",
      "send\n",
      "send\n",
      "send\n",
      "send\n",
      "send\n",
      "send\n",
      "send\n",
      "send\n",
      "send\n",
      "send\n",
      "send\n",
      "send\n",
      "send\n",
      "send\n",
      "send\n",
      "send\n",
      "send\n",
      "send\n",
      "send\n",
      "send\n",
      "send\n",
      "send\n",
      "send\n",
      "send\n",
      "send\n",
      "send\n",
      "send\n",
      "send\n",
      "send\n",
      "send\n",
      "send\n",
      "send\n",
      "send\n",
      "send\n",
      "send\n",
      "send\n",
      "send\n",
      "send\n",
      "send\n",
      "send\n",
      "send\n",
      "send\n",
      "send\n",
      "send\n",
      "send\n",
      "send\n",
      "send\n",
      "send\n",
      "send\n",
      "send\n",
      "send\n",
      "send\n",
      "send\n",
      "send\n"
     ]
    },
    {
     "data": {
      "application/vnd.jupyter.widget-view+json": {
       "model_id": "1ea668a7683f4a898a851e5df782a6ab",
       "version_major": 2,
       "version_minor": 0
      },
      "text/plain": [
       "HBox(children=(IntProgress(value=0, max=60), HTML(value='')))"
      ]
     },
     "metadata": {},
     "output_type": "display_data"
    },
    {
     "name": "stdout",
     "output_type": "stream",
     "text": [
      "Time to process: 0.42810511589050293\n",
      "Finished in 8.345856666564941s\n",
      "Starting round i = 3\n",
      "send\n",
      "send\n",
      "send\n",
      "send\n",
      "send\n",
      "send\n",
      "send\n",
      "send\n",
      "send\n",
      "send\n",
      "send\n",
      "send\n",
      "send\n",
      "send\n",
      "send\n",
      "send\n",
      "send\n",
      "send\n",
      "send\n",
      "send\n",
      "send\n",
      "send\n",
      "send\n",
      "send\n",
      "send\n",
      "send\n",
      "send\n",
      "send\n",
      "send\n",
      "send\n",
      "send\n",
      "send\n",
      "send\n",
      "send\n",
      "send\n",
      "send\n",
      "send\n",
      "send\n",
      "send\n",
      "send\n",
      "send\n",
      "send\n",
      "send\n",
      "send\n",
      "send\n",
      "send\n",
      "send\n",
      "send\n",
      "send\n",
      "send\n",
      "send\n",
      "send\n",
      "send\n",
      "send\n",
      "send\n",
      "send\n",
      "send\n",
      "send\n",
      "send\n",
      "send\n",
      "send\n",
      "send\n",
      "send\n",
      "send\n",
      "send\n",
      "send\n",
      "send\n",
      "send\n",
      "send\n",
      "send\n",
      "send\n",
      "send\n",
      "send\n",
      "send\n",
      "send\n",
      "send\n",
      "send\n",
      "send\n",
      "send\n",
      "send\n",
      "send\n",
      "send\n",
      "send\n",
      "send\n",
      "send\n",
      "send\n",
      "send\n",
      "send\n",
      "send\n",
      "send\n",
      "send\n",
      "send\n",
      "send\n",
      "send\n",
      "send\n",
      "send\n",
      "send\n",
      "send\n",
      "send\n",
      "send\n",
      "send\n",
      "send\n",
      "send\n",
      "send\n",
      "send\n",
      "send\n",
      "send\n",
      "send\n",
      "send\n",
      "send\n",
      "send\n",
      "send\n",
      "send\n",
      "send\n",
      "send\n",
      "send\n",
      "send\n",
      "send\n",
      "send\n",
      "send\n"
     ]
    },
    {
     "data": {
      "application/vnd.jupyter.widget-view+json": {
       "model_id": "86a952ab19b84fc9b302c80ad2f4c431",
       "version_major": 2,
       "version_minor": 0
      },
      "text/plain": [
       "HBox(children=(IntProgress(value=0, max=120), HTML(value='')))"
      ]
     },
     "metadata": {},
     "output_type": "display_data"
    },
    {
     "name": "stdout",
     "output_type": "stream",
     "text": [
      "Time to process: 1.0011711120605469\n",
      "Finished in 14.283215045928955s\n",
      "Starting round i = 4\n",
      "send\n",
      "send\n",
      "send\n",
      "send\n",
      "send\n",
      "send\n",
      "send\n",
      "send\n",
      "send\n",
      "send\n",
      "send\n",
      "send\n",
      "send\n",
      "send\n",
      "send\n",
      "send\n",
      "send\n",
      "send\n",
      "send\n",
      "send\n",
      "send\n",
      "send\n",
      "send\n",
      "send\n",
      "send\n",
      "send\n",
      "send\n",
      "send\n",
      "send\n",
      "send\n",
      "send\n",
      "send\n",
      "send\n",
      "send\n",
      "send\n",
      "send\n",
      "send\n",
      "send\n",
      "send\n",
      "send\n",
      "send\n",
      "send\n",
      "send\n",
      "send\n",
      "send\n",
      "send\n",
      "send\n",
      "send\n",
      "send\n",
      "send\n",
      "send\n",
      "send\n",
      "send\n",
      "send\n",
      "send\n",
      "send\n",
      "send\n",
      "send\n",
      "send\n",
      "send\n",
      "send\n",
      "send\n",
      "send\n",
      "send\n",
      "send\n",
      "send\n",
      "send\n",
      "send\n",
      "send\n",
      "send\n",
      "send\n",
      "send\n",
      "send\n",
      "send\n",
      "send\n",
      "send\n",
      "send\n",
      "send\n",
      "send\n",
      "send\n",
      "send\n",
      "send\n",
      "send\n",
      "send\n",
      "send\n",
      "send\n",
      "send\n",
      "send\n",
      "send\n",
      "send\n",
      "send\n",
      "send\n",
      "send\n",
      "send\n",
      "send\n",
      "send\n",
      "send\n",
      "send\n",
      "send\n",
      "send\n",
      "send\n",
      "send\n",
      "send\n",
      "send\n",
      "send\n",
      "send\n",
      "send\n",
      "send\n",
      "send\n",
      "send\n",
      "send\n",
      "send\n",
      "send\n",
      "send\n",
      "send\n",
      "send\n",
      "send\n",
      "send\n",
      "send\n",
      "send\n",
      "send\n",
      "send\n",
      "send\n",
      "send\n",
      "send\n",
      "send\n",
      "send\n",
      "send\n",
      "send\n",
      "send\n",
      "send\n",
      "send\n",
      "send\n",
      "send\n",
      "send\n",
      "send\n",
      "send\n",
      "send\n",
      "send\n",
      "send\n",
      "send\n",
      "send\n",
      "send\n",
      "send\n",
      "send\n",
      "send\n",
      "send\n",
      "send\n",
      "send\n",
      "send\n",
      "send\n",
      "send\n",
      "send\n",
      "send\n",
      "send\n",
      "send\n",
      "send\n",
      "send\n",
      "send\n",
      "send\n",
      "send\n",
      "send\n",
      "send\n",
      "send\n",
      "send\n",
      "send\n",
      "send\n",
      "send\n",
      "send\n",
      "send\n",
      "send\n",
      "send\n",
      "send\n",
      "send\n",
      "send\n",
      "send\n",
      "send\n",
      "send\n",
      "send\n",
      "send\n",
      "send\n",
      "send\n",
      "send\n",
      "send\n",
      "send\n",
      "send\n",
      "send\n",
      "send\n",
      "send\n",
      "send\n",
      "send\n",
      "send\n",
      "send\n",
      "send\n",
      "send\n",
      "send\n",
      "send\n",
      "send\n",
      "send\n",
      "send\n",
      "send\n",
      "send\n",
      "send\n",
      "send\n",
      "send\n",
      "send\n",
      "send\n",
      "send\n",
      "send\n",
      "send\n",
      "send\n",
      "send\n",
      "send\n",
      "send\n",
      "send\n",
      "send\n",
      "send\n",
      "send\n",
      "send\n",
      "send\n",
      "send\n",
      "send\n",
      "send\n",
      "send\n",
      "send\n",
      "send\n",
      "send\n",
      "send\n",
      "send\n",
      "send\n",
      "send\n",
      "send\n",
      "send\n",
      "send\n",
      "send\n",
      "send\n",
      "send\n",
      "send\n",
      "send\n",
      "send\n"
     ]
    },
    {
     "data": {
      "application/vnd.jupyter.widget-view+json": {
       "model_id": "a370d49e12b849d5a3fc6a1731aff7fd",
       "version_major": 2,
       "version_minor": 0
      },
      "text/plain": [
       "HBox(children=(IntProgress(value=0, max=240), HTML(value='')))"
      ]
     },
     "metadata": {},
     "output_type": "display_data"
    },
    {
     "name": "stdout",
     "output_type": "stream",
     "text": [
      "Time to process: 1.8405671119689941\n",
      "Finished in 25.681610584259033s\n",
      "Starting round i = 5\n",
      "send\n",
      "send\n",
      "send\n",
      "send\n",
      "send\n",
      "send\n",
      "send\n",
      "send\n",
      "send\n",
      "send\n",
      "send\n",
      "send\n",
      "send\n",
      "send\n",
      "send\n",
      "send\n",
      "send\n",
      "send\n",
      "send\n",
      "send\n",
      "send\n",
      "send\n",
      "send\n",
      "send\n",
      "send\n",
      "send\n",
      "send\n",
      "send\n",
      "send\n",
      "send\n",
      "send\n",
      "send\n",
      "send\n",
      "send\n",
      "send\n",
      "send\n",
      "send\n",
      "send\n",
      "send\n",
      "send\n",
      "send\n",
      "send\n",
      "send\n",
      "send\n",
      "send\n",
      "send\n",
      "send\n",
      "send\n",
      "send\n",
      "send\n",
      "send\n",
      "send\n",
      "send\n",
      "send\n",
      "send\n",
      "send\n",
      "send\n",
      "send\n",
      "send\n",
      "send\n",
      "send\n",
      "send\n",
      "send\n",
      "send\n",
      "send\n",
      "send\n",
      "send\n",
      "send\n",
      "send\n",
      "send\n",
      "send\n",
      "send\n",
      "send\n",
      "send\n",
      "send\n",
      "send\n",
      "send\n",
      "send\n",
      "send\n",
      "send\n",
      "send\n",
      "send\n",
      "send\n",
      "send\n",
      "send\n",
      "send\n",
      "send\n",
      "send\n",
      "send\n",
      "send\n",
      "send\n",
      "send\n",
      "send\n",
      "send\n",
      "send\n",
      "send\n",
      "send\n",
      "send\n",
      "send\n",
      "send\n",
      "send\n",
      "send\n",
      "send\n",
      "send\n",
      "send\n",
      "send\n",
      "send\n",
      "send\n",
      "send\n",
      "send\n",
      "send\n",
      "send\n",
      "send\n",
      "send\n",
      "send\n",
      "send\n",
      "send\n",
      "send\n",
      "send\n",
      "send\n",
      "send\n",
      "send\n",
      "send\n",
      "send\n",
      "send\n",
      "send\n",
      "send\n",
      "send\n",
      "send\n",
      "send\n",
      "send\n",
      "send\n",
      "send\n",
      "send\n",
      "send\n",
      "send\n",
      "send\n",
      "send\n",
      "send\n",
      "send\n",
      "send\n",
      "send\n",
      "send\n",
      "send\n",
      "send\n",
      "send\n",
      "send\n",
      "send\n",
      "send\n",
      "send\n",
      "send\n",
      "send\n",
      "send\n",
      "send\n",
      "send\n",
      "send\n",
      "send\n",
      "send\n",
      "send\n",
      "send\n",
      "send\n",
      "send\n",
      "send\n",
      "send\n",
      "send\n",
      "send\n",
      "send\n",
      "send\n",
      "send\n",
      "send\n",
      "send\n",
      "send\n",
      "send\n",
      "send\n",
      "send\n",
      "send\n",
      "send\n",
      "send\n",
      "send\n",
      "send\n",
      "send\n",
      "send\n",
      "send\n",
      "send\n",
      "send\n",
      "send\n",
      "send\n",
      "send\n",
      "send\n",
      "send\n",
      "send\n",
      "send\n",
      "send\n",
      "send\n",
      "send\n",
      "send\n",
      "send\n",
      "send\n",
      "send\n",
      "send\n",
      "send\n",
      "send\n",
      "send\n",
      "send\n",
      "send\n",
      "send\n",
      "send\n",
      "send\n",
      "send\n",
      "send\n",
      "send\n",
      "send\n",
      "send\n",
      "send\n",
      "send\n",
      "send\n",
      "send\n",
      "send\n",
      "send\n",
      "send\n",
      "send\n",
      "send\n",
      "send\n",
      "send\n",
      "send\n",
      "send\n",
      "send\n",
      "send\n",
      "send\n"
     ]
    },
    {
     "ename": "ConnectionError",
     "evalue": "HTTPConnectionPool(host='35.174.105.169', port=55000): Max retries exceeded with url: / (Caused by NewConnectionError('<urllib3.connection.HTTPConnection object at 0x7f176c50eef0>: Failed to establish a new connection: [Errno 110] Connection timed out',))",
     "output_type": "error",
     "traceback": [
      "\u001b[0;31m---------------------------------------------------------------------------\u001b[0m",
      "\u001b[0;31mTimeoutError\u001b[0m                              Traceback (most recent call last)",
      "\u001b[0;32m~/.virtualenvs/autotest/lib/python3.6/site-packages/urllib3/connection.py\u001b[0m in \u001b[0;36m_new_conn\u001b[0;34m(self)\u001b[0m\n\u001b[1;32m    158\u001b[0m             conn = connection.create_connection(\n\u001b[0;32m--> 159\u001b[0;31m                 (self._dns_host, self.port), self.timeout, **extra_kw)\n\u001b[0m\u001b[1;32m    160\u001b[0m \u001b[0;34m\u001b[0m\u001b[0m\n",
      "\u001b[0;32m~/.virtualenvs/autotest/lib/python3.6/site-packages/urllib3/util/connection.py\u001b[0m in \u001b[0;36mcreate_connection\u001b[0;34m(address, timeout, source_address, socket_options)\u001b[0m\n\u001b[1;32m     79\u001b[0m     \u001b[0;32mif\u001b[0m \u001b[0merr\u001b[0m \u001b[0;32mis\u001b[0m \u001b[0;32mnot\u001b[0m \u001b[0;32mNone\u001b[0m\u001b[0;34m:\u001b[0m\u001b[0;34m\u001b[0m\u001b[0;34m\u001b[0m\u001b[0m\n\u001b[0;32m---> 80\u001b[0;31m         \u001b[0;32mraise\u001b[0m \u001b[0merr\u001b[0m\u001b[0;34m\u001b[0m\u001b[0;34m\u001b[0m\u001b[0m\n\u001b[0m\u001b[1;32m     81\u001b[0m \u001b[0;34m\u001b[0m\u001b[0m\n",
      "\u001b[0;32m~/.virtualenvs/autotest/lib/python3.6/site-packages/urllib3/util/connection.py\u001b[0m in \u001b[0;36mcreate_connection\u001b[0;34m(address, timeout, source_address, socket_options)\u001b[0m\n\u001b[1;32m     69\u001b[0m                 \u001b[0msock\u001b[0m\u001b[0;34m.\u001b[0m\u001b[0mbind\u001b[0m\u001b[0;34m(\u001b[0m\u001b[0msource_address\u001b[0m\u001b[0;34m)\u001b[0m\u001b[0;34m\u001b[0m\u001b[0;34m\u001b[0m\u001b[0m\n\u001b[0;32m---> 70\u001b[0;31m             \u001b[0msock\u001b[0m\u001b[0;34m.\u001b[0m\u001b[0mconnect\u001b[0m\u001b[0;34m(\u001b[0m\u001b[0msa\u001b[0m\u001b[0;34m)\u001b[0m\u001b[0;34m\u001b[0m\u001b[0;34m\u001b[0m\u001b[0m\n\u001b[0m\u001b[1;32m     71\u001b[0m             \u001b[0;32mreturn\u001b[0m \u001b[0msock\u001b[0m\u001b[0;34m\u001b[0m\u001b[0;34m\u001b[0m\u001b[0m\n",
      "\u001b[0;31mTimeoutError\u001b[0m: [Errno 110] Connection timed out",
      "\nDuring handling of the above exception, another exception occurred:\n",
      "\u001b[0;31mNewConnectionError\u001b[0m                        Traceback (most recent call last)",
      "\u001b[0;32m~/.virtualenvs/autotest/lib/python3.6/site-packages/urllib3/connectionpool.py\u001b[0m in \u001b[0;36murlopen\u001b[0;34m(self, method, url, body, headers, retries, redirect, assert_same_host, timeout, pool_timeout, release_conn, chunked, body_pos, **response_kw)\u001b[0m\n\u001b[1;32m    599\u001b[0m                                                   \u001b[0mbody\u001b[0m\u001b[0;34m=\u001b[0m\u001b[0mbody\u001b[0m\u001b[0;34m,\u001b[0m \u001b[0mheaders\u001b[0m\u001b[0;34m=\u001b[0m\u001b[0mheaders\u001b[0m\u001b[0;34m,\u001b[0m\u001b[0;34m\u001b[0m\u001b[0;34m\u001b[0m\u001b[0m\n\u001b[0;32m--> 600\u001b[0;31m                                                   chunked=chunked)\n\u001b[0m\u001b[1;32m    601\u001b[0m \u001b[0;34m\u001b[0m\u001b[0m\n",
      "\u001b[0;32m~/.virtualenvs/autotest/lib/python3.6/site-packages/urllib3/connectionpool.py\u001b[0m in \u001b[0;36m_make_request\u001b[0;34m(self, conn, method, url, timeout, chunked, **httplib_request_kw)\u001b[0m\n\u001b[1;32m    353\u001b[0m         \u001b[0;32melse\u001b[0m\u001b[0;34m:\u001b[0m\u001b[0;34m\u001b[0m\u001b[0;34m\u001b[0m\u001b[0m\n\u001b[0;32m--> 354\u001b[0;31m             \u001b[0mconn\u001b[0m\u001b[0;34m.\u001b[0m\u001b[0mrequest\u001b[0m\u001b[0;34m(\u001b[0m\u001b[0mmethod\u001b[0m\u001b[0;34m,\u001b[0m \u001b[0murl\u001b[0m\u001b[0;34m,\u001b[0m \u001b[0;34m**\u001b[0m\u001b[0mhttplib_request_kw\u001b[0m\u001b[0;34m)\u001b[0m\u001b[0;34m\u001b[0m\u001b[0;34m\u001b[0m\u001b[0m\n\u001b[0m\u001b[1;32m    355\u001b[0m \u001b[0;34m\u001b[0m\u001b[0m\n",
      "\u001b[0;32m/usr/lib/python3.6/http/client.py\u001b[0m in \u001b[0;36mrequest\u001b[0;34m(self, method, url, body, headers, encode_chunked)\u001b[0m\n\u001b[1;32m   1238\u001b[0m         \u001b[0;34m\"\"\"Send a complete request to the server.\"\"\"\u001b[0m\u001b[0;34m\u001b[0m\u001b[0;34m\u001b[0m\u001b[0m\n\u001b[0;32m-> 1239\u001b[0;31m         \u001b[0mself\u001b[0m\u001b[0;34m.\u001b[0m\u001b[0m_send_request\u001b[0m\u001b[0;34m(\u001b[0m\u001b[0mmethod\u001b[0m\u001b[0;34m,\u001b[0m \u001b[0murl\u001b[0m\u001b[0;34m,\u001b[0m \u001b[0mbody\u001b[0m\u001b[0;34m,\u001b[0m \u001b[0mheaders\u001b[0m\u001b[0;34m,\u001b[0m \u001b[0mencode_chunked\u001b[0m\u001b[0;34m)\u001b[0m\u001b[0;34m\u001b[0m\u001b[0;34m\u001b[0m\u001b[0m\n\u001b[0m\u001b[1;32m   1240\u001b[0m \u001b[0;34m\u001b[0m\u001b[0m\n",
      "\u001b[0;32m/usr/lib/python3.6/http/client.py\u001b[0m in \u001b[0;36m_send_request\u001b[0;34m(self, method, url, body, headers, encode_chunked)\u001b[0m\n\u001b[1;32m   1284\u001b[0m             \u001b[0mbody\u001b[0m \u001b[0;34m=\u001b[0m \u001b[0m_encode\u001b[0m\u001b[0;34m(\u001b[0m\u001b[0mbody\u001b[0m\u001b[0;34m,\u001b[0m \u001b[0;34m'body'\u001b[0m\u001b[0;34m)\u001b[0m\u001b[0;34m\u001b[0m\u001b[0;34m\u001b[0m\u001b[0m\n\u001b[0;32m-> 1285\u001b[0;31m         \u001b[0mself\u001b[0m\u001b[0;34m.\u001b[0m\u001b[0mendheaders\u001b[0m\u001b[0;34m(\u001b[0m\u001b[0mbody\u001b[0m\u001b[0;34m,\u001b[0m \u001b[0mencode_chunked\u001b[0m\u001b[0;34m=\u001b[0m\u001b[0mencode_chunked\u001b[0m\u001b[0;34m)\u001b[0m\u001b[0;34m\u001b[0m\u001b[0;34m\u001b[0m\u001b[0m\n\u001b[0m\u001b[1;32m   1286\u001b[0m \u001b[0;34m\u001b[0m\u001b[0m\n",
      "\u001b[0;32m/usr/lib/python3.6/http/client.py\u001b[0m in \u001b[0;36mendheaders\u001b[0;34m(self, message_body, encode_chunked)\u001b[0m\n\u001b[1;32m   1233\u001b[0m             \u001b[0;32mraise\u001b[0m \u001b[0mCannotSendHeader\u001b[0m\u001b[0;34m(\u001b[0m\u001b[0;34m)\u001b[0m\u001b[0;34m\u001b[0m\u001b[0;34m\u001b[0m\u001b[0m\n\u001b[0;32m-> 1234\u001b[0;31m         \u001b[0mself\u001b[0m\u001b[0;34m.\u001b[0m\u001b[0m_send_output\u001b[0m\u001b[0;34m(\u001b[0m\u001b[0mmessage_body\u001b[0m\u001b[0;34m,\u001b[0m \u001b[0mencode_chunked\u001b[0m\u001b[0;34m=\u001b[0m\u001b[0mencode_chunked\u001b[0m\u001b[0;34m)\u001b[0m\u001b[0;34m\u001b[0m\u001b[0;34m\u001b[0m\u001b[0m\n\u001b[0m\u001b[1;32m   1235\u001b[0m \u001b[0;34m\u001b[0m\u001b[0m\n",
      "\u001b[0;32m/usr/lib/python3.6/http/client.py\u001b[0m in \u001b[0;36m_send_output\u001b[0;34m(self, message_body, encode_chunked)\u001b[0m\n\u001b[1;32m   1025\u001b[0m         \u001b[0;32mdel\u001b[0m \u001b[0mself\u001b[0m\u001b[0;34m.\u001b[0m\u001b[0m_buffer\u001b[0m\u001b[0;34m[\u001b[0m\u001b[0;34m:\u001b[0m\u001b[0;34m]\u001b[0m\u001b[0;34m\u001b[0m\u001b[0;34m\u001b[0m\u001b[0m\n\u001b[0;32m-> 1026\u001b[0;31m         \u001b[0mself\u001b[0m\u001b[0;34m.\u001b[0m\u001b[0msend\u001b[0m\u001b[0;34m(\u001b[0m\u001b[0mmsg\u001b[0m\u001b[0;34m)\u001b[0m\u001b[0;34m\u001b[0m\u001b[0;34m\u001b[0m\u001b[0m\n\u001b[0m\u001b[1;32m   1027\u001b[0m \u001b[0;34m\u001b[0m\u001b[0m\n",
      "\u001b[0;32m/usr/lib/python3.6/http/client.py\u001b[0m in \u001b[0;36msend\u001b[0;34m(self, data)\u001b[0m\n\u001b[1;32m    963\u001b[0m             \u001b[0;32mif\u001b[0m \u001b[0mself\u001b[0m\u001b[0;34m.\u001b[0m\u001b[0mauto_open\u001b[0m\u001b[0;34m:\u001b[0m\u001b[0;34m\u001b[0m\u001b[0;34m\u001b[0m\u001b[0m\n\u001b[0;32m--> 964\u001b[0;31m                 \u001b[0mself\u001b[0m\u001b[0;34m.\u001b[0m\u001b[0mconnect\u001b[0m\u001b[0;34m(\u001b[0m\u001b[0;34m)\u001b[0m\u001b[0;34m\u001b[0m\u001b[0;34m\u001b[0m\u001b[0m\n\u001b[0m\u001b[1;32m    965\u001b[0m             \u001b[0;32melse\u001b[0m\u001b[0;34m:\u001b[0m\u001b[0;34m\u001b[0m\u001b[0;34m\u001b[0m\u001b[0m\n",
      "\u001b[0;32m~/.virtualenvs/autotest/lib/python3.6/site-packages/urllib3/connection.py\u001b[0m in \u001b[0;36mconnect\u001b[0;34m(self)\u001b[0m\n\u001b[1;32m    180\u001b[0m     \u001b[0;32mdef\u001b[0m \u001b[0mconnect\u001b[0m\u001b[0;34m(\u001b[0m\u001b[0mself\u001b[0m\u001b[0;34m)\u001b[0m\u001b[0;34m:\u001b[0m\u001b[0;34m\u001b[0m\u001b[0;34m\u001b[0m\u001b[0m\n\u001b[0;32m--> 181\u001b[0;31m         \u001b[0mconn\u001b[0m \u001b[0;34m=\u001b[0m \u001b[0mself\u001b[0m\u001b[0;34m.\u001b[0m\u001b[0m_new_conn\u001b[0m\u001b[0;34m(\u001b[0m\u001b[0;34m)\u001b[0m\u001b[0;34m\u001b[0m\u001b[0;34m\u001b[0m\u001b[0m\n\u001b[0m\u001b[1;32m    182\u001b[0m         \u001b[0mself\u001b[0m\u001b[0;34m.\u001b[0m\u001b[0m_prepare_conn\u001b[0m\u001b[0;34m(\u001b[0m\u001b[0mconn\u001b[0m\u001b[0;34m)\u001b[0m\u001b[0;34m\u001b[0m\u001b[0;34m\u001b[0m\u001b[0m\n",
      "\u001b[0;32m~/.virtualenvs/autotest/lib/python3.6/site-packages/urllib3/connection.py\u001b[0m in \u001b[0;36m_new_conn\u001b[0;34m(self)\u001b[0m\n\u001b[1;32m    167\u001b[0m             raise NewConnectionError(\n\u001b[0;32m--> 168\u001b[0;31m                 self, \"Failed to establish a new connection: %s\" % e)\n\u001b[0m\u001b[1;32m    169\u001b[0m \u001b[0;34m\u001b[0m\u001b[0m\n",
      "\u001b[0;31mNewConnectionError\u001b[0m: <urllib3.connection.HTTPConnection object at 0x7f176c50eef0>: Failed to establish a new connection: [Errno 110] Connection timed out",
      "\nDuring handling of the above exception, another exception occurred:\n",
      "\u001b[0;31mMaxRetryError\u001b[0m                             Traceback (most recent call last)",
      "\u001b[0;32m~/.virtualenvs/autotest/lib/python3.6/site-packages/requests/adapters.py\u001b[0m in \u001b[0;36msend\u001b[0;34m(self, request, stream, timeout, verify, cert, proxies)\u001b[0m\n\u001b[1;32m    448\u001b[0m                     \u001b[0mretries\u001b[0m\u001b[0;34m=\u001b[0m\u001b[0mself\u001b[0m\u001b[0;34m.\u001b[0m\u001b[0mmax_retries\u001b[0m\u001b[0;34m,\u001b[0m\u001b[0;34m\u001b[0m\u001b[0;34m\u001b[0m\u001b[0m\n\u001b[0;32m--> 449\u001b[0;31m                     \u001b[0mtimeout\u001b[0m\u001b[0;34m=\u001b[0m\u001b[0mtimeout\u001b[0m\u001b[0;34m\u001b[0m\u001b[0;34m\u001b[0m\u001b[0m\n\u001b[0m\u001b[1;32m    450\u001b[0m                 )\n",
      "\u001b[0;32m~/.virtualenvs/autotest/lib/python3.6/site-packages/urllib3/connectionpool.py\u001b[0m in \u001b[0;36murlopen\u001b[0;34m(self, method, url, body, headers, retries, redirect, assert_same_host, timeout, pool_timeout, release_conn, chunked, body_pos, **response_kw)\u001b[0m\n\u001b[1;32m    637\u001b[0m             retries = retries.increment(method, url, error=e, _pool=self,\n\u001b[0;32m--> 638\u001b[0;31m                                         _stacktrace=sys.exc_info()[2])\n\u001b[0m\u001b[1;32m    639\u001b[0m             \u001b[0mretries\u001b[0m\u001b[0;34m.\u001b[0m\u001b[0msleep\u001b[0m\u001b[0;34m(\u001b[0m\u001b[0;34m)\u001b[0m\u001b[0;34m\u001b[0m\u001b[0;34m\u001b[0m\u001b[0m\n",
      "\u001b[0;32m~/.virtualenvs/autotest/lib/python3.6/site-packages/urllib3/util/retry.py\u001b[0m in \u001b[0;36mincrement\u001b[0;34m(self, method, url, response, error, _pool, _stacktrace)\u001b[0m\n\u001b[1;32m    397\u001b[0m         \u001b[0;32mif\u001b[0m \u001b[0mnew_retry\u001b[0m\u001b[0;34m.\u001b[0m\u001b[0mis_exhausted\u001b[0m\u001b[0;34m(\u001b[0m\u001b[0;34m)\u001b[0m\u001b[0;34m:\u001b[0m\u001b[0;34m\u001b[0m\u001b[0;34m\u001b[0m\u001b[0m\n\u001b[0;32m--> 398\u001b[0;31m             \u001b[0;32mraise\u001b[0m \u001b[0mMaxRetryError\u001b[0m\u001b[0;34m(\u001b[0m\u001b[0m_pool\u001b[0m\u001b[0;34m,\u001b[0m \u001b[0murl\u001b[0m\u001b[0;34m,\u001b[0m \u001b[0merror\u001b[0m \u001b[0;32mor\u001b[0m \u001b[0mResponseError\u001b[0m\u001b[0;34m(\u001b[0m\u001b[0mcause\u001b[0m\u001b[0;34m)\u001b[0m\u001b[0;34m)\u001b[0m\u001b[0;34m\u001b[0m\u001b[0;34m\u001b[0m\u001b[0m\n\u001b[0m\u001b[1;32m    399\u001b[0m \u001b[0;34m\u001b[0m\u001b[0m\n",
      "\u001b[0;31mMaxRetryError\u001b[0m: HTTPConnectionPool(host='35.174.105.169', port=55000): Max retries exceeded with url: / (Caused by NewConnectionError('<urllib3.connection.HTTPConnection object at 0x7f176c50eef0>: Failed to establish a new connection: [Errno 110] Connection timed out',))",
      "\nDuring handling of the above exception, another exception occurred:\n",
      "\u001b[0;31mConnectionError\u001b[0m                           Traceback (most recent call last)",
      "\u001b[0;32m<ipython-input-19-e0c559c204f5>\u001b[0m in \u001b[0;36m<module>\u001b[0;34m\u001b[0m\n\u001b[0;32m----> 1\u001b[0;31m \u001b[0mtest_suite\u001b[0m\u001b[0;34m.\u001b[0m\u001b[0mtest_account_creation\u001b[0m\u001b[0;34m(\u001b[0m\u001b[0;34m)\u001b[0m\u001b[0;34m\u001b[0m\u001b[0;34m\u001b[0m\u001b[0m\n\u001b[0m",
      "\u001b[0;32m~/Code/autotest/autotest/run_test.py\u001b[0m in \u001b[0;36mtest_account_creation\u001b[0;34m(self, num_worker_threads, pwr)\u001b[0m\n\u001b[1;32m     51\u001b[0m \u001b[0;34m\u001b[0m\u001b[0m\n\u001b[1;32m     52\u001b[0m     \u001b[0;32mdef\u001b[0m \u001b[0mtest_account_creation\u001b[0m\u001b[0;34m(\u001b[0m\u001b[0mself\u001b[0m\u001b[0;34m,\u001b[0m \u001b[0mnum_worker_threads\u001b[0m\u001b[0;34m=\u001b[0m\u001b[0;36m32\u001b[0m\u001b[0;34m,\u001b[0m \u001b[0mpwr\u001b[0m\u001b[0;34m=\u001b[0m\u001b[0;36m5\u001b[0m\u001b[0;34m)\u001b[0m\u001b[0;34m:\u001b[0m\u001b[0;34m\u001b[0m\u001b[0;34m\u001b[0m\u001b[0m\n\u001b[0;32m---> 53\u001b[0;31m         \u001b[0mself\u001b[0m\u001b[0;34m.\u001b[0m\u001b[0mcreate_accounts_parallel\u001b[0m\u001b[0;34m(\u001b[0m\u001b[0mpwr\u001b[0m\u001b[0;34m,\u001b[0m \u001b[0mnum_worker_threads\u001b[0m\u001b[0;34m=\u001b[0m\u001b[0mnum_worker_threads\u001b[0m\u001b[0;34m)\u001b[0m\u001b[0;34m\u001b[0m\u001b[0;34m\u001b[0m\u001b[0m\n\u001b[0m\u001b[1;32m     54\u001b[0m         \u001b[0merr_dict\u001b[0m \u001b[0;34m=\u001b[0m \u001b[0mself\u001b[0m\u001b[0;34m.\u001b[0m\u001b[0mverify_account_creation\u001b[0m\u001b[0;34m(\u001b[0m\u001b[0mpwr\u001b[0m\u001b[0;34m)\u001b[0m\u001b[0;34m\u001b[0m\u001b[0;34m\u001b[0m\u001b[0m\n\u001b[1;32m     55\u001b[0m         \u001b[0;32mif\u001b[0m \u001b[0mlen\u001b[0m\u001b[0;34m(\u001b[0m\u001b[0merr_dict\u001b[0m\u001b[0;34m)\u001b[0m\u001b[0;34m:\u001b[0m\u001b[0;34m\u001b[0m\u001b[0;34m\u001b[0m\u001b[0m\n",
      "\u001b[0;32m~/Code/autotest/autotest/run_test.py\u001b[0m in \u001b[0;36mcreate_accounts_parallel\u001b[0;34m(self, powr, num_worker_threads)\u001b[0m\n\u001b[1;32m    173\u001b[0m             \u001b[0mprint\u001b[0m\u001b[0;34m(\u001b[0m\u001b[0;34m'Starting round i = {}'\u001b[0m\u001b[0;34m.\u001b[0m\u001b[0mformat\u001b[0m\u001b[0;34m(\u001b[0m\u001b[0mi\u001b[0m \u001b[0;34m+\u001b[0m \u001b[0;36m1\u001b[0m\u001b[0;34m)\u001b[0m\u001b[0;34m)\u001b[0m\u001b[0;34m\u001b[0m\u001b[0;34m\u001b[0m\u001b[0m\n\u001b[1;32m    174\u001b[0m             \u001b[0mt0\u001b[0m \u001b[0;34m=\u001b[0m \u001b[0mtime\u001b[0m\u001b[0;34m(\u001b[0m\u001b[0;34m)\u001b[0m\u001b[0;34m\u001b[0m\u001b[0;34m\u001b[0m\u001b[0m\n\u001b[0;32m--> 175\u001b[0;31m             \u001b[0;32mif\u001b[0m \u001b[0;32mnot\u001b[0m \u001b[0mself\u001b[0m\u001b[0;34m.\u001b[0m\u001b[0msend_and_confirm\u001b[0m\u001b[0;34m(\u001b[0m\u001b[0msender_size\u001b[0m\u001b[0;34m,\u001b[0m \u001b[0msend_amt\u001b[0m\u001b[0;34m,\u001b[0m \u001b[0mnum_worker_threads\u001b[0m\u001b[0;34m)\u001b[0m\u001b[0;34m:\u001b[0m\u001b[0;34m\u001b[0m\u001b[0;34m\u001b[0m\u001b[0m\n\u001b[0m\u001b[1;32m    176\u001b[0m                 \u001b[0mprint\u001b[0m\u001b[0;34m(\u001b[0m\u001b[0;34m'Failed at iteration with exponent i={}'\u001b[0m\u001b[0;34m.\u001b[0m\u001b[0mformat\u001b[0m\u001b[0;34m(\u001b[0m\u001b[0mi\u001b[0m\u001b[0;34m)\u001b[0m\u001b[0;34m)\u001b[0m\u001b[0;34m\u001b[0m\u001b[0;34m\u001b[0m\u001b[0m\n\u001b[1;32m    177\u001b[0m                 \u001b[0;32mreturn\u001b[0m\u001b[0;34m\u001b[0m\u001b[0;34m\u001b[0m\u001b[0m\n",
      "\u001b[0;32m~/Code/autotest/autotest/run_test.py\u001b[0m in \u001b[0;36msend_and_confirm\u001b[0;34m(self, sender_size, send_amt, num_worker_threads)\u001b[0m\n\u001b[1;32m    200\u001b[0m             \u001b[0md_ids\u001b[0m\u001b[0;34m[\u001b[0m\u001b[0mj\u001b[0m\u001b[0;34m]\u001b[0m\u001b[0;34m,\u001b[0m\u001b[0;34m\u001b[0m\u001b[0;34m\u001b[0m\u001b[0m\n\u001b[1;32m    201\u001b[0m             \u001b[0msend_amt\u001b[0m\u001b[0;34m\u001b[0m\u001b[0;34m\u001b[0m\u001b[0m\n\u001b[0;32m--> 202\u001b[0;31m         ) for j in range(sender_size)])\n\u001b[0m\u001b[1;32m    203\u001b[0m         \u001b[0mresps\u001b[0m \u001b[0;34m=\u001b[0m \u001b[0;34m{\u001b[0m\u001b[0;34m}\u001b[0m\u001b[0;34m\u001b[0m\u001b[0;34m\u001b[0m\u001b[0m\n\u001b[1;32m    204\u001b[0m \u001b[0;34m\u001b[0m\u001b[0m\n",
      "\u001b[0;32m~/Code/autotest/autotest/run_test.py\u001b[0m in \u001b[0;36m<listcomp>\u001b[0;34m(.0)\u001b[0m\n\u001b[1;32m    200\u001b[0m             \u001b[0md_ids\u001b[0m\u001b[0;34m[\u001b[0m\u001b[0mj\u001b[0m\u001b[0;34m]\u001b[0m\u001b[0;34m,\u001b[0m\u001b[0;34m\u001b[0m\u001b[0;34m\u001b[0m\u001b[0m\n\u001b[1;32m    201\u001b[0m             \u001b[0msend_amt\u001b[0m\u001b[0;34m\u001b[0m\u001b[0;34m\u001b[0m\u001b[0m\n\u001b[0;32m--> 202\u001b[0;31m         ) for j in range(sender_size)])\n\u001b[0m\u001b[1;32m    203\u001b[0m         \u001b[0mresps\u001b[0m \u001b[0;34m=\u001b[0m \u001b[0;34m{\u001b[0m\u001b[0;34m}\u001b[0m\u001b[0;34m\u001b[0m\u001b[0;34m\u001b[0m\u001b[0m\n\u001b[1;32m    204\u001b[0m \u001b[0;34m\u001b[0m\u001b[0m\n",
      "\u001b[0;32m~/Code/autotest/autotest/run_test.py\u001b[0m in \u001b[0;36mcreate_next_txn\u001b[0;34m(self, sender_addr, sender_pub, sender_prv, destination, designated_id, amount_mlgs)\u001b[0m\n\u001b[1;32m    243\u001b[0m \u001b[0;34m\u001b[0m\u001b[0m\n\u001b[1;32m    244\u001b[0m     \u001b[0;32mdef\u001b[0m \u001b[0mcreate_next_txn\u001b[0m\u001b[0;34m(\u001b[0m\u001b[0mself\u001b[0m\u001b[0;34m,\u001b[0m \u001b[0msender_addr\u001b[0m\u001b[0;34m,\u001b[0m \u001b[0msender_pub\u001b[0m\u001b[0;34m,\u001b[0m \u001b[0msender_prv\u001b[0m\u001b[0;34m,\u001b[0m \u001b[0mdestination\u001b[0m\u001b[0;34m,\u001b[0m \u001b[0mdesignated_id\u001b[0m\u001b[0;34m=\u001b[0m\u001b[0;36m0\u001b[0m\u001b[0;34m,\u001b[0m \u001b[0mamount_mlgs\u001b[0m\u001b[0;34m=\u001b[0m\u001b[0;32mNone\u001b[0m\u001b[0;34m)\u001b[0m\u001b[0;34m:\u001b[0m\u001b[0;34m\u001b[0m\u001b[0;34m\u001b[0m\u001b[0m\n\u001b[0;32m--> 245\u001b[0;31m         \u001b[0minfo_data\u001b[0m \u001b[0;34m=\u001b[0m \u001b[0mself\u001b[0m\u001b[0;34m.\u001b[0m\u001b[0mnodes\u001b[0m\u001b[0;34m[\u001b[0m\u001b[0mdesignated_id\u001b[0m\u001b[0;34m]\u001b[0m\u001b[0;34m.\u001b[0m\u001b[0maccount_info\u001b[0m\u001b[0;34m(\u001b[0m\u001b[0msender_addr\u001b[0m\u001b[0;34m)\u001b[0m\u001b[0;34m\u001b[0m\u001b[0;34m\u001b[0m\u001b[0m\n\u001b[0m\u001b[1;32m    246\u001b[0m         \u001b[0mprev\u001b[0m \u001b[0;34m=\u001b[0m \u001b[0minfo_data\u001b[0m\u001b[0;34m[\u001b[0m\u001b[0;34m'frontier'\u001b[0m\u001b[0;34m]\u001b[0m\u001b[0;34m\u001b[0m\u001b[0;34m\u001b[0m\u001b[0m\n\u001b[1;32m    247\u001b[0m         \u001b[0mdesignated_id\u001b[0m \u001b[0;34m=\u001b[0m \u001b[0mdesignated_delegate\u001b[0m\u001b[0;34m(\u001b[0m\u001b[0msender_pub\u001b[0m\u001b[0;34m,\u001b[0m \u001b[0mprev\u001b[0m\u001b[0;34m)\u001b[0m\u001b[0;34m\u001b[0m\u001b[0;34m\u001b[0m\u001b[0m\n",
      "\u001b[0;32m~/Code/autotest/autotest/utils.py\u001b[0m in \u001b[0;36maccount_info\u001b[0;34m(self, account)\u001b[0m\n\u001b[1;32m     59\u001b[0m \u001b[0;34m\u001b[0m\u001b[0m\n\u001b[1;32m     60\u001b[0m     \u001b[0;32mdef\u001b[0m \u001b[0maccount_info\u001b[0m\u001b[0;34m(\u001b[0m\u001b[0mself\u001b[0m\u001b[0;34m,\u001b[0m \u001b[0maccount\u001b[0m\u001b[0;34m=\u001b[0m\u001b[0mg_account\u001b[0m\u001b[0;34m)\u001b[0m\u001b[0;34m:\u001b[0m\u001b[0;34m\u001b[0m\u001b[0;34m\u001b[0m\u001b[0m\n\u001b[0;32m---> 61\u001b[0;31m         \u001b[0;32mreturn\u001b[0m \u001b[0mself\u001b[0m\u001b[0;34m.\u001b[0m\u001b[0mcall\u001b[0m\u001b[0;34m(\u001b[0m\u001b[0;34m'account_info'\u001b[0m\u001b[0;34m,\u001b[0m \u001b[0maccount\u001b[0m\u001b[0;34m=\u001b[0m\u001b[0maccount\u001b[0m\u001b[0;34m)\u001b[0m\u001b[0;34m\u001b[0m\u001b[0;34m\u001b[0m\u001b[0m\n\u001b[0m\u001b[1;32m     62\u001b[0m \u001b[0;34m\u001b[0m\u001b[0m\n\u001b[1;32m     63\u001b[0m     \u001b[0;32mdef\u001b[0m \u001b[0maccount_history\u001b[0m\u001b[0;34m(\u001b[0m\u001b[0mself\u001b[0m\u001b[0;34m,\u001b[0m \u001b[0maccount\u001b[0m\u001b[0;34m=\u001b[0m\u001b[0mg_account\u001b[0m\u001b[0;34m,\u001b[0m \u001b[0mraw\u001b[0m\u001b[0;34m=\u001b[0m\u001b[0;32mTrue\u001b[0m\u001b[0;34m,\u001b[0m \u001b[0mcount\u001b[0m\u001b[0;34m=\u001b[0m\u001b[0;36m100\u001b[0m\u001b[0;34m,\u001b[0m \u001b[0mhead\u001b[0m\u001b[0;34m=\u001b[0m\u001b[0;34m''\u001b[0m\u001b[0;34m)\u001b[0m\u001b[0;34m:\u001b[0m\u001b[0;34m\u001b[0m\u001b[0;34m\u001b[0m\u001b[0m\n",
      "\u001b[0;32m~/Code/autotest/autotest/utils.py\u001b[0m in \u001b[0;36mcall\u001b[0;34m(self, action, merge_block, **kwargs)\u001b[0m\n\u001b[1;32m     49\u001b[0m         \u001b[0mmessage\u001b[0m \u001b[0;34m=\u001b[0m \u001b[0;34m{\u001b[0m\u001b[0;34m'rpc_action'\u001b[0m\u001b[0;34m:\u001b[0m \u001b[0maction\u001b[0m\u001b[0;34m,\u001b[0m \u001b[0;34m**\u001b[0m\u001b[0mkwargs\u001b[0m\u001b[0;34m}\u001b[0m\u001b[0;34m\u001b[0m\u001b[0;34m\u001b[0m\u001b[0m\n\u001b[1;32m     50\u001b[0m         \u001b[0mmessage\u001b[0m\u001b[0;34m.\u001b[0m\u001b[0mupdate\u001b[0m\u001b[0;34m(\u001b[0m\u001b[0mmerge_block\u001b[0m\u001b[0;34m)\u001b[0m\u001b[0;34m\u001b[0m\u001b[0;34m\u001b[0m\u001b[0m\n\u001b[0;32m---> 51\u001b[0;31m         \u001b[0mresp\u001b[0m \u001b[0;34m=\u001b[0m \u001b[0mrequests\u001b[0m\u001b[0;34m.\u001b[0m\u001b[0mpost\u001b[0m\u001b[0;34m(\u001b[0m\u001b[0mself\u001b[0m\u001b[0;34m.\u001b[0m\u001b[0muri\u001b[0m\u001b[0;34m,\u001b[0m \u001b[0mjson\u001b[0m\u001b[0;34m=\u001b[0m\u001b[0mmessage\u001b[0m\u001b[0;34m,\u001b[0m \u001b[0mheaders\u001b[0m\u001b[0;34m=\u001b[0m\u001b[0;34m{\u001b[0m\u001b[0;34m'Content-Type'\u001b[0m\u001b[0;34m:\u001b[0m \u001b[0;34m'application/json'\u001b[0m\u001b[0;34m}\u001b[0m\u001b[0;34m)\u001b[0m\u001b[0;34m\u001b[0m\u001b[0;34m\u001b[0m\u001b[0m\n\u001b[0m\u001b[1;32m     52\u001b[0m         \u001b[0mres\u001b[0m \u001b[0;34m=\u001b[0m \u001b[0mresp\u001b[0m\u001b[0;34m.\u001b[0m\u001b[0mjson\u001b[0m\u001b[0;34m(\u001b[0m\u001b[0;34m)\u001b[0m\u001b[0;34m\u001b[0m\u001b[0;34m\u001b[0m\u001b[0m\n\u001b[1;32m     53\u001b[0m         \u001b[0;32mif\u001b[0m \u001b[0;34m'error'\u001b[0m \u001b[0;32min\u001b[0m \u001b[0mres\u001b[0m\u001b[0;34m:\u001b[0m\u001b[0;34m\u001b[0m\u001b[0;34m\u001b[0m\u001b[0m\n",
      "\u001b[0;32m~/.virtualenvs/autotest/lib/python3.6/site-packages/requests/api.py\u001b[0m in \u001b[0;36mpost\u001b[0;34m(url, data, json, **kwargs)\u001b[0m\n\u001b[1;32m    114\u001b[0m     \"\"\"\n\u001b[1;32m    115\u001b[0m \u001b[0;34m\u001b[0m\u001b[0m\n\u001b[0;32m--> 116\u001b[0;31m     \u001b[0;32mreturn\u001b[0m \u001b[0mrequest\u001b[0m\u001b[0;34m(\u001b[0m\u001b[0;34m'post'\u001b[0m\u001b[0;34m,\u001b[0m \u001b[0murl\u001b[0m\u001b[0;34m,\u001b[0m \u001b[0mdata\u001b[0m\u001b[0;34m=\u001b[0m\u001b[0mdata\u001b[0m\u001b[0;34m,\u001b[0m \u001b[0mjson\u001b[0m\u001b[0;34m=\u001b[0m\u001b[0mjson\u001b[0m\u001b[0;34m,\u001b[0m \u001b[0;34m**\u001b[0m\u001b[0mkwargs\u001b[0m\u001b[0;34m)\u001b[0m\u001b[0;34m\u001b[0m\u001b[0;34m\u001b[0m\u001b[0m\n\u001b[0m\u001b[1;32m    117\u001b[0m \u001b[0;34m\u001b[0m\u001b[0m\n\u001b[1;32m    118\u001b[0m \u001b[0;34m\u001b[0m\u001b[0m\n",
      "\u001b[0;32m~/.virtualenvs/autotest/lib/python3.6/site-packages/requests/api.py\u001b[0m in \u001b[0;36mrequest\u001b[0;34m(method, url, **kwargs)\u001b[0m\n\u001b[1;32m     58\u001b[0m     \u001b[0;31m# cases, and look like a memory leak in others.\u001b[0m\u001b[0;34m\u001b[0m\u001b[0;34m\u001b[0m\u001b[0;34m\u001b[0m\u001b[0m\n\u001b[1;32m     59\u001b[0m     \u001b[0;32mwith\u001b[0m \u001b[0msessions\u001b[0m\u001b[0;34m.\u001b[0m\u001b[0mSession\u001b[0m\u001b[0;34m(\u001b[0m\u001b[0;34m)\u001b[0m \u001b[0;32mas\u001b[0m \u001b[0msession\u001b[0m\u001b[0;34m:\u001b[0m\u001b[0;34m\u001b[0m\u001b[0;34m\u001b[0m\u001b[0m\n\u001b[0;32m---> 60\u001b[0;31m         \u001b[0;32mreturn\u001b[0m \u001b[0msession\u001b[0m\u001b[0;34m.\u001b[0m\u001b[0mrequest\u001b[0m\u001b[0;34m(\u001b[0m\u001b[0mmethod\u001b[0m\u001b[0;34m=\u001b[0m\u001b[0mmethod\u001b[0m\u001b[0;34m,\u001b[0m \u001b[0murl\u001b[0m\u001b[0;34m=\u001b[0m\u001b[0murl\u001b[0m\u001b[0;34m,\u001b[0m \u001b[0;34m**\u001b[0m\u001b[0mkwargs\u001b[0m\u001b[0;34m)\u001b[0m\u001b[0;34m\u001b[0m\u001b[0;34m\u001b[0m\u001b[0m\n\u001b[0m\u001b[1;32m     61\u001b[0m \u001b[0;34m\u001b[0m\u001b[0m\n\u001b[1;32m     62\u001b[0m \u001b[0;34m\u001b[0m\u001b[0m\n",
      "\u001b[0;32m~/.virtualenvs/autotest/lib/python3.6/site-packages/requests/sessions.py\u001b[0m in \u001b[0;36mrequest\u001b[0;34m(self, method, url, params, data, headers, cookies, files, auth, timeout, allow_redirects, proxies, hooks, stream, verify, cert, json)\u001b[0m\n\u001b[1;32m    531\u001b[0m         }\n\u001b[1;32m    532\u001b[0m         \u001b[0msend_kwargs\u001b[0m\u001b[0;34m.\u001b[0m\u001b[0mupdate\u001b[0m\u001b[0;34m(\u001b[0m\u001b[0msettings\u001b[0m\u001b[0;34m)\u001b[0m\u001b[0;34m\u001b[0m\u001b[0;34m\u001b[0m\u001b[0m\n\u001b[0;32m--> 533\u001b[0;31m         \u001b[0mresp\u001b[0m \u001b[0;34m=\u001b[0m \u001b[0mself\u001b[0m\u001b[0;34m.\u001b[0m\u001b[0msend\u001b[0m\u001b[0;34m(\u001b[0m\u001b[0mprep\u001b[0m\u001b[0;34m,\u001b[0m \u001b[0;34m**\u001b[0m\u001b[0msend_kwargs\u001b[0m\u001b[0;34m)\u001b[0m\u001b[0;34m\u001b[0m\u001b[0;34m\u001b[0m\u001b[0m\n\u001b[0m\u001b[1;32m    534\u001b[0m \u001b[0;34m\u001b[0m\u001b[0m\n\u001b[1;32m    535\u001b[0m         \u001b[0;32mreturn\u001b[0m \u001b[0mresp\u001b[0m\u001b[0;34m\u001b[0m\u001b[0;34m\u001b[0m\u001b[0m\n",
      "\u001b[0;32m~/.virtualenvs/autotest/lib/python3.6/site-packages/requests/sessions.py\u001b[0m in \u001b[0;36msend\u001b[0;34m(self, request, **kwargs)\u001b[0m\n\u001b[1;32m    644\u001b[0m \u001b[0;34m\u001b[0m\u001b[0m\n\u001b[1;32m    645\u001b[0m         \u001b[0;31m# Send the request\u001b[0m\u001b[0;34m\u001b[0m\u001b[0;34m\u001b[0m\u001b[0;34m\u001b[0m\u001b[0m\n\u001b[0;32m--> 646\u001b[0;31m         \u001b[0mr\u001b[0m \u001b[0;34m=\u001b[0m \u001b[0madapter\u001b[0m\u001b[0;34m.\u001b[0m\u001b[0msend\u001b[0m\u001b[0;34m(\u001b[0m\u001b[0mrequest\u001b[0m\u001b[0;34m,\u001b[0m \u001b[0;34m**\u001b[0m\u001b[0mkwargs\u001b[0m\u001b[0;34m)\u001b[0m\u001b[0;34m\u001b[0m\u001b[0;34m\u001b[0m\u001b[0m\n\u001b[0m\u001b[1;32m    647\u001b[0m \u001b[0;34m\u001b[0m\u001b[0m\n\u001b[1;32m    648\u001b[0m         \u001b[0;31m# Total elapsed time of the request (approximately)\u001b[0m\u001b[0;34m\u001b[0m\u001b[0;34m\u001b[0m\u001b[0;34m\u001b[0m\u001b[0m\n",
      "\u001b[0;32m~/.virtualenvs/autotest/lib/python3.6/site-packages/requests/adapters.py\u001b[0m in \u001b[0;36msend\u001b[0;34m(self, request, stream, timeout, verify, cert, proxies)\u001b[0m\n\u001b[1;32m    514\u001b[0m                 \u001b[0;32mraise\u001b[0m \u001b[0mSSLError\u001b[0m\u001b[0;34m(\u001b[0m\u001b[0me\u001b[0m\u001b[0;34m,\u001b[0m \u001b[0mrequest\u001b[0m\u001b[0;34m=\u001b[0m\u001b[0mrequest\u001b[0m\u001b[0;34m)\u001b[0m\u001b[0;34m\u001b[0m\u001b[0;34m\u001b[0m\u001b[0m\n\u001b[1;32m    515\u001b[0m \u001b[0;34m\u001b[0m\u001b[0m\n\u001b[0;32m--> 516\u001b[0;31m             \u001b[0;32mraise\u001b[0m \u001b[0mConnectionError\u001b[0m\u001b[0;34m(\u001b[0m\u001b[0me\u001b[0m\u001b[0;34m,\u001b[0m \u001b[0mrequest\u001b[0m\u001b[0;34m=\u001b[0m\u001b[0mrequest\u001b[0m\u001b[0;34m)\u001b[0m\u001b[0;34m\u001b[0m\u001b[0;34m\u001b[0m\u001b[0m\n\u001b[0m\u001b[1;32m    517\u001b[0m \u001b[0;34m\u001b[0m\u001b[0m\n\u001b[1;32m    518\u001b[0m         \u001b[0;32mexcept\u001b[0m \u001b[0mClosedPoolError\u001b[0m \u001b[0;32mas\u001b[0m \u001b[0me\u001b[0m\u001b[0;34m:\u001b[0m\u001b[0;34m\u001b[0m\u001b[0;34m\u001b[0m\u001b[0m\n",
      "\u001b[0;31mConnectionError\u001b[0m: HTTPConnectionPool(host='35.174.105.169', port=55000): Max retries exceeded with url: / (Caused by NewConnectionError('<urllib3.connection.HTTPConnection object at 0x7f176c50eef0>: Failed to establish a new connection: [Errno 110] Connection timed out',))"
     ]
    }
   ],
   "source": [
    "test_suite.test_account_creation()"
   ]
  },
  {
   "cell_type": "code",
   "execution_count": 6,
   "metadata": {},
   "outputs": [
    {
     "name": "stdout",
     "output_type": "stream",
     "text": [
      "Commands: \n",
      "\tsystemctl stop logos_core\n",
      "\taws s3 cp s3://logos-bench-us-east-1/helpers/gen_config.py /home/ubuntu/bench/gen_config.py\n",
      "\taws s3 cp s3://logos-bench-us-east-1/configs/cj-token/bench.json.tmpl /home/ubuntu/bench/config/bench.json.tmpl && python /home/ubuntu/bench/gen_config.py --callback --callback_address 81667ab3.ngrok.io && cp /home/ubuntu/bench/config/bench.json /home/ubuntu/bench/LogosTest/config.json\n",
      "\trm -f /home/ubuntu/bench/LogosTest/log/* /home/ubuntu/bench/LogosTest/data.ldb /home/ubuntu/bench/LogosTest/data.ldb-lock\n",
      "\tsleep 20 && systemctl start logos_core\n",
      "Command id: \n",
      "\t8fa7d170-30d1-4ddd-a4c2-ed36b6536420\n",
      "32 out of 32 expected Successes..                 \n",
      "All succeeded\n"
     ]
    }
   ],
   "source": [
    "update_config(cluster_name, 'cj-token', new_generator=True, callback_args={'callback_address':'81667ab3.ngrok.io'})"
   ]
  },
  {
   "cell_type": "code",
   "execution_count": 415,
   "metadata": {},
   "outputs": [],
   "source": [
    "node = LogosRpc(\"172.1.1.145\")"
   ]
  },
  {
   "cell_type": "code",
   "execution_count": 416,
   "metadata": {},
   "outputs": [
    {
     "data": {
      "text/plain": [
       "{'private': '2DA17B92F6DC21A09C2A37834204E1D5A56E516294FA4F1589E4D688F7D44D4D',\n",
       " 'public': 'E2CC7657E09122DDBBCFDC413101F930197A09EB4EBFE21352F0C46CA1977E76',\n",
       " 'account': 'lgs_3rpegsdy36b4upxwzq43861zke1sha6ypmozwabo7w86fkisgzmpjnqku1mn'}"
      ]
     },
     "execution_count": 416,
     "metadata": {},
     "output_type": "execute_result"
    }
   ],
   "source": [
    "node.key_create()"
   ]
  },
  {
   "cell_type": "code",
   "execution_count": 417,
   "metadata": {},
   "outputs": [
    {
     "data": {
      "text/plain": [
       "'0000000000000000000000000000000000000000000000000000000000000000'"
      ]
     },
     "execution_count": 417,
     "metadata": {},
     "output_type": "execute_result"
    }
   ],
   "source": [
    "node.get_previous(accounts[48])"
   ]
  },
  {
   "cell_type": "code",
   "execution_count": 376,
   "metadata": {},
   "outputs": [],
   "source": [
    "from test_election import *\n"
   ]
  },
  {
   "cell_type": "code",
   "execution_count": 414,
   "metadata": {},
   "outputs": [
    {
     "name": "stdout",
     "output_type": "stream",
     "text": [
      "0 : 00000000000000000000000000000000\n",
      "1 : 00000000000000000000000000000000\n",
      "2 : 00000000000000000000000000000000\n",
      "3 : 00000000000000000000000000000000\n",
      "4 : 00000000000000000000000000000000\n",
      "5 : 00000000000000000000000000000000\n",
      "6 : 00000000000000000000000000000000\n",
      "7 : 00000000000000000000000000000000\n",
      "8 : 00000000000000000000000000000000\n",
      "9 : 00000000000000000000000000000000\n",
      "10 : 00000000000000000000000000000000\n",
      "11 : 00000000000000000000000000000000\n",
      "12 : 00000000000000000000000000000000\n",
      "13 : 00000000000000000000000000000000\n",
      "14 : 00000000000000000000000000000000\n",
      "15 : 00000000000000000000000000000000\n",
      "16 : 00000000000000000000000000000000\n",
      "17 : 00000000000000000000000000000000\n",
      "18 : 00000000000000000000000000000000\n",
      "19 : 00000000000000000000000000000000\n",
      "20 : 00000000000000000000000000000000\n",
      "21 : 00000000000000000000000000000000\n",
      "22 : 00000000000000000000000000000000\n",
      "23 : 00000000000000000000000000000000\n",
      "24 : 00000000000000000000000000000000\n",
      "25 : 00000000000000000000000000000000\n",
      "26 : 00000000000000000000000000000000\n",
      "27 : 00000000000000000000000000000000\n",
      "28 : 00000000000000000000000000000000\n",
      "29 : 00000000000000000000000000000000\n",
      "30 : 00000000000000000000000000000000\n",
      "31 : 00000000000000000000000000000000\n",
      "56 : 00000000000000000000000000000000\n",
      "57 : 00000000000000000000000000000000\n",
      "58 : 00000000000000000000000000000000\n",
      "59 : 00000000000000000000000000000000\n",
      "60 : 00000000000000000000000000000000\n",
      "61 : 00000000000000000000000000000000\n",
      "62 : 00000000000000000000000000000000\n",
      "63 : 00000000000000000000000000000000\n"
     ]
    }
   ],
   "source": [
    "candidates = node.candidates()\n",
    "for x in pub_keys:\n",
    "    if x in candidates and candidates[x]['active'] == 'true':\n",
    "        print(str(findIdx(x,pub_keys)) + \" : \" + candidates[x]['votes_received_weighted'])"
   ]
  },
  {
   "cell_type": "code",
   "execution_count": 178,
   "metadata": {},
   "outputs": [],
   "source": [
    "def findIdx(elt,l):\n",
    "    for x in range(len(l)):\n",
    "        if l[x] == elt:\n",
    "            return x\n",
    "    return -1"
   ]
  },
  {
   "cell_type": "code",
   "execution_count": 420,
   "metadata": {},
   "outputs": [
    {
     "name": "stdout",
     "output_type": "stream",
     "text": [
      "16\n",
      "17\n",
      "18\n",
      "19\n",
      "20\n",
      "21\n",
      "22\n",
      "23\n",
      "24\n",
      "25\n",
      "26\n",
      "27\n",
      "28\n",
      "29\n",
      "30\n",
      "31\n",
      "32\n",
      "33\n",
      "34\n",
      "35\n",
      "36\n",
      "37\n",
      "38\n",
      "39\n",
      "40\n",
      "41\n",
      "42\n",
      "43\n",
      "44\n",
      "45\n",
      "46\n",
      "47\n"
     ]
    }
   ],
   "source": [
    "for d in node.epochs_latest()['epochs'][1]['delegates']:\n",
    "    if True or d['starting_term'] == 'true':\n",
    "        print(findIdx(d['account'],pub_keys))\n",
    "            "
   ]
  },
  {
   "cell_type": "code",
   "execution_count": 175,
   "metadata": {},
   "outputs": [
    {
     "name": "stdout",
     "output_type": "stream",
     "text": [
      "37\n"
     ]
    }
   ],
   "source": [
    "pkey = \"F31242266C5296F27DA12FFBE041652DADAD687B96269E2E59FA721D2301F742\"\n",
    "for i in range(64):\n",
    "    if pub_keys[i] == pkey:\n",
    "        print(i)"
   ]
  },
  {
   "cell_type": "code",
   "execution_count": 413,
   "metadata": {},
   "outputs": [
    {
     "data": {
      "text/plain": [
       "{'epochs': [{'delegate': '0',\n",
       "   'epoch_number': '6',\n",
       "   'sequence': '0',\n",
       "   'timestamp': '1551797065210',\n",
       "   'previous': '09827129EEAE4D51E47FB9D32887E6A9A52D70C83A8830D81226DB5A70D95D80',\n",
       "   'signature': 'aec3397f063844c3591e528bddf66baa4e8f45d7c8dcf2b3b80e5076a7cd6e1a',\n",
       "   'type': 'Epoch',\n",
       "   'micro_block_tip': 'C45087B034A789A9D01363F66A794D6681A2BB1A66106898EECC32A5F9E3FF13',\n",
       "   'delegates': [{'account': '798222A656E85FA5D2717365C4024E6F047A8CE69BBB16D36EF0A99F5C649540',\n",
       "     'bls_pub': '4249f5bf6cbcdc892797fd243c6415e27cde053f736f38ae11443ea00a0aa50641b163b1ac002d4a05a4da8449c18e585aa81c812dd22a1aec005499f3d07d02',\n",
       "     'vote': '00000000000000000000000000019000',\n",
       "     'stake': '00000000000000000000000000019000',\n",
       "     'starting_term': 'false'},\n",
       "    {'account': 'CC784D8317B270E6051C2EE30E5400B40B02C55E4F4A8E65E9705DF16CFA4BB2',\n",
       "     'bls_pub': '70c311e0bf89baee8921ec7ecdf63bab1f71b8837dc878585de0fd29603abd1fd0c834aae49b6a9ad568adc2a02c0b5152d9cd296c73f661ea9e3e79174dc0a0',\n",
       "     'vote': '00000000000000000000000000019064',\n",
       "     'stake': '00000000000000000000000000019064',\n",
       "     'starting_term': 'false'},\n",
       "    {'account': '339535F1D273D54251DB989AE5DD27FF8CA73D4D7A39CAF3B3B885D72EA4E060',\n",
       "     'bls_pub': 'a4984aef8e6db2e3d715f0ee3f5749f0fa79b28254b15a92cebac27d5d6fe10cf08cdbbf7101be31049d125dc3942ab03a1c367163fcc62be0f1057421fbb78f',\n",
       "     'vote': '000000000000000000000000000190C8',\n",
       "     'stake': '000000000000000000000000000190C8',\n",
       "     'starting_term': 'false'},\n",
       "    {'account': '5A0FEE9B005371680BCC7B4543FDB769B47E59ABA9DC3A1780AEE096EE1AD97F',\n",
       "     'bls_pub': '3f9c94829dfa2c4effad89aeb5a353b169ee62d882027ba06630ca48129a2b197f9fb2a313a2d929142ceac7b28b5fd04ad139e9c0ae7798b007a5922e0f7914',\n",
       "     'vote': '0000000000000000000000000001912C',\n",
       "     'stake': '0000000000000000000000000001912C',\n",
       "     'starting_term': 'false'},\n",
       "    {'account': 'FE7DF5C651C6B5F453303FBD18FAC4AC6850DF2B0931624671A1A0E67853CF5D',\n",
       "     'bls_pub': '656bc875413bad33e3d3543fe7b188ce72ef341250aa94ad1f836a0683089300aab273ba4b32378b0ec8641e90184b27d4d95267206a187c32244a50af575483',\n",
       "     'vote': '00000000000000000000000000019190',\n",
       "     'stake': '00000000000000000000000000019190',\n",
       "     'starting_term': 'false'},\n",
       "    {'account': '56ECA372CE76B5B5404AFD266D3E87EECD4CBA8CE873AA9FC48B167D6094A15C',\n",
       "     'bls_pub': '7a970670377cc80be958ee71ccdfe47ab0b4c8a00910117123126bf4f038ab0a85420754c16933073ccd9310a0af17372c41e0e5374d0fc479b0fe1d5c4a3681',\n",
       "     'vote': '000000000000000000000000000191F4',\n",
       "     'stake': '000000000000000000000000000191F4',\n",
       "     'starting_term': 'false'},\n",
       "    {'account': '72CAA64A64FE6B833779598BBDBC70FBDBAE67D260944324BE6A61E990471FEC',\n",
       "     'bls_pub': 'b9738d4536315c377deab69c6e03f4d9c13de255860cff411de4b4e899d7bf01025715f23f5e15abd997a276d25f054810e334af97b50cb09951fd4ef5854b88',\n",
       "     'vote': '00000000000000000000000000019258',\n",
       "     'stake': '00000000000000000000000000019258',\n",
       "     'starting_term': 'false'},\n",
       "    {'account': 'C67380718EBC67E11ECBA20D5DA256EFDA68B53E9388DD0E65C6F8D21BC300AC',\n",
       "     'bls_pub': '1ce56637d55019bfb954fc49c16ba7e0397607533667e5c6c7a86ef501a4b109cdb0636782516b11e17debac2d31e8b7f8a47f530bbcd35b29607ee354c4460d',\n",
       "     'vote': '000000000000000000000000000192BC',\n",
       "     'stake': '000000000000000000000000000192BC',\n",
       "     'starting_term': 'false'},\n",
       "    {'account': '580C99CA3E08D69CB7E6F4860BF399ACE6B5DCA183C863C388A7CF79120D9F6D',\n",
       "     'bls_pub': 'f70432a506c2d5eaaa80ee2e88af94bb901eca65b23e2040317644ceeaf6fd1c8e754a23ebf67d0f5df7491171d1eebf82cd6a617a5cbb4fb49a91a3da9c381c',\n",
       "     'vote': '000000000000000000000000000C9900',\n",
       "     'stake': '00000000000000000000000000019320',\n",
       "     'starting_term': 'false'},\n",
       "    {'account': 'F3D9B2A8EDB00323B8348366BA04616ECE587F41CD3EC55418981E90CA77C672',\n",
       "     'bls_pub': 'cbc16f398141ef7e9026304612370687d57a8eb528ed771953f89c6e91fcee13be1ed17a6a9a1bb9a1b385cf028c4e0475f4a048b923a231913f9d7cad827c91',\n",
       "     'vote': '000000000000000000000000000C9C20',\n",
       "     'stake': '00000000000000000000000000019384',\n",
       "     'starting_term': 'false'},\n",
       "    {'account': '183028E867790EB9870CAAD44A79E5CA5FFE7E61303C0CD1A98D444F873FD552',\n",
       "     'bls_pub': 'c344276bd88fa4f4bbc2d9ec80099223f7f5091b6e59852231f4e71918a6d205a9a9f1cdb2832e5295e95bb93d105f2b61def5261f66a47f365319ee38ebcd04',\n",
       "     'vote': '000000000000000000000000000C9F40',\n",
       "     'stake': '000000000000000000000000000193E8',\n",
       "     'starting_term': 'false'},\n",
       "    {'account': '969FD9F1F2AD6F15F3A3F9393AD7C198D3948E9254B93A736896A0DD6679797A',\n",
       "     'bls_pub': 'b818e19f29c92b806923bc12d039a0985d6d651e09e19ae1d5ac330d33092712c427ec175d1f21c164f6951f5c1a129895bcf240683007bb660253bbd9bce884',\n",
       "     'vote': '000000000000000000000000000CA260',\n",
       "     'stake': '0000000000000000000000000001944C',\n",
       "     'starting_term': 'false'},\n",
       "    {'account': '7C7300499092A616709A803D7232D5E747C91D6D22ABA0CB36ED440BA0A40C68',\n",
       "     'bls_pub': 'd982e085a4cf34972c1e87a4b189079ab898e1d725e81284932487c57e11fd1f3ec74671fefc85db7859bf0e6731f0fa75348eb6592d3261bff21d868a50781b',\n",
       "     'vote': '000000000000000000000000000CA580',\n",
       "     'stake': '000000000000000000000000000194B0',\n",
       "     'starting_term': 'false'},\n",
       "    {'account': 'F31242266C5296F27DA12FFBE041652DADAD687B96269E2E59FA721D2301F742',\n",
       "     'bls_pub': 'acb5096b37397b2fb0bd0d29c9b93775cbfeea8ef7acb8cab1ef22fc70a502104b0783137288f858d1795b16ab0ff8bb96e983f2ab1a3eea295ef6c86cd2d503',\n",
       "     'vote': '000000000000000000000000000CA8A0',\n",
       "     'stake': '00000000000000000000000000019514',\n",
       "     'starting_term': 'false'},\n",
       "    {'account': '72B0EB0FF7D50313053A9DE137B1295BED8F75A7388537AC6FEA2594B23BB6D8',\n",
       "     'bls_pub': '1544290a32a9517d92962a6b96f3567135dd5e02ba145daf1ca2941b42a5430b706bdd08379831c57d174ea39ed8b9716466271d8c568e368b70110cad610499',\n",
       "     'vote': '000000000000000000000000000CABC0',\n",
       "     'stake': '00000000000000000000000000019578',\n",
       "     'starting_term': 'false'},\n",
       "    {'account': 'B5C49C6E4D4BC6C6274F536EC270B96D9E52FFAFBBB1A1EB2AC60267EF59C957',\n",
       "     'bls_pub': '4e68c08e166ce541504cca1d5213a998883a3dfeb6bf397749b8b8edd5bec01d31759dff5db2818237b083a35dc4f447c7a458dbc4a2d29b878690190865a59d',\n",
       "     'vote': '000000000000000000000000000CAEE0',\n",
       "     'stake': '000000000000000000000000000195DC',\n",
       "     'starting_term': 'false'},\n",
       "    {'account': 'D328F7454F34A6E25B8F1E3B9157AE3CF14134A70307022E58BDFEAB3AEC9B4D',\n",
       "     'bls_pub': 'b9d8055af5132fc0de35ae3018316c996e8dc3f0b98d4304120c5c169a91500f094de4b6a57c69302d79ce0446193f868f6d6608b76fc475506eb7c73514760f',\n",
       "     'vote': '000000000000000000000000000CB200',\n",
       "     'stake': '00000000000000000000000000019640',\n",
       "     'starting_term': 'false'},\n",
       "    {'account': '57CCB6721EECCA764636CAC43F822C6F7AD28833B92BF33ECB7E3E739C3ACBA3',\n",
       "     'bls_pub': '784204f75de9c7bcf81be8ca75cb5bb4ed4ba57f31505a1dcdef12478bf3e412ba55db8798c1f3e010024455d6cdb62b87411e3dd3e195daec795f5b8e9b3196',\n",
       "     'vote': '000000000000000000000000000CB520',\n",
       "     'stake': '000000000000000000000000000196A4',\n",
       "     'starting_term': 'false'},\n",
       "    {'account': '45E1607304D6181AFDBB7AC45E4502FD23779C742F25379B741EA5A49B911A7C',\n",
       "     'bls_pub': '91b350b7f2049aa401e1bb10d37cde762f265e00f1f2ba7a2ad334d693925f1e50ccc28bb1014f0e19d0a1d4980e435b64e489b20c178cdef1b201dc8efd0e22',\n",
       "     'vote': '000000000000000000000000000CB840',\n",
       "     'stake': '00000000000000000000000000019708',\n",
       "     'starting_term': 'false'},\n",
       "    {'account': 'C5BDA995B175FC52FA4F7FBD5E5390CB88555D02E19F954001F0F497874FBC92',\n",
       "     'bls_pub': '52b06bc0023b1cb7f0f7b0cbc8a916fd4339bf60da39bdcc2b42cd3bd3d40705ede078f48e5d1d5bc008c2af3edcfa303c6ae5fc7b4f40a3573e7bc0136f7d94',\n",
       "     'vote': '000000000000000000000000000CBB60',\n",
       "     'stake': '0000000000000000000000000001976C',\n",
       "     'starting_term': 'false'},\n",
       "    {'account': '1D7F52A71AB91605A7C1A2EF85F68EA5C2E8AD7C4A56A5044A3C0F477F0115FA',\n",
       "     'bls_pub': 'ab89073847eac0c7d303dc886c7ea618bbe6ee62ef60efb2a2ac0e9ee4a851067e4b7f1e18ff3be6f7e3610732f891ef187889f49b8cc1e1fd7edc96eed6f01e',\n",
       "     'vote': '000000000000000000000000000CBE80',\n",
       "     'stake': '000000000000000000000000000197D0',\n",
       "     'starting_term': 'false'},\n",
       "    {'account': '2282062A64D4440F0A33A1BBE6F35F9E117744A51947E2C0AC50A2F0D2695297',\n",
       "     'bls_pub': 'd480191dabf0985117e273d8e7de9b027136503aef6c2a1bd38578ee7ca9c023a44966181cd4c8947bfe5dabfd839e54f2c098e0505dba5cf3effff26e666c96',\n",
       "     'vote': '000000000000000000000000000CC1A0',\n",
       "     'stake': '00000000000000000000000000019834',\n",
       "     'starting_term': 'false'},\n",
       "    {'account': 'DADE2AFF174B51A4F45F6E15C58D7D38E2AC4788E5688F077BAE9251C3010F91',\n",
       "     'bls_pub': '77a635c545dd9adc3affdd20b4761b1be7b00dc004633e1c916db243848a930ceb60c513f78d4fa2de72f7601be021e266559effc44b6ed5d7a8dbeb941cc99e',\n",
       "     'vote': '000000000000000000000000000CC4C0',\n",
       "     'stake': '00000000000000000000000000019898',\n",
       "     'starting_term': 'false'},\n",
       "    {'account': 'FB98328838D79DF9394E929947797DE3F77D2B54841780DF60735CD900F18EE3',\n",
       "     'bls_pub': '65eb9386b94ab4050536f0536ad17e61eb9a66cb155c0e0e698dbb82b0c29c14ea470e2505f6c52305fc5d77024581048879495b13337ef656dd7481c9495a11',\n",
       "     'vote': '000000000000000000000000000CC7E0',\n",
       "     'stake': '000000000000000000000000000198FC',\n",
       "     'starting_term': 'false'},\n",
       "    {'account': '8D7C65FACB84913E3E192A32938662C704CF2348DC015D4398D5131389C77596',\n",
       "     'bls_pub': '3367f92193685783b889d26ddb0d58404f8d139f3d4b315c042fd0366465ae200582cdcd55167a8b2d169dc654f85bd629d834074586527dfd49d74094aac683',\n",
       "     'vote': '000000000000000000000000000CCB00',\n",
       "     'stake': '00000000000000000000000000019960',\n",
       "     'starting_term': 'true'},\n",
       "    {'account': 'FE3F47E10BDA2869E67755C33F32BA322A36ACE4DE00708DBA5DC039272D659D',\n",
       "     'bls_pub': '31b5a89a1e45e591429343acc3cf853bf25847ecc11984e1fa5dc548cc1c3b12d6d838dfea07e8635d57e38b48ed892aa00138e292eb0eb82ef5182bc87ed613',\n",
       "     'vote': '000000000000000000000000000CCE20',\n",
       "     'stake': '000000000000000000000000000199C4',\n",
       "     'starting_term': 'true'},\n",
       "    {'account': '50D6FDBA49757FAF227FBE16033612FA69C4402128D63F6E7CC53B7AD9272710',\n",
       "     'bls_pub': 'd2ed2269a4cefe0da7401cdae314fd0089f5a8114f66c5a7ddd8f0f4eb6a6112c87fe8f7454e5ce5eb5486aa233f70fb88d7e850ea7d0060f9db9f533c7ba394',\n",
       "     'vote': '000000000000000000000000000CD140',\n",
       "     'stake': '00000000000000000000000000019A28',\n",
       "     'starting_term': 'true'},\n",
       "    {'account': '3C428E26D7A92A1532F294D0CFF65DA60FB431492369A711D44399AD3D8557DD',\n",
       "     'bls_pub': '6d16aec9914218e73121451fe291e0e223bb868abdf85905fdc37c35bbb7d7232f901c6e53a54c12add3f58f38e5c0448e2b4851b54699407afc5a3ba78dff24',\n",
       "     'vote': '000000000000000000000000000CD460',\n",
       "     'stake': '00000000000000000000000000019A8C',\n",
       "     'starting_term': 'true'},\n",
       "    {'account': '420C5C66A1471124BDBD9A45569DD7FD724FE1204F18AA736E2EBBD951C86C6E',\n",
       "     'bls_pub': 'eecdba45f460302c74e3e5818a4259fdcf1fb24aad0532c50da8fe1b1b45f5166564267deb673c3c23a726df1dcb2dd0486ffc675a252f35922ee079f292d495',\n",
       "     'vote': '000000000000000000000000000CD780',\n",
       "     'stake': '00000000000000000000000000019AF0',\n",
       "     'starting_term': 'true'},\n",
       "    {'account': 'A4032FD07DF333348CDC0040EB1488ADF847A41A2DE163636C6AF85C8B1797B9',\n",
       "     'bls_pub': '2d28b53734c4344a2a9ba5252d8867418410e869fe22dd53c4a955bef9b960222b63e99a57e069f182c3a648e2e5e81ded25c5e43b2e1a4d5d16b48515d29824',\n",
       "     'vote': '000000000000000000000000000CDAA0',\n",
       "     'stake': '00000000000000000000000000019B54',\n",
       "     'starting_term': 'true'},\n",
       "    {'account': '60B7488134A056E777FE724D6F4098A4333C278056F07AE6211C125520F09E4B',\n",
       "     'bls_pub': '76a81042b7107d14e1a116d35c46ee17676cccd59765b5a7ec97c63d8dc2fc1879f0a0cba8a32668364cfedd60b4d05747d6604f3f6b849f4e510fcac582f613',\n",
       "     'vote': '000000000000000000000000000CDDC0',\n",
       "     'stake': '00000000000000000000000000019BB8',\n",
       "     'starting_term': 'true'},\n",
       "    {'account': 'EF82CEEFA78B04E1A02CB9BD7062A2309BE319A09A338DA6E224E30D85576A77',\n",
       "     'bls_pub': 'b9db2f0e1397cc153ac397137ac54fcf27d2c1d37f1a7dc8519bfd3c3c716607965563348f5a73de5b35580ff2311286a56cbdaaebb15df1a84fc1bcbfabf682',\n",
       "     'vote': '000000000000000000000000000CE0E0',\n",
       "     'stake': '00000000000000000000000000019C1C',\n",
       "     'starting_term': 'true'}],\n",
       "   'transaction_fee_pool': '00000000000000000000000000000000',\n",
       "   'paricipation_map': '11111111111111111111111111111111',\n",
       "   'next': '0000000000000000000000000000000000000000000000000000000000000000',\n",
       "   'hash': 'D4D13106C2ED98AD99AA07B900592B6A8D784A3AEADEDB2EEA5527E71961B5D0'}],\n",
       " 'previous': '09827129EEAE4D51E47FB9D32887E6A9A52D70C83A8830D81226DB5A70D95D80'}"
      ]
     },
     "execution_count": 413,
     "metadata": {},
     "output_type": "execute_result"
    }
   ],
   "source": [
    "node.epochs_latest(1)"
   ]
  },
  {
   "cell_type": "code",
   "execution_count": 300,
   "metadata": {},
   "outputs": [
    {
     "data": {
      "text/plain": [
       "17"
      ]
     },
     "execution_count": 300,
     "metadata": {},
     "output_type": "execute_result"
    }
   ],
   "source": [
    "findIdx('00FCAF1230E0BE00B44EE9590F7998503FCA540CA225ECD266E6BF52ACE65686',pub_keys)"
   ]
  },
  {
   "cell_type": "code",
   "execution_count": 230,
   "metadata": {},
   "outputs": [
    {
     "data": {
      "text/plain": [
       "8"
      ]
     },
     "execution_count": 230,
     "metadata": {},
     "output_type": "execute_result"
    }
   ],
   "source": [
    "findIdx('D6A543489F2F393B5C38062B2D3F53BA090739F6B9E873B182A650E2568F4C4B',pub_keys)"
   ]
  },
  {
   "cell_type": "code",
   "execution_count": 333,
   "metadata": {},
   "outputs": [
    {
     "name": "stdout",
     "output_type": "stream",
     "text": [
      "{'hash': 'BDFF0E5F1F0D5C00CFCE245CB5354503F8C0610D63DBF7A9147E44A03216ECCE', 'request': '{\\n    \"type\": \"election_vote\",\\n    \"origin\": \"lgs_3kdbxitaj7f6mrir6miiwtw4muhcc58e6tn5st6rfaxsdnb7gr4roudwn951\",\\n    \"signature\": \"E7A7BDE985DD016EC86B667935F99B8B6CF3C1DBC9734627334FB3C06A37F4CBA41FE26C22B18059736E1F88B4930DD1B5F7DEC59FBA4F67D08E622555C9730E\",\\n    \"previous\": \"0000000000000000000000000000000000000000000000000000000000000000\",\\n    \"next\": \"0000000000000000000000000000000000000000000000000000000000000000\",\\n    \"fee\": \"10000000000000000000000\",\\n    \"sequence\": \"0\",\\n    \"votes\": {\\n        \"lgs_3kdbxitaj7f6mrir6miiwtw4muhcc58e6tn5st6rfaxsdnb7gr4roudwn951\": \"8\"\\n    }\\n}\\n'}\n"
     ]
    }
   ],
   "source": [
    "prev = node.get_previous(accounts[0])\n",
    "b = node.block_create(0,0,prev,type='election_vote',key=prv_keys[0],votes={accounts[0]:8})\n",
    "print(b)"
   ]
  },
  {
   "cell_type": "code",
   "execution_count": 421,
   "metadata": {},
   "outputs": [
    {
     "name": "stdout",
     "output_type": "stream",
     "text": [
      "{'hash': 'BDFF0E5F1F0D5C00CFCE245CB5354503F8C0610D63DBF7A9147E44A03216ECCE', 'request': '{\\n    \"type\": \"election_vote\",\\n    \"origin\": \"lgs_3kdbxitaj7f6mrir6miiwtw4muhcc58e6tn5st6rfaxsdnb7gr4roudwn951\",\\n    \"signature\": \"E7A7BDE985DD016EC86B667935F99B8B6CF3C1DBC9734627334FB3C06A37F4CBA41FE26C22B18059736E1F88B4930DD1B5F7DEC59FBA4F67D08E622555C9730E\",\\n    \"previous\": \"0000000000000000000000000000000000000000000000000000000000000000\",\\n    \"next\": \"0000000000000000000000000000000000000000000000000000000000000000\",\\n    \"fee\": \"10000000000000000000000\",\\n    \"sequence\": \"0\",\\n    \"votes\": {\\n        \"lgs_3kdbxitaj7f6mrir6miiwtw4muhcc58e6tn5st6rfaxsdnb7gr4roudwn951\": \"8\"\\n    }\\n}\\n'}\n",
      "{'hash': 'BDFF0E5F1F0D5C00CFCE245CB5354503F8C0610D63DBF7A9147E44A03216ECCE'}\n",
      "{'hash': '446F263ED2785AFBCF305D02B74A60CC915DFE46B8D1AEA124263455F183E773', 'request': '{\\n    \"type\": \"election_vote\",\\n    \"origin\": \"lgs_3qgmh14nwztqw4wmcdzy4xpqeejey68chx6nciczwn9abji7ihhum9qtpmdr\",\\n    \"signature\": \"1BA027C15895E5C317759FA777B90C13A3FEBCACB2BE9374B57CDDD6AA5B6F13423DCCFFE5CDD303ED8F6807727A6D82122234365D8BD48950262A7BBDC8F80E\",\\n    \"previous\": \"0000000000000000000000000000000000000000000000000000000000000000\",\\n    \"next\": \"0000000000000000000000000000000000000000000000000000000000000000\",\\n    \"fee\": \"10000000000000000000000\",\\n    \"sequence\": \"0\",\\n    \"votes\": {\\n        \"lgs_3qgmh14nwztqw4wmcdzy4xpqeejey68chx6nciczwn9abji7ihhum9qtpmdr\": \"8\"\\n    }\\n}\\n'}\n",
      "{'hash': '446F263ED2785AFBCF305D02B74A60CC915DFE46B8D1AEA124263455F183E773'}\n",
      "{'hash': '802826143F8EDC82DE673B3F8CE6D2DE59BFB32B614E58051310840B1636D943', 'request': '{\\n    \"type\": \"election_vote\",\\n    \"origin\": \"lgs_1psj5pt1yehsfyhpj6auti6f3iz7eq7yyy9mx5ajydhnnsink3int38qu5bf\",\\n    \"signature\": \"BC8EA8BF14FE44FBA71E0EAB31B8EFD740D3D5C162A5082ACA729BC523B16044D8FDFDD9EEE67A8F8C0F8414ED00B02599327DBC02B8723765678B27565EFE03\",\\n    \"previous\": \"0000000000000000000000000000000000000000000000000000000000000000\",\\n    \"next\": \"0000000000000000000000000000000000000000000000000000000000000000\",\\n    \"fee\": \"10000000000000000000000\",\\n    \"sequence\": \"0\",\\n    \"votes\": {\\n        \"lgs_1psj5pt1yehsfyhpj6auti6f3iz7eq7yyy9mx5ajydhnnsink3int38qu5bf\": \"8\"\\n    }\\n}\\n'}\n",
      "{'hash': '802826143F8EDC82DE673B3F8CE6D2DE59BFB32B614E58051310840B1636D943'}\n",
      "{'hash': '44DC52CED7611461100A09906E371592CEC846E56DBA302335843ACADE3239C0', 'request': '{\\n    \"type\": \"election_vote\",\\n    \"origin\": \"lgs_33fy4hcnfz74f5q3qeu7ir3b3eo6mdirpx77gr1xqzu56ucrj6u1qx1q1rk9\",\\n    \"signature\": \"1957C2D6DAC3483C3DE2455DB355181AFD65278771F8B0D5590BE7CDBEB311322A4C3E0A18CC5411D8415FBD072B79EAA062E6B940CBFABA84508E30EAF8920F\",\\n    \"previous\": \"0000000000000000000000000000000000000000000000000000000000000000\",\\n    \"next\": \"0000000000000000000000000000000000000000000000000000000000000000\",\\n    \"fee\": \"10000000000000000000000\",\\n    \"sequence\": \"0\",\\n    \"votes\": {\\n        \"lgs_33fy4hcnfz74f5q3qeu7ir3b3eo6mdirpx77gr1xqzu56ucrj6u1qx1q1rk9\": \"8\"\\n    }\\n}\\n'}\n",
      "{'hash': '44DC52CED7611461100A09906E371592CEC846E56DBA302335843ACADE3239C0'}\n",
      "{'hash': 'F7ED0A0BCD4CD2D4E029DF53B5CD2862FA7F42362D33E77B5EB39B7F64FB1090', 'request': '{\\n    \"type\": \"election_vote\",\\n    \"origin\": \"lgs_3ywrboez5i9nua17uhzc49t6j4wnmyjhmjwxsrbfnf83p5wptd1yzmp1fodj\",\\n    \"signature\": \"FF9CDF849A26123EBDB5E36E61E1480268C53C0DB0D772E335D71B5D82AC554D4D955255B27BA3BCBB2F1A218134EB4A841C07C5FCBAF2B4EF6CF1835A61430C\",\\n    \"previous\": \"0000000000000000000000000000000000000000000000000000000000000000\",\\n    \"next\": \"0000000000000000000000000000000000000000000000000000000000000000\",\\n    \"fee\": \"10000000000000000000000\",\\n    \"sequence\": \"0\",\\n    \"votes\": {\\n        \"lgs_3ywrboez5i9nua17uhzc49t6j4wnmyjhmjwxsrbfnf83p5wptd1yzmp1fodj\": \"8\"\\n    }\\n}\\n'}\n",
      "{'hash': 'F7ED0A0BCD4CD2D4E029DF53B5CD2862FA7F42362D33E77B5EB39B7F64FB1090'}\n",
      "{'hash': '133E765098400249980C1954814BD137F02D4CB2CC96BE86347419A9E833360B', 'request': '{\\n    \"type\": \"election_vote\",\\n    \"origin\": \"lgs_1hn7os3sc1midkqt4ew5g7jqatjgebduza7przb9btq47jztta9fzym17zgc\",\\n    \"signature\": \"0394EE8C431BDF3F6DA898FA731464E6AC787BA572FAAB1B0DC90EEB9F012BED9FC86688A60F06F24F0B456B5BB94FE64BCD27286F48FFEEAA9C21AEEF53E10B\",\\n    \"previous\": \"0000000000000000000000000000000000000000000000000000000000000000\",\\n    \"next\": \"0000000000000000000000000000000000000000000000000000000000000000\",\\n    \"fee\": \"10000000000000000000000\",\\n    \"sequence\": \"0\",\\n    \"votes\": {\\n        \"lgs_1hn7os3sc1midkqt4ew5g7jqatjgebduza7przb9btq47jztta9fzym17zgc\": \"8\"\\n    }\\n}\\n'}\n",
      "{'hash': '133E765098400249980C1954814BD137F02D4CB2CC96BE86347419A9E833360B'}\n",
      "{'hash': '019D4A82AF2F5CF06E3DC0F35AA382B7F49BDA6F1BE36E763AC6082A1293AD00', 'request': '{\\n    \"type\": \"election_vote\",\\n    \"origin\": \"lgs_3siaaj1uxbzjoc966h77593mge9m5inip676cwrkugnxnxsug4d8x6xpn9z7\",\\n    \"signature\": \"CC49C1C354D0049BC5558E2663264F08F30E645073E919ADA2AECADCE136ECF903BC851734124BEE5E828591A1CDFBA2426EB3D751AD4D17B319729BFA17C608\",\\n    \"previous\": \"0000000000000000000000000000000000000000000000000000000000000000\",\\n    \"next\": \"0000000000000000000000000000000000000000000000000000000000000000\",\\n    \"fee\": \"10000000000000000000000\",\\n    \"sequence\": \"0\",\\n    \"votes\": {\\n        \"lgs_3siaaj1uxbzjoc966h77593mge9m5inip676cwrkugnxnxsug4d8x6xpn9z7\": \"8\"\\n    }\\n}\\n'}\n",
      "{'hash': '019D4A82AF2F5CF06E3DC0F35AA382B7F49BDA6F1BE36E763AC6082A1293AD00'}\n",
      "{'hash': '850D2F45F7C6EA45517DDEAF4AAEEC21F44629EFDCF9808DBBAC5E83D8D52C05', 'request': '{\\n    \"type\": \"election_vote\",\\n    \"origin\": \"lgs_367z6qp84y6u9fjotn4iwqwre13pbud9b77utoipno6iujb8toq7utb7wupe\",\\n    \"signature\": \"17D5CEB8D582C6FFB8307CBC2D0A8C8C914FB501B4F50D4226CB6159F2C537FFC3F952B41618C6DA4A8222711D89B25C239EA6A0AA4CAE10A64765857AB1610F\",\\n    \"previous\": \"0000000000000000000000000000000000000000000000000000000000000000\",\\n    \"next\": \"0000000000000000000000000000000000000000000000000000000000000000\",\\n    \"fee\": \"10000000000000000000000\",\\n    \"sequence\": \"0\",\\n    \"votes\": {\\n        \"lgs_367z6qp84y6u9fjotn4iwqwre13pbud9b77utoipno6iujb8toq7utb7wupe\": \"8\"\\n    }\\n}\\n'}\n",
      "{'hash': '850D2F45F7C6EA45517DDEAF4AAEEC21F44629EFDCF9808DBBAC5E83D8D52C05'}\n"
     ]
    }
   ],
   "source": [
    "for x in range(0,8):\n",
    "    prev = node.get_previous(accounts[x])\n",
    "    b = node.block_create(0,0,prev,type='election_vote',key=prv_keys[x],votes={accounts[x]:8})\n",
    "    print(b)\n",
    "    res = node.process(b['request'])\n",
    "    if 'error' in res:\n",
    "        print(res['error'])\n",
    "    else:\n",
    "        print(res)"
   ]
  },
  {
   "cell_type": "code",
   "execution_count": 30,
   "metadata": {},
   "outputs": [
    {
     "name": "stdout",
     "output_type": "stream",
     "text": [
      "91b350b7f2049aa401e1bb10d37cde762f265e00f1f2ba7a2ad334d693925f1e50ccc28bb1014f0e19d0a1d4980e435b64e489b20c178cdef1b201dc8efd0e22\n",
      "128\n"
     ]
    }
   ],
   "source": [
    "len(bls_keys[0])\n",
    "print(bls_keys[42])\n",
    "s = \"91b350b7f2049aa401e1bb10d37cde762f265e00f1f2ba7a2ad334d693925f1e50ccc28bb1014f0e19d0a1d4980e435b64e489b20c178cdef1b201dc8efd0e22\"\n",
    "print(len(s))"
   ]
  },
  {
   "cell_type": "code",
   "execution_count": 57,
   "metadata": {},
   "outputs": [
    {
     "name": "stdout",
     "output_type": "stream",
     "text": [
      "{'hash': '068BE05D5E443F6A728455D9EB63D35D825D8C0EC2A5A1A7284C966C739A9727', 'request': '{\\n    \"type\": \"announce_candidacy\",\\n    \"origin\": \"lgs_1jh3e3siboir5dyupyp6ds4i7zb5gyg9ads78yfqa9o7nkfs48mwfk675gip\",\\n    \"signature\": \"61EE30EC4310A1C46093443FD6767628EDDDAB8A959689230896D2A8D03F34EB0F6C45795AA4924B2227767A271FDA68DB39B086C0B2AF68DB62123698EF350B\",\\n    \"previous\": \"0000000000000000000000000000000000000000000000000000000000000000\",\\n    \"next\": \"0000000000000000000000000000000000000000000000000000000000000000\",\\n    \"fee\": \"10000000000000000000000\",\\n    \"sequence\": \"0\",\\n    \"stake\": \"00000000000000000000000000000000\",\\n    \"bls_key\": \"91b350b7f2049aa401e1bb10d37cde762f265e00f1f2ba7a2ad334d693925f1e50ccc28bb1014f0e19d0a1d4980e435b64e489b20c178cdef1b201dc8efd0e22\"\\n}\\n'}\n",
      "{'hash': '068BE05D5E443F6A728455D9EB63D35D825D8C0EC2A5A1A7284C966C739A9727'}\n"
     ]
    }
   ],
   "source": [
    "prev = node.get_previous(accounts[42])\n",
    "b = node.block_create(0,0,prev,type='announce_candidacy',key=prv_keys[42],bls_key=bls_keys[42])\n",
    "print(b)\n",
    "req = node.process(b['request'])\n",
    "print(req)"
   ]
  },
  {
   "cell_type": "code",
   "execution_count": 160,
   "metadata": {},
   "outputs": [
    {
     "name": "stdout",
     "output_type": "stream",
     "text": [
      "0\n",
      "{'hash': '98A63965570CD67030468729F53F182780868205BF55BFF94FCE234F34176A2B'}\n",
      "{'hash': '98A63965570CD67030468729F53F182780868205BF55BFF94FCE234F34176A2B', 'request': '{\\n    \"type\": \"announce_candidacy\",\\n    \"origin\": \"lgs_1p1em975w48pmkuyfx683hssmd98pqgc51yaeh3rjbyhh6b1u9uf8nc4zea4\",\\n    \"signature\": \"9469F4C8246D28D81A310576A49F2AE18B102A351B165EC89115D8517C7C4B1B032887E3F19BE565A89A5BF5F770F20E4DC9E985C730C077721FA45FC0457C04\",\\n    \"previous\": \"0000000000000000000000000000000000000000000000000000000000000000\",\\n    \"next\": \"0000000000000000000000000000000000000000000000000000000000000000\",\\n    \"fee\": \"10000000000000000000000\",\\n    \"sequence\": \"0\",\\n    \"stake\": \"00000000000000000000000000000000\",\\n    \"bls_key\": \"f70432a506c2d5eaaa80ee2e88af94bb901eca65b23e2040317644ceeaf6fd1c8e754a23ebf67d0f5df7491171d1eebf82cd6a617a5cbb4fb49a91a3da9c381c\"\\n}\\n'}\n",
      "1\n",
      "{'hash': '9996DE71096BB3B74B06E3E4ADCE93B6166FEFE44F7740E9F0D56C5E8401FD4B'}\n",
      "{'hash': '9996DE71096BB3B74B06E3E4ADCE93B6166FEFE44F7740E9F0D56C5E8401FD4B', 'request': '{\\n    \"type\": \"announce_candidacy\",\\n    \"origin\": \"lgs_3wyspcngue156gw5b1u8qa484upgd3zn5mbyroc3j81yk579hjmkjrb98wbe\",\\n    \"signature\": \"01EEB8E9CF3CA4AAB4AD9110C95E7C0C766CC2E0075F2DF2CAE2284209459155D479E9BFAB6A888423AC687E60A07AF5A4B219487F9DBFB0AF65CE83C01CA70D\",\\n    \"previous\": \"0000000000000000000000000000000000000000000000000000000000000000\",\\n    \"next\": \"0000000000000000000000000000000000000000000000000000000000000000\",\\n    \"fee\": \"10000000000000000000000\",\\n    \"sequence\": \"0\",\\n    \"stake\": \"00000000000000000000000000000000\",\\n    \"bls_key\": \"cbc16f398141ef7e9026304612370687d57a8eb528ed771953f89c6e91fcee13be1ed17a6a9a1bb9a1b385cf028c4e0475f4a048b923a231913f9d7cad827c91\"\\n}\\n'}\n",
      "2\n",
      "{'hash': '2ABF46D1B0934E1812D7C45D2297AABE746C5DE85E3FB7B9AFF7659A2B9452C2'}\n",
      "{'hash': '2ABF46D1B0934E1812D7C45D2297AABE746C5DE85E3FB7B9AFF7659A2B9452C2', 'request': '{\\n    \"type\": \"announce_candidacy\",\\n    \"origin\": \"lgs_183i75n8gyagq85iscpnbbwydkkzzsz84e3w3matm5c6by5mzocksr5hf7o8\",\\n    \"signature\": \"B4BF3A74F86BB846A0F0101FC3C3B1C0004C7AB1AB36D235A65B60F5E674F8DAE9868A111B0D7B07858075806A909697316E80E8D44E7477E252158CE4C89E05\",\\n    \"previous\": \"0000000000000000000000000000000000000000000000000000000000000000\",\\n    \"next\": \"0000000000000000000000000000000000000000000000000000000000000000\",\\n    \"fee\": \"10000000000000000000000\",\\n    \"sequence\": \"0\",\\n    \"stake\": \"00000000000000000000000000000000\",\\n    \"bls_key\": \"c344276bd88fa4f4bbc2d9ec80099223f7f5091b6e59852231f4e71918a6d205a9a9f1cdb2832e5295e95bb93d105f2b61def5261f66a47f365319ee38ebcd04\"\\n}\\n'}\n",
      "3\n",
      "{'hash': 'EEA7342F62510056F168EDCA2B3E7EA8E1A1A3AFDC82C1432A81C29D62830CE8'}\n",
      "{'hash': 'EEA7342F62510056F168EDCA2B3E7EA8E1A1A3AFDC82C1432A81C29D62830CE8', 'request': '{\\n    \"type\": \"announce_candidacy\",\\n    \"origin\": \"lgs_37nzu9rz7ddh4qst9ybs9ddw588mkk9b6o7s9bspj7o1uom9kydtj1qdjjz8\",\\n    \"signature\": \"2A7F0AF5EC1DC30D3D19EAD74671E43856EDBD7C2FD92BF66A4350ECF41C5C95937E56B3E0E7B577FAC990B73BE77DAC747B3F79AD98D4AD7CA81D4DFFE10F03\",\\n    \"previous\": \"0000000000000000000000000000000000000000000000000000000000000000\",\\n    \"next\": \"0000000000000000000000000000000000000000000000000000000000000000\",\\n    \"fee\": \"10000000000000000000000\",\\n    \"sequence\": \"0\",\\n    \"stake\": \"00000000000000000000000000000000\",\\n    \"bls_key\": \"b818e19f29c92b806923bc12d039a0985d6d651e09e19ae1d5ac330d33092712c427ec175d1f21c164f6951f5c1a129895bcf240683007bb660253bbd9bce884\"\\n}\\n'}\n",
      "4\n",
      "{'hash': 'F8DEBD9B32ECDB4558F1DF8122B57487341B67E031F281911C5B7D3D9FCCDAE7'}\n",
      "{'hash': 'F8DEBD9B32ECDB4558F1DF8122B57487341B67E031F281911C5B7D3D9FCCDAE7', 'request': '{\\n    \"type\": \"announce_candidacy\",\\n    \"origin\": \"lgs_1z5m136s36o84srbo13xgasfdst9s6gptaodn57mfuc63gica55a381zs3rn\",\\n    \"signature\": \"82E43BED4F15E056373E087C9E0262A5F5AD1695D495CB072CD59D0BC7C4A00E2951C4F2EF0928CE90174B37029D354586165D06E94FDDDD01E5B1112F82770C\",\\n    \"previous\": \"0000000000000000000000000000000000000000000000000000000000000000\",\\n    \"next\": \"0000000000000000000000000000000000000000000000000000000000000000\",\\n    \"fee\": \"10000000000000000000000\",\\n    \"sequence\": \"0\",\\n    \"stake\": \"00000000000000000000000000000000\",\\n    \"bls_key\": \"d982e085a4cf34972c1e87a4b189079ab898e1d725e81284932487c57e11fd1f3ec74671fefc85db7859bf0e6731f0fa75348eb6592d3261bff21d868a50781b\"\\n}\\n'}\n",
      "5\n",
      "{'hash': '208117B8CF8B6199F234CBAA5634F98EDD61CFB823CEC9D5EC3B724B49AEB5C5'}\n",
      "{'hash': '208117B8CF8B6199F234CBAA5634F98EDD61CFB823CEC9D5EC3B724B49AEB5C5', 'request': '{\\n    \"type\": \"announce_candidacy\",\\n    \"origin\": \"lgs_3wrkaam8rnnpybyt4dzuw31pcdffoon9q7j8mrq7mymk5nji5xt4fhfw6mtq\",\\n    \"signature\": \"0CC126B1C92BA260BC56E36B557DB9A00B6DB585CF3D1170DBBC1D3BB19AE245A6A1DB2B9651D246E63D105D7ED3EB3B6FB6D66564633F47D0D7E4C517231601\",\\n    \"previous\": \"0000000000000000000000000000000000000000000000000000000000000000\",\\n    \"next\": \"0000000000000000000000000000000000000000000000000000000000000000\",\\n    \"fee\": \"10000000000000000000000\",\\n    \"sequence\": \"0\",\\n    \"stake\": \"00000000000000000000000000000000\",\\n    \"bls_key\": \"acb5096b37397b2fb0bd0d29c9b93775cbfeea8ef7acb8cab1ef22fc70a502104b0783137288f858d1795b16ab0ff8bb96e983f2ab1a3eea295ef6c86cd2d503\"\\n}\\n'}\n",
      "6\n",
      "{'hash': 'E7554539B6B0E094E10226C77A214534FCE6C77B5EE33BA750F4028612083714'}\n",
      "{'hash': 'E7554539B6B0E094E10226C77A214534FCE6C77B5EE33BA750F4028612083714', 'request': '{\\n    \"type\": \"announce_candidacy\",\\n    \"origin\": \"lgs_1woixe9zhoa54e4mo9h38yrkkpzfjxttgg678yp8ztj7kks5qfprndbwisae\",\\n    \"signature\": \"C1EDD636EF7655018734AA6ED1D020481F22B77D6DB31D190F45CC167954F31C1F64760EA520CD2A9C0F748695295073925950EB23DB39FB2BEB89D6FD29B403\",\\n    \"previous\": \"0000000000000000000000000000000000000000000000000000000000000000\",\\n    \"next\": \"0000000000000000000000000000000000000000000000000000000000000000\",\\n    \"fee\": \"10000000000000000000000\",\\n    \"sequence\": \"0\",\\n    \"stake\": \"00000000000000000000000000000000\",\\n    \"bls_key\": \"1544290a32a9517d92962a6b96f3567135dd5e02ba145daf1ca2941b42a5430b706bdd08379831c57d174ea39ed8b9716466271d8c568e368b70110cad610499\"\\n}\\n'}\n",
      "7\n",
      "{'hash': '9BC0C28A365911395437945A0DD0B6C63B599A86B8E8B083B7A4815A962AF173'}\n",
      "{'hash': '9BC0C28A365911395437945A0DD0B6C63B599A86B8E8B083B7A4815A962AF173', 'request': '{\\n    \"type\": \"announce_candidacy\",\\n    \"origin\": \"lgs_3fg6mjq6tky8rrmnynugrbrdkueycdztzgxjn9okoji4ezqomkcqpy7cqht8\",\\n    \"signature\": \"848CE9A5F244B49700318C38161DFAE041D9BD6619FCA1C5A2F506F0CA11D6669CCA82B101A169041697AF3616EEB04B63AB02852171E8E6C782B8F3F3E5FF06\",\\n    \"previous\": \"0000000000000000000000000000000000000000000000000000000000000000\",\\n    \"next\": \"0000000000000000000000000000000000000000000000000000000000000000\",\\n    \"fee\": \"10000000000000000000000\",\\n    \"sequence\": \"0\",\\n    \"stake\": \"00000000000000000000000000000000\",\\n    \"bls_key\": \"4e68c08e166ce541504cca1d5213a998883a3dfeb6bf397749b8b8edd5bec01d31759dff5db2818237b083a35dc4f447c7a458dbc4a2d29b878690190865a59d\"\\n}\\n'}\n"
     ]
    }
   ],
   "source": [
    "for x in range(8):\n",
    "    prev = node.get_previous(accounts[32+x])\n",
    "    b = node.block_create(0,0,prev,type='announce_candidacy',key=prv_keys[32+x],bls_key=bls_keys[32+x])\n",
    "    req = node.process(b['request'])\n",
    "    if 'error' in req:\n",
    "        print(req['error'])\n",
    "    else:\n",
    "        print(x)\n",
    "        print(req)\n",
    "        print(b)"
   ]
  },
  {
   "cell_type": "code",
   "execution_count": 337,
   "metadata": {},
   "outputs": [
    {
     "ename": "LogosRPCError",
     "evalue": "Received error: block not found: 4D942A7C360A34399B835DA8EFCEBBFCD3ADFBFD5CE3BEA9099E0897A09BA572\nfrom uri http://172.1.1.124:55000 while calling message\n\t{'rpc_action': 'block', 'hash': '4D942A7C360A34399B835DA8EFCEBBFCD3ADFBFD5CE3BEA9099E0897A09BA572'}",
     "output_type": "error",
     "traceback": [
      "\u001b[0;31m---------------------------------------------------------------------------\u001b[0m",
      "\u001b[0;31mLogosRPCError\u001b[0m                             Traceback (most recent call last)",
      "\u001b[0;32m<ipython-input-337-42a0f2e45603>\u001b[0m in \u001b[0;36m<module>\u001b[0;34m\u001b[0m\n\u001b[0;32m----> 1\u001b[0;31m \u001b[0mres\u001b[0m \u001b[0;34m=\u001b[0m \u001b[0mnode\u001b[0m\u001b[0;34m.\u001b[0m\u001b[0mblock\u001b[0m\u001b[0;34m(\u001b[0m\u001b[0;34m'4D942A7C360A34399B835DA8EFCEBBFCD3ADFBFD5CE3BEA9099E0897A09BA572'\u001b[0m\u001b[0;34m)\u001b[0m\u001b[0;34m\u001b[0m\u001b[0;34m\u001b[0m\u001b[0m\n\u001b[0m",
      "\u001b[0;32m~/Code/autotest/autotest/utils.py\u001b[0m in \u001b[0;36mblock\u001b[0;34m(self, block_hash)\u001b[0m\n\u001b[1;32m    105\u001b[0m     \u001b[0;32mdef\u001b[0m \u001b[0mblock\u001b[0m\u001b[0;34m(\u001b[0m\u001b[0mself\u001b[0m\u001b[0;34m,\u001b[0m \u001b[0mblock_hash\u001b[0m\u001b[0;34m)\u001b[0m\u001b[0;34m:\u001b[0m\u001b[0;34m\u001b[0m\u001b[0;34m\u001b[0m\u001b[0m\n\u001b[1;32m    106\u001b[0m         \u001b[0;32massert\u001b[0m \u001b[0;34m(\u001b[0m\u001b[0mself\u001b[0m\u001b[0;34m.\u001b[0m\u001b[0mis_valid_hash\u001b[0m\u001b[0;34m(\u001b[0m\u001b[0mblock_hash\u001b[0m\u001b[0;34m)\u001b[0m\u001b[0;34m)\u001b[0m\u001b[0;34m\u001b[0m\u001b[0;34m\u001b[0m\u001b[0m\n\u001b[0;32m--> 107\u001b[0;31m         \u001b[0;32mreturn\u001b[0m \u001b[0mself\u001b[0m\u001b[0;34m.\u001b[0m\u001b[0mcall\u001b[0m\u001b[0;34m(\u001b[0m\u001b[0;34m'block'\u001b[0m\u001b[0;34m,\u001b[0m \u001b[0mhash\u001b[0m\u001b[0;34m=\u001b[0m\u001b[0mblock_hash\u001b[0m\u001b[0;34m)\u001b[0m\u001b[0;34m\u001b[0m\u001b[0;34m\u001b[0m\u001b[0m\n\u001b[0m\u001b[1;32m    108\u001b[0m \u001b[0;34m\u001b[0m\u001b[0m\n\u001b[1;32m    109\u001b[0m     \u001b[0;32mdef\u001b[0m \u001b[0mblocks\u001b[0m\u001b[0;34m(\u001b[0m\u001b[0mself\u001b[0m\u001b[0;34m,\u001b[0m \u001b[0mblock_hashes\u001b[0m\u001b[0;34m)\u001b[0m\u001b[0;34m:\u001b[0m\u001b[0;34m\u001b[0m\u001b[0;34m\u001b[0m\u001b[0m\n",
      "\u001b[0;32m~/Code/autotest/autotest/utils.py\u001b[0m in \u001b[0;36mcall\u001b[0;34m(self, action, **kwargs)\u001b[0m\n\u001b[1;32m     50\u001b[0m         \u001b[0mres\u001b[0m \u001b[0;34m=\u001b[0m \u001b[0mresp\u001b[0m\u001b[0;34m.\u001b[0m\u001b[0mjson\u001b[0m\u001b[0;34m(\u001b[0m\u001b[0;34m)\u001b[0m\u001b[0;34m\u001b[0m\u001b[0;34m\u001b[0m\u001b[0m\n\u001b[1;32m     51\u001b[0m         \u001b[0;32mif\u001b[0m \u001b[0;34m'error'\u001b[0m \u001b[0;32min\u001b[0m \u001b[0mres\u001b[0m\u001b[0;34m:\u001b[0m\u001b[0;34m\u001b[0m\u001b[0;34m\u001b[0m\u001b[0m\n\u001b[0;32m---> 52\u001b[0;31m             \u001b[0;32mraise\u001b[0m \u001b[0mLogosRPCError\u001b[0m\u001b[0;34m(\u001b[0m\u001b[0mself\u001b[0m\u001b[0;34m.\u001b[0m\u001b[0muri\u001b[0m\u001b[0;34m,\u001b[0m \u001b[0mmessage\u001b[0m\u001b[0;34m,\u001b[0m \u001b[0mres\u001b[0m\u001b[0;34m[\u001b[0m\u001b[0;34m'error'\u001b[0m\u001b[0;34m]\u001b[0m\u001b[0;34m)\u001b[0m\u001b[0;34m\u001b[0m\u001b[0;34m\u001b[0m\u001b[0m\n\u001b[0m\u001b[1;32m     53\u001b[0m         \u001b[0;32mreturn\u001b[0m \u001b[0mres\u001b[0m\u001b[0;34m\u001b[0m\u001b[0;34m\u001b[0m\u001b[0m\n\u001b[1;32m     54\u001b[0m \u001b[0;34m\u001b[0m\u001b[0m\n",
      "\u001b[0;31mLogosRPCError\u001b[0m: Received error: block not found: 4D942A7C360A34399B835DA8EFCEBBFCD3ADFBFD5CE3BEA9099E0897A09BA572\nfrom uri http://172.1.1.124:55000 while calling message\n\t{'rpc_action': 'block', 'hash': '4D942A7C360A34399B835DA8EFCEBBFCD3ADFBFD5CE3BEA9099E0897A09BA572'}"
     ]
    }
   ],
   "source": [
    "res = node.block('4D942A7C360A34399B835DA8EFCEBBFCD3ADFBFD5CE3BEA9099E0897A09BA572')"
   ]
  },
  {
   "cell_type": "code",
   "execution_count": 107,
   "metadata": {},
   "outputs": [
    {
     "name": "stdout",
     "output_type": "stream",
     "text": [
      "{'hash': '2085F4E9BFC7620784584520BA8E815807350A64733F3BF15B92BAB4746D0F75'}\n"
     ]
    }
   ],
   "source": [
    "prev = node.get_previous(accounts[41])\n",
    "b = node.block_create(0,0,prev,type='announce_candidacy',key=prv_keys[41],bls_key=bls_keys[41])\n",
    "req = node.process(b['request'])\n",
    "print(req)"
   ]
  },
  {
   "cell_type": "code",
   "execution_count": null,
   "metadata": {},
   "outputs": [],
   "source": []
  },
  {
   "cell_type": "code",
   "execution_count": 233,
   "metadata": {},
   "outputs": [
    {
     "name": "stdout",
     "output_type": "stream",
     "text": [
      "{'hash': '7CA6E68516B2E3A68B6A306E03F3C5D181BC2876132ABCA134CFEFBB6C98853F', 'request': '{\\n    \"type\": \"announce_candidacy\",\\n    \"origin\": \"lgs_3kdbxitaj7f6mrir6miiwtw4muhcc58e6tn5st6rfaxsdnb7gr4roudwn951\",\\n    \"signature\": \"090FF079ACB86BF353C8C709D95CD6F15050003E185A7AD54B09AC1CEB29708237805ED1FDB679D9013FEB08C6E5862FD362D356AE7CCFC9A8202DA0E803E905\",\\n    \"previous\": \"0000000000000000000000000000000000000000000000000000000000000000\",\\n    \"next\": \"0000000000000000000000000000000000000000000000000000000000000000\",\\n    \"fee\": \"10000000000000000000000\",\\n    \"sequence\": \"0\"\\n}\\n'}\n"
     ]
    },
    {
     "data": {
      "text/plain": [
       "True"
      ]
     },
     "execution_count": 233,
     "metadata": {},
     "output_type": "execute_result"
    }
   ],
   "source": [
    "print(b)\n",
    "req = json.loads(b['request'])\n",
    "req['origin'] == accounts[0]"
   ]
  },
  {
   "cell_type": "code",
   "execution_count": null,
   "metadata": {},
   "outputs": [],
   "source": []
  },
  {
   "cell_type": "code",
   "execution_count": 198,
   "metadata": {},
   "outputs": [
    {
     "data": {
      "text/plain": [
       "True"
      ]
     },
     "execution_count": 198,
     "metadata": {},
     "output_type": "execute_result"
    }
   ],
   "source": [
    "int(node.account_balance(accounts[0])['balance']) > int(req['fee'])\n"
   ]
  },
  {
   "cell_type": "code",
   "execution_count": 334,
   "metadata": {},
   "outputs": [
    {
     "name": "stdout",
     "output_type": "stream",
     "text": [
      "{'hash': 'BDFF0E5F1F0D5C00CFCE245CB5354503F8C0610D63DBF7A9147E44A03216ECCE'}\n"
     ]
    }
   ],
   "source": [
    "req = node.process(b['request'])\n",
    "print(req)"
   ]
  },
  {
   "cell_type": "code",
   "execution_count": 317,
   "metadata": {},
   "outputs": [
    {
     "ename": "LogosRPCError",
     "evalue": "Received error: block not found: 802826143F8EDC82DE673B3F8CE6D2DE59BFB32B614E58051310840B1636D943\nfrom uri http://172.1.1.148:55000 while calling message\n\t{'rpc_action': 'block', 'hash': '802826143F8EDC82DE673B3F8CE6D2DE59BFB32B614E58051310840B1636D943'}",
     "output_type": "error",
     "traceback": [
      "\u001b[0;31m---------------------------------------------------------------------------\u001b[0m",
      "\u001b[0;31mLogosRPCError\u001b[0m                             Traceback (most recent call last)",
      "\u001b[0;32m<ipython-input-317-f95dc140a4bf>\u001b[0m in \u001b[0;36m<module>\u001b[0;34m\u001b[0m\n\u001b[0;32m----> 1\u001b[0;31m \u001b[0mres\u001b[0m \u001b[0;34m=\u001b[0m \u001b[0mnode\u001b[0m\u001b[0;34m.\u001b[0m\u001b[0mblock\u001b[0m\u001b[0;34m(\u001b[0m\u001b[0;34m\"802826143F8EDC82DE673B3F8CE6D2DE59BFB32B614E58051310840B1636D943\"\u001b[0m\u001b[0;34m)\u001b[0m\u001b[0;34m\u001b[0m\u001b[0;34m\u001b[0m\u001b[0m\n\u001b[0m\u001b[1;32m      2\u001b[0m \u001b[0mprint\u001b[0m\u001b[0;34m(\u001b[0m\u001b[0mres\u001b[0m\u001b[0;34m)\u001b[0m\u001b[0;34m\u001b[0m\u001b[0;34m\u001b[0m\u001b[0m\n",
      "\u001b[0;32m~/Code/autotest/autotest/utils.py\u001b[0m in \u001b[0;36mblock\u001b[0;34m(self, block_hash)\u001b[0m\n\u001b[1;32m    105\u001b[0m     \u001b[0;32mdef\u001b[0m \u001b[0mblock\u001b[0m\u001b[0;34m(\u001b[0m\u001b[0mself\u001b[0m\u001b[0;34m,\u001b[0m \u001b[0mblock_hash\u001b[0m\u001b[0;34m)\u001b[0m\u001b[0;34m:\u001b[0m\u001b[0;34m\u001b[0m\u001b[0;34m\u001b[0m\u001b[0m\n\u001b[1;32m    106\u001b[0m         \u001b[0;32massert\u001b[0m \u001b[0;34m(\u001b[0m\u001b[0mself\u001b[0m\u001b[0;34m.\u001b[0m\u001b[0mis_valid_hash\u001b[0m\u001b[0;34m(\u001b[0m\u001b[0mblock_hash\u001b[0m\u001b[0;34m)\u001b[0m\u001b[0;34m)\u001b[0m\u001b[0;34m\u001b[0m\u001b[0;34m\u001b[0m\u001b[0m\n\u001b[0;32m--> 107\u001b[0;31m         \u001b[0;32mreturn\u001b[0m \u001b[0mself\u001b[0m\u001b[0;34m.\u001b[0m\u001b[0mcall\u001b[0m\u001b[0;34m(\u001b[0m\u001b[0;34m'block'\u001b[0m\u001b[0;34m,\u001b[0m \u001b[0mhash\u001b[0m\u001b[0;34m=\u001b[0m\u001b[0mblock_hash\u001b[0m\u001b[0;34m)\u001b[0m\u001b[0;34m\u001b[0m\u001b[0;34m\u001b[0m\u001b[0m\n\u001b[0m\u001b[1;32m    108\u001b[0m \u001b[0;34m\u001b[0m\u001b[0m\n\u001b[1;32m    109\u001b[0m     \u001b[0;32mdef\u001b[0m \u001b[0mblocks\u001b[0m\u001b[0;34m(\u001b[0m\u001b[0mself\u001b[0m\u001b[0;34m,\u001b[0m \u001b[0mblock_hashes\u001b[0m\u001b[0;34m)\u001b[0m\u001b[0;34m:\u001b[0m\u001b[0;34m\u001b[0m\u001b[0;34m\u001b[0m\u001b[0m\n",
      "\u001b[0;32m~/Code/autotest/autotest/utils.py\u001b[0m in \u001b[0;36mcall\u001b[0;34m(self, action, **kwargs)\u001b[0m\n\u001b[1;32m     50\u001b[0m         \u001b[0mres\u001b[0m \u001b[0;34m=\u001b[0m \u001b[0mresp\u001b[0m\u001b[0;34m.\u001b[0m\u001b[0mjson\u001b[0m\u001b[0;34m(\u001b[0m\u001b[0;34m)\u001b[0m\u001b[0;34m\u001b[0m\u001b[0;34m\u001b[0m\u001b[0m\n\u001b[1;32m     51\u001b[0m         \u001b[0;32mif\u001b[0m \u001b[0;34m'error'\u001b[0m \u001b[0;32min\u001b[0m \u001b[0mres\u001b[0m\u001b[0;34m:\u001b[0m\u001b[0;34m\u001b[0m\u001b[0;34m\u001b[0m\u001b[0m\n\u001b[0;32m---> 52\u001b[0;31m             \u001b[0;32mraise\u001b[0m \u001b[0mLogosRPCError\u001b[0m\u001b[0;34m(\u001b[0m\u001b[0mself\u001b[0m\u001b[0;34m.\u001b[0m\u001b[0muri\u001b[0m\u001b[0;34m,\u001b[0m \u001b[0mmessage\u001b[0m\u001b[0;34m,\u001b[0m \u001b[0mres\u001b[0m\u001b[0;34m[\u001b[0m\u001b[0;34m'error'\u001b[0m\u001b[0;34m]\u001b[0m\u001b[0;34m)\u001b[0m\u001b[0;34m\u001b[0m\u001b[0;34m\u001b[0m\u001b[0m\n\u001b[0m\u001b[1;32m     53\u001b[0m         \u001b[0;32mreturn\u001b[0m \u001b[0mres\u001b[0m\u001b[0;34m\u001b[0m\u001b[0;34m\u001b[0m\u001b[0m\n\u001b[1;32m     54\u001b[0m \u001b[0;34m\u001b[0m\u001b[0m\n",
      "\u001b[0;31mLogosRPCError\u001b[0m: Received error: block not found: 802826143F8EDC82DE673B3F8CE6D2DE59BFB32B614E58051310840B1636D943\nfrom uri http://172.1.1.148:55000 while calling message\n\t{'rpc_action': 'block', 'hash': '802826143F8EDC82DE673B3F8CE6D2DE59BFB32B614E58051310840B1636D943'}"
     ]
    }
   ],
   "source": [
    "res = node.block(\"802826143F8EDC82DE673B3F8CE6D2DE59BFB32B614E58051310840B1636D943\")\n",
    "print(res)"
   ]
  },
  {
   "cell_type": "code",
   "execution_count": 60,
   "metadata": {},
   "outputs": [
    {
     "name": "stdout",
     "output_type": "stream",
     "text": [
      "{'hash': '03B52BE2C5BF831186D31DC627401D3D399771BBFD8C6ED13CC5652976821D3D'}\n"
     ]
    }
   ],
   "source": []
  },
  {
   "cell_type": "code",
   "execution_count": 61,
   "metadata": {},
   "outputs": [
    {
     "name": "stdout",
     "output_type": "stream",
     "text": [
      "{'type': 'election_vote', 'origin': 'lgs_3kdbxitaj7f6mrir6miiwtw4muhcc58e6tn5st6rfaxsdnb7gr4roudwn951', 'signature': '64284775640DF056B859579F7BC657C70C020A7D1A6249177910271E88EC9A64247473B899276DE385F98DB8A9DF21A686A904CF50439DFE5408C31C54E53A08', 'previous': '89BA954145B159D303B46858D64DB19F7430ACC964C20D63C36F31FDE4CCF4E5', 'next': '89BA954145B159D303B46858D64DB19F7430ACC964C20D63C36F31FDE4CCF4E5', 'fee': '10000000000000000000000', 'sequence': '1', 'votes': ''}\n"
     ]
    }
   ],
   "source": []
  },
  {
   "cell_type": "code",
   "execution_count": null,
   "metadata": {},
   "outputs": [],
   "source": []
  }
 ],
 "metadata": {
  "kernelspec": {
   "display_name": "Python 3",
   "language": "python",
   "name": "python3"
  },
  "language_info": {
   "codemirror_mode": {
    "name": "ipython",
    "version": 3
   },
   "file_extension": ".py",
   "mimetype": "text/x-python",
   "name": "python",
   "nbconvert_exporter": "python",
   "pygments_lexer": "ipython3",
   "version": "3.6.7"
  }
 },
 "nbformat": 4,
 "nbformat_minor": 2
}
